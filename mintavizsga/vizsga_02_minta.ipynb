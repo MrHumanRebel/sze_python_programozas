{
 "cells": [
  {
   "cell_type": "markdown",
   "metadata": {},
   "source": [
    "### 1. feladat [6p]\n",
    "\n",
    "A `planets` lista a Naprendszer bolygóinak tömegét és (átlagos) sugarát tartalmazza. Készíts programot, amely kiszámítja, hogy a bolygók felszínén érvényes nehézségi gyorsulás hányszorosa a földinek! A nehézségi gyorsulás képlete\n",
    "$$g = G \\frac{M}{R^2},$$\n",
    "ahol $G = 6,67408 \\cdot 10^{-11} \\frac{Nm^2}{kg^2}$ az univerzális gravitációs állandó, $M$ a bolygó tömege, $R$ pedig a bolygó tömegközéppontjától mért távolság. A program ne csak a `planets` listára működjön, hanem bármely ugyanilyen formátumú, bemenetre is! Elvárt futási eredmény:\n",
    "```\n",
    "\n",
    "Merkúr: 0.38\n",
    "Vénusz: 0.90\n",
    "Föld: 1.00\n",
    "...\n",
    "```"
   ]
  },
  {
   "cell_type": "code",
   "execution_count": 1,
   "metadata": {},
   "outputs": [],
   "source": [
    "planets = [\n",
    "    # bolygó neve,  tömeg(10^21kg),  sugár(km)\n",
    "    ('Merkúr',      330.2,           2439.7),\n",
    "    ('Vénusz',      4868.5,          6051.8),\n",
    "    ('Föld',        5973.6,          6371.0),\n",
    "    ('Mars',        641.85,          3389.5),\n",
    "    ('Jupiter',     1898600,         69911),\n",
    "    ('Szaturnusz',  568460,          58232),\n",
    "    ('Uránusz',     86832,           25362),\n",
    "    ('Neptunusz',   102430,          24622)\n",
    "]"
   ]
  },
  {
   "cell_type": "code",
   "execution_count": 2,
   "metadata": {},
   "outputs": [
    {
     "name": "stdout",
     "output_type": "stream",
     "text": [
      "Merkúr: 0.38\n",
      "Vénusz: 0.90\n",
      "Föld: 1.00\n",
      "Mars: 0.38\n",
      "Jupiter: 2.64\n",
      "Szaturnusz: 1.14\n",
      "Uránusz: 0.92\n",
      "Neptunusz: 1.15\n"
     ]
    }
   ],
   "source": [
    "def planet_speed(planets):\n",
    "    G = 6.67408 * 10**(-11)\n",
    "    new_planets = []\n",
    "    for i in range(len(planets)):\n",
    "        if planets[i][0] == \"Föld\":\n",
    "            fold_data = G*(planets[i][1]/(planets[i][2]**2))\n",
    "    for i in range(len(planets)):\n",
    "        new_planets.append((planets[i][0],(G*(planets[i][1]/(planets[i][2]**2))/fold_data)))\n",
    "    for planets in new_planets:\n",
    "        print(f'{planets[0]}: {planets[1]:.2f}')\n",
    "        \n",
    "        \n",
    "planet_speed(planets)"
   ]
  },
  {
   "cell_type": "markdown",
   "metadata": {},
   "source": [
    "### 2. feladat [8p]\n",
    "\n",
    "Készíts programot, amely bekéri a felhasználótól $n$ értékét, szimulál $n$ darab kockadobást, majd kiírja, hogy mi volt a leghosszabb 6-os sorozat hossza! Példa futási eredmény:\n",
    "```\n",
    "\n",
    "n: 50\n",
    "31554643644341364414422455514666664664563666113524\n",
    "A leghosszabb 6-os sorozat hossza: 5\n",
    "```"
   ]
  },
  {
   "cell_type": "code",
   "execution_count": 3,
   "metadata": {},
   "outputs": [
    {
     "name": "stdout",
     "output_type": "stream",
     "text": [
      "n:  15\n",
      "126656355241132\n",
      "A leghosszabb 6-os sorozat hossza: 2\n"
     ]
    }
   ],
   "source": [
    "def simulate_dice_rolls(n):\n",
    "    import random\n",
    "    rolls = []\n",
    "    for i in range(n):\n",
    "        rolls.append(random.randint(1,6))\n",
    "    return rolls\n",
    "\n",
    "def longest_6_in_row(rolls): \n",
    "    max = 0\n",
    "    count = 0\n",
    "    for i in range(len(rolls)):\n",
    "        count = 0 \n",
    "        if rolls[i] == 6:\n",
    "                count += 1\n",
    "        for j in range(1, len(rolls)-i):\n",
    "            if rolls[i+j] == 6:\n",
    "                count += 1\n",
    "            else:\n",
    "                break\n",
    "        if count>max:\n",
    "            max = count\n",
    "    return max\n",
    "\n",
    "n = int(input('n: '))\n",
    "rolls = simulate_dice_rolls(n)\n",
    "print('n: ', n)\n",
    "for roll in rolls:\n",
    "    print(roll, end='')\n",
    "max_series = longest_6_in_row(rolls)\n",
    "print(f'\\nA leghosszabb 6-os sorozat hossza: {max_series}')"
   ]
  },
  {
   "cell_type": "markdown",
   "metadata": {},
   "source": [
    "### 3. feladat [10p]\n",
    "\n",
    "A [hotels.txt](hotels.txt) szövegfájl Las Vegas-i szállodák értékeléséről tartalmaz adatokat. Minden sor egy szállóvendég által kiosztott értékeléshez tartozik. Készíts programot, amely kiszámítja és kiírja az alábbi statisztikákat:\n",
    "\n",
    "- Hány db értékelés van összesen az egyes szállodákra vonatkozóan?\n",
    "- A szobák száma (`Nr. rooms`) alapján melyik az öt legnagyobb szálloda?\n",
    "- Hány ponttal magasabb a medencével (`Pool`) rendelkező szállodák átlagos értékelése (`Score`) a többi szálloda átlagos értékelésénél?"
   ]
  },
  {
   "cell_type": "code",
   "execution_count": 4,
   "metadata": {},
   "outputs": [
    {
     "name": "stdout",
     "output_type": "stream",
     "text": [
      "{'Circus Circus Hotel & Casino Las Vegas': 24, 'Excalibur Hotel & Casino': 24, 'Monte Carlo Resort&Casino': 24, 'Treasure Island- TI Hotel & Casino': 24, 'Tropicana Las Vegas - A Double Tree by Hilton Hotel': 24, 'Caesars Palace': 24, 'The Cosmopolitan Las Vegas': 24, 'The Palazzo Resort Hotel Casino': 24, 'Wynn Las Vegas': 24, 'Trump International Hotel Las Vegas': 24, 'The Cromwell': 24, 'Encore at wynn Las Vegas': 24, 'Hilton Grand Vacations on the Boulevard': 24, \"Marriott's Grand Chateau\": 24, 'Tuscany Las Vegas Suites & Casino': 24, 'Hilton Grand Vacations at the Flamingo': 24, 'Wyndham Grand Desert': 24, 'The Venetian Las Vegas Hotel': 24, 'Bellagio Las Vegas': 24, 'Paris Las Vegas': 24, 'The Westin las Vegas Hotel Casino & Spa': 24}\n",
      "[('The Venetian Las Vegas Hotel', 4027), ('Excalibur Hotel & Casino', 3981), ('Bellagio Las Vegas', 3933), ('Circus Circus Hotel & Casino Las Vegas', 3773), ('Caesars Palace', 3348)]\n",
      "\n",
      "\n",
      "0.9604166666666667\n"
     ]
    }
   ],
   "source": [
    "\n",
    "filename = '/home/g14/uni/sze_python_programozas/data/hotels.txt'\n",
    "\n",
    "def get_data(filename):\n",
    "    with open(filename, 'r') as f:\n",
    "        # skip the first line\n",
    "        f.readline()\n",
    "        lines = f.readlines()\n",
    "        # read into a list  split by | return the list \n",
    "        lines = [line.split(';') for line in lines]    \n",
    "        data = [] \n",
    "        # remove the newline character from the last element of each line\n",
    "        for line in lines:\n",
    "            line[-1] = line[-1].strip()\n",
    "            continue\n",
    "        for line in lines:\n",
    "            data.append(line) \n",
    "        return data\n",
    "\n",
    "\n",
    "def get_reviews(datas):\n",
    "    reviews = {}\n",
    "    for data in datas:\n",
    "        if data[0] not in reviews:\n",
    "            reviews[data[0]] = 1\n",
    "        else:\n",
    "            reviews[data[0]] += 1\n",
    "    print(reviews)\n",
    "    return reviews\n",
    "    \n",
    "def top5_rooms(datas):\n",
    "    hotels = {}\n",
    "    for data in datas:\n",
    "        if data[0] not in hotels:\n",
    "            hotels[data[0]] = int(data[1])\n",
    "        else:\n",
    "            continue\n",
    "    hotels = sorted(hotels.items(), key=lambda x: x[1], reverse=True)\n",
    "    print(hotels[0:5])\n",
    "    \n",
    "def get_pool_score(datas, rewiews):  \n",
    "    has_pool = {}\n",
    "    no_pool = {}\n",
    "    for data in datas:\n",
    "        # Has pool\n",
    "        if data[2] == 'YES':\n",
    "            if data[0] not in has_pool:\n",
    "                has_pool[data[0]] = int(data[-1])\n",
    "            else: \n",
    "                has_pool[data[0]] += int(data[-1])\n",
    "        # No pool\n",
    "        else:\n",
    "            if data[0] not in no_pool:\n",
    "                no_pool[data[0]] = int(data[-1])\n",
    "            else: \n",
    "                no_pool[data[0]] += int(data[-1])\n",
    "         \n",
    "    has_pool_counter = 0\n",
    "    no_pool_counter = 0\n",
    "    has_pool_data = 0\n",
    "    no_pool_data = 0\n",
    "    for data in has_pool:\n",
    "        value = has_pool[data]\n",
    "        value = value / rewiews[data]\n",
    "        has_pool[data] = value\n",
    "        has_pool_counter += 1\n",
    "        has_pool_data += value\n",
    "    for data in no_pool:\n",
    "        value = no_pool[data]\n",
    "        value = value / rewiews[data]\n",
    "        no_pool[data] = value\n",
    "        no_pool_counter += 1\n",
    "        no_pool_data += value\n",
    "    \n",
    "    has_pool_data = has_pool_data / has_pool_counter\n",
    "    no_pool_data = no_pool_data / no_pool_counter\n",
    "    \n",
    "    diff = has_pool_data - no_pool_data\n",
    "    \n",
    "    print('\\n')\n",
    "    print(diff)\n",
    "    \n",
    "    \n",
    "data = get_data(filename)\n",
    "reviews = get_reviews(data)\n",
    "top5_rooms(data)\n",
    "get_pool_score(data, reviews)"
   ]
  }
 ],
 "metadata": {
  "kernelspec": {
   "display_name": "Python 3",
   "language": "python",
   "name": "python3"
  },
  "language_info": {
   "codemirror_mode": {
    "name": "ipython",
    "version": 3
   },
   "file_extension": ".py",
   "mimetype": "text/x-python",
   "name": "python",
   "nbconvert_exporter": "python",
   "pygments_lexer": "ipython3",
   "version": "3.10.6"
  },
  "vscode": {
   "interpreter": {
    "hash": "916dbcbb3f70747c44a77c7bcd40155683ae19c65e1c03b4aa3499c5328201f1"
   }
  }
 },
 "nbformat": 4,
 "nbformat_minor": 1
}
