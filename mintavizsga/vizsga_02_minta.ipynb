{
 "cells": [
  {
   "cell_type": "markdown",
   "metadata": {},
   "source": [
    "## Python programozás (GKNB_MSTM032) Vizsgaminta 2."
   ]
  },
  {
   "cell_type": "markdown",
   "metadata": {},
   "source": [
    "### 1. feladat [6p]\n",
    "\n",
    "A `planets` lista a Naprendszer bolygóinak tömegét és (átlagos) sugarát tartalmazza. Készíts programot, amely kiszámítja, hogy a bolygók felszínén érvényes nehézségi gyorsulás hányszorosa a földinek! A nehézségi gyorsulás képlete\n",
    "$$g = G \\frac{M}{R^2},$$\n",
    "ahol $G = 6,67408 \\cdot 10^{-11} \\frac{Nm^2}{kg^2}$ az univerzális gravitációs állandó, $M$ a bolygó tömege, $R$ pedig a bolygó tömegközéppontjától mért távolság. A program ne csak a `planets` listára működjön, hanem bármely ugyanilyen formátumú, bemenetre is! Elvárt futási eredmény:\n",
    "```\n",
    "\n",
    "Merkúr: 0.38\n",
    "Vénusz: 0.90\n",
    "Föld: 1.00\n",
    "...\n",
    "```"
   ]
  },
  {
   "cell_type": "code",
   "execution_count": 1,
   "metadata": {},
   "outputs": [],
   "source": [
    "planets = [\n",
    "    # bolygó neve,  tömeg(10^21kg),  sugár(km)\n",
    "    ('Merkúr',      330.2,           2439.7),\n",
    "    ('Vénusz',      4868.5,          6051.8),\n",
    "    ('Föld',        5973.6,          6371.0),\n",
    "    ('Mars',        641.85,          3389.5),\n",
    "    ('Jupiter',     1898600,         69911),\n",
    "    ('Szaturnusz',  568460,          58232),\n",
    "    ('Uránusz',     86832,           25362),\n",
    "    ('Neptunusz',   102430,          24622)\n",
    "]"
   ]
  },
  {
   "cell_type": "code",
   "execution_count": 13,
   "metadata": {},
   "outputs": [
    {
     "name": "stdout",
     "output_type": "stream",
     "text": [
      "Merkúr: 0.38\n",
      "Vénusz: 0.90\n",
      "Föld: 1.00\n",
      "Mars: 0.38\n",
      "Jupiter: 2.64\n",
      "Szaturnusz: 1.14\n",
      "Uránusz: 0.92\n",
      "Neptunusz: 1.15\n"
     ]
    }
   ],
   "source": [
    "def planet_speed(planets):\n",
    "    G = 6.67408 * 10**(-11)\n",
    "    new_planets = []\n",
    "    for i in range(len(planets)):\n",
    "        if planets[i][0] == \"Föld\":\n",
    "            fold_data = G*(planets[i][1]/(planets[i][2]**2))\n",
    "    for i in range(len(planets)):\n",
    "        new_planets.append((planets[i][0],(G*(planets[i][1]/(planets[i][2]**2))/fold_data)))\n",
    "    for planets in new_planets:\n",
    "        print(f'{planets[0]}: {planets[1]:.2f}')\n",
    "        \n",
    "        \n",
    "planet_speed(planets)"
   ]
  },
  {
   "cell_type": "markdown",
   "metadata": {},
   "source": [
    "### 2. feladat [8p]\n",
    "\n",
    "Készíts programot, amely bekéri a felhasználótól $n$ értékét, szimulál $n$ darab kockadobást, majd kiírja, hogy mi volt a leghosszabb 6-os sorozat hossza! Példa futási eredmény:\n",
    "```\n",
    "\n",
    "n: 50\n",
    "31554643644341364414422455514666664664563666113524\n",
    "A leghosszabb 6-os sorozat hossza: 5\n",
    "```"
   ]
  },
  {
   "cell_type": "code",
   "execution_count": 54,
   "metadata": {},
   "outputs": [
    {
     "name": "stdout",
     "output_type": "stream",
     "text": [
      "n:  50\n",
      "31122412115422143125252265244554543652656441164453\n",
      "A leghosszabb 6-os sorozat hossza: 1\n"
     ]
    }
   ],
   "source": [
    "def simulate_dice_rolls(n):\n",
    "    import random\n",
    "    rolls = []\n",
    "    for i in range(n):\n",
    "        rolls.append(random.randint(1,6))\n",
    "    return rolls\n",
    "\n",
    "def longest_6_in_row(rolls): \n",
    "    max = 0\n",
    "    count = 0\n",
    "    for i in range(len(rolls)):\n",
    "        count = 0 \n",
    "        if rolls[i] == 6:\n",
    "                count += 1\n",
    "        for j in range(1, len(rolls)-i):\n",
    "            if rolls[i+j] == 6:\n",
    "                count += 1\n",
    "            else:\n",
    "                break\n",
    "        if count>max:\n",
    "            max = count\n",
    "    return max\n",
    "\n",
    "n = int(input('n: '))\n",
    "rolls = simulate_dice_rolls(n)\n",
    "print('n: ', n)\n",
    "for roll in rolls:\n",
    "    print(roll, end='')\n",
    "max_series = longest_6_in_row(rolls)\n",
    "print(f'\\nA leghosszabb 6-os sorozat hossza: {max_series}')"
   ]
  },
  {
   "cell_type": "markdown",
   "metadata": {},
   "source": [
    "### 3. feladat [10p]\n",
    "\n",
    "A [hotels.txt](hotels.txt) szövegfájl Las Vegas-i szállodák értékeléséről tartalmaz adatokat. Minden sor egy szállóvendég által kiosztott értékeléshez tartozik. Készíts programot, amely kiszámítja és kiírja az alábbi statisztikákat:\n",
    "\n",
    "- Hány db értékelés van összesen az egyes szállodákra vonatkozóan?\n",
    "- A szobák száma (`Nr. rooms`) alapján melyik az öt legnagyobb szálloda?\n",
    "- Hány ponttal magasabb a medencével (`Pool`) rendelkező szállodák átlagos értékelése (`Score`) a többi szálloda átlagos értékelésénél?"
   ]
  },
  {
   "cell_type": "code",
   "execution_count": 119,
   "metadata": {},
   "outputs": [
    {
     "data": {
      "text/plain": [
       "Hotel name\n",
       "Bellagio Las Vegas                                     24\n",
       "Caesars Palace                                         24\n",
       "Circus Circus Hotel & Casino Las Vegas                 24\n",
       "Encore at wynn Las Vegas                               24\n",
       "Excalibur Hotel & Casino                               24\n",
       "Hilton Grand Vacations at the Flamingo                 24\n",
       "Hilton Grand Vacations on the Boulevard                24\n",
       "Marriott's Grand Chateau                               24\n",
       "Monte Carlo Resort&Casino                              24\n",
       "Paris Las Vegas                                        24\n",
       "The Cosmopolitan Las Vegas                             24\n",
       "The Cromwell                                           24\n",
       "The Palazzo Resort Hotel Casino                        24\n",
       "The Venetian Las Vegas Hotel                           24\n",
       "The Westin las Vegas Hotel Casino & Spa                24\n",
       "Treasure Island- TI Hotel & Casino                     24\n",
       "Tropicana Las Vegas - A Double Tree by Hilton Hotel    24\n",
       "Trump International Hotel Las Vegas                    24\n",
       "Tuscany Las Vegas Suites & Casino                      24\n",
       "Wyndham Grand Desert                                   24\n",
       "Wynn Las Vegas                                         24\n",
       "Name: Nr. rooms, dtype: int64"
      ]
     },
     "execution_count": 119,
     "metadata": {},
     "output_type": "execute_result"
    }
   ],
   "source": [
    "import pandas as pd\n",
    "\n",
    "df = pd.read_csv('/home/g14/uni/sze_python_programozas/data/hotels.txt', sep=';')\n",
    "\n",
    "hotel_score_count = []\n",
    "\n",
    "\n",
    "\n",
    "df.groupby('Hotel name')['Nr. rooms'].first().sort_values(ascending=False).head(5)\n",
    "\n",
    "df.groupby('Hotel name')['Nr. rooms'].count()\n"
   ]
  }
 ],
 "metadata": {
  "kernelspec": {
   "display_name": "Python 3",
   "language": "python",
   "name": "python3"
  },
  "language_info": {
   "codemirror_mode": {
    "name": "ipython",
    "version": 3
   },
   "file_extension": ".py",
   "mimetype": "text/x-python",
   "name": "python",
   "nbconvert_exporter": "python",
   "pygments_lexer": "ipython3",
   "version": "3.10.6"
  },
  "vscode": {
   "interpreter": {
    "hash": "916dbcbb3f70747c44a77c7bcd40155683ae19c65e1c03b4aa3499c5328201f1"
   }
  }
 },
 "nbformat": 4,
 "nbformat_minor": 1
}
