{
 "cells": [
  {
   "attachments": {},
   "cell_type": "markdown",
   "metadata": {},
   "source": [
    "# 1. feladat [14p]\n",
    "Az A , B , C , ..., Z betűk manókat jelölnek, a sztringként megadott friends táblázat pedig\n",
    "definiálja azokat párokat, akik ismerik egymást. (Ha az X sor Y oszlopában 1-es áll, akkor X és\n",
    "Y ismeri egymást. A reláció szimmetrikus, azaz ha X ismeri Y -t, akkor Y is ismeri X -et.)\n",
    "Készítsünk programot, amely kiírja, hogy melyik két manónak van a legtöbb közös ismerőse! A\n",
    "program ne csak a megadott friends táblázatra működjön, hanem tetszőleges, ugyanilyen\n",
    "formátumú bemenetre is!\n"
   ]
  },
  {
   "cell_type": "code",
   "execution_count": 54,
   "metadata": {},
   "outputs": [
    {
     "name": "stdout",
     "output_type": "stream",
     "text": [
      "{('A', 'B'): 1, ('A', 'C'): 0, ('A', 'D'): 0, ('A', 'E'): 0, ('A', 'F'): 1, ('A', 'G'): 5, ('A', 'H'): 4, ('A', 'I'): 2, ('A', 'J'): 2, ('A', 'K'): 0, ('A', 'L'): 0, ('A', 'M'): 0, ('A', 'N'): 1, ('A', 'O'): 4, ('A', 'P'): 0, ('A', 'Q'): 0, ('A', 'R'): 0, ('A', 'S'): 2, ('A', 'T'): 0, ('A', 'U'): 3, ('A', 'V'): 0, ('A', 'W'): 2, ('A', 'X'): 1, ('A', 'Y'): 1, ('A', 'Z'): 0, ('B', 'C'): 1, ('B', 'D'): 2, ('B', 'E'): 1, ('B', 'F'): 0, ('B', 'G'): 2, ('B', 'H'): 2, ('B', 'I'): 1, ('B', 'J'): 1, ('B', 'K'): 1, ('B', 'L'): 1, ('B', 'M'): 2, ('B', 'N'): 1, ('B', 'O'): 2, ('B', 'P'): 2, ('B', 'Q'): 3, ('B', 'R'): 2, ('B', 'S'): 2, ('B', 'T'): 1, ('B', 'U'): 2, ('B', 'V'): 2, ('B', 'W'): 2, ('B', 'X'): 1, ('B', 'Y'): 2, ('B', 'Z'): 1, ('C', 'D'): 2, ('C', 'E'): 1, ('C', 'F'): 0, ('C', 'G'): 0, ('C', 'H'): 0, ('C', 'I'): 0, ('C', 'J'): 0, ('C', 'K'): 1, ('C', 'L'): 0, ('C', 'M'): 2, ('C', 'N'): 1, ('C', 'O'): 0, ('C', 'P'): 0, ('C', 'Q'): 0, ('C', 'R'): 1, ('C', 'S'): 0, ('C', 'T'): 0, ('C', 'U'): 0, ('C', 'V'): 1, ('C', 'W'): 0, ('C', 'X'): 0, ('C', 'Y'): 0, ('C', 'Z'): 2, ('D', 'E'): 0, ('D', 'F'): 0, ('D', 'G'): 0, ('D', 'H'): 1, ('D', 'I'): 0, ('D', 'J'): 0, ('D', 'K'): 2, ('D', 'L'): 0, ('D', 'M'): 1, ('D', 'N'): 1, ('D', 'O'): 0, ('D', 'P'): 1, ('D', 'Q'): 3, ('D', 'R'): 0, ('D', 'S'): 1, ('D', 'T'): 0, ('D', 'U'): 1, ('D', 'V'): 1, ('D', 'W'): 0, ('D', 'X'): 1, ('D', 'Y'): 1, ('D', 'Z'): 1, ('E', 'F'): 1, ('E', 'G'): 0, ('E', 'H'): 0, ('E', 'I'): 0, ('E', 'J'): 0, ('E', 'K'): 0, ('E', 'L'): 1, ('E', 'M'): 3, ('E', 'N'): 1, ('E', 'O'): 2, ('E', 'P'): 1, ('E', 'Q'): 1, ('E', 'R'): 2, ('E', 'S'): 1, ('E', 'T'): 1, ('E', 'U'): 1, ('E', 'V'): 2, ('E', 'W'): 0, ('E', 'X'): 0, ('E', 'Y'): 3, ('E', 'Z'): 1, ('F', 'G'): 1, ('F', 'H'): 1, ('F', 'I'): 0, ('F', 'J'): 0, ('F', 'K'): 0, ('F', 'L'): 2, ('F', 'M'): 0, ('F', 'N'): 0, ('F', 'O'): 2, ('F', 'P'): 0, ('F', 'Q'): 2, ('F', 'R'): 1, ('F', 'S'): 1, ('F', 'T'): 2, ('F', 'U'): 2, ('F', 'V'): 1, ('F', 'W'): 2, ('F', 'X'): 0, ('F', 'Y'): 3, ('F', 'Z'): 0, ('G', 'H'): 4, ('G', 'I'): 3, ('G', 'J'): 2, ('G', 'K'): 0, ('G', 'L'): 0, ('G', 'M'): 1, ('G', 'N'): 1, ('G', 'O'): 4, ('G', 'P'): 0, ('G', 'Q'): 0, ('G', 'R'): 1, ('G', 'S'): 1, ('G', 'T'): 0, ('G', 'U'): 4, ('G', 'V'): 0, ('G', 'W'): 2, ('G', 'X'): 1, ('G', 'Y'): 2, ('G', 'Z'): 0, ('H', 'I'): 1, ('H', 'J'): 1, ('H', 'K'): 1, ('H', 'L'): 0, ('H', 'M'): 0, ('H', 'N'): 2, ('H', 'O'): 4, ('H', 'P'): 2, ('H', 'Q'): 1, ('H', 'R'): 0, ('H', 'S'): 3, ('H', 'T'): 0, ('H', 'U'): 4, ('H', 'V'): 0, ('H', 'W'): 2, ('H', 'X'): 3, ('H', 'Y'): 2, ('H', 'Z'): 0, ('I', 'J'): 2, ('I', 'K'): 0, ('I', 'L'): 0, ('I', 'M'): 1, ('I', 'N'): 0, ('I', 'O'): 1, ('I', 'P'): 0, ('I', 'Q'): 0, ('I', 'R'): 1, ('I', 'S'): 0, ('I', 'T'): 0, ('I', 'U'): 2, ('I', 'V'): 0, ('I', 'W'): 1, ('I', 'X'): 0, ('I', 'Y'): 1, ('I', 'Z'): 0, ('J', 'K'): 0, ('J', 'L'): 0, ('J', 'M'): 1, ('J', 'N'): 0, ('J', 'O'): 1, ('J', 'P'): 0, ('J', 'Q'): 0, ('J', 'R'): 1, ('J', 'S'): 1, ('J', 'T'): 0, ('J', 'U'): 1, ('J', 'V'): 0, ('J', 'W'): 2, ('J', 'X'): 0, ('J', 'Y'): 1, ('J', 'Z'): 0, ('K', 'L'): 0, ('K', 'M'): 0, ('K', 'N'): 0, ('K', 'O'): 1, ('K', 'P'): 1, ('K', 'Q'): 1, ('K', 'R'): 1, ('K', 'S'): 1, ('K', 'T'): 1, ('K', 'U'): 0, ('K', 'V'): 1, ('K', 'W'): 0, ('K', 'X'): 2, ('K', 'Y'): 1, ('K', 'Z'): 1, ('L', 'M'): 1, ('L', 'N'): 0, ('L', 'O'): 1, ('L', 'P'): 0, ('L', 'Q'): 3, ('L', 'R'): 2, ('L', 'S'): 0, ('L', 'T'): 0, ('L', 'U'): 0, ('L', 'V'): 2, ('L', 'W'): 1, ('L', 'X'): 0, ('L', 'Y'): 2, ('L', 'Z'): 1, ('M', 'N'): 2, ('M', 'O'): 2, ('M', 'P'): 2, ('M', 'Q'): 1, ('M', 'R'): 3, ('M', 'S'): 0, ('M', 'T'): 1, ('M', 'U'): 1, ('M', 'V'): 2, ('M', 'W'): 1, ('M', 'X'): 0, ('M', 'Y'): 3, ('M', 'Z'): 1, ('N', 'O'): 2, ('N', 'P'): 2, ('N', 'Q'): 2, ('N', 'R'): 1, ('N', 'S'): 3, ('N', 'T'): 2, ('N', 'U'): 2, ('N', 'V'): 3, ('N', 'W'): 3, ('N', 'X'): 1, ('N', 'Y'): 2, ('N', 'Z'): 1, ('O', 'P'): 1, ('O', 'Q'): 2, ('O', 'R'): 3, ('O', 'S'): 2, ('O', 'T'): 4, ('O', 'U'): 3, ('O', 'V'): 2, ('O', 'W'): 1, ('O', 'X'): 1, ('O', 'Y'): 4, ('O', 'Z'): 0, ('P', 'Q'): 2, ('P', 'R'): 0, ('P', 'S'): 2, ('P', 'T'): 2, ('P', 'U'): 1, ('P', 'V'): 1, ('P', 'W'): 1, ('P', 'X'): 1, ('P', 'Y'): 1, ('P', 'Z'): 0, ('Q', 'R'): 3, ('Q', 'S'): 2, ('Q', 'T'): 2, ('Q', 'U'): 1, ('Q', 'V'): 3, ('Q', 'W'): 2, ('Q', 'X'): 1, ('Q', 'Y'): 4, ('Q', 'Z'): 0, ('R', 'S'): 0, ('R', 'T'): 2, ('R', 'U'): 1, ('R', 'V'): 3, ('R', 'W'): 2, ('R', 'X'): 0, ('R', 'Y'): 3, ('R', 'Z'): 1, ('S', 'T'): 2, ('S', 'U'): 2, ('S', 'V'): 2, ('S', 'W'): 3, ('S', 'X'): 3, ('S', 'Y'): 2, ('S', 'Z'): 0, ('T', 'U'): 1, ('T', 'V'): 3, ('T', 'W'): 2, ('T', 'X'): 0, ('T', 'Y'): 3, ('T', 'Z'): 0, ('U', 'V'): 0, ('U', 'W'): 3, ('U', 'X'): 1, ('U', 'Y'): 4, ('U', 'Z'): 0, ('V', 'W'): 2, ('V', 'X'): 0, ('V', 'Y'): 2, ('V', 'Z'): 2, ('W', 'X'): 1, ('W', 'Y'): 4, ('W', 'Z'): 0, ('X', 'Y'): 2, ('X', 'Z'): 0, ('Y', 'Z'): 0}\n",
      "('A', 'G')\n"
     ]
    }
   ],
   "source": [
    "friends = ( # Úgy gépeltem be szóval lehet nem 100% pontos, ez valami óborzalom adatmegadás :)\n",
    " ' ABCDEFGHIJKLMNOPQRSTUVWXYZ\\n' +\n",
    " 'A1     1111    1           \\n' +\n",
    " 'B 1 1   1       11   1     \\n' +\n",
    " 'C  11        1             \\n' +\n",
    " 'D 111      1              1\\n' +\n",
    " 'E    1       1  1        1 \\n' +\n",
    " 'F     1     1    1       1 \\n' +\n",
    " 'G1     1 1           1     \\n' +\n",
    " 'H11    11      1   1    1  \\n' +\n",
    " 'I1    111      1     1     \\n' +\n",
    " 'J1        1        1   1   \\n' +\n",
    " 'K   1      1     1      11 \\n' +\n",
    " 'L     1     1    11    1   \\n' +\n",
    " 'M  1 1       11   1   1   1\\n' +\n",
    " 'N            1111   1      \\n' +\n",
    " 'O1     11     11     1 1 1 \\n' +\n",
    " 'P 1  1      11 1 11   1  1 \\n' +\n",
    " 'Q 1           1 11 11 11   \\n' +\n",
    " 'R     1             1 11 1 \\n' +\n",
    " 'S       1     1    1 1 111 \\n' +\n",
    " 'T              1 11 1    1 \\n' +\n",
    " 'U 1    1 11  1    1  1 1 1 \\n' +\n",
    " 'V           1         1   1\\n' +\n",
    " 'W          1   1  1 1 1    \\n' +\n",
    " 'X       1  1    1  1    1  \\n' +\n",
    " 'Y    11        1   111   1 \\n' +\n",
    " 'Z   1         1  1 1  1    1'\n",
    ")\n",
    "\n",
    "def find_most_common_friends(friends):\n",
    "    common_friends = {}\n",
    "    \n",
    "    # Bontsun fel a sorokat és oszlopokat\n",
    "    rows = friends.split('\\n')    \n",
    "    #print(rows)\n",
    "    cols = rows.pop(0)\n",
    "    #print(cols)\n",
    "    cols = cols.strip()\n",
    "    #print(cols)\n",
    "    \n",
    "    # Számoljuk meg, hogy hányan ismerik egymást és tároljuk el egy dictionary-ben\n",
    "    for i in range(len(cols)):\n",
    "        for j in range(i+1, len(cols)):\n",
    "            person1 = cols[i]\n",
    "            person2 = cols[j]\n",
    "            count = 0\n",
    "            for row in rows:\n",
    "                if row[i+1] == '1' and row[j+1] == '1':\n",
    "                    count += 1\n",
    "            common_friends[(person1, person2)] = count\n",
    "            \n",
    "    print(common_friends)\n",
    "    # Számoljuk meg, hogy ki ismeri a legtöbbet és adjuk vissza a párt\n",
    "    max_count = 0\n",
    "    max_pair = None\n",
    "    for pair, count in common_friends.items():\n",
    "        if count > max_count:\n",
    "            max_count = count\n",
    "            max_pair = pair\n",
    "    print(max_pair)\n",
    "\n",
    "\n",
    "find_most_common_friends(friends)"
   ]
  },
  {
   "attachments": {},
   "cell_type": "markdown",
   "metadata": {},
   "source": [
    "# 2. feladat [10p]\n",
    "A dry_bean.txt (dry_bean.txt) szövegfájl 13 611 db lefényképezett babszemről tartalmaz adatokat.\n",
    "Minden sor egy babszemnek felel meg. Az első 16 oszlop méret- és alakjellemzőket tartalmaz (pl.\n",
    "kerület, terület, konvex burok területe, excentricitás), az utolsó oszlop pedig a növény fajtáját adja\n",
    "meg (SEKER, BARBUNYA, BOMBAY, CALI, DERMASON, HOROZ vagy SIRA). Készítsünk\n",
    "programot, amely beolvassa a fájl tartalmát, majd válaszol az alábbi kérdésekre!\n",
    "\n",
    "1. Mi az egyes fajtákhoz tartozó babszemek százalékos aránya?\n",
    "2. Melyik fajta szemeinek a legnagyobb az átlagos excentricitása?\n",
    "3. Hány konvex alakú babszem található az adathalmazban?\n"
   ]
  },
  {
   "attachments": {},
   "cell_type": "markdown",
   "metadata": {},
   "source": [
    "# Pandas"
   ]
  },
  {
   "cell_type": "code",
   "execution_count": null,
   "metadata": {},
   "outputs": [],
   "source": [
    "import pandas as pd\n",
    "\n",
    "df = pd.read_csv('C:\\\\Users\\\\Dorián\\\\PycharmProjects\\\\PythonVizsgaFelkészülés1Feladatok\\\\tables\\\\dry_bean.txt', sep=',', skiprows=4)\n",
    "#print(df.info())\n",
    "\n",
    "#1. Mi az egyes fajtákhoz tartozó babszemek százalékos aránya?\n",
    "bean_counts = df['Class'].value_counts()\n",
    "total_count = bean_counts.sum()\n",
    "bean_percentages = bean_counts / total_count * 100\n",
    "print(bean_percentages)\n",
    "\n",
    "#2. Melyik fajta szemeinek a legnagyobb az átlagos excentricitása?\n",
    "max_fajta = df.groupby('Class')['Eccentricity'].mean().idxmax()\n",
    "max_szama = df.groupby('Class')['Eccentricity'].mean().max()\n",
    "print(f'{max_fajta} szemeinek a legnagyobb az átlagos excentricitása, méghozzá {max_szama}')\n",
    "\n",
    "#3. Hány konvex alakú babszem található az adathalmazban?\n",
    "print(len(df[df['ConvexArea']==df['Area']]))\n",
    "#Nem tudom hogy 0-e, de ez tűnik logikusnak."
   ]
  },
  {
   "attachments": {},
   "cell_type": "markdown",
   "metadata": {},
   "source": [
    "# Manuális nem pontos megoldás"
   ]
  },
  {
   "cell_type": "code",
   "execution_count": 78,
   "metadata": {},
   "outputs": [
    {
     "name": "stdout",
     "output_type": "stream",
     "text": [
      "[('DERMASON', (3546, 26.045110572331204)), ('SIRA', (2636, 19.35934170891191)), ('SEKER', (2027, 14.88501946954669)), ('HOROZ', (1928, 14.15766659319668)), ('CALI', (1630, 11.968260965395636)), ('BARBUNYA', (1322, 9.70538535008449)), ('BOMBAY', (522, 3.827786349276321))]\n",
      "[('HOROZ', (1928, 1672.4299000000044, 86.74541255838113)), ('CALI', (1630, 1328.1314999999997, 81.4781767955801)), ('BOMBAY', (522, 402.2112, 77.04710172744723)), ('SIRA', (2636, 2022.543300000001, 76.72420872865278)), ('BARBUNYA', (1322, 997.6650000000012, 75.47230885692666)), ('DERMASON', (3546, 2612.0996000000005, 73.66185895627646)), ('SEKER', (2027, 1185.3531999999982, 58.478534057255594))]\n",
      "13611\n"
     ]
    }
   ],
   "source": [
    "filename = '/home/g14/uni/sze_python_programozas/data/dry_bean.txt'\n",
    "\n",
    "def get_data(filename):\n",
    "    with open(filename, 'r') as f:\n",
    "        # skip the first four line\n",
    "        for i in range(5):\n",
    "            f.readline()\n",
    "        lines = f.readlines()\n",
    "        # read into a list  split by tab\n",
    "        lines = [line.split(',') for line in lines]    \n",
    "        # remove the newline character from the last element of each line\n",
    "        for line in lines:\n",
    "            line[-1] = line[-1].strip()\n",
    "            continue\n",
    "        data = [] \n",
    "        for line in lines:\n",
    "            data.append(line) \n",
    "        return data\n",
    "\n",
    "def percentage(data):\n",
    "    alldata = len(data)\n",
    "    beans = {}\n",
    "    for item in data:\n",
    "        if item[-1] not in beans:\n",
    "            beans[item[-1]] = 1, 1 / alldata * 100\n",
    "        else:\n",
    "            beans[item[-1]] = beans[item[-1]][0] + 1, beans[item[-1]][0] / alldata * 100\n",
    "    beans = sorted(beans.items(), key=lambda x: x[1][1], reverse=True)\n",
    "    print(beans)\n",
    "    \n",
    "\n",
    "def highest_eccentri(data):\n",
    "    beans = {}\n",
    "    for item in data:\n",
    "        if item[-1] not in beans:\n",
    "            beans[item[-1]] = 1, float(item[5]), 0\n",
    "        else:\n",
    "            beans[item[-1]] = beans[item[-1]][0] + 1, beans[item[-1]][1] + float(item[5]), beans[item[-1]][1]/int(beans[item[-1]][0])*100\n",
    "    beans = sorted(beans.items(), key=lambda x: x[1][2], reverse=True)\n",
    "    print(beans)    \n",
    "\n",
    "def konvex(data):\n",
    "    beans = {}\n",
    "    knvx = 0\n",
    "    for item in data:\n",
    "        if float(item[6]) > 0:\n",
    "            knvx += 1\n",
    "    print(knvx)\n",
    "\n",
    "data = get_data(filename)\n",
    "percentage(data)\n",
    "highest_eccentri(data)\n",
    "konvex(data)"
   ]
  }
 ],
 "metadata": {
  "kernelspec": {
   "display_name": "Python 3",
   "language": "python",
   "name": "python3"
  },
  "language_info": {
   "codemirror_mode": {
    "name": "ipython",
    "version": 3
   },
   "file_extension": ".py",
   "mimetype": "text/x-python",
   "name": "python",
   "nbconvert_exporter": "python",
   "pygments_lexer": "ipython3",
   "version": "3.10.6"
  },
  "orig_nbformat": 4
 },
 "nbformat": 4,
 "nbformat_minor": 2
}
