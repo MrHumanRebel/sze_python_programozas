{
 "cells": [
  {
   "attachments": {},
   "cell_type": "markdown",
   "metadata": {},
   "source": [
    "# 1. feladat [8p]\n",
    "\n",
    " Készítsünk programot, amely bekér a felhasználótól egy n természetes számot, felbontja az összes lehetséges módon 3 különbözö természetes szám összegére, és kiírja ezeket a felbontásokat! A tagok sorrendje ne számítson, azaz pl. 1 + 2 + 3 és 1 + 3 + 2 ne számítson különbözőnek! Példa futási eredmény: \n",
    "n: 7 \n",
    "0 + 1 + 6 0 + 2 + 5 0 + 3 + 4 1 + 2 + 4 "
   ]
  },
  {
   "cell_type": "code",
   "execution_count": null,
   "metadata": {},
   "outputs": [],
   "source": []
  },
  {
   "attachments": {},
   "cell_type": "markdown",
   "metadata": {},
   "source": [
    "# 2. feladat [12p] \n",
    "\n",
    "A zoo.txt több száz gerinces állatfaj várható élettartamáról tartalmaz becsléseket, észak-amerikai állatkertek törzskönyvi adatai alapján. Készítsünk programot, amely beolvassa a szövegfájl tartalmát. majd válaszol az alábbi kérdésekre!\n",
    "- Melyik a 10 legmagasabb várható élettartamú (mle) állatfaj? \n",
    "- Átlagosan mennyi a várható élettartam az egyes rendszertani osztályokban ( taxonomy_class)? \n",
    "- Melyik fajnál a legnagyobb a különbség a hímek és a nőstények várható élettartama között (male_mle, female_mle )? \n",
    "- A sample_size oszlop azt adja meg, hogy az adott fajból hány egyedről van mérési adat. Összesen hány hüllőről ( Reptilia ) van mérési adat az adathalmazban? \n"
   ]
  },
  {
   "cell_type": "code",
   "execution_count": null,
   "metadata": {},
   "outputs": [],
   "source": [
    "filename = '/home/g14/uni/sze_python_programozas/data/zoo.txt'\n",
    "\n",
    "def get_data(filename):\n",
    "    with open(filename, 'r') as f:\n",
    "        # skip the first two line\n",
    "        for i in range(2):\n",
    "            f.readline()\n",
    "        lines = f.readlines()\n",
    "        # read into a list  split by tab\n",
    "        lines = [line.split('|') for line in lines]    \n",
    "        # remove the newline character from the last element of each line\n",
    "        for line in lines:\n",
    "            line[-1] = line[-1].strip()\n",
    "            continue\n",
    "        data = [] \n",
    "        for line in lines:\n",
    "            data.append(line) \n",
    "        return data\n",
    "\n",
    "\n",
    "\n",
    "\n",
    "\n",
    "get_data(filename)\n",
    "\n",
    "\n"
   ]
  }
 ],
 "metadata": {
  "language_info": {
   "name": "python"
  },
  "orig_nbformat": 4
 },
 "nbformat": 4,
 "nbformat_minor": 2
}
