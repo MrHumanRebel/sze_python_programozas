{
 "cells": [
  {
   "attachments": {},
   "cell_type": "markdown",
   "metadata": {},
   "source": [
    "# 1. feladat [8 p]\n",
    "\n",
    "A words lista sztringeket tartalmaz. Készítsünk programot, amely megadja, hogy az angol ABC melyik betűje fordul elő a legtöbb szóban! A program ne tegyen különbséget a kis- és nagybetűk között, illetve ne csak a megadott words listára működjön, hanem tetszőleges, ugyanilyen formátumú bemenetre is!"
   ]
  },
  {
   "cell_type": "code",
   "execution_count": null,
   "metadata": {},
   "outputs": [],
   "source": [
    "words = [\n",
    "    'Apple', 'Apricot', 'Avocado', 'Banana', 'Blueberry',\n",
    "    'Cherry', 'Coconut', 'Grape', 'Grapefruit', 'Fig',\n",
    "    'Kiwi', 'Lemon', 'Lime', 'Mandarin', 'Mango',\n",
    "    'Melon','Nectarine', 'Orange', 'Papaya', 'Peach',\n",
    "    'Pear', 'Pineapple', 'Plum', 'Raspberry', 'Strawberry'\n",
    "]"
   ]
  },
  {
   "attachments": {},
   "cell_type": "markdown",
   "metadata": {},
   "source": [
    "# 2. feladat [12 p]\n",
    "\n",
    "A houston.txt szövegfájl a texasi Houston időjárásról tartalmaz napi bontású adatokat. A hőmérséklet értékek (* _hőm) Fahrenheit-fokban, a csapadék mennyiségének értékei (* _csap) hüvelyben vannak megadva. A rekordok és az év adott napjához tartozó átlagok az 1880 óta eltelt időszakra vonatkoznak. észítsünk programot, amely beolvassa a szövegfájl tartalmát, majd válaszol a következő kérdésekre:\n",
    "\n",
    "- Mikor volt a legnagyobb az eltérés a napi maximális és a napi minimális hőmérséklet között?\n",
    "- Celcius fokban kifejezve mennyi volt a legalancsonyabb és legmagasabb hőmérséklet, amit Houstonban valaha mértek? (C = (F - 32) * 5/9) Melyik évben mérték ezt?\n",
    "- Melyik hónapban mennyi volt az összes csapadék mm-ben? (1 hüvely = 25.4 mm)"
   ]
  }
 ],
 "metadata": {
  "language_info": {
   "name": "python"
  },
  "orig_nbformat": 4
 },
 "nbformat": 4,
 "nbformat_minor": 2
}
