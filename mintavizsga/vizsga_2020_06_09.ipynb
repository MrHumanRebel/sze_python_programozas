{
 "cells": [
  {
   "attachments": {},
   "cell_type": "markdown",
   "metadata": {},
   "source": [
    "# 1. feladat [8p]\n",
    "Tomi egy ’r’ méter sugarú, kör alakú tűzrakó helyet szeretne szegélykővel körbekeríteni. Az áruházban 85 cm és 100 cm hosszúságú szegélykövek kaphatók. A körbekerítésnél Tomi vagy csak 85 cm-es vagy csak 100 cm-es szegélyköveket használ, és szabályos sokszög alakban helyezi el őket. Az a cél, hogy a szegély kerülete a lehető legkisebb legyen, de a szegély alkotta sokszögből ne lógjon ki az ’r’ sugarú kör. Készítsünk programot, amely bekéri ’r’ értékét, majd kiszámítja, hogy melyik hosszúságú szegélykőből hányat kell venni, hogy optimális körbekerítést kapjunk! Segítség: Az ’a’ oldalhosszúságú szabályos sokszög beírt körének a sugara\n",
    "(a/2)/tg(π/n)\n"
   ]
  },
  {
   "cell_type": "code",
   "execution_count": null,
   "metadata": {},
   "outputs": [],
   "source": [
    "# n a szögek száma \n",
    "# Készítsünk programot amely bekéri r értékét\n",
    "# Kiszámítja, hogy melyik hosszúságú szegélykőből hány darabot kell venni"
   ]
  },
  {
   "attachments": {},
   "cell_type": "markdown",
   "metadata": {},
   "source": [
    "# 2. feladat [12p]\n",
    "A dog_breeds.txt szövegfájl kutyafajták jellemzőit tartalmazza az American Kennel Club leírása alapján. Az adatok felnőtt példányokra vonatkoznak. Készítsünk programot, amely beolvassa a szövegfájl tartalmát, majd válaszol az alábbi kérdésekre!\n",
    "- Melyik az 5 legnehezebb fajta a weight_low_lbs oszlop alapján?\n",
    "-\tMelyek azok a fajták, ahol a maximális és a minimális testmagasság között legalább 25 cm a különbség? (1 hüvelyk = 2,54 cm)\n",
    "-\tAz átlagosnál alacsonyabb fajták között melyik a legnagyobb súlyú? (a height_low_inches és a weight_low_lbs oszlop alapján)\n",
    "-\tMilyen kezdőbetűjű fajtából hány darab van az adathalmazban?\n"
   ]
  },
  {
   "cell_type": "code",
   "execution_count": null,
   "metadata": {},
   "outputs": [],
   "source": []
  }
 ],
 "metadata": {
  "language_info": {
   "name": "python"
  },
  "orig_nbformat": 4
 },
 "nbformat": 4,
 "nbformat_minor": 2
}
