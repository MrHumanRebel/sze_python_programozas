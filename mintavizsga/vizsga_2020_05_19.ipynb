{
 "cells": [
  {
   "attachments": {},
   "cell_type": "markdown",
   "metadata": {},
   "source": [
    "# 1. feladat [8p]\n",
    "A data objektum egy nullákból és egyesekból álló négyzetet tartalmaz, listák listájaként reprezentálva. Készítsünk programot, amely megadja leghosszabb csupa nullából álló átlós vonal hosszát a négyzetben! A program ne csak megadott data objektumra, hanem tetszőleges, ugyanilyen formátumú bemenetre is!"
   ]
  },
  {
   "cell_type": "code",
   "execution_count": null,
   "metadata": {},
   "outputs": [],
   "source": [
    "data = [[1,0,1,0],\n",
    "        [1,0,0,1],\n",
    "        [0,1,1,0],\n",
    "        [0,0,0,0]]\n",
    "\n"
   ]
  },
  {
   "attachments": {},
   "cell_type": "markdown",
   "metadata": {},
   "source": [
    "# 2. feladat [12 p]\n",
    "\n",
    "Az usa_cars.txt szövegfájl eladásra meghirdetett autókról és autóalkatrészekről tartalmaz adatokat. Készítsünk programot, amely beolvassa a szövegfájl tartalmát, majd válaszol az alábbi kérdésekre:\n",
    "\n",
    "- Melyik a 3 legrégebbi évjáratú termék?\n",
    "- Melyik a ledrágább Audi, BMW, Chevrolet, Ford, Nissan, Maserati és Toyota?\n",
    "- Melyik államban árulják a legtöbb piros Fordot?\n",
    "- Hányadik leggyakoribb szín az adathalazban a piros?\n"
   ]
  }
 ],
 "metadata": {
  "kernelspec": {
   "display_name": "Python 3",
   "language": "python",
   "name": "python3"
  },
  "language_info": {
   "name": "python",
   "version": "3.10.6"
  },
  "orig_nbformat": 4
 },
 "nbformat": 4,
 "nbformat_minor": 2
}
