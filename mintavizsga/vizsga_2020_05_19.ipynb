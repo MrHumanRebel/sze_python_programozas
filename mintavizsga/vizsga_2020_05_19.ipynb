{
 "cells": [
  {
   "attachments": {},
   "cell_type": "markdown",
   "metadata": {},
   "source": [
    "# 1. feladat [8p]\n",
    "A data objektum egy nullákból és egyesekból álló négyzetet tartalmaz, listák listájaként reprezentálva. Készítsünk programot, amely megadja leghosszabb csupa nullából álló átlós vonal hosszát a négyzetben! A program ne csak megadott data objektumra, hanem tetszőleges, ugyanilyen formátumú bemenetre is!"
   ]
  },
  {
   "cell_type": "code",
   "execution_count": 57,
   "metadata": {},
   "outputs": [
    {
     "name": "stdout",
     "output_type": "stream",
     "text": [
      "Legrövidebb csupa nullából álló átlós vonal hossza: 3\n"
     ]
    }
   ],
   "source": [
    "data = [[1,0,1,0],\n",
    "        [1,0,0,1],\n",
    "        [0,1,1,0],\n",
    "        [0,0,0,0]]\n",
    "\n",
    "rows = len(data)\n",
    "cols = len(data[0])\n",
    "\n",
    "max = 0\n",
    "\n",
    "for i in range(rows):\n",
    "    counter = 0\n",
    "    for j in range(cols):\n",
    "        if data[i][j] == 0:\n",
    "            for k in range(1, min(rows-i, cols-j)):\n",
    "                if counter == 0: \n",
    "                    counter += 1\n",
    "                if data[i+k][j+k] == 0:\n",
    "                    counter += 1\n",
    "    if counter > max:\n",
    "        max = counter\n",
    "    counter = 0\n",
    "    \n",
    "    for j in range(cols-1, -1, -1):\n",
    "        if data[i][j] == 0:\n",
    "            for k in range(1, min(rows-i, j+1)):\n",
    "                if counter == 0: \n",
    "                    counter += 1\n",
    "                if data[i+k][j-k] == 0:\n",
    "                    counter += 1\n",
    "    if counter > max:\n",
    "        max = counter\n",
    "\n",
    "print(f\"Legrövidebb csupa nullából álló átlós vonal hossza: {max}\")"
   ]
  },
  {
   "attachments": {},
   "cell_type": "markdown",
   "metadata": {},
   "source": [
    "# 2. feladat [12 p]\n",
    "\n",
    "Disclaimer: Nem rendelkezünk az eredeti adatokkal, ezért generált minta adatokat használunk fel!\n",
    "\n",
    "Az usa_cars.txt szövegfájl eladásra meghirdetett autókról és autóalkatrészekről tartalmaz adatokat. Készítsünk programot, amely beolvassa a szövegfájl tartalmát, majd válaszol az alábbi kérdésekre:\n",
    "\n",
    "- Melyik a 3 legrégebbi évjáratú termék?\n",
    "- Melyik a ledrágább Audi, BMW, Chevrolet, Ford, Nissan, Maserati és Toyota?\n",
    "- Melyik államban árulják a legtöbb piros Fordot?\n",
    "- Hányadik leggyakoribb szín az adathalazban a piros?\n"
   ]
  },
  {
   "cell_type": "code",
   "execution_count": null,
   "metadata": {},
   "outputs": [],
   "source": [
    "\n",
    "\n",
    "\n",
    "\n",
    "\n"
   ]
  },
  {
   "attachments": {},
   "cell_type": "markdown",
   "metadata": {},
   "source": [
    "# Random adat generálás"
   ]
  },
  {
   "cell_type": "code",
   "execution_count": 58,
   "metadata": {},
   "outputs": [],
   "source": [
    "import random\n",
    "import string\n",
    "\n",
    "# Autók márkái\n",
    "brands = [\"Audi\", \"BMW\", \"Chevrolet\", \"Ford\", \"Nissan\", \"Maserati\", \"Toyota\", \"Honda\", \"Hyundai\", \"Kia\", \"Lexus\", \"Mazda\", \"Mercedes\", \"Porsche\", \"Subaru\", \"Volkswagen\", \"Volvo\"]\n",
    "\n",
    "# Alkatrészek típusai\n",
    "parts = [\"Engine\", \"Transmission\", \"Brakes\", \"Suspension\", \"Tires\", \"Exhaust\", \"Interior\", \"Exterior\"]\n",
    "\n",
    "# Árak tartománya\n",
    "min_price = 1000\n",
    "max_price = 50000\n",
    "\n",
    "# Államok listája\n",
    "states = [\"Alabama\", \"Alaska\", \"Arizona\", \"Arkansas\", \"California\", \"Colorado\", \"Connecticut\", \"Delaware\", \"Florida\", \"Georgia\", \"Hawaii\", \"Idaho\", \"Illinois\", \"Indiana\", \"Iowa\", \"Kansas\", \"Kentucky\", \"Louisiana\", \"Maine\", \"Maryland\", \"Massachusetts\", \"Michigan\", \"Minnesota\", \"Mississippi\", \"Missouri\", \"Montana\", \"Nebraska\", \"Nevada\", \"New Hampshire\", \"New Jersey\", \"New Mexico\", \"New York\", \"North Carolina\", \"North Dakota\", \"Ohio\", \"Oklahoma\", \"Oregon\", \"Pennsylvania\", \"Rhode Island\", \"South Carolina\", \"South Dakota\", \"Tennessee\", \"Texas\", \"Utah\", \"Vermont\", \"Virginia\", \"Washington\", \"West Virginia\", \"Wisconsin\", \"Wyoming\"]\n",
    "\n",
    "# Színek listája\n",
    "colors = [\"White\", \"Black\", \"Gray\", \"Silver\", \"Red\", \"Blue\", \"Green\", \"Yellow\", \"Orange\"]\n",
    "\n",
    "# Fájl megnyitása írásra\n",
    "with open(\"/home/g14/uni/sze_python_programozas/data/usa_cars.txt\", \"w\") as f:\n",
    "    # Generáljunk 1000 autót és alkatrészt\n",
    "    for i in range(1000):\n",
    "        # Véletlenszerűen válasszunk egy márkát és típust\n",
    "        brand = random.choice(brands)\n",
    "        part = random.choice(parts)\n",
    "        \n",
    "        # Véletlenszerűen generáljuk az évjáratot, árat, államot és színt\n",
    "        year = random.randint(1990, 2023)\n",
    "        price = random.randint(min_price, max_price)\n",
    "        state = random.choice(states)\n",
    "        color = random.choice(colors)\n",
    "        \n",
    "        # Írjuk ki az adatot a fájlba\n",
    "        f.write(f\"{brand},{year},{price},{state},{color},{part}\\n\")\n"
   ]
  }
 ],
 "metadata": {
  "kernelspec": {
   "display_name": "Python 3",
   "language": "python",
   "name": "python3"
  },
  "language_info": {
   "codemirror_mode": {
    "name": "ipython",
    "version": 3
   },
   "file_extension": ".py",
   "mimetype": "text/x-python",
   "name": "python",
   "nbconvert_exporter": "python",
   "pygments_lexer": "ipython3",
   "version": "3.10.6"
  },
  "orig_nbformat": 4
 },
 "nbformat": 4,
 "nbformat_minor": 2
}
