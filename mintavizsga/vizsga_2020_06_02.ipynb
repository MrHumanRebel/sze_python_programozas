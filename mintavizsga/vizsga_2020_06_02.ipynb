{
 "cells": [
  {
   "attachments": {},
   "cell_type": "markdown",
   "metadata": {},
   "source": [
    "# 1. feladat [8p]\n",
    "\n",
    "Az a. b.c egész számok pitagoraszi számhármast alkotnak. ha a2 + 52 = c2. A numbers lista pozitív egész számokat tartalmaz. Készítsünk programot. amely megadja. hogy található-e pitagoraszi számhármas a numbers listában, és ha igen, akkor melyik pitagoraszi számhármasban a legnagyobb a c szám számjegyeinek az összege! A program ne csak a megadott numbers listára működjön. hanem tetszőleges. ugyanilyen formátumú bemenetre is! "
   ]
  },
  {
   "cell_type": "code",
   "execution_count": null,
   "metadata": {},
   "outputs": [],
   "source": [
    "numbers = [ 2, 3, 4, S, 6, 7, 8, 11, 12, 13, 14, 15, 16, 17, 19, 23, 24, 25, 29, 31 ]\n"
   ]
  },
  {
   "attachments": {},
   "cell_type": "markdown",
   "metadata": {},
   "source": [
    "# 2. feladat [12p] \n",
    "A soccer.txt szövegfájl európai első osztályú labdarúgó mérkőzésekről tartalmaz adatokat. a 2015-16-os szezonból. Az utolsó 9 oszlop fogadóirodák odds-ait tartalmazza hazai csapat győzelmére ( 8365H • BwH • IWH ), a döntetlenre ( 63650. 8WD . IWD ) ill. a vendégcsapat győzelmére ( 8365A . BWA . IwA ). Készitsünk programot, amely beolvassa a szövegfájl tartalmát, majd válaszol az alábbi kérdésekre! \n",
    "- Melyik bajnokságban ( country ) mennyi volt a mérkőzésenkénti gólátlag?\n",
    "- Melyik fogadóiroda adta átlagosan a legmagasabb odds-okat a hazai csapat győzelméért? \n",
    "- Melyik bajnokságban született a legtöbb döntetlen?\n",
    "- A13365 fogadóiroda szerint melyik eredmény volt a legváratlanabb (azaz a legmagasabb odds értékű)? \n"
   ]
  }
 ],
 "metadata": {
  "language_info": {
   "name": "python"
  },
  "orig_nbformat": 4
 },
 "nbformat": 4,
 "nbformat_minor": 2
}
