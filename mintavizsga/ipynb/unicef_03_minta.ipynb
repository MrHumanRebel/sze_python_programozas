{
 "cells": [
  {
   "cell_type": "markdown",
   "metadata": {},
   "source": [
    "### 1. feladat [6p]\n",
    "\n",
    "Készíts (teljeskörűen paraméterezett) függvényt, amely bemenetként megkapja pozitív egész számok egy nemüres listáját, és visszaadja a lista azon elemét, amelyikben a számjegyek összege a legnagyobb. Hívd meg a függvényt a `[245, 1132, 98, 465, 14231, 7854, 2542]` listával és írd ki a kapott eredményt!"
   ]
  },
  {
   "cell_type": "code",
   "execution_count": null,
   "metadata": {},
   "outputs": [],
   "source": [
    "def sum_numplaces(list):\n",
    "    max = 0\n",
    "    for item in list:\n",
    "        sum = 0\n",
    "        item = str(item)\n",
    "        for i in range(len(item)):\n",
    "            sum += int(item[i])\n",
    "        if sum > max:\n",
    "            max = sum\n",
    "            num = item\n",
    "    return num\n",
    "            \n",
    "sum_numplaces([245, 1132, 98, 465, 14231, 7854, 2542])"
   ]
  },
  {
   "cell_type": "markdown",
   "metadata": {},
   "source": [
    "### 2. feladat [8p]\n",
    "Az `edges` lista kitalált személyekből képezett párokat tartalmaz. Egy pár azt jelenti, hogy az adott személyek ismeri egymást. Készíts függvényt, amely egy adott, ilyen felépítésű listára meghatározza azt a 2 személyt, akiknek a legtöbb közös ismerősük van! Ha több ilyen személypár is lenne, akkor az egyik ilyen pár legyen az eredmény! Hívd meg a függvényt az `edges` listára és írd ki a kapott eredményeket!"
   ]
  },
  {
   "cell_type": "code",
   "execution_count": null,
   "metadata": {},
   "outputs": [],
   "source": [
    "edges = [\n",
    "    (\"Adél\", \"Dezső\"), (\"Géza\", \"Mihály\"), (\"Károly\", \"Adél\"), (\"Antal\", \"Mihály\"), (\"Károly\", \"Sára\"),\n",
    "    (\"Mihály\", \"Vilma\"), (\"Dezső\", \"Vilma\"), (\"Vilma\", \"Antal\"), (\"Károly\", \"Mihály\"), (\"Elvira\", \"Adél\"),\n",
    "    (\"Izabella\", \"Adél\"), (\"Mihály\", \"Izabella\"), (\"Géza\", \"Vilma\"), (\"Károly\", \"Elvira\"), (\"Elvira\", \"Mihály\"),\n",
    "    (\"Géza\", \"Dezső\"), (\"Sára\", \"Adél\"), (\"Géza\", \"Adél\"), (\"Géza\", \"Izabella\"), (\"Izabella\", \"Dezső\")    \n",
    "]"
   ]
  },
  {
   "cell_type": "code",
   "execution_count": null,
   "metadata": {},
   "outputs": [],
   "source": [
    "def friends(edges):\n",
    "    array = len(edges)\n",
    "    persons = {}\n",
    "    for item in edges:\n",
    "        for name in item:\n",
    "            if name not in persons:\n",
    "                persons[name] = 1\n",
    "            else:\n",
    "                persons[name] += 1\n",
    "    persons = sorted(persons.items(), key=lambda x: x[1], reverse=True)\n",
    "    print(f'A legtöbb barátja van: {persons[0][0]} ({persons[0][1]} fő)')\n",
    "    \n",
    "friends(edges)   "
   ]
  },
  {
   "cell_type": "markdown",
   "metadata": {},
   "source": [
    "### 3. feladat [10p]\n",
    "\n",
    "Az [unicef.txt](unicef.txt) szövegfájl a világ 5 év alatti népességének élelmezési helyzetéről tartalmaz adatokat. Az egyes sorok felméréseknek felelnek meg, a felmérések országonként időbeli sorrendben vannak felsorolva. Készíts programot, amely beolvassa az `unicef.txt` tartalmát, minden országra kiválasztja a legfrissebb felmérést, majd a legfrissebb felmérések alapján kiírja az alábbi statisztikákat:\n",
    "\n",
    "1. Az országok hányadrészében magasabb az `Underweight` indikátor az `Overweight` indikátornál?\n",
    "2. Mely 5 országban a legmagasabb a `Severe Wasting` indikátor?\n",
    "3. Régiónként (`United Nations Region`) mekkora a 20%-nál nagyobb `Stunting` indikátorral rendelkező országok aránya."
   ]
  },
  {
   "attachments": {},
   "cell_type": "markdown",
   "metadata": {},
   "source": [
    "# Pandas"
   ]
  },
  {
   "cell_type": "code",
   "execution_count": null,
   "metadata": {},
   "outputs": [],
   "source": [
    "import pandas as pd\n",
    "\n",
    "df = pd.read_csv('C:\\\\Users\\\\Dorián\\\\PycharmProjects\\\\PythonVizsgaFelkészülés1Feladatok\\\\tables\\\\unicef.txt', sep='|')\n",
    "\n",
    "df2 = df.groupby('Country').last()#Legfrissebb adatok kinyerése\n",
    "#print(df.info())\n",
    "\n",
    "#1. Az országok hányadrészében magasabb az Underweight indikátor az Overweight indikátornál?\n",
    "print((df2['Underweight']>df2['Overweight']).mean())\n",
    "\n",
    "#2. Mely 5 országban a legmagasabb a Severe Wasting indikátor?\n",
    "print(df2['Severe Wasting'].sort_values(ascending=False).head(5))\n",
    "\n",
    "#3. Régiónként (United Nations Region) mekkora a 20%-nál nagyobb Stunting indikátorral\n",
    "# rendelkező országok aránya.\n",
    "df2['Stunting'] = df2['Stunting'].str.replace(',', '.').astype(float) #Stunting oszlop object-ről float típusúvá alakítása.\n",
    "print((df2['Stunting']>20).groupby(df2['United Nations Region']).mean())\n",
    "\n",
    "\n",
    "#4. Hol a legalacsonyabb a túlsúlyos gyerekek aránya a 10%-nál alacsonyabb Wasting és Stunting indikátorral\n",
    "#rendelkező országok között?\n",
    "df2['Stunting'] = df2['Stunting'].str.replace(',', '.').astype(float) #Stunting oszlop object-ről float típusúvá alakítása.\n",
    "df2['Wasting'] = df2['Wasting'].str.replace(',', '.').astype(float) #Wasting oszlop object-ről float típusúvá alakítása.\n",
    "df2['Overweight'] = df2['Overweight'].str.replace(',', '.').astype(float) #Overweight oszlop object-ről float típusúvá alakítása.\n",
    "print(df2[(df2['Wasting']<10) & (df2['Stunting']<10)][\"Overweight\"].idxmin())"
   ]
  },
  {
   "cell_type": "markdown",
   "metadata": {},
   "source": [
    "# Manuális nem pontos megoldás"
   ]
  },
  {
   "cell_type": "code",
   "execution_count": null,
   "metadata": {},
   "outputs": [],
   "source": [
    "filename = '/home/g14/uni/sze_python_programozas/data/unicef.txt'\n",
    "\n",
    "def get_unicef(filename):\n",
    "    with open(filename, 'r') as f:\n",
    "        # skip the first line\n",
    "        f.readline()\n",
    "        lines = f.readlines()\n",
    "        # read into a list  split by | return the list \n",
    "        lines = [line.split('|') for line in lines]    \n",
    "        # remove the newline character from the last element of each line\n",
    "        for line in lines:\n",
    "            line[-1] = line[-1].strip()\n",
    "            continue\n",
    "        data = [] \n",
    "        for line in lines:\n",
    "            data.append(line[0:11]) \n",
    "        return data\n",
    "\n",
    "def get_latest(datas):\n",
    "    latest_data = []\n",
    "    array = len(datas)\n",
    "    for i in range(len(datas)):\n",
    "        current = datas[i][0]\n",
    "        if i == array - 1:\n",
    "            latest_data.append(datas[i])\n",
    "            break   \n",
    "        next = datas[i+1][0]\n",
    "        #print(f'Current: {current}')\n",
    "        #print(f'Next: {next}')\n",
    "        if next != current:\n",
    "            latest_data.append(datas[i])\n",
    "        else:\n",
    "            continue\n",
    "    return latest_data\n",
    "\n",
    "def underw_bigger_overw(datas):\n",
    "    counter = 0\n",
    "    alldata = len(datas)    \n",
    "    for data in datas:\n",
    "        data\n",
    "        if data[9] == '' or data[10] == '':\n",
    "            continue\n",
    "        else:\n",
    "            underw = float(data[9].replace(',', '.'))\n",
    "            overw = float(data[10].replace(',', '.'))\n",
    "        if underw > overw:\n",
    "            counter += 1\n",
    "        else:\n",
    "            continue\n",
    "    percentage = counter / alldata * 100\n",
    "    print(f'{percentage:.2f}%')\n",
    "\n",
    "def get_stunting(datas):\n",
    "    counter = 0\n",
    "    alldata = len(datas)\n",
    "    regions = {}\n",
    "    for data in datas:\n",
    "        if data[1] not in regions:\n",
    "            regions[data[1]] = 1\n",
    "        else:\n",
    "            regions[data[1]] += 1\n",
    "    regions = list(regions.keys())\n",
    "    for region in regions:\n",
    "        for data in datas:\n",
    "            if data[1] == region:\n",
    "                if data[8] == '':\n",
    "                    continue\n",
    "                if float(data[8].replace(',', '.')) > 20.0:\n",
    "                    counter += 1\n",
    "    percentage = counter / alldata * 100\n",
    "    print(f'{percentage:.2f}%')\n",
    "        \n",
    "\n",
    "def top5_sevwast(datas):\n",
    "    datas = sorted(datas, key=lambda x: x[7], reverse=True)\n",
    "    for i in range(5):\n",
    "        print(datas[i][0])\n",
    "  \n",
    "\n",
    "data = get_unicef(filename)\n",
    "data = get_latest(data)\n",
    "underw_bigger_overw(data)\n",
    "top5_sevwast(data)\n",
    "get_stunting(data)"
   ]
  }
 ],
 "metadata": {
  "kernelspec": {
   "display_name": "Python 3",
   "language": "python",
   "name": "python3"
  },
  "language_info": {
   "codemirror_mode": {
    "name": "ipython",
    "version": 3
   },
   "file_extension": ".py",
   "mimetype": "text/x-python",
   "name": "python",
   "nbconvert_exporter": "python",
   "pygments_lexer": "ipython3",
   "version": "3.10.6"
  }
 },
 "nbformat": 4,
 "nbformat_minor": 2
}
