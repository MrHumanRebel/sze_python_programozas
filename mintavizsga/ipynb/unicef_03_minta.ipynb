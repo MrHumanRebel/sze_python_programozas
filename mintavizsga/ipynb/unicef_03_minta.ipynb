{
 "cells": [
  {
   "cell_type": "markdown",
   "metadata": {},
   "source": [
    "### 1. feladat [6p]\n",
    "\n",
    "Készíts (teljeskörűen paraméterezett) függvényt, amely bemenetként megkapja pozitív egész számok egy nemüres listáját, és visszaadja a lista azon elemét, amelyikben a számjegyek összege a legnagyobb. Hívd meg a függvényt a `[245, 1132, 98, 465, 14231, 7854, 2542]` listával és írd ki a kapott eredményt!"
   ]
  },
  {
   "cell_type": "code",
   "execution_count": 1,
   "metadata": {},
   "outputs": [
    {
     "data": {
      "text/plain": [
       "'7854'"
      ]
     },
     "execution_count": 1,
     "metadata": {},
     "output_type": "execute_result"
    }
   ],
   "source": [
    "def sum_numplaces(list):\n",
    "    max = 0\n",
    "    for item in list:\n",
    "        sum = 0\n",
    "        item = str(item)\n",
    "        for i in range(len(item)):\n",
    "            sum += int(item[i])\n",
    "        if sum > max:\n",
    "            max = sum\n",
    "            num = item\n",
    "    return num\n",
    "            \n",
    "sum_numplaces([245, 1132, 98, 465, 14231, 7854, 2542])"
   ]
  },
  {
   "cell_type": "markdown",
   "metadata": {},
   "source": [
    "### 2. feladat [8p]\n",
    "Az `edges` lista kitalált személyekből képezett párokat tartalmaz. Egy pár azt jelenti, hogy az adott személyek ismeri egymást. Készíts függvényt, amely egy adott, ilyen felépítésű listára meghatározza azt a 2 személyt, akiknek a legtöbb közös ismerősük van! Ha több ilyen személypár is lenne, akkor az egyik ilyen pár legyen az eredmény! Hívd meg a függvényt az `edges` listára és írd ki a kapott eredményeket!"
   ]
  },
  {
   "cell_type": "code",
   "execution_count": 2,
   "metadata": {},
   "outputs": [],
   "source": [
    "edges = [\n",
    "    (\"Adél\", \"Dezső\"), (\"Géza\", \"Mihály\"), (\"Károly\", \"Adél\"), (\"Antal\", \"Mihály\"), (\"Károly\", \"Sára\"),\n",
    "    (\"Mihály\", \"Vilma\"), (\"Dezső\", \"Vilma\"), (\"Vilma\", \"Antal\"), (\"Károly\", \"Mihály\"), (\"Elvira\", \"Adél\"),\n",
    "    (\"Izabella\", \"Adél\"), (\"Mihály\", \"Izabella\"), (\"Géza\", \"Vilma\"), (\"Károly\", \"Elvira\"), (\"Elvira\", \"Mihály\"),\n",
    "    (\"Géza\", \"Dezső\"), (\"Sára\", \"Adél\"), (\"Géza\", \"Adél\"), (\"Géza\", \"Izabella\"), (\"Izabella\", \"Dezső\")    \n",
    "]"
   ]
  },
  {
   "cell_type": "code",
   "execution_count": 3,
   "metadata": {},
   "outputs": [
    {
     "name": "stdout",
     "output_type": "stream",
     "text": [
      "A legtöbb barátja van: Adél (6 fő)\n"
     ]
    }
   ],
   "source": [
    "def friends(edges):\n",
    "    array = len(edges)\n",
    "    persons = {}\n",
    "    for item in edges:\n",
    "        for name in item:\n",
    "            if name not in persons:\n",
    "                persons[name] = 1\n",
    "            else:\n",
    "                persons[name] += 1\n",
    "    persons = sorted(persons.items(), key=lambda x: x[1], reverse=True)\n",
    "    print(f'A legtöbb barátja van: {persons[0][0]} ({persons[0][1]} fő)')\n",
    "    \n",
    "friends(edges)   "
   ]
  },
  {
   "cell_type": "markdown",
   "metadata": {},
   "source": [
    "### 3. feladat [10p]\n",
    "\n",
    "Az [unicef.txt](unicef.txt) szövegfájl a világ 5 év alatti népességének élelmezési helyzetéről tartalmaz adatokat. Az egyes sorok felméréseknek felelnek meg, a felmérések országonként időbeli sorrendben vannak felsorolva. Készíts programot, amely beolvassa az `unicef.txt` tartalmát, minden országra kiválasztja a legfrissebb felmérést, majd a legfrissebb felmérések alapján kiírja az alábbi statisztikákat:\n",
    "\n",
    "1. Az országok hányadrészében magasabb az `Underweight` indikátor az `Overweight` indikátornál?\n",
    "2. Mely 5 országban a legmagasabb a `Severe Wasting` indikátor?\n",
    "3. Régiónként (`United Nations Region`) mekkora a 20%-nál nagyobb `Stunting` indikátorral rendelkező országok aránya."
   ]
  },
  {
   "attachments": {},
   "cell_type": "markdown",
   "metadata": {},
   "source": [
    "# Pandas"
   ]
  },
  {
   "cell_type": "code",
   "execution_count": 4,
   "metadata": {},
   "outputs": [
    {
     "ename": "FileNotFoundError",
     "evalue": "[Errno 2] No such file or directory: 'C:\\\\Users\\\\Dorián\\\\PycharmProjects\\\\PythonVizsgaFelkészülés1Feladatok\\\\tables\\\\unicef.txt'",
     "output_type": "error",
     "traceback": [
      "\u001b[0;31m---------------------------------------------------------------------------\u001b[0m",
      "\u001b[0;31mFileNotFoundError\u001b[0m                         Traceback (most recent call last)",
      "Cell \u001b[0;32mIn[4], line 3\u001b[0m\n\u001b[1;32m      1\u001b[0m \u001b[39mimport\u001b[39;00m \u001b[39mpandas\u001b[39;00m \u001b[39mas\u001b[39;00m \u001b[39mpd\u001b[39;00m\n\u001b[0;32m----> 3\u001b[0m df \u001b[39m=\u001b[39m pd\u001b[39m.\u001b[39;49mread_csv(\u001b[39m'\u001b[39;49m\u001b[39mC:\u001b[39;49m\u001b[39m\\\\\u001b[39;49;00m\u001b[39mUsers\u001b[39;49m\u001b[39m\\\\\u001b[39;49;00m\u001b[39mDorián\u001b[39;49m\u001b[39m\\\\\u001b[39;49;00m\u001b[39mPycharmProjects\u001b[39;49m\u001b[39m\\\\\u001b[39;49;00m\u001b[39mPythonVizsgaFelkészülés1Feladatok\u001b[39;49m\u001b[39m\\\\\u001b[39;49;00m\u001b[39mtables\u001b[39;49m\u001b[39m\\\\\u001b[39;49;00m\u001b[39municef.txt\u001b[39;49m\u001b[39m'\u001b[39;49m, sep\u001b[39m=\u001b[39;49m\u001b[39m'\u001b[39;49m\u001b[39m|\u001b[39;49m\u001b[39m'\u001b[39;49m)\n\u001b[1;32m      5\u001b[0m df2 \u001b[39m=\u001b[39m df\u001b[39m.\u001b[39mgroupby(\u001b[39m'\u001b[39m\u001b[39mCountry\u001b[39m\u001b[39m'\u001b[39m)\u001b[39m.\u001b[39mlast()\u001b[39m#Legfrissebb adatok kinyerése\u001b[39;00m\n\u001b[1;32m      6\u001b[0m \u001b[39m#print(df.info())\u001b[39;00m\n\u001b[1;32m      7\u001b[0m \n\u001b[1;32m      8\u001b[0m \u001b[39m#1. Az országok hányadrészében magasabb az Underweight indikátor az Overweight indikátornál?\u001b[39;00m\n",
      "File \u001b[0;32m~/.local/lib/python3.10/site-packages/pandas/util/_decorators.py:211\u001b[0m, in \u001b[0;36mdeprecate_kwarg.<locals>._deprecate_kwarg.<locals>.wrapper\u001b[0;34m(*args, **kwargs)\u001b[0m\n\u001b[1;32m    209\u001b[0m     \u001b[39melse\u001b[39;00m:\n\u001b[1;32m    210\u001b[0m         kwargs[new_arg_name] \u001b[39m=\u001b[39m new_arg_value\n\u001b[0;32m--> 211\u001b[0m \u001b[39mreturn\u001b[39;00m func(\u001b[39m*\u001b[39;49margs, \u001b[39m*\u001b[39;49m\u001b[39m*\u001b[39;49mkwargs)\n",
      "File \u001b[0;32m~/.local/lib/python3.10/site-packages/pandas/util/_decorators.py:331\u001b[0m, in \u001b[0;36mdeprecate_nonkeyword_arguments.<locals>.decorate.<locals>.wrapper\u001b[0;34m(*args, **kwargs)\u001b[0m\n\u001b[1;32m    325\u001b[0m \u001b[39mif\u001b[39;00m \u001b[39mlen\u001b[39m(args) \u001b[39m>\u001b[39m num_allow_args:\n\u001b[1;32m    326\u001b[0m     warnings\u001b[39m.\u001b[39mwarn(\n\u001b[1;32m    327\u001b[0m         msg\u001b[39m.\u001b[39mformat(arguments\u001b[39m=\u001b[39m_format_argument_list(allow_args)),\n\u001b[1;32m    328\u001b[0m         \u001b[39mFutureWarning\u001b[39;00m,\n\u001b[1;32m    329\u001b[0m         stacklevel\u001b[39m=\u001b[39mfind_stack_level(),\n\u001b[1;32m    330\u001b[0m     )\n\u001b[0;32m--> 331\u001b[0m \u001b[39mreturn\u001b[39;00m func(\u001b[39m*\u001b[39;49margs, \u001b[39m*\u001b[39;49m\u001b[39m*\u001b[39;49mkwargs)\n",
      "File \u001b[0;32m~/.local/lib/python3.10/site-packages/pandas/io/parsers/readers.py:950\u001b[0m, in \u001b[0;36mread_csv\u001b[0;34m(filepath_or_buffer, sep, delimiter, header, names, index_col, usecols, squeeze, prefix, mangle_dupe_cols, dtype, engine, converters, true_values, false_values, skipinitialspace, skiprows, skipfooter, nrows, na_values, keep_default_na, na_filter, verbose, skip_blank_lines, parse_dates, infer_datetime_format, keep_date_col, date_parser, dayfirst, cache_dates, iterator, chunksize, compression, thousands, decimal, lineterminator, quotechar, quoting, doublequote, escapechar, comment, encoding, encoding_errors, dialect, error_bad_lines, warn_bad_lines, on_bad_lines, delim_whitespace, low_memory, memory_map, float_precision, storage_options)\u001b[0m\n\u001b[1;32m    935\u001b[0m kwds_defaults \u001b[39m=\u001b[39m _refine_defaults_read(\n\u001b[1;32m    936\u001b[0m     dialect,\n\u001b[1;32m    937\u001b[0m     delimiter,\n\u001b[0;32m   (...)\u001b[0m\n\u001b[1;32m    946\u001b[0m     defaults\u001b[39m=\u001b[39m{\u001b[39m\"\u001b[39m\u001b[39mdelimiter\u001b[39m\u001b[39m\"\u001b[39m: \u001b[39m\"\u001b[39m\u001b[39m,\u001b[39m\u001b[39m\"\u001b[39m},\n\u001b[1;32m    947\u001b[0m )\n\u001b[1;32m    948\u001b[0m kwds\u001b[39m.\u001b[39mupdate(kwds_defaults)\n\u001b[0;32m--> 950\u001b[0m \u001b[39mreturn\u001b[39;00m _read(filepath_or_buffer, kwds)\n",
      "File \u001b[0;32m~/.local/lib/python3.10/site-packages/pandas/io/parsers/readers.py:605\u001b[0m, in \u001b[0;36m_read\u001b[0;34m(filepath_or_buffer, kwds)\u001b[0m\n\u001b[1;32m    602\u001b[0m _validate_names(kwds\u001b[39m.\u001b[39mget(\u001b[39m\"\u001b[39m\u001b[39mnames\u001b[39m\u001b[39m\"\u001b[39m, \u001b[39mNone\u001b[39;00m))\n\u001b[1;32m    604\u001b[0m \u001b[39m# Create the parser.\u001b[39;00m\n\u001b[0;32m--> 605\u001b[0m parser \u001b[39m=\u001b[39m TextFileReader(filepath_or_buffer, \u001b[39m*\u001b[39;49m\u001b[39m*\u001b[39;49mkwds)\n\u001b[1;32m    607\u001b[0m \u001b[39mif\u001b[39;00m chunksize \u001b[39mor\u001b[39;00m iterator:\n\u001b[1;32m    608\u001b[0m     \u001b[39mreturn\u001b[39;00m parser\n",
      "File \u001b[0;32m~/.local/lib/python3.10/site-packages/pandas/io/parsers/readers.py:1442\u001b[0m, in \u001b[0;36mTextFileReader.__init__\u001b[0;34m(self, f, engine, **kwds)\u001b[0m\n\u001b[1;32m   1439\u001b[0m     \u001b[39mself\u001b[39m\u001b[39m.\u001b[39moptions[\u001b[39m\"\u001b[39m\u001b[39mhas_index_names\u001b[39m\u001b[39m\"\u001b[39m] \u001b[39m=\u001b[39m kwds[\u001b[39m\"\u001b[39m\u001b[39mhas_index_names\u001b[39m\u001b[39m\"\u001b[39m]\n\u001b[1;32m   1441\u001b[0m \u001b[39mself\u001b[39m\u001b[39m.\u001b[39mhandles: IOHandles \u001b[39m|\u001b[39m \u001b[39mNone\u001b[39;00m \u001b[39m=\u001b[39m \u001b[39mNone\u001b[39;00m\n\u001b[0;32m-> 1442\u001b[0m \u001b[39mself\u001b[39m\u001b[39m.\u001b[39m_engine \u001b[39m=\u001b[39m \u001b[39mself\u001b[39;49m\u001b[39m.\u001b[39;49m_make_engine(f, \u001b[39mself\u001b[39;49m\u001b[39m.\u001b[39;49mengine)\n",
      "File \u001b[0;32m~/.local/lib/python3.10/site-packages/pandas/io/parsers/readers.py:1735\u001b[0m, in \u001b[0;36mTextFileReader._make_engine\u001b[0;34m(self, f, engine)\u001b[0m\n\u001b[1;32m   1733\u001b[0m     \u001b[39mif\u001b[39;00m \u001b[39m\"\u001b[39m\u001b[39mb\u001b[39m\u001b[39m\"\u001b[39m \u001b[39mnot\u001b[39;00m \u001b[39min\u001b[39;00m mode:\n\u001b[1;32m   1734\u001b[0m         mode \u001b[39m+\u001b[39m\u001b[39m=\u001b[39m \u001b[39m\"\u001b[39m\u001b[39mb\u001b[39m\u001b[39m\"\u001b[39m\n\u001b[0;32m-> 1735\u001b[0m \u001b[39mself\u001b[39m\u001b[39m.\u001b[39mhandles \u001b[39m=\u001b[39m get_handle(\n\u001b[1;32m   1736\u001b[0m     f,\n\u001b[1;32m   1737\u001b[0m     mode,\n\u001b[1;32m   1738\u001b[0m     encoding\u001b[39m=\u001b[39;49m\u001b[39mself\u001b[39;49m\u001b[39m.\u001b[39;49moptions\u001b[39m.\u001b[39;49mget(\u001b[39m\"\u001b[39;49m\u001b[39mencoding\u001b[39;49m\u001b[39m\"\u001b[39;49m, \u001b[39mNone\u001b[39;49;00m),\n\u001b[1;32m   1739\u001b[0m     compression\u001b[39m=\u001b[39;49m\u001b[39mself\u001b[39;49m\u001b[39m.\u001b[39;49moptions\u001b[39m.\u001b[39;49mget(\u001b[39m\"\u001b[39;49m\u001b[39mcompression\u001b[39;49m\u001b[39m\"\u001b[39;49m, \u001b[39mNone\u001b[39;49;00m),\n\u001b[1;32m   1740\u001b[0m     memory_map\u001b[39m=\u001b[39;49m\u001b[39mself\u001b[39;49m\u001b[39m.\u001b[39;49moptions\u001b[39m.\u001b[39;49mget(\u001b[39m\"\u001b[39;49m\u001b[39mmemory_map\u001b[39;49m\u001b[39m\"\u001b[39;49m, \u001b[39mFalse\u001b[39;49;00m),\n\u001b[1;32m   1741\u001b[0m     is_text\u001b[39m=\u001b[39;49mis_text,\n\u001b[1;32m   1742\u001b[0m     errors\u001b[39m=\u001b[39;49m\u001b[39mself\u001b[39;49m\u001b[39m.\u001b[39;49moptions\u001b[39m.\u001b[39;49mget(\u001b[39m\"\u001b[39;49m\u001b[39mencoding_errors\u001b[39;49m\u001b[39m\"\u001b[39;49m, \u001b[39m\"\u001b[39;49m\u001b[39mstrict\u001b[39;49m\u001b[39m\"\u001b[39;49m),\n\u001b[1;32m   1743\u001b[0m     storage_options\u001b[39m=\u001b[39;49m\u001b[39mself\u001b[39;49m\u001b[39m.\u001b[39;49moptions\u001b[39m.\u001b[39;49mget(\u001b[39m\"\u001b[39;49m\u001b[39mstorage_options\u001b[39;49m\u001b[39m\"\u001b[39;49m, \u001b[39mNone\u001b[39;49;00m),\n\u001b[1;32m   1744\u001b[0m )\n\u001b[1;32m   1745\u001b[0m \u001b[39massert\u001b[39;00m \u001b[39mself\u001b[39m\u001b[39m.\u001b[39mhandles \u001b[39mis\u001b[39;00m \u001b[39mnot\u001b[39;00m \u001b[39mNone\u001b[39;00m\n\u001b[1;32m   1746\u001b[0m f \u001b[39m=\u001b[39m \u001b[39mself\u001b[39m\u001b[39m.\u001b[39mhandles\u001b[39m.\u001b[39mhandle\n",
      "File \u001b[0;32m~/.local/lib/python3.10/site-packages/pandas/io/common.py:856\u001b[0m, in \u001b[0;36mget_handle\u001b[0;34m(path_or_buf, mode, encoding, compression, memory_map, is_text, errors, storage_options)\u001b[0m\n\u001b[1;32m    851\u001b[0m \u001b[39melif\u001b[39;00m \u001b[39misinstance\u001b[39m(handle, \u001b[39mstr\u001b[39m):\n\u001b[1;32m    852\u001b[0m     \u001b[39m# Check whether the filename is to be opened in binary mode.\u001b[39;00m\n\u001b[1;32m    853\u001b[0m     \u001b[39m# Binary mode does not support 'encoding' and 'newline'.\u001b[39;00m\n\u001b[1;32m    854\u001b[0m     \u001b[39mif\u001b[39;00m ioargs\u001b[39m.\u001b[39mencoding \u001b[39mand\u001b[39;00m \u001b[39m\"\u001b[39m\u001b[39mb\u001b[39m\u001b[39m\"\u001b[39m \u001b[39mnot\u001b[39;00m \u001b[39min\u001b[39;00m ioargs\u001b[39m.\u001b[39mmode:\n\u001b[1;32m    855\u001b[0m         \u001b[39m# Encoding\u001b[39;00m\n\u001b[0;32m--> 856\u001b[0m         handle \u001b[39m=\u001b[39m \u001b[39mopen\u001b[39;49m(\n\u001b[1;32m    857\u001b[0m             handle,\n\u001b[1;32m    858\u001b[0m             ioargs\u001b[39m.\u001b[39;49mmode,\n\u001b[1;32m    859\u001b[0m             encoding\u001b[39m=\u001b[39;49mioargs\u001b[39m.\u001b[39;49mencoding,\n\u001b[1;32m    860\u001b[0m             errors\u001b[39m=\u001b[39;49merrors,\n\u001b[1;32m    861\u001b[0m             newline\u001b[39m=\u001b[39;49m\u001b[39m\"\u001b[39;49m\u001b[39m\"\u001b[39;49m,\n\u001b[1;32m    862\u001b[0m         )\n\u001b[1;32m    863\u001b[0m     \u001b[39melse\u001b[39;00m:\n\u001b[1;32m    864\u001b[0m         \u001b[39m# Binary mode\u001b[39;00m\n\u001b[1;32m    865\u001b[0m         handle \u001b[39m=\u001b[39m \u001b[39mopen\u001b[39m(handle, ioargs\u001b[39m.\u001b[39mmode)\n",
      "\u001b[0;31mFileNotFoundError\u001b[0m: [Errno 2] No such file or directory: 'C:\\\\Users\\\\Dorián\\\\PycharmProjects\\\\PythonVizsgaFelkészülés1Feladatok\\\\tables\\\\unicef.txt'"
     ]
    }
   ],
   "source": [
    "import pandas as pd\n",
    "\n",
    "df = pd.read_csv('C:\\\\Users\\\\Dorián\\\\PycharmProjects\\\\PythonVizsgaFelkészülés1Feladatok\\\\tables\\\\unicef.txt', sep='|')\n",
    "\n",
    "df2 = df.groupby('Country').last()#Legfrissebb adatok kinyerése\n",
    "#print(df.info())\n",
    "\n",
    "#1. Az országok hányadrészében magasabb az Underweight indikátor az Overweight indikátornál?\n",
    "print((df2['Underweight']>df2['Overweight']).mean())\n",
    "\n",
    "#2. Mely 5 országban a legmagasabb a Severe Wasting indikátor?\n",
    "print(df2['Severe Wasting'].sort_values(ascending=False).head(5))\n",
    "\n",
    "#3. Régiónként (United Nations Region) mekkora a 20%-nál nagyobb Stunting indikátorral\n",
    "# rendelkező országok aránya.\n",
    "df2['Stunting'] = df2['Stunting'].str.replace(',', '.').astype(float) #Stunting oszlop object-ről float típusúvá alakítása.\n",
    "print((df2['Stunting']>20).groupby(df2['United Nations Region']).mean())\n",
    "\n",
    "\n",
    "#4. Hol a legalacsonyabb a túlsúlyos gyerekek aránya a 10%-nál alacsonyabb Wasting és Stunting indikátorral\n",
    "#rendelkező országok között?\n",
    "df2['Stunting'] = df2['Stunting'].str.replace(',', '.').astype(float) #Stunting oszlop object-ről float típusúvá alakítása.\n",
    "df2['Wasting'] = df2['Wasting'].str.replace(',', '.').astype(float) #Wasting oszlop object-ről float típusúvá alakítása.\n",
    "df2['Overweight'] = df2['Overweight'].str.replace(',', '.').astype(float) #Overweight oszlop object-ről float típusúvá alakítása.\n",
    "print(df2[(df2['Wasting']<10) & (df2['Stunting']<10)][\"Overweight\"].idxmin())"
   ]
  },
  {
   "cell_type": "markdown",
   "metadata": {},
   "source": [
    "# Manuális nem pontos megoldás"
   ]
  },
  {
   "cell_type": "code",
   "execution_count": null,
   "metadata": {},
   "outputs": [
    {
     "name": "stdout",
     "output_type": "stream",
     "text": [
      "50.00%\n",
      "CAMBODIA\n",
      "NEPAL\n",
      "AFGHANISTAN\n",
      "EGYPT\n",
      "SIERRA LEONE\n",
      "47.37%\n"
     ]
    }
   ],
   "source": [
    "filename = '/home/g14/uni/sze_python_programozas/data/unicef.txt'\n",
    "\n",
    "def get_unicef(filename):\n",
    "    with open(filename, 'r') as f:\n",
    "        # skip the first line\n",
    "        f.readline()\n",
    "        lines = f.readlines()\n",
    "        # read into a list  split by | return the list \n",
    "        lines = [line.split('|') for line in lines]    \n",
    "        # remove the newline character from the last element of each line\n",
    "        for line in lines:\n",
    "            line[-1] = line[-1].strip()\n",
    "            continue\n",
    "        data = [] \n",
    "        for line in lines:\n",
    "            data.append(line[0:11]) \n",
    "        return data\n",
    "\n",
    "def get_latest(datas):\n",
    "    latest_data = []\n",
    "    array = len(datas)\n",
    "    for i in range(len(datas)):\n",
    "        current = datas[i][0]\n",
    "        if i == array - 1:\n",
    "            latest_data.append(datas[i])\n",
    "            break   \n",
    "        next = datas[i+1][0]\n",
    "        #print(f'Current: {current}')\n",
    "        #print(f'Next: {next}')\n",
    "        if next != current:\n",
    "            latest_data.append(datas[i])\n",
    "        else:\n",
    "            continue\n",
    "    return latest_data\n",
    "\n",
    "def underw_bigger_overw(datas):\n",
    "    counter = 0\n",
    "    alldata = len(datas)    \n",
    "    for data in datas:\n",
    "        data\n",
    "        if data[9] == '' or data[10] == '':\n",
    "            continue\n",
    "        else:\n",
    "            underw = float(data[9].replace(',', '.'))\n",
    "            overw = float(data[10].replace(',', '.'))\n",
    "        if underw > overw:\n",
    "            counter += 1\n",
    "        else:\n",
    "            continue\n",
    "    percentage = counter / alldata * 100\n",
    "    print(f'{percentage:.2f}%')\n",
    "\n",
    "def get_stunting(datas):\n",
    "    counter = 0\n",
    "    alldata = len(datas)\n",
    "    regions = {}\n",
    "    for data in datas:\n",
    "        if data[1] not in regions:\n",
    "            regions[data[1]] = 1\n",
    "        else:\n",
    "            regions[data[1]] += 1\n",
    "    regions = list(regions.keys())\n",
    "    for region in regions:\n",
    "        for data in datas:\n",
    "            if data[1] == region:\n",
    "                if data[8] == '':\n",
    "                    continue\n",
    "                if float(data[8].replace(',', '.')) > 20.0:\n",
    "                    counter += 1\n",
    "    percentage = counter / alldata * 100\n",
    "    print(f'{percentage:.2f}%')\n",
    "        \n",
    "\n",
    "def top5_sevwast(datas):\n",
    "    datas = sorted(datas, key=lambda x: x[7], reverse=True)\n",
    "    for i in range(5):\n",
    "        print(datas[i][0])\n",
    "  \n",
    "\n",
    "data = get_unicef(filename)\n",
    "data = get_latest(data)\n",
    "underw_bigger_overw(data)\n",
    "top5_sevwast(data)\n",
    "get_stunting(data)"
   ]
  }
 ],
 "metadata": {
  "kernelspec": {
   "display_name": "Python 3",
   "language": "python",
   "name": "python3"
  },
  "language_info": {
   "codemirror_mode": {
    "name": "ipython",
    "version": 3
   },
   "file_extension": ".py",
   "mimetype": "text/x-python",
   "name": "python",
   "nbconvert_exporter": "python",
   "pygments_lexer": "ipython3",
   "version": "3.10.6"
  }
 },
 "nbformat": 4,
 "nbformat_minor": 2
}
