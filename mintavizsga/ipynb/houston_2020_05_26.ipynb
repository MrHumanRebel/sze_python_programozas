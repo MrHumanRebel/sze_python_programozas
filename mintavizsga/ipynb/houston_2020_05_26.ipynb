{
 "cells": [
  {
   "attachments": {},
   "cell_type": "markdown",
   "metadata": {},
   "source": [
    "# 1. feladat [8 p]\n",
    "\n",
    "A words lista sztringeket tartalmaz. Készítsünk programot, amely megadja, hogy az angol ABC melyik betűje fordul elő a legtöbb szóban! A program ne tegyen különbséget a kis- és nagybetűk között, illetve ne csak a megadott words listára működjön, hanem tetszőleges, ugyanilyen formátumú bemenetre is!"
   ]
  },
  {
   "cell_type": "code",
   "execution_count": 1,
   "metadata": {},
   "outputs": [
    {
     "name": "stdout",
     "output_type": "stream",
     "text": [
      "('a', 22)\n"
     ]
    }
   ],
   "source": [
    "words = [\n",
    "    'Apple', 'Apricot', 'Avocado', 'Banana', 'Blueberry',\n",
    "    'Cherry', 'Coconut', 'Grape', 'Grapefruit', 'Fig',\n",
    "    'Kiwi', 'Lemon', 'Lime', 'Mandarin', 'Mango',\n",
    "    'Melon','Nectarine', 'Orange', 'Papaya', 'Peach',\n",
    "    'Pear', 'Pineapple', 'Plum', 'Raspberry', 'Strawberry'\n",
    "]\n",
    "\n",
    "\n",
    "words = [word.lower() for word in words]\n",
    "letters = {}\n",
    "\n",
    "for item in words:\n",
    "    for letter in item:\n",
    "        if letter in letters:\n",
    "            letters[letter] += 1\n",
    "        else:\n",
    "            letters[letter] = 1\n",
    "letters = sorted(letters.items(), key=lambda x: x[1], reverse=True)\n",
    "print(letters[0])"
   ]
  },
  {
   "attachments": {},
   "cell_type": "markdown",
   "metadata": {},
   "source": [
    "# 2. feladat [12 p]\n",
    "\n",
    "A houston.txt szövegfájl a texasi Houston időjárásról tartalmaz napi bontású adatokat. A hőmérséklet értékek (* _hőm) Fahrenheit-fokban, a csapadék mennyiségének értékei (* _csap) hüvelyben vannak megadva. A rekordok és az év adott napjához tartozó átlagok az 1880 óta eltelt időszakra vonatkoznak. észítsünk programot, amely beolvassa a szövegfájl tartalmát, majd válaszol a következő kérdésekre:\n",
    "\n",
    "- Mikor volt a legnagyobb az eltérés a napi maximális és a napi minimális hőmérséklet között?\n",
    "- Celcius fokban kifejezve mennyi volt a legalancsonyabb és legmagasabb hőmérséklet, amit Houstonban valaha mértek? (C = (F - 32) * 5/9) Melyik évben mérték ezt?\n",
    "- Melyik hónapban mennyi volt az összes csapadék mm-ben? (1 hüvely = 25.4 mm)"
   ]
  },
  {
   "attachments": {},
   "cell_type": "markdown",
   "metadata": {},
   "source": [
    "# Pandas"
   ]
  },
  {
   "cell_type": "code",
   "execution_count": 2,
   "metadata": {},
   "outputs": [
    {
     "ename": "FileNotFoundError",
     "evalue": "[Errno 2] No such file or directory: 'C:\\\\Users\\\\Dorián\\\\PycharmProjects\\\\PythonVizsgaFelkészülés1Feladatok\\\\tables\\\\houston.txt'",
     "output_type": "error",
     "traceback": [
      "\u001b[0;31m---------------------------------------------------------------------------\u001b[0m",
      "\u001b[0;31mFileNotFoundError\u001b[0m                         Traceback (most recent call last)",
      "Cell \u001b[0;32mIn[2], line 3\u001b[0m\n\u001b[1;32m      1\u001b[0m \u001b[39mimport\u001b[39;00m \u001b[39mpandas\u001b[39;00m \u001b[39mas\u001b[39;00m \u001b[39mpd\u001b[39;00m\n\u001b[0;32m----> 3\u001b[0m df \u001b[39m=\u001b[39m pd\u001b[39m.\u001b[39;49mread_csv(\u001b[39m'\u001b[39;49m\u001b[39mC:\u001b[39;49m\u001b[39m\\\\\u001b[39;49;00m\u001b[39mUsers\u001b[39;49m\u001b[39m\\\\\u001b[39;49;00m\u001b[39mDorián\u001b[39;49m\u001b[39m\\\\\u001b[39;49;00m\u001b[39mPycharmProjects\u001b[39;49m\u001b[39m\\\\\u001b[39;49;00m\u001b[39mPythonVizsgaFelkészülés1Feladatok\u001b[39;49m\u001b[39m\\\\\u001b[39;49;00m\u001b[39mtables\u001b[39;49m\u001b[39m\\\\\u001b[39;49;00m\u001b[39mhouston.txt\u001b[39;49m\u001b[39m'\u001b[39;49m, sep\u001b[39m=\u001b[39;49m\u001b[39m'\u001b[39;49m\u001b[39m|\u001b[39;49m\u001b[39m'\u001b[39;49m, skiprows\u001b[39m=\u001b[39;49m\u001b[39m3\u001b[39;49m)\n\u001b[1;32m      4\u001b[0m \u001b[39m#print(df.info())\u001b[39;00m\n\u001b[1;32m      5\u001b[0m \n\u001b[1;32m      6\u001b[0m \u001b[39m#1. Mikor volt a legnagyobb az eltérés a napi maximális és a napi minimális hőmérséklet között?\u001b[39;00m\n\u001b[1;32m      8\u001b[0m df[\u001b[39m'\u001b[39m\u001b[39mhőmkül\u001b[39m\u001b[39m'\u001b[39m] \u001b[39m=\u001b[39m \u001b[39mabs\u001b[39m(df[\u001b[39m'\u001b[39m\u001b[39mnapi_min_hőm\u001b[39m\u001b[39m'\u001b[39m]\u001b[39m-\u001b[39mdf[\u001b[39m'\u001b[39m\u001b[39mnapi_max_hőm\u001b[39m\u001b[39m'\u001b[39m])\u001b[39m#Hőmérséklet különbségek abszolútértéke\u001b[39;00m\n",
      "File \u001b[0;32m~/.local/lib/python3.10/site-packages/pandas/util/_decorators.py:211\u001b[0m, in \u001b[0;36mdeprecate_kwarg.<locals>._deprecate_kwarg.<locals>.wrapper\u001b[0;34m(*args, **kwargs)\u001b[0m\n\u001b[1;32m    209\u001b[0m     \u001b[39melse\u001b[39;00m:\n\u001b[1;32m    210\u001b[0m         kwargs[new_arg_name] \u001b[39m=\u001b[39m new_arg_value\n\u001b[0;32m--> 211\u001b[0m \u001b[39mreturn\u001b[39;00m func(\u001b[39m*\u001b[39;49margs, \u001b[39m*\u001b[39;49m\u001b[39m*\u001b[39;49mkwargs)\n",
      "File \u001b[0;32m~/.local/lib/python3.10/site-packages/pandas/util/_decorators.py:331\u001b[0m, in \u001b[0;36mdeprecate_nonkeyword_arguments.<locals>.decorate.<locals>.wrapper\u001b[0;34m(*args, **kwargs)\u001b[0m\n\u001b[1;32m    325\u001b[0m \u001b[39mif\u001b[39;00m \u001b[39mlen\u001b[39m(args) \u001b[39m>\u001b[39m num_allow_args:\n\u001b[1;32m    326\u001b[0m     warnings\u001b[39m.\u001b[39mwarn(\n\u001b[1;32m    327\u001b[0m         msg\u001b[39m.\u001b[39mformat(arguments\u001b[39m=\u001b[39m_format_argument_list(allow_args)),\n\u001b[1;32m    328\u001b[0m         \u001b[39mFutureWarning\u001b[39;00m,\n\u001b[1;32m    329\u001b[0m         stacklevel\u001b[39m=\u001b[39mfind_stack_level(),\n\u001b[1;32m    330\u001b[0m     )\n\u001b[0;32m--> 331\u001b[0m \u001b[39mreturn\u001b[39;00m func(\u001b[39m*\u001b[39;49margs, \u001b[39m*\u001b[39;49m\u001b[39m*\u001b[39;49mkwargs)\n",
      "File \u001b[0;32m~/.local/lib/python3.10/site-packages/pandas/io/parsers/readers.py:950\u001b[0m, in \u001b[0;36mread_csv\u001b[0;34m(filepath_or_buffer, sep, delimiter, header, names, index_col, usecols, squeeze, prefix, mangle_dupe_cols, dtype, engine, converters, true_values, false_values, skipinitialspace, skiprows, skipfooter, nrows, na_values, keep_default_na, na_filter, verbose, skip_blank_lines, parse_dates, infer_datetime_format, keep_date_col, date_parser, dayfirst, cache_dates, iterator, chunksize, compression, thousands, decimal, lineterminator, quotechar, quoting, doublequote, escapechar, comment, encoding, encoding_errors, dialect, error_bad_lines, warn_bad_lines, on_bad_lines, delim_whitespace, low_memory, memory_map, float_precision, storage_options)\u001b[0m\n\u001b[1;32m    935\u001b[0m kwds_defaults \u001b[39m=\u001b[39m _refine_defaults_read(\n\u001b[1;32m    936\u001b[0m     dialect,\n\u001b[1;32m    937\u001b[0m     delimiter,\n\u001b[0;32m   (...)\u001b[0m\n\u001b[1;32m    946\u001b[0m     defaults\u001b[39m=\u001b[39m{\u001b[39m\"\u001b[39m\u001b[39mdelimiter\u001b[39m\u001b[39m\"\u001b[39m: \u001b[39m\"\u001b[39m\u001b[39m,\u001b[39m\u001b[39m\"\u001b[39m},\n\u001b[1;32m    947\u001b[0m )\n\u001b[1;32m    948\u001b[0m kwds\u001b[39m.\u001b[39mupdate(kwds_defaults)\n\u001b[0;32m--> 950\u001b[0m \u001b[39mreturn\u001b[39;00m _read(filepath_or_buffer, kwds)\n",
      "File \u001b[0;32m~/.local/lib/python3.10/site-packages/pandas/io/parsers/readers.py:605\u001b[0m, in \u001b[0;36m_read\u001b[0;34m(filepath_or_buffer, kwds)\u001b[0m\n\u001b[1;32m    602\u001b[0m _validate_names(kwds\u001b[39m.\u001b[39mget(\u001b[39m\"\u001b[39m\u001b[39mnames\u001b[39m\u001b[39m\"\u001b[39m, \u001b[39mNone\u001b[39;00m))\n\u001b[1;32m    604\u001b[0m \u001b[39m# Create the parser.\u001b[39;00m\n\u001b[0;32m--> 605\u001b[0m parser \u001b[39m=\u001b[39m TextFileReader(filepath_or_buffer, \u001b[39m*\u001b[39;49m\u001b[39m*\u001b[39;49mkwds)\n\u001b[1;32m    607\u001b[0m \u001b[39mif\u001b[39;00m chunksize \u001b[39mor\u001b[39;00m iterator:\n\u001b[1;32m    608\u001b[0m     \u001b[39mreturn\u001b[39;00m parser\n",
      "File \u001b[0;32m~/.local/lib/python3.10/site-packages/pandas/io/parsers/readers.py:1442\u001b[0m, in \u001b[0;36mTextFileReader.__init__\u001b[0;34m(self, f, engine, **kwds)\u001b[0m\n\u001b[1;32m   1439\u001b[0m     \u001b[39mself\u001b[39m\u001b[39m.\u001b[39moptions[\u001b[39m\"\u001b[39m\u001b[39mhas_index_names\u001b[39m\u001b[39m\"\u001b[39m] \u001b[39m=\u001b[39m kwds[\u001b[39m\"\u001b[39m\u001b[39mhas_index_names\u001b[39m\u001b[39m\"\u001b[39m]\n\u001b[1;32m   1441\u001b[0m \u001b[39mself\u001b[39m\u001b[39m.\u001b[39mhandles: IOHandles \u001b[39m|\u001b[39m \u001b[39mNone\u001b[39;00m \u001b[39m=\u001b[39m \u001b[39mNone\u001b[39;00m\n\u001b[0;32m-> 1442\u001b[0m \u001b[39mself\u001b[39m\u001b[39m.\u001b[39m_engine \u001b[39m=\u001b[39m \u001b[39mself\u001b[39;49m\u001b[39m.\u001b[39;49m_make_engine(f, \u001b[39mself\u001b[39;49m\u001b[39m.\u001b[39;49mengine)\n",
      "File \u001b[0;32m~/.local/lib/python3.10/site-packages/pandas/io/parsers/readers.py:1735\u001b[0m, in \u001b[0;36mTextFileReader._make_engine\u001b[0;34m(self, f, engine)\u001b[0m\n\u001b[1;32m   1733\u001b[0m     \u001b[39mif\u001b[39;00m \u001b[39m\"\u001b[39m\u001b[39mb\u001b[39m\u001b[39m\"\u001b[39m \u001b[39mnot\u001b[39;00m \u001b[39min\u001b[39;00m mode:\n\u001b[1;32m   1734\u001b[0m         mode \u001b[39m+\u001b[39m\u001b[39m=\u001b[39m \u001b[39m\"\u001b[39m\u001b[39mb\u001b[39m\u001b[39m\"\u001b[39m\n\u001b[0;32m-> 1735\u001b[0m \u001b[39mself\u001b[39m\u001b[39m.\u001b[39mhandles \u001b[39m=\u001b[39m get_handle(\n\u001b[1;32m   1736\u001b[0m     f,\n\u001b[1;32m   1737\u001b[0m     mode,\n\u001b[1;32m   1738\u001b[0m     encoding\u001b[39m=\u001b[39;49m\u001b[39mself\u001b[39;49m\u001b[39m.\u001b[39;49moptions\u001b[39m.\u001b[39;49mget(\u001b[39m\"\u001b[39;49m\u001b[39mencoding\u001b[39;49m\u001b[39m\"\u001b[39;49m, \u001b[39mNone\u001b[39;49;00m),\n\u001b[1;32m   1739\u001b[0m     compression\u001b[39m=\u001b[39;49m\u001b[39mself\u001b[39;49m\u001b[39m.\u001b[39;49moptions\u001b[39m.\u001b[39;49mget(\u001b[39m\"\u001b[39;49m\u001b[39mcompression\u001b[39;49m\u001b[39m\"\u001b[39;49m, \u001b[39mNone\u001b[39;49;00m),\n\u001b[1;32m   1740\u001b[0m     memory_map\u001b[39m=\u001b[39;49m\u001b[39mself\u001b[39;49m\u001b[39m.\u001b[39;49moptions\u001b[39m.\u001b[39;49mget(\u001b[39m\"\u001b[39;49m\u001b[39mmemory_map\u001b[39;49m\u001b[39m\"\u001b[39;49m, \u001b[39mFalse\u001b[39;49;00m),\n\u001b[1;32m   1741\u001b[0m     is_text\u001b[39m=\u001b[39;49mis_text,\n\u001b[1;32m   1742\u001b[0m     errors\u001b[39m=\u001b[39;49m\u001b[39mself\u001b[39;49m\u001b[39m.\u001b[39;49moptions\u001b[39m.\u001b[39;49mget(\u001b[39m\"\u001b[39;49m\u001b[39mencoding_errors\u001b[39;49m\u001b[39m\"\u001b[39;49m, \u001b[39m\"\u001b[39;49m\u001b[39mstrict\u001b[39;49m\u001b[39m\"\u001b[39;49m),\n\u001b[1;32m   1743\u001b[0m     storage_options\u001b[39m=\u001b[39;49m\u001b[39mself\u001b[39;49m\u001b[39m.\u001b[39;49moptions\u001b[39m.\u001b[39;49mget(\u001b[39m\"\u001b[39;49m\u001b[39mstorage_options\u001b[39;49m\u001b[39m\"\u001b[39;49m, \u001b[39mNone\u001b[39;49;00m),\n\u001b[1;32m   1744\u001b[0m )\n\u001b[1;32m   1745\u001b[0m \u001b[39massert\u001b[39;00m \u001b[39mself\u001b[39m\u001b[39m.\u001b[39mhandles \u001b[39mis\u001b[39;00m \u001b[39mnot\u001b[39;00m \u001b[39mNone\u001b[39;00m\n\u001b[1;32m   1746\u001b[0m f \u001b[39m=\u001b[39m \u001b[39mself\u001b[39m\u001b[39m.\u001b[39mhandles\u001b[39m.\u001b[39mhandle\n",
      "File \u001b[0;32m~/.local/lib/python3.10/site-packages/pandas/io/common.py:856\u001b[0m, in \u001b[0;36mget_handle\u001b[0;34m(path_or_buf, mode, encoding, compression, memory_map, is_text, errors, storage_options)\u001b[0m\n\u001b[1;32m    851\u001b[0m \u001b[39melif\u001b[39;00m \u001b[39misinstance\u001b[39m(handle, \u001b[39mstr\u001b[39m):\n\u001b[1;32m    852\u001b[0m     \u001b[39m# Check whether the filename is to be opened in binary mode.\u001b[39;00m\n\u001b[1;32m    853\u001b[0m     \u001b[39m# Binary mode does not support 'encoding' and 'newline'.\u001b[39;00m\n\u001b[1;32m    854\u001b[0m     \u001b[39mif\u001b[39;00m ioargs\u001b[39m.\u001b[39mencoding \u001b[39mand\u001b[39;00m \u001b[39m\"\u001b[39m\u001b[39mb\u001b[39m\u001b[39m\"\u001b[39m \u001b[39mnot\u001b[39;00m \u001b[39min\u001b[39;00m ioargs\u001b[39m.\u001b[39mmode:\n\u001b[1;32m    855\u001b[0m         \u001b[39m# Encoding\u001b[39;00m\n\u001b[0;32m--> 856\u001b[0m         handle \u001b[39m=\u001b[39m \u001b[39mopen\u001b[39;49m(\n\u001b[1;32m    857\u001b[0m             handle,\n\u001b[1;32m    858\u001b[0m             ioargs\u001b[39m.\u001b[39;49mmode,\n\u001b[1;32m    859\u001b[0m             encoding\u001b[39m=\u001b[39;49mioargs\u001b[39m.\u001b[39;49mencoding,\n\u001b[1;32m    860\u001b[0m             errors\u001b[39m=\u001b[39;49merrors,\n\u001b[1;32m    861\u001b[0m             newline\u001b[39m=\u001b[39;49m\u001b[39m\"\u001b[39;49m\u001b[39m\"\u001b[39;49m,\n\u001b[1;32m    862\u001b[0m         )\n\u001b[1;32m    863\u001b[0m     \u001b[39melse\u001b[39;00m:\n\u001b[1;32m    864\u001b[0m         \u001b[39m# Binary mode\u001b[39;00m\n\u001b[1;32m    865\u001b[0m         handle \u001b[39m=\u001b[39m \u001b[39mopen\u001b[39m(handle, ioargs\u001b[39m.\u001b[39mmode)\n",
      "\u001b[0;31mFileNotFoundError\u001b[0m: [Errno 2] No such file or directory: 'C:\\\\Users\\\\Dorián\\\\PycharmProjects\\\\PythonVizsgaFelkészülés1Feladatok\\\\tables\\\\houston.txt'"
     ]
    }
   ],
   "source": [
    "import pandas as pd\n",
    "\n",
    "df = pd.read_csv('C:\\\\Users\\\\Dorián\\\\PycharmProjects\\\\PythonVizsgaFelkészülés1Feladatok\\\\tables\\\\houston.txt', sep='|', skiprows=3)\n",
    "#print(df.info())\n",
    "\n",
    "#1. Mikor volt a legnagyobb az eltérés a napi maximális és a napi minimális hőmérséklet között?\n",
    "\n",
    "df['hőmkül'] = abs(df['napi_min_hőm']-df['napi_max_hőm'])#Hőmérséklet különbségek abszolútértéke\n",
    "maxhömkülindex = df['hőmkül'].idxmax() #Megkeressük a hőmérsékletek közül a maximális értéknek az indexét.\n",
    "print('Dátum:', df.loc[maxhömkülindex]['dátum'], 'Maximális eltérés:', max(df['hőmkül'])) #Vissza adjuk az index szerinti sort.\n",
    "\n",
    "#2. Celcius fokban kifejezve mennyi volt a legalacsonyabb és legmagasabb hőmérséklet,\n",
    "# amit Houstonban valaha mértek? (C = (F - 32) * 5/9) Melyik évben mérték ezt?\n",
    "\n",
    "rekordmin = df['rekord_min_hőm'].min()\n",
    "rekordmin = ((rekordmin-32)* (5/9))\n",
    "rekordminidx = df['rekord_min_hőm'].idxmin()\n",
    "rekordminev = df.loc[rekordminidx]['rekord_min_hőm_év']\n",
    "print(f'A rekord minimum hőmérséklet: {rekordmin}°C méghozzá {rekordminev}. évben')\n",
    "\n",
    "rekordmax = df['rekord_max_hőm'].max()\n",
    "rekordmax = ((rekordmax-32)* (5/9))\n",
    "rekordmaxidx = df['rekord_max_hőm'].idxmax()\n",
    "rekordmaxev = df.loc[rekordmaxidx]['rekord_max_hőm_év']\n",
    "print(f'A rekord maximum hőmérséklet: {rekordmax}°C méghozzá a {rekordmaxev}. évben')\n",
    "\n",
    "#3. Melyik hónapban mennyi volt az összes csapadék mm-ben? (1 hüvely = 25.4 mm)\n",
    "import datetime as dt\n",
    "\n",
    "df['napi_csap_mm'] = df['napi_csap']*25.4 #Napi csapadék mennyiség hüvelyben.\n",
    "df['honap'] = pd.to_datetime(df['dátum']).dt.month #Hónap oszlop létrehozása és dátum oszlop dátummá alakítása.\n",
    "honapok = df.groupby(\"honap\").sum()[\"napi_csap_mm\"]#Havi csapadékmennyiségek összeadása.\n",
    "print(honapok)\n"
   ]
  },
  {
   "cell_type": "markdown",
   "metadata": {},
   "source": [
    "# Manuális nem pontos megoldás"
   ]
  },
  {
   "cell_type": "code",
   "execution_count": null,
   "metadata": {},
   "outputs": [
    {
     "name": "stdout",
     "output_type": "stream",
     "text": [
      " A legnagyobb különbség 2015-3-4 napon volt, a különbség 40.00 volt\n",
      " A legkisebb hőmérséklet: -15.00 volt, amit 2015-1-18 napon mértünk\n",
      " A legnagyobb hőmérséklet: 42.78 volt, amit 2014-8-27 napon mértünk\n",
      "{'2014-7': 96.26600000000003, '2014-8': 95.50399999999999, '2014-9': 104.64800000000008, '2014-10': 144.78, '2014-11': 110.236, '2014-12': 94.99600000000002, '2015-1': 85.85199999999996, '2015-2': 81.28, '2015-3': 86.61399999999999, '2015-4': 84.074, '2015-5': 129.28599999999994, '2015-6': 150.62199999999996}\n"
     ]
    }
   ],
   "source": [
    "filename = '/home/g14/uni/sze_python_programozas/data/houston.txt'\n",
    "\n",
    "def get_data(filename):\n",
    "    with open(filename, 'r') as f:\n",
    "        # skip the first four line\n",
    "        for i in range(4):\n",
    "            f.readline()\n",
    "        lines = f.readlines()\n",
    "        # read into a list  split by | return the list \n",
    "        lines = [line.split('|') for line in lines]    \n",
    "        # remove the newline character from the last element of each line\n",
    "        for line in lines:\n",
    "            line[-1] = line[-1].strip()\n",
    "            continue\n",
    "        data = [] \n",
    "        for line in lines:\n",
    "            data.append(line) \n",
    "        return data\n",
    "\n",
    "def maxdiff(data):\n",
    "    diff = 0\n",
    "    idx = 0\n",
    "    counter = 0\n",
    "    for item in data:\n",
    "        act_diff = abs(float(item[2]) - float(item[3]))\n",
    "        if act_diff > diff:\n",
    "            diff = act_diff\n",
    "            idx = counter\n",
    "        counter += 1\n",
    "    print(f' A legnagyobb különbség {data[idx][0]} napon volt, a különbség {diff:.2f} volt')\n",
    "\n",
    "def minmax(data):\n",
    "    min_temp = 1000\n",
    "    max_temp = -1000\n",
    "    min_idx = 0\n",
    "    max_idx = 0\n",
    "    counter = 0\n",
    "    for item in data:\n",
    "        if float(item[6]) < min_temp:\n",
    "            min_temp = float(item[6])\n",
    "            min_idx = counter\n",
    "        if float(item[7]) > max_temp:\n",
    "            max_temp = float(item[7])\n",
    "            max_idx = counter\n",
    "        counter += 1\n",
    "    min_temp = (min_temp-32) * 5/9\n",
    "    max_temp = (max_temp-32) * 5/9\n",
    "    print(f' A legkisebb hőmérséklet: {min_temp:.2f} volt, amit {data[min_idx][0]} napon mértünk')\n",
    "    print(f' A legnagyobb hőmérséklet: {max_temp:.2f} volt, amit {data[max_idx][0]} napon mértünk')\n",
    "\n",
    "\n",
    "def rain_by_moth(data):\n",
    "    desired_data = {}\n",
    "    for item in data:\n",
    "        year = item[0].split('-')[0]\n",
    "        month = item[0].split('-')[1]\n",
    "        date = year + '-' + month\n",
    "        if date not in desired_data:\n",
    "            desired_data[date] = float(item[11]) * 25.4\n",
    "        else:\n",
    "            desired_data[date] += float(item[11]) * 25.4\n",
    "    print(desired_data)\n",
    "        \n",
    "\n",
    "data = get_data(filename)\n",
    "maxdiff(data)\n",
    "minmax(data)\n",
    "rain_by_moth(data)\n"
   ]
  }
 ],
 "metadata": {
  "kernelspec": {
   "display_name": "Python 3",
   "language": "python",
   "name": "python3"
  },
  "language_info": {
   "codemirror_mode": {
    "name": "ipython",
    "version": 3
   },
   "file_extension": ".py",
   "mimetype": "text/x-python",
   "name": "python",
   "nbconvert_exporter": "python",
   "pygments_lexer": "ipython3",
   "version": "3.10.6"
  },
  "orig_nbformat": 4
 },
 "nbformat": 4,
 "nbformat_minor": 2
}
