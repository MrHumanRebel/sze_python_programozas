{
 "cells": [
  {
   "attachments": {},
   "cell_type": "markdown",
   "metadata": {},
   "source": [
    "# 1. feladat [8 p]\n",
    "\n",
    "A words lista sztringeket tartalmaz. Készítsünk programot, amely megadja, hogy az angol ABC melyik betűje fordul elő a legtöbb szóban! A program ne tegyen különbséget a kis- és nagybetűk között, illetve ne csak a megadott words listára működjön, hanem tetszőleges, ugyanilyen formátumú bemenetre is!"
   ]
  },
  {
   "cell_type": "code",
   "execution_count": null,
   "metadata": {},
   "outputs": [],
   "source": [
    "words = [\n",
    "    'Apple', 'Apricot', 'Avocado', 'Banana', 'Blueberry',\n",
    "    'Cherry', 'Coconut', 'Grape', 'Grapefruit', 'Fig',\n",
    "    'Kiwi', 'Lemon', 'Lime', 'Mandarin', 'Mango',\n",
    "    'Melon','Nectarine', 'Orange', 'Papaya', 'Peach',\n",
    "    'Pear', 'Pineapple', 'Plum', 'Raspberry', 'Strawberry'\n",
    "]\n",
    "\n",
    "\n",
    "words = [word.lower() for word in words]\n",
    "letters = {}\n",
    "\n",
    "for item in words:\n",
    "    for letter in item:\n",
    "        if letter in letters:\n",
    "            letters[letter] += 1\n",
    "        else:\n",
    "            letters[letter] = 1\n",
    "letters = sorted(letters.items(), key=lambda x: x[1], reverse=True)\n",
    "print(letters[0])"
   ]
  },
  {
   "attachments": {},
   "cell_type": "markdown",
   "metadata": {},
   "source": [
    "# 2. feladat [12 p]\n",
    "\n",
    "A houston.txt szövegfájl a texasi Houston időjárásról tartalmaz napi bontású adatokat. A hőmérséklet értékek (* _hőm) Fahrenheit-fokban, a csapadék mennyiségének értékei (* _csap) hüvelyben vannak megadva. A rekordok és az év adott napjához tartozó átlagok az 1880 óta eltelt időszakra vonatkoznak. észítsünk programot, amely beolvassa a szövegfájl tartalmát, majd válaszol a következő kérdésekre:\n",
    "\n",
    "- Mikor volt a legnagyobb az eltérés a napi maximális és a napi minimális hőmérséklet között?\n",
    "- Celcius fokban kifejezve mennyi volt a legalancsonyabb és legmagasabb hőmérséklet, amit Houstonban valaha mértek? (C = (F - 32) * 5/9) Melyik évben mérték ezt?\n",
    "- Melyik hónapban mennyi volt az összes csapadék mm-ben? (1 hüvely = 25.4 mm)"
   ]
  },
  {
   "attachments": {},
   "cell_type": "markdown",
   "metadata": {},
   "source": [
    "# Pandas"
   ]
  },
  {
   "cell_type": "code",
   "execution_count": null,
   "metadata": {},
   "outputs": [],
   "source": [
    "import pandas as pd\n",
    "\n",
    "df = pd.read_csv('C:\\\\Users\\\\Dorián\\\\PycharmProjects\\\\PythonVizsgaFelkészülés1Feladatok\\\\tables\\\\houston.txt', sep='|', skiprows=3)\n",
    "#print(df.info())\n",
    "\n",
    "#1. Mikor volt a legnagyobb az eltérés a napi maximális és a napi minimális hőmérséklet között?\n",
    "\n",
    "df['hőmkül'] = abs(df['napi_min_hőm']-df['napi_max_hőm'])#Hőmérséklet különbségek abszolútértéke\n",
    "maxhömkülindex = df['hőmkül'].idxmax() #Megkeressük a hőmérsékletek közül a maximális értéknek az indexét.\n",
    "print('Dátum:', df.loc[maxhömkülindex]['dátum'], 'Maximális eltérés:', max(df['hőmkül'])) #Vissza adjuk az index szerinti sort.\n",
    "\n",
    "#2. Celcius fokban kifejezve mennyi volt a legalacsonyabb és legmagasabb hőmérséklet,\n",
    "# amit Houstonban valaha mértek? (C = (F - 32) * 5/9) Melyik évben mérték ezt?\n",
    "\n",
    "rekordmin = df['rekord_min_hőm'].min()\n",
    "rekordmin = ((rekordmin-32)* (5/9))\n",
    "rekordminidx = df['rekord_min_hőm'].idxmin()\n",
    "rekordminev = df.loc[rekordminidx]['rekord_min_hőm_év']\n",
    "print(f'A rekord minimum hőmérséklet: {rekordmin}°C méghozzá {rekordminev}. évben')\n",
    "\n",
    "rekordmax = df['rekord_max_hőm'].max()\n",
    "rekordmax = ((rekordmax-32)* (5/9))\n",
    "rekordmaxidx = df['rekord_max_hőm'].idxmax()\n",
    "rekordmaxev = df.loc[rekordmaxidx]['rekord_max_hőm_év']\n",
    "print(f'A rekord maximum hőmérséklet: {rekordmax}°C méghozzá a {rekordmaxev}. évben')\n",
    "\n",
    "#3. Melyik hónapban mennyi volt az összes csapadék mm-ben? (1 hüvely = 25.4 mm)\n",
    "import datetime as dt\n",
    "\n",
    "df['napi_csap_mm'] = df['napi_csap']*25.4 #Napi csapadék mennyiség hüvelyben.\n",
    "df['honap'] = pd.to_datetime(df['dátum']).dt.month #Hónap oszlop létrehozása és dátum oszlop dátummá alakítása.\n",
    "honapok = df.groupby(\"honap\").sum()[\"napi_csap_mm\"]#Havi csapadékmennyiségek összeadása.\n",
    "print(honapok)\n"
   ]
  },
  {
   "cell_type": "markdown",
   "metadata": {},
   "source": [
    "# Manuális nem pontos megoldás"
   ]
  },
  {
   "cell_type": "code",
   "execution_count": null,
   "metadata": {},
   "outputs": [],
   "source": [
    "filename = '/home/g14/uni/sze_python_programozas/data/houston.txt'\n",
    "\n",
    "def get_data(filename):\n",
    "    with open(filename, 'r') as f:\n",
    "        # skip the first four line\n",
    "        for i in range(4):\n",
    "            f.readline()\n",
    "        lines = f.readlines()\n",
    "        # read into a list  split by | return the list \n",
    "        lines = [line.split('|') for line in lines]    \n",
    "        # remove the newline character from the last element of each line\n",
    "        for line in lines:\n",
    "            line[-1] = line[-1].strip()\n",
    "            continue\n",
    "        data = [] \n",
    "        for line in lines:\n",
    "            data.append(line) \n",
    "        return data\n",
    "\n",
    "def maxdiff(data):\n",
    "    diff = 0\n",
    "    idx = 0\n",
    "    counter = 0\n",
    "    for item in data:\n",
    "        act_diff = abs(float(item[2]) - float(item[3]))\n",
    "        if act_diff > diff:\n",
    "            diff = act_diff\n",
    "            idx = counter\n",
    "        counter += 1\n",
    "    print(f' A legnagyobb különbség {data[idx][0]} napon volt, a különbség {diff:.2f} volt')\n",
    "\n",
    "def minmax(data):\n",
    "    min_temp = 1000\n",
    "    max_temp = -1000\n",
    "    min_idx = 0\n",
    "    max_idx = 0\n",
    "    counter = 0\n",
    "    for item in data:\n",
    "        if float(item[6]) < min_temp:\n",
    "            min_temp = float(item[6])\n",
    "            min_idx = counter\n",
    "        if float(item[7]) > max_temp:\n",
    "            max_temp = float(item[7])\n",
    "            max_idx = counter\n",
    "        counter += 1\n",
    "    min_temp = (min_temp-32) * 5/9\n",
    "    max_temp = (max_temp-32) * 5/9\n",
    "    print(f' A legkisebb hőmérséklet: {min_temp:.2f} volt, amit {data[min_idx][0]} napon mértünk')\n",
    "    print(f' A legnagyobb hőmérséklet: {max_temp:.2f} volt, amit {data[max_idx][0]} napon mértünk')\n",
    "\n",
    "\n",
    "def rain_by_moth(data):\n",
    "    desired_data = {}\n",
    "    for item in data:\n",
    "        year = item[0].split('-')[0]\n",
    "        month = item[0].split('-')[1]\n",
    "        date = year + '-' + month\n",
    "        if date not in desired_data:\n",
    "            desired_data[date] = float(item[11]) * 25.4\n",
    "        else:\n",
    "            desired_data[date] += float(item[11]) * 25.4\n",
    "    print(desired_data)\n",
    "        \n",
    "\n",
    "data = get_data(filename)\n",
    "maxdiff(data)\n",
    "minmax(data)\n",
    "rain_by_moth(data)\n"
   ]
  }
 ],
 "metadata": {
  "kernelspec": {
   "display_name": "Python 3",
   "language": "python",
   "name": "python3"
  },
  "language_info": {
   "codemirror_mode": {
    "name": "ipython",
    "version": 3
   },
   "file_extension": ".py",
   "mimetype": "text/x-python",
   "name": "python",
   "nbconvert_exporter": "python",
   "pygments_lexer": "ipython3",
   "version": "3.10.6"
  }
 },
 "nbformat": 4,
 "nbformat_minor": 2
}
