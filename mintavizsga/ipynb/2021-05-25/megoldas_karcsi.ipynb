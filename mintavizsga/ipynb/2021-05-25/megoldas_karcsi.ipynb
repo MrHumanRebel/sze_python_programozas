{
 "cells": [
  {
   "attachments": {},
   "cell_type": "markdown",
   "metadata": {},
   "source": [
    "#  1. feladat [14p]\n",
    "Az A , B , C , ..., Z betűk manókat jelölnek, a friends lista pedig megadja azokat párokat,\n",
    "akik ismerik egymást. Készítsünk programot, amely kiírja, hogy melyik manónak van a legtöbb\n",
    "olyan másodszintű ismerőse, aki nem elsőszintű ismerős! Elsőszintű ismerősöknek az\n",
    "ismerősöket, másodszintű ismerősöknek az ismerősök ismerőseit nevezzük. Holtverseny esetén\n",
    "elég egy manó nevét kiírni. A program ne csak a megadott friends listára működjön, hanem\n",
    "tetszőleges, ugyanilyen formátumú bemenetre is!"
   ]
  },
  {
   "cell_type": "code",
   "execution_count": 38,
   "metadata": {},
   "outputs": [
    {
     "name": "stdout",
     "output_type": "stream",
     "text": [
      "A legtöbb másodlagos ismerőssel rendelkező manó: A\n"
     ]
    }
   ],
   "source": [
    "friends = ['I-N', 'L-W', 'F-R', 'F-Z', 'B-D', 'L-Q', 'I-U', 'A-N', 'E-F', 'A-I',\n",
    " 'S-T', 'B-S', 'B-E', 'F-P', 'D-V', 'C-V', 'J-S', 'G-I', 'A-C', 'N-X',\n",
    " 'K-N', 'Q-Y', 'A-U', 'O-Z', 'S-U', 'E-L', 'B-V', 'Y-Z', 'H-O', 'D-U',\n",
    " 'A-K', 'F-W', 'N-T', 'H-T', 'R-T']\n",
    "\n",
    "def get_smurf_relations(smurf_pairs):\n",
    "    smurfs = [[smurf_pair.split(\"-\")[0], smurf_pair.split(\"-\")[1]] for smurf_pair in smurf_pairs]\n",
    "    smurf_names = sorted({smurf for smurf_pair in smurfs for smurf in smurf_pair})\n",
    "\n",
    "    relations = {smurf: set() for smurf in smurf_names}\n",
    "\n",
    "    for smurf_pair in smurf_pairs:\n",
    "        smurf = smurf_pair.split(\"-\")[0]\n",
    "        friend = smurf_pair.split(\"-\")[1]\n",
    "\n",
    "        relations[smurf].add(friend)\n",
    "        relations[friend].add(smurf)\n",
    "\n",
    "    return relations\n",
    "\n",
    "def get_friend_of_friends(relations):\n",
    "   smurfs = relations.keys()\n",
    "   friend_of_friends = {smurf: set() for smurf in smurfs}\n",
    "\n",
    "   for smurf in relations:\n",
    "      friends = relations[smurf]\n",
    "      \n",
    "      for friend in friends:\n",
    "         friend_of_friends[smurf].update(relations[friend])\n",
    "\n",
    "      friend_of_friends[smurf] = friend_of_friends[smurf].difference(relations[smurf])\n",
    "\n",
    "      if smurf in friend_of_friends[smurf]:\n",
    "        friend_of_friends[smurf].remove(smurf)\n",
    "\n",
    "   return friend_of_friends\n",
    "\n",
    "def main():\n",
    "    relations = get_smurf_relations(friends)\n",
    "\n",
    "    friend_of_friends = get_friend_of_friends(relations)\n",
    "    max_smurf = max(friend_of_friends, key=friend_of_friends.get)\n",
    "    print(f\"A legtöbb másodlagos ismerőssel rendelkező manó: {max_smurf}\")\n",
    "\n",
    "main()"
   ]
  },
  {
   "attachments": {},
   "cell_type": "markdown",
   "metadata": {},
   "source": [
    "# 2. feladat [10p]\n",
    "A covid19_stats.txt (covid19_stats.txt) szövegfájl a COVID-19 vírussal kapcsolatos statisztikákat\n",
    "tartalmaz a 2020.01.23 és 2021.05.11 közötti időszakból, országonkénti bontásban. Minden sor\n",
    "azt adja meg, hogy az adott napon az adott országban hány igazolt fertőzés történt ( Confirmed ), hányan gyógyultak meg ( Recovered ) illetve hányan hunytak el a vírus miatt ( Deaths ).\n",
    "Készítsünk programot, amely beolvassa a fájl tartalmát, majd válaszol az alábbi kérdésekre!\n",
    "1. Melyek azok az országok, ahol már 2020. januárjában megjelent a vírus?\n",
    "2. Az adathalmaz utolsó napján hány fertőzött volt Németországban ( Germany )?\n",
    "3. Hol volt a legmagasabb az elhunytak aránya a fertőzöttek számához viszonyítva?"
   ]
  },
  {
   "cell_type": "code",
   "execution_count": 9,
   "metadata": {},
   "outputs": [
    {
     "name": "stdout",
     "output_type": "stream",
     "text": [
      "1. feladat:\n",
      "Országok, ahol már 2020 januárjában megjelent a vírus: ['Australia' 'Cambodia' 'Canada' 'China' 'Finland' 'France' 'Germany'\n",
      " 'India' 'Italy' 'Japan' 'Korea, South' 'Malaysia' 'Nepal' 'Philippines'\n",
      " 'Russia' 'Singapore' 'Sri Lanka' 'Taiwan*' 'Thailand' 'US'\n",
      " 'United Arab Emirates' 'United Kingdom' 'Vietnam']\n",
      "\n",
      "2. feladat:\n",
      "19696 db fertőzött volt az utolsó napon Németországban\n",
      "\n",
      "3. feladat:\n",
      "Vanuatu\n"
     ]
    }
   ],
   "source": [
    "import pandas as pd\n",
    "\n",
    "df = pd.read_csv(\"covid19_stats.txt\", sep=\",\", skiprows=1)\n",
    "df[\"Date\"] = pd.to_datetime(df[\"Date\"])\n",
    "\n",
    "# 1. feladat\n",
    "first_countries_df = df.loc[(df[\"Date\"] >= \"2020-01-01\") & (df[\"Date\"] <= \"2020-01-31\") & (df[\"Confirmed\"] > 0)].copy()\n",
    "first_countries = first_countries_df[\"Country\"].unique()\n",
    "print(f\"1. feladat:\\nOrszágok, ahol már 2020 januárjában megjelent a vírus: {first_countries}\\n\")\n",
    "\n",
    "# 2. feladat\n",
    "no_infected_germany = df.loc[(df[\"Country\"] == \"Germany\")].copy().sort_values(by=\"Date\").tail(1)\n",
    "print(f\"2. feladat:\\n{no_infected_germany['Confirmed'].values[0]} db fertőzött volt az utolsó napon Németországban\\n\")\n",
    "\n",
    "# 3. feladat\n",
    "max_mortality_rate_country = df.groupby(\"Country\").apply(lambda country: country['Deaths'].sum() / float(country[\"Confirmed\"].sum())).idxmax()\n",
    "print(f\"3. feladat:\\n{max_mortality_rate_country}\")\n"
   ]
  }
 ],
 "metadata": {
  "kernelspec": {
   "display_name": "Python 3",
   "language": "python",
   "name": "python3"
  },
  "language_info": {
   "codemirror_mode": {
    "name": "ipython",
    "version": 3
   },
   "file_extension": ".py",
   "mimetype": "text/x-python",
   "name": "python",
   "nbconvert_exporter": "python",
   "pygments_lexer": "ipython3",
   "version": "3.8.10"
  },
  "vscode": {
   "interpreter": {
    "hash": "916dbcbb3f70747c44a77c7bcd40155683ae19c65e1c03b4aa3499c5328201f1"
   }
  }
 },
 "nbformat": 4,
 "nbformat_minor": 2
}
