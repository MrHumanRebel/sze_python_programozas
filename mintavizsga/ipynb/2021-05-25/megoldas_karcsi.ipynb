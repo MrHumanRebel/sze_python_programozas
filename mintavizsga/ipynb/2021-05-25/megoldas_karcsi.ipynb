{
 "cells": [
  {
   "attachments": {},
   "cell_type": "markdown",
   "metadata": {},
   "source": [
    "#  1. feladat [14p]\n",
    "Az A , B , C , ..., Z betűk manókat jelölnek, a friends lista pedig megadja azokat párokat,\n",
    "akik ismerik egymást. Készítsünk programot, amely kiírja, hogy melyik manónak van a legtöbb\n",
    "olyan másodszintű ismerőse, aki nem elsőszintű ismerős! Elsőszintű ismerősöknek az\n",
    "ismerősöket, másodszintű ismerősöknek az ismerősök ismerőseit nevezzük. Holtverseny esetén\n",
    "elég egy manó nevét kiírni. A program ne csak a megadott friends listára működjön, hanem\n",
    "tetszőleges, ugyanilyen formátumú bemenetre is!"
   ]
  },
  {
   "cell_type": "code",
   "execution_count": 38,
   "metadata": {},
   "outputs": [
    {
     "name": "stdout",
     "output_type": "stream",
     "text": [
      "A legtöbb másodlagos ismerőssel rendelkező manó: A\n"
     ]
    }
   ],
   "source": [
    "friends = ['I-N', 'L-W', 'F-R', 'F-Z', 'B-D', 'L-Q', 'I-U', 'A-N', 'E-F', 'A-I',\n",
    " 'S-T', 'B-S', 'B-E', 'F-P', 'D-V', 'C-V', 'J-S', 'G-I', 'A-C', 'N-X',\n",
    " 'K-N', 'Q-Y', 'A-U', 'O-Z', 'S-U', 'E-L', 'B-V', 'Y-Z', 'H-O', 'D-U',\n",
    " 'A-K', 'F-W', 'N-T', 'H-T', 'R-T']\n",
    "\n",
    "def get_smurf_relations(smurf_pairs):\n",
    "    smurfs = [[smurf_pair.split(\"-\")[0], smurf_pair.split(\"-\")[1]] for smurf_pair in smurf_pairs]\n",
    "    smurf_names = sorted({smurf for smurf_pair in smurfs for smurf in smurf_pair})\n",
    "\n",
    "    relations = {smurf: set() for smurf in smurf_names}\n",
    "\n",
    "    for smurf_pair in smurf_pairs:\n",
    "        smurf = smurf_pair.split(\"-\")[0]\n",
    "        friend = smurf_pair.split(\"-\")[1]\n",
    "\n",
    "        relations[smurf].add(friend)\n",
    "        relations[friend].add(smurf)\n",
    "\n",
    "    return relations\n",
    "\n",
    "def get_friend_of_friends(relations):\n",
    "   smurfs = relations.keys()\n",
    "   friend_of_friends = {smurf: set() for smurf in smurfs}\n",
    "\n",
    "   for smurf in relations:\n",
    "      friends = relations[smurf]\n",
    "      \n",
    "      for friend in friends:\n",
    "         friend_of_friends[smurf].update(relations[friend])\n",
    "\n",
    "      friend_of_friends[smurf] = friend_of_friends[smurf].difference(relations[smurf])\n",
    "\n",
    "      if smurf in friend_of_friends[smurf]:\n",
    "        friend_of_friends[smurf].remove(smurf)\n",
    "\n",
    "   return friend_of_friends\n",
    "\n",
    "def main():\n",
    "    relations = get_smurf_relations(friends)\n",
    "\n",
    "    friend_of_friends = get_friend_of_friends(relations)\n",
    "    max_smurf = max(friend_of_friends, key=friend_of_friends.get)\n",
    "    print(f\"A legtöbb másodlagos ismerőssel rendelkező manó: {max_smurf}\")\n",
    "\n",
    "main()"
   ]
  },
  {
   "cell_type": "code",
   "execution_count": 36,
   "metadata": {},
   "outputs": [
    {
     "name": "stdout",
     "output_type": "stream",
     "text": [
      "defaultdict(<class 'set'>, {'A': {'U', 'C', 'I', 'N', 'K'}, 'B': {'V', 'E', 'D', 'S'}, 'C': {'V'}, 'D': {'V', 'U'}, 'E': {'L', 'F'}, 'F': {'Z', 'W', 'P', 'R'}, 'G': {'I'}, 'H': {'O', 'T'}, 'I': {'N', 'U'}, 'J': {'S'}, 'K': {'N'}, 'L': {'Q', 'W'}, 'N': {'X', 'T'}, 'O': {'Z'}, 'Q': {'Y'}, 'R': {'T'}, 'S': {'U', 'T'}, 'Y': {'Z'}})\n",
      "A legtöbb másodlagos ismerőssel rendelkező manó: E\n"
     ]
    }
   ],
   "source": [
    "from collections import defaultdict\n",
    "\n",
    "friends = [ 'I-N', 'L-W', 'F-R', 'F-Z', 'B-D', 'L-Q', 'I-U', 'A-N', 'E-F', 'A-I',\n",
    " 'S-T', 'B-S', 'B-E', 'F-P', 'D-V', 'C-V', 'J-S', 'G-I', 'A-C', 'N-X',\n",
    " 'K-N', 'Q-Y', 'A-U', 'O-Z', 'S-U', 'E-L', 'B-V', 'Y-Z', 'H-O', 'D-U',\n",
    " 'A-K', 'F-W', 'N-T', 'H-T', 'R-T']\n",
    "\n",
    "def parse_input(input):\n",
    "  input_sorted = sorted(input)\n",
    "  input_parsed = [[line.split(\"-\")[0], line.split(\"-\")[1]] for line in input_sorted]\n",
    "\n",
    "  return input_parsed\n",
    "\n",
    "def find_primaries(relationships):\n",
    "    primary_relationships = defaultdict(set)\n",
    "\n",
    "    for pair in relationships:\n",
    "      smurf = pair[0]\n",
    "      known_smurf = pair[1]\n",
    "    \n",
    "      primary_relationships[smurf].add(known_smurf)\n",
    "\n",
    "    return primary_relationships\n",
    "\n",
    "\n",
    "def find_unique_secondaries(primary_relationships):\n",
    "    secondary_relationships = defaultdict(set)\n",
    "\n",
    "    smurfs = list(primary_relationships.keys())\n",
    "    for smurf in smurfs:\n",
    "      current_primaries = primary_relationships[smurf]\n",
    "      possible_secondaries = set()\n",
    "\n",
    "      for known_smurf in current_primaries:\n",
    "        current_secondaries = primary_relationships[known_smurf]\n",
    "        possible_secondaries.update(current_secondaries)\n",
    "\n",
    "      unique_secondaries = possible_secondaries - current_primaries\n",
    "      secondary_relationships[smurf] = unique_secondaries\n",
    "\n",
    "    return secondary_relationships\n",
    "\n",
    "def max_unique_secondary(unique_secondaries):\n",
    "   max_smurf = max(unique_secondaries, key=lambda smurf: len(unique_secondaries[smurf]))\n",
    "\n",
    "   return max_smurf\n",
    "\n",
    "\n",
    "def main():\n",
    "  relationships = parse_input(friends)\n",
    "\n",
    "  primaries = find_primaries(relationships)\n",
    "  print(primaries)\n",
    "  \n",
    "  unique_secondaries = find_unique_secondaries(primaries)\n",
    "  max_smurf_name = max_unique_secondary(unique_secondaries)\n",
    "  print(f\"A legtöbb másodlagos ismerőssel rendelkező manó: {max_smurf_name}\")\n",
    "  \n",
    "\n",
    "main()"
   ]
  },
  {
   "attachments": {},
   "cell_type": "markdown",
   "metadata": {},
   "source": [
    "# 2. feladat [10p]\n",
    "A covid19_stats.txt (covid19_stats.txt) szövegfájl a COVID-19 vírussal kapcsolatos statisztikákat\n",
    "tartalmaz a 2020.01.23 és 2021.05.11 közötti időszakból, országonkénti bontásban. Minden sor\n",
    "azt adja meg, hogy az adott napon az adott országban hány igazolt fertőzés történt ( Confirmed ), hányan gyógyultak meg ( Recovered ) illetve hányan hunytak el a vírus miatt ( Deaths ).\n",
    "Készítsünk programot, amely beolvassa a fájl tartalmát, majd válaszol az alábbi kérdésekre!\n",
    "1. Melyek azok az országok, ahol már 2020. januárjában megjelent a vírus?\n",
    "2. Az adathalmaz utolsó napján hány fertőzött volt Németországban ( Germany )?\n",
    "3. Hol volt a legmagasabb az elhunytak aránya a fertőzöttek számához viszonyítva?"
   ]
  },
  {
   "cell_type": "code",
   "execution_count": null,
   "metadata": {},
   "outputs": [],
   "source": [
    "import pandas as pd"
   ]
  }
 ],
 "metadata": {
  "kernelspec": {
   "display_name": "Python 3",
   "language": "python",
   "name": "python3"
  },
  "language_info": {
   "codemirror_mode": {
    "name": "ipython",
    "version": 3
   },
   "file_extension": ".py",
   "mimetype": "text/x-python",
   "name": "python",
   "nbconvert_exporter": "python",
   "pygments_lexer": "ipython3",
   "version": "3.8.10"
  },
  "vscode": {
   "interpreter": {
    "hash": "916dbcbb3f70747c44a77c7bcd40155683ae19c65e1c03b4aa3499c5328201f1"
   }
  }
 },
 "nbformat": 4,
 "nbformat_minor": 2
}
