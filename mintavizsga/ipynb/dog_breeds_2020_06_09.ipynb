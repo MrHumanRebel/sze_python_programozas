{
 "cells": [
  {
   "attachments": {},
   "cell_type": "markdown",
   "metadata": {},
   "source": [
    "# 1. feladat [8p]\n",
    "Tomi egy ’r’ méter sugarú, kör alakú tűzrakó helyet szeretne szegélykővel körbekeríteni. Az áruházban 85 cm és 100 cm hosszúságú szegélykövek kaphatók. A körbekerítésnél Tomi vagy csak 85 cm-es vagy csak 100 cm-es szegélyköveket használ, és szabályos sokszög alakban helyezi el őket. Az a cél, hogy a szegély kerülete a lehető legkisebb legyen, de a szegély alkotta sokszögből ne lógjon ki az ’r’ sugarú kör. Készítsünk programot, amely bekéri ’r’ értékét, majd kiszámítja, hogy melyik hosszúságú szegélykőből hányat kell venni, hogy optimális körbekerítést kapjunk! Segítség: Az ’a’ oldalhosszúságú szabályos sokszög beírt körének a sugara\n",
    "(a/2)/tg(π/n)\n"
   ]
  },
  {
   "cell_type": "code",
   "execution_count": 1,
   "metadata": {},
   "outputs": [
    {
     "name": "stdout",
     "output_type": "stream",
     "text": [
      "12 szögletű szegélykő belső sugara: 4.83 cm\n",
      "11 szögletű szegélykő belső sugara: 4.80 cm\n",
      "10 szögletű szegélykő belső sugara: 4.76 cm\n",
      "9 szögletű szegélykő belső sugara: 4.70 cm\n",
      "8 szögletű szegélykő belső sugara: 4.62 cm\n",
      "7 szögletű szegélykő belső sugara: 4.50 cm\n",
      "6 szögletű szegélykő belső sugara: 4.33 cm\n",
      "5 szögletű szegélykő belső sugara: 4.05 cm\n",
      "4 szögletű szegélykő belső sugara: 3.54 cm\n",
      "3 szögletű szegélykő belső sugara: 2.50 cm\n",
      "\n",
      "\n",
      "{12: {'100': 0, '85': 1}, 11: {'100': 0, '85': 1}, 10: {'100': 0, '85': 1}, 9: {'100': 0, '85': 1}, 8: {'100': 0, '85': 1}, 7: {'100': 0, '85': 1}, 6: {'100': 0, '85': 1}, 5: {'100': 0, '85': 1}, 4: {'100': 0, '85': 1}, 3: {'100': 0, '85': 1}}\n"
     ]
    }
   ],
   "source": [
    "import math\n",
    "\n",
    "eredeti_r = float(input('Adja meg a szegélykő sugárát cm-ben: '))\n",
    "optim = {}\n",
    "\n",
    "for n in range(12,2,-1): # 3 szögletűtől 12 szögletűig\n",
    "    szegely100 = 0\n",
    "    szegely85 = 0\n",
    "    \n",
    "    a = 2 * eredeti_r * math.sin(math.pi/n)\n",
    "    szokszog_r = (a/2)/(math.tan(math.pi/n))\n",
    "    print(f'{n} szögletű szegélykő belső sugara: {szokszog_r:.2f} cm')\n",
    "        \n",
    "    while szokszog_r >= 100:\n",
    "        szegely100 += 1\n",
    "        szokszog_r -= 100\n",
    "    while szokszog_r >= 85:\n",
    "        szegely85 += 1\n",
    "        szokszog_r -= 85\n",
    "    if szokszog_r < 85:\n",
    "        szegely85 += 1\n",
    "    optim[n] = {'100': szegely100, '85': szegely85}\n",
    "    \n",
    "print('\\n')\n",
    "print(optim)"
   ]
  },
  {
   "attachments": {},
   "cell_type": "markdown",
   "metadata": {},
   "source": [
    "# 2. feladat [12p]\n",
    "\n",
    "Disclaimer: Nem rendelkezünk az eredeti adatokkal, ezért generált minta adatokat használunk fel!\n",
    "\n",
    "A dog_breeds.txt szövegfájl kutyafajták jellemzőit tartalmazza az American Kennel Club leírása alapján. Az adatok felnőtt példányokra vonatkoznak. Készítsünk programot, amely beolvassa a szövegfájl tartalmát, majd válaszol az alábbi kérdésekre!\n",
    "- Melyik az 5 legnehezebb fajta a weight_low_lbs oszlop alapján?\n",
    "-\tMelyek azok a fajták, ahol a maximális és a minimális testmagasság között legalább 25 cm a különbség? (1 hüvelyk = 2,54 cm)\n",
    "-\tAz átlagosnál alacsonyabb fajták között melyik a legnagyobb súlyú? (a height_low_inches és a weight_low_lbs oszlop alapján)\n",
    "-\tMilyen kezdőbetűjű fajtából hány darab van az adathalmazban?\n"
   ]
  },
  {
   "attachments": {},
   "cell_type": "markdown",
   "metadata": {},
   "source": [
    "# Pandas"
   ]
  },
  {
   "cell_type": "code",
   "execution_count": 2,
   "metadata": {},
   "outputs": [
    {
     "ename": "FileNotFoundError",
     "evalue": "[Errno 2] No such file or directory: 'C:\\\\Users\\\\Dorián\\\\PycharmProjects\\\\PythonVizsgaFelkészülés1Feladatok\\\\tables\\\\dog_breeds.txt'",
     "output_type": "error",
     "traceback": [
      "\u001b[0;31m---------------------------------------------------------------------------\u001b[0m",
      "\u001b[0;31mFileNotFoundError\u001b[0m                         Traceback (most recent call last)",
      "Cell \u001b[0;32mIn[2], line 3\u001b[0m\n\u001b[1;32m      1\u001b[0m \u001b[39mimport\u001b[39;00m \u001b[39mpandas\u001b[39;00m \u001b[39mas\u001b[39;00m \u001b[39mpd\u001b[39;00m\n\u001b[0;32m----> 3\u001b[0m df \u001b[39m=\u001b[39m pd\u001b[39m.\u001b[39;49mread_csv(\u001b[39m'\u001b[39;49m\u001b[39mC:\u001b[39;49m\u001b[39m\\\\\u001b[39;49;00m\u001b[39mUsers\u001b[39;49m\u001b[39m\\\\\u001b[39;49;00m\u001b[39mDorián\u001b[39;49m\u001b[39m\\\\\u001b[39;49;00m\u001b[39mPycharmProjects\u001b[39;49m\u001b[39m\\\\\u001b[39;49;00m\u001b[39mPythonVizsgaFelkészülés1Feladatok\u001b[39;49m\u001b[39m\\\\\u001b[39;49;00m\u001b[39mtables\u001b[39;49m\u001b[39m\\\\\u001b[39;49;00m\u001b[39mdog_breeds.txt\u001b[39;49m\u001b[39m'\u001b[39;49m, sep \u001b[39m=\u001b[39;49m\u001b[39m'\u001b[39;49m\u001b[39m|\u001b[39;49m\u001b[39m'\u001b[39;49m)\n\u001b[1;32m      5\u001b[0m \u001b[39m#print(df.info())\u001b[39;00m\n\u001b[1;32m      6\u001b[0m \n\u001b[1;32m      7\u001b[0m \u001b[39m#1. Melyik az 5 legnehezebb fajta a weight_low_lbs oszlop alapján?\u001b[39;00m\n\u001b[1;32m      8\u001b[0m \u001b[39mprint\u001b[39m(df\u001b[39m.\u001b[39mgroupby(\u001b[39m'\u001b[39m\u001b[39mBreed\u001b[39m\u001b[39m'\u001b[39m)[\u001b[39m'\u001b[39m\u001b[39mWeight_low_lbs\u001b[39m\u001b[39m'\u001b[39m]\u001b[39m.\u001b[39mmax()\u001b[39m.\u001b[39msort_values(ascending\u001b[39m=\u001b[39m\u001b[39mFalse\u001b[39;00m)\u001b[39m.\u001b[39mhead(\u001b[39m5\u001b[39m))\n",
      "File \u001b[0;32m~/.local/lib/python3.10/site-packages/pandas/util/_decorators.py:211\u001b[0m, in \u001b[0;36mdeprecate_kwarg.<locals>._deprecate_kwarg.<locals>.wrapper\u001b[0;34m(*args, **kwargs)\u001b[0m\n\u001b[1;32m    209\u001b[0m     \u001b[39melse\u001b[39;00m:\n\u001b[1;32m    210\u001b[0m         kwargs[new_arg_name] \u001b[39m=\u001b[39m new_arg_value\n\u001b[0;32m--> 211\u001b[0m \u001b[39mreturn\u001b[39;00m func(\u001b[39m*\u001b[39;49margs, \u001b[39m*\u001b[39;49m\u001b[39m*\u001b[39;49mkwargs)\n",
      "File \u001b[0;32m~/.local/lib/python3.10/site-packages/pandas/util/_decorators.py:331\u001b[0m, in \u001b[0;36mdeprecate_nonkeyword_arguments.<locals>.decorate.<locals>.wrapper\u001b[0;34m(*args, **kwargs)\u001b[0m\n\u001b[1;32m    325\u001b[0m \u001b[39mif\u001b[39;00m \u001b[39mlen\u001b[39m(args) \u001b[39m>\u001b[39m num_allow_args:\n\u001b[1;32m    326\u001b[0m     warnings\u001b[39m.\u001b[39mwarn(\n\u001b[1;32m    327\u001b[0m         msg\u001b[39m.\u001b[39mformat(arguments\u001b[39m=\u001b[39m_format_argument_list(allow_args)),\n\u001b[1;32m    328\u001b[0m         \u001b[39mFutureWarning\u001b[39;00m,\n\u001b[1;32m    329\u001b[0m         stacklevel\u001b[39m=\u001b[39mfind_stack_level(),\n\u001b[1;32m    330\u001b[0m     )\n\u001b[0;32m--> 331\u001b[0m \u001b[39mreturn\u001b[39;00m func(\u001b[39m*\u001b[39;49margs, \u001b[39m*\u001b[39;49m\u001b[39m*\u001b[39;49mkwargs)\n",
      "File \u001b[0;32m~/.local/lib/python3.10/site-packages/pandas/io/parsers/readers.py:950\u001b[0m, in \u001b[0;36mread_csv\u001b[0;34m(filepath_or_buffer, sep, delimiter, header, names, index_col, usecols, squeeze, prefix, mangle_dupe_cols, dtype, engine, converters, true_values, false_values, skipinitialspace, skiprows, skipfooter, nrows, na_values, keep_default_na, na_filter, verbose, skip_blank_lines, parse_dates, infer_datetime_format, keep_date_col, date_parser, dayfirst, cache_dates, iterator, chunksize, compression, thousands, decimal, lineterminator, quotechar, quoting, doublequote, escapechar, comment, encoding, encoding_errors, dialect, error_bad_lines, warn_bad_lines, on_bad_lines, delim_whitespace, low_memory, memory_map, float_precision, storage_options)\u001b[0m\n\u001b[1;32m    935\u001b[0m kwds_defaults \u001b[39m=\u001b[39m _refine_defaults_read(\n\u001b[1;32m    936\u001b[0m     dialect,\n\u001b[1;32m    937\u001b[0m     delimiter,\n\u001b[0;32m   (...)\u001b[0m\n\u001b[1;32m    946\u001b[0m     defaults\u001b[39m=\u001b[39m{\u001b[39m\"\u001b[39m\u001b[39mdelimiter\u001b[39m\u001b[39m\"\u001b[39m: \u001b[39m\"\u001b[39m\u001b[39m,\u001b[39m\u001b[39m\"\u001b[39m},\n\u001b[1;32m    947\u001b[0m )\n\u001b[1;32m    948\u001b[0m kwds\u001b[39m.\u001b[39mupdate(kwds_defaults)\n\u001b[0;32m--> 950\u001b[0m \u001b[39mreturn\u001b[39;00m _read(filepath_or_buffer, kwds)\n",
      "File \u001b[0;32m~/.local/lib/python3.10/site-packages/pandas/io/parsers/readers.py:605\u001b[0m, in \u001b[0;36m_read\u001b[0;34m(filepath_or_buffer, kwds)\u001b[0m\n\u001b[1;32m    602\u001b[0m _validate_names(kwds\u001b[39m.\u001b[39mget(\u001b[39m\"\u001b[39m\u001b[39mnames\u001b[39m\u001b[39m\"\u001b[39m, \u001b[39mNone\u001b[39;00m))\n\u001b[1;32m    604\u001b[0m \u001b[39m# Create the parser.\u001b[39;00m\n\u001b[0;32m--> 605\u001b[0m parser \u001b[39m=\u001b[39m TextFileReader(filepath_or_buffer, \u001b[39m*\u001b[39;49m\u001b[39m*\u001b[39;49mkwds)\n\u001b[1;32m    607\u001b[0m \u001b[39mif\u001b[39;00m chunksize \u001b[39mor\u001b[39;00m iterator:\n\u001b[1;32m    608\u001b[0m     \u001b[39mreturn\u001b[39;00m parser\n",
      "File \u001b[0;32m~/.local/lib/python3.10/site-packages/pandas/io/parsers/readers.py:1442\u001b[0m, in \u001b[0;36mTextFileReader.__init__\u001b[0;34m(self, f, engine, **kwds)\u001b[0m\n\u001b[1;32m   1439\u001b[0m     \u001b[39mself\u001b[39m\u001b[39m.\u001b[39moptions[\u001b[39m\"\u001b[39m\u001b[39mhas_index_names\u001b[39m\u001b[39m\"\u001b[39m] \u001b[39m=\u001b[39m kwds[\u001b[39m\"\u001b[39m\u001b[39mhas_index_names\u001b[39m\u001b[39m\"\u001b[39m]\n\u001b[1;32m   1441\u001b[0m \u001b[39mself\u001b[39m\u001b[39m.\u001b[39mhandles: IOHandles \u001b[39m|\u001b[39m \u001b[39mNone\u001b[39;00m \u001b[39m=\u001b[39m \u001b[39mNone\u001b[39;00m\n\u001b[0;32m-> 1442\u001b[0m \u001b[39mself\u001b[39m\u001b[39m.\u001b[39m_engine \u001b[39m=\u001b[39m \u001b[39mself\u001b[39;49m\u001b[39m.\u001b[39;49m_make_engine(f, \u001b[39mself\u001b[39;49m\u001b[39m.\u001b[39;49mengine)\n",
      "File \u001b[0;32m~/.local/lib/python3.10/site-packages/pandas/io/parsers/readers.py:1735\u001b[0m, in \u001b[0;36mTextFileReader._make_engine\u001b[0;34m(self, f, engine)\u001b[0m\n\u001b[1;32m   1733\u001b[0m     \u001b[39mif\u001b[39;00m \u001b[39m\"\u001b[39m\u001b[39mb\u001b[39m\u001b[39m\"\u001b[39m \u001b[39mnot\u001b[39;00m \u001b[39min\u001b[39;00m mode:\n\u001b[1;32m   1734\u001b[0m         mode \u001b[39m+\u001b[39m\u001b[39m=\u001b[39m \u001b[39m\"\u001b[39m\u001b[39mb\u001b[39m\u001b[39m\"\u001b[39m\n\u001b[0;32m-> 1735\u001b[0m \u001b[39mself\u001b[39m\u001b[39m.\u001b[39mhandles \u001b[39m=\u001b[39m get_handle(\n\u001b[1;32m   1736\u001b[0m     f,\n\u001b[1;32m   1737\u001b[0m     mode,\n\u001b[1;32m   1738\u001b[0m     encoding\u001b[39m=\u001b[39;49m\u001b[39mself\u001b[39;49m\u001b[39m.\u001b[39;49moptions\u001b[39m.\u001b[39;49mget(\u001b[39m\"\u001b[39;49m\u001b[39mencoding\u001b[39;49m\u001b[39m\"\u001b[39;49m, \u001b[39mNone\u001b[39;49;00m),\n\u001b[1;32m   1739\u001b[0m     compression\u001b[39m=\u001b[39;49m\u001b[39mself\u001b[39;49m\u001b[39m.\u001b[39;49moptions\u001b[39m.\u001b[39;49mget(\u001b[39m\"\u001b[39;49m\u001b[39mcompression\u001b[39;49m\u001b[39m\"\u001b[39;49m, \u001b[39mNone\u001b[39;49;00m),\n\u001b[1;32m   1740\u001b[0m     memory_map\u001b[39m=\u001b[39;49m\u001b[39mself\u001b[39;49m\u001b[39m.\u001b[39;49moptions\u001b[39m.\u001b[39;49mget(\u001b[39m\"\u001b[39;49m\u001b[39mmemory_map\u001b[39;49m\u001b[39m\"\u001b[39;49m, \u001b[39mFalse\u001b[39;49;00m),\n\u001b[1;32m   1741\u001b[0m     is_text\u001b[39m=\u001b[39;49mis_text,\n\u001b[1;32m   1742\u001b[0m     errors\u001b[39m=\u001b[39;49m\u001b[39mself\u001b[39;49m\u001b[39m.\u001b[39;49moptions\u001b[39m.\u001b[39;49mget(\u001b[39m\"\u001b[39;49m\u001b[39mencoding_errors\u001b[39;49m\u001b[39m\"\u001b[39;49m, \u001b[39m\"\u001b[39;49m\u001b[39mstrict\u001b[39;49m\u001b[39m\"\u001b[39;49m),\n\u001b[1;32m   1743\u001b[0m     storage_options\u001b[39m=\u001b[39;49m\u001b[39mself\u001b[39;49m\u001b[39m.\u001b[39;49moptions\u001b[39m.\u001b[39;49mget(\u001b[39m\"\u001b[39;49m\u001b[39mstorage_options\u001b[39;49m\u001b[39m\"\u001b[39;49m, \u001b[39mNone\u001b[39;49;00m),\n\u001b[1;32m   1744\u001b[0m )\n\u001b[1;32m   1745\u001b[0m \u001b[39massert\u001b[39;00m \u001b[39mself\u001b[39m\u001b[39m.\u001b[39mhandles \u001b[39mis\u001b[39;00m \u001b[39mnot\u001b[39;00m \u001b[39mNone\u001b[39;00m\n\u001b[1;32m   1746\u001b[0m f \u001b[39m=\u001b[39m \u001b[39mself\u001b[39m\u001b[39m.\u001b[39mhandles\u001b[39m.\u001b[39mhandle\n",
      "File \u001b[0;32m~/.local/lib/python3.10/site-packages/pandas/io/common.py:856\u001b[0m, in \u001b[0;36mget_handle\u001b[0;34m(path_or_buf, mode, encoding, compression, memory_map, is_text, errors, storage_options)\u001b[0m\n\u001b[1;32m    851\u001b[0m \u001b[39melif\u001b[39;00m \u001b[39misinstance\u001b[39m(handle, \u001b[39mstr\u001b[39m):\n\u001b[1;32m    852\u001b[0m     \u001b[39m# Check whether the filename is to be opened in binary mode.\u001b[39;00m\n\u001b[1;32m    853\u001b[0m     \u001b[39m# Binary mode does not support 'encoding' and 'newline'.\u001b[39;00m\n\u001b[1;32m    854\u001b[0m     \u001b[39mif\u001b[39;00m ioargs\u001b[39m.\u001b[39mencoding \u001b[39mand\u001b[39;00m \u001b[39m\"\u001b[39m\u001b[39mb\u001b[39m\u001b[39m\"\u001b[39m \u001b[39mnot\u001b[39;00m \u001b[39min\u001b[39;00m ioargs\u001b[39m.\u001b[39mmode:\n\u001b[1;32m    855\u001b[0m         \u001b[39m# Encoding\u001b[39;00m\n\u001b[0;32m--> 856\u001b[0m         handle \u001b[39m=\u001b[39m \u001b[39mopen\u001b[39;49m(\n\u001b[1;32m    857\u001b[0m             handle,\n\u001b[1;32m    858\u001b[0m             ioargs\u001b[39m.\u001b[39;49mmode,\n\u001b[1;32m    859\u001b[0m             encoding\u001b[39m=\u001b[39;49mioargs\u001b[39m.\u001b[39;49mencoding,\n\u001b[1;32m    860\u001b[0m             errors\u001b[39m=\u001b[39;49merrors,\n\u001b[1;32m    861\u001b[0m             newline\u001b[39m=\u001b[39;49m\u001b[39m\"\u001b[39;49m\u001b[39m\"\u001b[39;49m,\n\u001b[1;32m    862\u001b[0m         )\n\u001b[1;32m    863\u001b[0m     \u001b[39melse\u001b[39;00m:\n\u001b[1;32m    864\u001b[0m         \u001b[39m# Binary mode\u001b[39;00m\n\u001b[1;32m    865\u001b[0m         handle \u001b[39m=\u001b[39m \u001b[39mopen\u001b[39m(handle, ioargs\u001b[39m.\u001b[39mmode)\n",
      "\u001b[0;31mFileNotFoundError\u001b[0m: [Errno 2] No such file or directory: 'C:\\\\Users\\\\Dorián\\\\PycharmProjects\\\\PythonVizsgaFelkészülés1Feladatok\\\\tables\\\\dog_breeds.txt'"
     ]
    }
   ],
   "source": [
    "import pandas as pd\n",
    "\n",
    "df = pd.read_csv('C:\\\\Users\\\\Dorián\\\\PycharmProjects\\\\PythonVizsgaFelkészülés1Feladatok\\\\tables\\\\dog_breeds.txt', sep ='|')\n",
    "\n",
    "#print(df.info())\n",
    "\n",
    "#1. Melyik az 5 legnehezebb fajta a weight_low_lbs oszlop alapján?\n",
    "print(df.groupby('Breed')['Weight_low_lbs'].max().sort_values(ascending=False).head(5))\n",
    "\n",
    "#2. Melyek azok a fajták, ahol a maximális és a minimális testmagasság között legalább 25 cm a különbség? (1 hüvelyk = 2,54 cm)\n",
    "df['Height_high_inches'] = df['Height_high_inches'].apply(lambda x: x * 2.54)  # cm-re váltás\n",
    "df['Height_low_inches'] = df['Height_low_inches'].apply(lambda x: x * 2.54)    # cm-re váltás\n",
    "filtered_df = df[(df['Height_high_inches'] - df['Height_low_inches']) >= 25]['Breed']\n",
    "print(filtered_df)\n",
    "\n",
    "#3. Az átlagosnál alacsonyabb fajták között melyik a legnagyobb súlyú?\n",
    "# (a height_low_inches és a weight_low_lbs oszlop alapján)\n",
    "avg_height = (df['Height_low_inches'].mean())\n",
    "shorter_breeds = df[df['Height_low_inches'] < avg_height]\n",
    "max_weight_breed = shorter_breeds.loc[shorter_breeds['Weight_low_lbs'].idxmax()]['Breed']\n",
    "print(max_weight_breed)\n",
    "\n",
    "#4. Milyen kezdőbetűjű fajtából hány darab van az adathalmazban?\n",
    "letter_count = df.groupby(df['Breed'].str[0])['Breed'].count()\n",
    "print(letter_count)"
   ]
  },
  {
   "attachments": {},
   "cell_type": "markdown",
   "metadata": {},
   "source": [
    "# Manuális nem pontos megoldás"
   ]
  },
  {
   "cell_type": "code",
   "execution_count": null,
   "metadata": {},
   "outputs": [
    {
     "name": "stdout",
     "output_type": "stream",
     "text": [
      "[['Australian Terrier ', '9 ', '11 ', '9 ', '14 ', '15'], ['Cane Corso ', '23 ', '28 ', '88 ', '120 ', '12'], ['Great Pyrenees ', '25 ', '32 ', '85 ', '160 ', '10'], ['Anatolian Shepherd Dog ', '27 ', '29 ', '80 ', '150 ', '11'], ['Bloodhound ', '24 ', '26 ', '80 ', '110 ', '10']]\n",
      "{'American Eskimo Dog ': ('9 ', '19 '), 'Goldendoodle ': ('13 ', '24 '), 'Poodle (Standard) ': (' 20 ', ' 32 '), 'Portugál Vizsla ': (' 20 ', ' 30 '), 'Pyrenean Mountain Dog ': (' 40 ', ' 54 '), 'Rottweiler ': (' 50 ', ' 60 '), 'Saint Bernard ': (' 64 ', ' 91 '), 'Saluki ': (' 20 ', ' 30 '), 'Samoyed ': (' 20 ', ' 30 '), 'Shikoku ': (' 20 ', ' 52 '), 'South Russian Ovcharka ': (' 45 ', ' 65 '), 'Spanish Mastiff ': (' 52 ', ' 77 '), 'Spanish Water Dog ': (' 18 ', ' 50 '), 'Spinone Italiano ': (' 32 ', ' 70 '), 'Stabyhoun ': (' 20 ', ' 53 '), 'Staffordshire Bull Terrier ': (' 12 ', ' 36 '), 'Sussex Spaniel ': (' 20 ', ' 38 '), 'Swedish Lapphund ': (' 16 ', ' 42 '), 'Swedish Vallhund ': (' 11 ', ' 31 '), 'Tibetan Mastiff ': (' 45 ', ' 61 '), 'Tibeti spaniel ': (' 4 ', ' 20 '), 'Tibeti terrier ': (' 8 ', ' 33 '), 'Toy Fox Terrier ': (' 1.5 ', ' 21 '), 'Treeing Walker Coonhound ': (' 20 ', ' 51 '), 'Vizsla ': (' 18 ', ' 56 '), 'Weimari Vizsla ': (' 25 ', ' 57 '), 'Welsh Springer Spaniel ': (' 16 ', ' 43 '), 'West Highland White Terrier ': (' 6 ', ' 23 '), 'Whippet ': (' 11 ', ' 45 '), 'White Shepherd ': (' 27 ', ' 56 '), 'Wire Fox Terrier ': (' 7.5 ', ' 39 '), 'Wirehaired Pointing Griffon ': (' 20 ', ' 54 '), 'Wirehaired Vizsla ': (' 20 ', ' 54 '), 'Xoloitzcuintli ': (' 4 ', ' 25 '), 'Yorkshire Terrier ': (' 2 ', ' 17 ')}\n",
      "['Clumber Spaniel ', '16 ', '20 ', '55 ', '85 ', '10']\n",
      "{'a': 13, 'b': 27, 'c': 17, 'd': 8, 'e': 6, 'f': 5, 'g': 13, 'h': 1, 'i': 5, 'j': 2, 'k': 5, 'l': 7, 'm': 9, 'n': 12, 'o': 1, 'p': 12, 'r': 3, 's': 21, 't': 5, 'v': 1, 'w': 8, 'x': 1, 'y': 1}\n"
     ]
    }
   ],
   "source": [
    "filename = '/home/g14/uni/sze_python_programozas/data/dog_breeds.txt'\n",
    "\n",
    "def get_data(filename):\n",
    "    with open(filename, 'r') as f:\n",
    "        # skip the first two line\n",
    "        for i in range(2):\n",
    "            f.readline()\n",
    "        lines = f.readlines()\n",
    "        # read into a list  split by , \n",
    "        lines = [line.split('|') for line in lines]    \n",
    "        # remove the newline character from the last element of each line\n",
    "        for line in lines:\n",
    "            line[-1] = line[-1].strip()\n",
    "            continue\n",
    "        data = [] \n",
    "        for line in lines:\n",
    "            data.append(line) \n",
    "        return data\n",
    "\n",
    "def weighty(data):\n",
    "    data = sorted(data, key = lambda x: x[3], reverse=True)\n",
    "    print(data[0:5])\n",
    "\n",
    "def min25cm(data):\n",
    "    dogs = {}\n",
    "    for item in data:\n",
    "        if (float(item[2])-float(item[1]))*2.54 >= 25:\n",
    "            dogs[item[0]] = item[1], item[2]\n",
    "    print(dogs)\n",
    "\n",
    "\n",
    "def avg_height(data):\n",
    "    sum = 0\n",
    "    counter = 0\n",
    "    for item in data:\n",
    "        sum += float(item[1])\n",
    "        counter += 1\n",
    "    avg = sum/counter\n",
    "    return avg\n",
    "\n",
    "\n",
    "def high_weight(data):\n",
    "    dog = []\n",
    "    avg = avg_height(data)\n",
    "    max = 0\n",
    "    for item in data:\n",
    "        if float(item[1]) < avg:\n",
    "            if float(item[3]) > max:\n",
    "                max = float(item[3])\n",
    "                dog = item\n",
    "    print(dog)\n",
    "    \n",
    "def start_letter(data):\n",
    "    letter_counts = {}\n",
    "    letter_list = ['a', 'b', 'c', 'd', 'e', 'f', 'g', 'h', 'i', 'j', 'k', 'l', 'm', 'n', 'o', 'p', 'q', 'r', 's', 't', 'u', 'v', 'w', 'x', 'y', 'z']\n",
    "    for letter in letter_list:\n",
    "        for item in data:\n",
    "            current_letter = item[0][0].lower()\n",
    "            if current_letter == letter:\n",
    "                if current_letter not in letter_counts:\n",
    "                    letter_counts[current_letter] = 1\n",
    "                else:\n",
    "                    letter_counts[current_letter] += 1           \n",
    "    print(letter_counts)   \n",
    "\n",
    "\n",
    "data = get_data(filename)\n",
    "weighty(data)\n",
    "min25cm(data)\n",
    "high_weight(data)\n",
    "start_letter(data)"
   ]
  }
 ],
 "metadata": {
  "kernelspec": {
   "display_name": "Python 3",
   "language": "python",
   "name": "python3"
  },
  "language_info": {
   "codemirror_mode": {
    "name": "ipython",
    "version": 3
   },
   "file_extension": ".py",
   "mimetype": "text/x-python",
   "name": "python",
   "nbconvert_exporter": "python",
   "pygments_lexer": "ipython3",
   "version": "3.10.6"
  },
  "orig_nbformat": 4
 },
 "nbformat": 4,
 "nbformat_minor": 2
}
