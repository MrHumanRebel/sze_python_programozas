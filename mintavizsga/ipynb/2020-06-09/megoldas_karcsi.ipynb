{
 "cells": [
  {
   "attachments": {},
   "cell_type": "markdown",
   "metadata": {},
   "source": [
    "# 1. feladat [8p]\n",
    "Tomi egy ’r’ méter sugarú, kör alakú tűzrakó helyet szeretne szegélykővel körbekeríteni. Az áruházban 85 cm és 100 cm hosszúságú szegélykövek kaphatók. A körbekerítésnél Tomi vagy csak 85 cm-es vagy csak 100 cm-es szegélyköveket használ, és szabályos sokszög alakban helyezi el őket. Az a cél, hogy a szegély kerülete a lehető legkisebb legyen, de a szegély alkotta sokszögből ne lógjon ki az ’r’ sugarú kör. Készítsünk programot, amely bekéri ’r’ értékét, majd kiszámítja, hogy melyik hosszúságú szegélykőből hányat kell venni, hogy optimális körbekerítést kapjunk! Segítség: Az ’a’ oldalhosszúságú szabályos sokszög beírt körének a sugara\n",
    "(a/2)/tg(π/n)\n"
   ]
  },
  {
   "cell_type": "code",
   "execution_count": 17,
   "metadata": {},
   "outputs": [
    {
     "name": "stdout",
     "output_type": "stream",
     "text": [
      "150.00000000000006\n",
      "212.13203435596427\n",
      "242.7050983124842\n",
      "259.80762113533154\n",
      "270.29066037072573\n",
      "277.163859753386\n",
      "281.9077862357725\n",
      "285.3169548885461\n",
      "287.84789208434916\n"
     ]
    }
   ],
   "source": [
    "import math\n",
    "\n",
    "def get_radius():\n",
    "    radius = float(input(\"Kérem adja meg a kör sugarát: \"))\n",
    "    \n",
    "    return radius\n",
    "\n",
    "def calculate_no_stones(r, n):\n",
    "    a = calculate_apothem(r, n)\n",
    "\n",
    "    inner_radius = (a / 2) / (math.tan(math.pi / n))\n",
    "    print(inner_radius)\n",
    "\n",
    "\n",
    "def calculate_apothem(r, n):\n",
    "    a = 2 * r * math.sin(math.pi / n)\n",
    "\n",
    "    return a\n",
    "\n",
    "def main():\n",
    "    radius = get_radius()\n",
    "\n",
    "    for n in range(3, 12):\n",
    "        calculate_no_stones(radius, n)\n",
    "\n",
    "main()"
   ]
  },
  {
   "attachments": {},
   "cell_type": "markdown",
   "metadata": {},
   "source": [
    "# 2. feladat [12p]\n",
    "\n",
    "Disclaimer: Nem rendelkezünk az eredeti adatokkal, ezért generált minta adatokat használunk fel!\n",
    "\n",
    "A dog_breeds.txt szövegfájl kutyafajták jellemzőit tartalmazza az American Kennel Club leírása alapján. Az adatok felnőtt példányokra vonatkoznak. Készítsünk programot, amely beolvassa a szövegfájl tartalmát, majd válaszol az alábbi kérdésekre!\n",
    "- Melyik az 5 legnehezebb fajta a weight_low_lbs oszlop alapján?\n",
    "-\tMelyek azok a fajták, ahol a maximális és a minimális testmagasság között legalább 25 cm a különbség? (1 hüvelyk = 2,54 cm)\n",
    "-\tAz átlagosnál alacsonyabb fajták között melyik a legnagyobb súlyú? (a height_low_inches és a weight_low_lbs oszlop alapján)\n",
    "-\tMilyen kezdőbetűjű fajtából hány darab van az adathalmazban?\n"
   ]
  },
  {
   "cell_type": "code",
   "execution_count": 79,
   "metadata": {},
   "outputs": [
    {
     "name": "stdout",
     "output_type": "stream",
     "text": [
      "1. feladat\n",
      "Az 5 legnehezebb kutyafajta:\n",
      "148         Saint Bernard\n",
      "108            Leonberger\n",
      "115               Mastiff\n",
      "120    Neapolitan Mastiff\n",
      "65      Dogue de Bordeaux\n",
      "Name: Breed, dtype: object\n",
      "\n",
      "2. feladat\n",
      "A fajták, ahol a maximális és a minimális testmagasság között legalább 25 cm a különbség:\n",
      "                           Breed\n",
      "5            American Eskimo Dog\n",
      "85                  Goldendoodle\n",
      "141            Poodle (Standard)\n",
      "142              Portugál Vizsla\n",
      "144        Pyrenean Mountain Dog\n",
      "146                   Rottweiler\n",
      "148                Saint Bernard\n",
      "149                       Saluki\n",
      "150                      Samoyed\n",
      "156                      Shikoku\n",
      "159       South Russian Ovcharka\n",
      "160              Spanish Mastiff\n",
      "161            Spanish Water Dog\n",
      "162             Spinone Italiano\n",
      "163                    Stabyhoun\n",
      "164   Staffordshire Bull Terrier\n",
      "165               Sussex Spaniel\n",
      "166             Swedish Lapphund\n",
      "167             Swedish Vallhund\n",
      "168              Tibetan Mastiff\n",
      "169               Tibeti spaniel\n",
      "170               Tibeti terrier\n",
      "171              Toy Fox Terrier\n",
      "172     Treeing Walker Coonhound\n",
      "173                       Vizsla\n",
      "174               Weimari Vizsla\n",
      "175       Welsh Springer Spaniel\n",
      "176  West Highland White Terrier\n",
      "177                      Whippet\n",
      "178               White Shepherd\n",
      "179             Wire Fox Terrier\n",
      "180  Wirehaired Pointing Griffon\n",
      "181            Wirehaired Vizsla\n",
      "182               Xoloitzcuintli\n",
      "183            Yorkshire Terrier\n",
      "\n",
      "3. feladat\n",
      "Az átlagosnál alacsonyabb fajták között a legnagyobb súlyú: Clumber Spaniel\n",
      "\n",
      "4. feladat:\n",
      "Kezdőbetűk gyakorisága:\n",
      "Breed_first_letter\n",
      "B                     27\n",
      "S                     21\n",
      "C                     17\n",
      "A                     14\n",
      "G                     13\n",
      "P                     12\n",
      "N                     12\n",
      "M                      9\n",
      "D                      8\n",
      "W                      8\n",
      "L                      7\n",
      "E                      6\n",
      "K                      5\n",
      "I                      5\n",
      "F                      5\n",
      "T                      5\n",
      "R                      3\n",
      "J                      2\n",
      "O                      1\n",
      "H                      1\n",
      "V                      1\n",
      "X                      1\n",
      "Y                      1\n",
      "dtype: int64\n"
     ]
    }
   ],
   "source": [
    "import pandas as pd\n",
    "\n",
    "df = pd.read_csv(\"dog_breeds.txt\", sep=\"|\", converters={\"Breed \": str.strip}).rename(columns={\"Breed \": \"Breed\"})\n",
    "df.head(1)\n",
    "\n",
    "# 1. feladat\n",
    "top_5_heaviest_breeds = df.sort_values(by=\"Weight_low_lbs\", ascending=False)[\"Breed\"].head(5).copy()\n",
    "print(f\"1. feladat\\nAz 5 legnehezebb kutyafajta:\\n{top_5_heaviest_breeds}\\n\")\n",
    "\n",
    "# 2. feladat\n",
    "height_diff_df = df.copy()\n",
    "height_diff_df[\"Height_diff_cm\"] = height_diff_df[\"Height_high_inches\"].subtract(height_diff_df[\"Height_low_inches\"]).multiply(2.54)\n",
    "\n",
    "breeds_height_diff_lt_25 = height_diff_df.loc[height_diff_df[\"Height_diff_cm\"] >= 25][[\"Breed\"]]\n",
    "print(f\"2. feladat\\nA fajták, ahol a maximális és a minimális testmagasság között legalább 25 cm a különbség:\\n{breeds_height_diff_lt_25}\\n\")\n",
    "\n",
    "# 3. feladat\n",
    "height_lt_mean_df = df.loc[df[\"Height_low_inches\"] < df[\"Height_low_inches\"].mean()].copy()\n",
    "heaviest_breed = height_lt_mean_df.loc[height_lt_mean_df[\"Weight_low_lbs\"].idxmax()][\"Breed\"]\n",
    "print(f\"3. feladat\\nAz átlagosnál alacsonyabb fajták között a legnagyobb súlyú: {heaviest_breed}\\n\")\n",
    "\n",
    "# 4. feladat\n",
    "breed_first_letter_df = df.copy()\n",
    "breed_first_letter_df[\"Breed_first_letter\"] = breed_first_letter_df[\"Breed\"].apply(lambda breed: breed[0])\n",
    "\n",
    "letter_frequency = breed_first_letter_df.value_counts(subset=[\"Breed_first_letter\"])\n",
    "print(f\"4. feladat:\\nKezdőbetűk gyakorisága:\\n{letter_frequency}\")"
   ]
  },
  {
   "attachments": {},
   "cell_type": "markdown",
   "metadata": {},
   "source": [
    "# Manuális nem pontos megoldás"
   ]
  }
 ],
 "metadata": {
  "kernelspec": {
   "display_name": "Python 3",
   "language": "python",
   "name": "python3"
  },
  "language_info": {
   "codemirror_mode": {
    "name": "ipython",
    "version": 3
   },
   "file_extension": ".py",
   "mimetype": "text/x-python",
   "name": "python",
   "nbconvert_exporter": "python",
   "pygments_lexer": "ipython3",
   "version": "3.8.10"
  }
 },
 "nbformat": 4,
 "nbformat_minor": 2
}
