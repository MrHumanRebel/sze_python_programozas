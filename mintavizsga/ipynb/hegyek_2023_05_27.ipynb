{
 "cells": [
  {
   "attachments": {},
   "cell_type": "markdown",
   "metadata": {},
   "source": [
    "Hány olyan egész szám van a [12,3456] intervallumban, \n",
    "amelyben a számjegyek összege osztható a szám jegyeinek darabszámával \n",
    "(pl. ilyen számok: 13, 123, 1111; nem ilyen számok: 12, 122, 2345)?"
   ]
  },
  {
   "cell_type": "code",
   "execution_count": 2,
   "metadata": {},
   "outputs": [
    {
     "name": "stdout",
     "output_type": "stream",
     "text": [
      "959\n"
     ]
    }
   ],
   "source": [
    "counter = 0\n",
    "for i in range(12,3456):\n",
    "    num_as_str = str(i)\n",
    "    sum = 0\n",
    "    hossz = len(num_as_str)\n",
    "    for j in range(len(num_as_str)):\n",
    "        sum = sum + int(num_as_str[j])\n",
    "    if sum % hossz == 0:\n",
    "        counter = counter + 1\n",
    "        #print(i)\n",
    "        \n",
    "print(counter)\n"
   ]
  },
  {
   "attachments": {},
   "cell_type": "markdown",
   "metadata": {},
   "source": [
    "# Alternatív megoldás"
   ]
  },
  {
   "cell_type": "code",
   "execution_count": 1,
   "metadata": {},
   "outputs": [
    {
     "name": "stdout",
     "output_type": "stream",
     "text": [
      "959\n"
     ]
    }
   ],
   "source": [
    "counter = 0\n",
    "for i in range(12,3456):\n",
    "    szamok=str(i)\n",
    "    hossz=len(szamok)\n",
    "    osszeg=0\n",
    "    for j in szamok:\n",
    "        osszeg+=int(j)\n",
    "    if osszeg % hossz == 0:\n",
    "        counter+=1\n",
    "print(counter)"
   ]
  },
  {
   "attachments": {},
   "cell_type": "markdown",
   "metadata": {},
   "source": [
    "Sajnos hiányzik a feladat szövege, ezért csak a megoldás látható."
   ]
  },
  {
   "cell_type": "code",
   "execution_count": 16,
   "metadata": {},
   "outputs": [
    {
     "name": "stdout",
     "output_type": "stream",
     "text": [
      "Helyes mátrix\n",
      "[4, 3]\n"
     ]
    }
   ],
   "source": [
    "mtx = [[1,0,0], [0,1,1]]\n",
    "\n",
    "def mtx_check(mtx):\n",
    "    ures = []\n",
    "    uj = []\n",
    "    sor = len(mtx)\n",
    "    for i in range(len(mtx)):\n",
    "        #print(mtx[i])\n",
    "        sor_ok = False\n",
    "        minden_sorban_elem = True\n",
    "        binaris = True\n",
    "        helyes = True\n",
    "        hossz = len(mtx)\n",
    "        if len(mtx) >= 1:\n",
    "            sor_ok = True\n",
    "        else:\n",
    "            print(\"Hibás minimum elemszám\")\n",
    "        for j in range(hossz-1):\n",
    "            if len(mtx[j+1]) != len(mtx[j]):\n",
    "                minden_sorban_elem = False\n",
    "                print(\"A sorméret nem azonos!\")\n",
    "        for j in range(len(mtx[i])):\n",
    "            #print(mtx[i][j])\n",
    "            if (int(mtx[i][j]) != 0) and (int(mtx[i][j]) != 1):\n",
    "                binaris  = False \n",
    "                print(\"Nem binaris számok\")\n",
    "    \n",
    "    for i in range(len(mtx)):\n",
    "        sum = 0\n",
    "        for j in range(len(mtx[i])):\n",
    "            sum = sum + int(mtx[i][j]) * 2**(len(mtx[i])-j-1)\n",
    "        uj.append(sum)\n",
    "    \n",
    "    if sor_ok == False or minden_sorban_elem == False or binaris == False:\n",
    "        helyes = False\n",
    "        print(\"Üres mátrix\")\n",
    "        return ures\n",
    "    else:\n",
    "        print(\"Helyes mátrix\")\n",
    "        print(uj)\n",
    "        return helyes, uj\n",
    "    \n",
    "helyes_e = mtx_check(mtx)  "
   ]
  },
  {
   "attachments": {},
   "cell_type": "markdown",
   "metadata": {},
   "source": [
    "A hegyek.txt adatfájl Magyarország legmagasabb hegycsúcsait tartalmazza. \n",
    "A felsorolás a tengerszint feletti magasságon alapul, a legmagasabbtól az alacsonyabbak felé haladva.\n",
    "Nyissa meg a fájlt és határozza meg az alábbi statisztikákat!\n",
    "\n",
    "a) Hány csúcsot tartalmaz a lista a Mátrából?\n",
    "b) Melyik hegységből szerepel a legtöbb hegycsúcs a listán?\n",
    "c) Gyűjtse ki a különböző hegységek legmagasabb csúcsait, és rendezze őket magasság szerint csökkenő sorrendbe!\n",
    "d) Akad néhány méterre azonos magasságú hegy a fenti listában. \n",
    "Melyik magassághoz tartozik a legtöbb hegy? Melyek ezek a hegyek? "
   ]
  },
  {
   "cell_type": "code",
   "execution_count": 17,
   "metadata": {},
   "outputs": [
    {
     "name": "stdout",
     "output_type": "stream",
     "text": [
      "26\n",
      "Bükk-vidék   61\n",
      "                 Hegycsúcs neve  Magasság (m)\n",
      "Hegység                                      \n",
      "Mátra                   Ágasvár          1014\n",
      "Bükk-vidék            Őr-kő (2)           961\n",
      "Börzsöny             Varsa-tető           938\n",
      "Zempléni-hegység   Tölgyes-bérc           893\n",
      "Kőszegi-hegység        Írott-kő           882\n",
      "787 méterhez tartozik a legtöbb hegy, méghozzá 4 db\n",
      "        Hegység Hegycsúcs neve  Magasság (m)\n",
      "98        Mátra    Kis-Átal-kő           787\n",
      "99        Mátra         Kis-kő           787\n",
      "100       Mátra     Köves-orom           787\n",
      "101  Bükk-vidék   Nagy-Dél (3)           787\n"
     ]
    }
   ],
   "source": [
    "import pandas as pd\n",
    "\n",
    "df = pd.read_csv('/home/g14/uni/sze_python_programozas/data/hegyek.txt',sep='\t')\n",
    "# df.info()\n",
    "\n",
    "# Hány csúcsot tartalmaz a lista a Mátrából?\n",
    "szam = len(df[df['Hegység'] == 'Mátra'])\n",
    "print(szam)\n",
    "    \n",
    "\n",
    "# Melyik hegységből szerepel a legtöbb hegycsúcs a listán? \n",
    "szam = df.groupby('Hegység')['Hegycsúcs neve'].size().max()\n",
    "hegysor = df.groupby('Hegység')['Hegycsúcs neve'].size().idxmax()\n",
    "print(hegysor, \" \", szam)\n",
    "\n",
    "# Gyűjtse ki a különböző hegységek legmagasabb csúcsait, \n",
    "# és rendezze őket magasság szerint csökkenő sorrendbe! \n",
    "hegysegek = df.groupby('Hegység').max().sort_values('Magasság (m)', ascending=False)    \n",
    "print(hegysegek)\n",
    "      \n",
    "\n",
    "# Akad néhány méterre azonos magasságú hegy a fenti listában. \n",
    "# Melyik magassághoz tartozik a legtöbb hegy? \n",
    "# Melyek ezek a hegyek? \n",
    "\n",
    "azonosmagassag = df[['Hegység','Magasság (m)']].sort_values(ascending=False,by='Magasság (m)').groupby('Magasság (m)').size().max()\n",
    "azonosmagassagmeter = df[['Hegység','Magasság (m)']].sort_values(ascending=False,by='Magasság (m)').groupby('Magasság (m)').size().idxmax()\n",
    "print(f'{azonosmagassagmeter} méterhez tartozik a legtöbb hegy, méghozzá {azonosmagassag} db')\n",
    "print(df[['Hegység','Hegycsúcs neve','Magasság (m)']][df['Magasság (m)']== azonosmagassagmeter])"
   ]
  }
 ],
 "metadata": {
  "kernelspec": {
   "display_name": "Python 3",
   "language": "python",
   "name": "python3"
  },
  "language_info": {
   "codemirror_mode": {
    "name": "ipython",
    "version": 3
   },
   "file_extension": ".py",
   "mimetype": "text/x-python",
   "name": "python",
   "nbconvert_exporter": "python",
   "pygments_lexer": "ipython3",
   "version": "3.10.6"
  }
 },
 "nbformat": 4,
 "nbformat_minor": 4
}
