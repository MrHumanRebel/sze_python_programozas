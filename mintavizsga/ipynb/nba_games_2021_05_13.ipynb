{
 "cells": [
  {
   "attachments": {},
   "cell_type": "markdown",
   "metadata": {},
   "source": [
    "# 1. feladat [10p]\n",
    "Készítsünk programot, amely bekér a felhasználótól két sztringet, majd kiírja a mindkét sztringben megtalálható\n",
    "bigramok számát! Bigramnak a 2 karakter hosszú részsztringet nevezzük, pl. papamaci sztring bigramfelbontása pa - ap - pa - am - ma - ac - ci . A program ne tekintse különbözőnek a kis és nagybetűket! Példa\n",
    "futási eredmény:\n",
    "1. sztring: PapaMaci\n",
    "2. sztring: MamaMaci\n",
    "közös bigramok száma: 4"
   ]
  },
  {
   "cell_type": "code",
   "execution_count": 1,
   "metadata": {},
   "outputs": [
    {
     "name": "stdout",
     "output_type": "stream",
     "text": [
      "Közös bigrammok száma: 4\n"
     ]
    }
   ],
   "source": [
    "data = input(\"Add meg az első sztringet: \")\n",
    "data_2 = input(\"Add meg a második sztringet: \")\n",
    "\n",
    "def bigram(data):\n",
    "    data = data.lower()\n",
    "    bigram = []\n",
    "    str = \"\"\n",
    "    for i  in range(len(data)):\n",
    "        if len(str) == 2:\n",
    "            bigram.append(str)\n",
    "            str = \"\"   \n",
    "            str += data[i]\n",
    "        else:\n",
    "            str += data[i]\n",
    "        if i == len(data) - 1:\n",
    "            bigram.append(str)\n",
    "    return bigram     \n",
    "\n",
    "def common_bigram(data, data_2):\n",
    "    common_bigrams = []\n",
    "    counter = 0\n",
    "    for i in data:\n",
    "        for j in data_2:\n",
    "            if i == j:\n",
    "                common_bigrams.append(i)\n",
    "                counter += 1\n",
    "    print(f'Közös bigrammok száma: {counter}')\n",
    "    return common_bigrams, counter\n",
    "\n",
    "bigrammm = common_bigram(bigram(data),bigram(data_2))"
   ]
  },
  {
   "attachments": {},
   "cell_type": "markdown",
   "metadata": {},
   "source": [
    "# Gyorsabb megoldás"
   ]
  },
  {
   "cell_type": "code",
   "execution_count": 5,
   "metadata": {},
   "outputs": [
    {
     "name": "stdout",
     "output_type": "stream",
     "text": [
      "['pa', 'ap', 'pa', 'am', 'ma', 'ac', 'ci']\n",
      "['ma', 'am', 'ma', 'am', 'ma', 'ac', 'ci']\n",
      "Közös bigrammok száma: 4\n"
     ]
    }
   ],
   "source": [
    "data = input(\"Add meg az első sztringet: \")\n",
    "data_2 = input(\"Add meg a második sztringet: \")\n",
    "\n",
    "def cycle(str, list, halmaz):\n",
    "    for i in range(len(str)-1):\n",
    "        bigram = str[i:i+2]\n",
    "        list.append(bigram)\n",
    "        halmaz.add(bigram)\n",
    "\n",
    "def bigram_counter(str, str_2):\n",
    "    str_1 = str.lower()\n",
    "    str_2 = str_2.lower()\n",
    "    list_1 = []\n",
    "    list_2 = []\n",
    "    halmaz_1 = set()\n",
    "    halmaz_2 = set()\n",
    "    cycle(str_1, list_1, halmaz_1)\n",
    "    cycle(str_2, list_2, halmaz_2)\n",
    "    halmaz_all = halmaz_1 & halmaz_2\n",
    "    print(list_1)\n",
    "    print(list_2)\n",
    "    print(f'Közös bigrammok száma: {len(halmaz_all)}')\n",
    "    \n",
    "\n",
    "bigram_counter(data, data_2)"
   ]
  },
  {
   "attachments": {},
   "cell_type": "markdown",
   "metadata": {},
   "source": [
    "# 2. feladat [14p]\n",
    "Az nba_games.txt (nba_games.txt) az amerikai professzionális kosárlabda bajnokság (NBA) mérkőzéseiről\n",
    "tartalmaz adatokat, a 2013-astól a 2019-es szezonig. Készítsünk programot, amely beolvassa a szövegfájl\n",
    "tartalmát, majd válaszol az alábbi kérdésekre!\n",
    "1. A mérkőzések hány százalékát nyerte meg a hazai ( home ) csapat?\n",
    "2. Hány mérőzésen szedtek le a csapatok 130-nál több lepattanót ( REB )?\n",
    "3. Melyik mérkőzésen született a legnagyobb különbségű győzelem?\n",
    "4. Mi a csapatok erősorrendje a győzelmek száma alapján?"
   ]
  },
  {
   "attachments": {},
   "cell_type": "markdown",
   "metadata": {},
   "source": [
    "# Pandas"
   ]
  },
  {
   "cell_type": "code",
   "execution_count": 13,
   "metadata": {},
   "outputs": [
    {
     "name": "stdout",
     "output_type": "stream",
     "text": [
      "A mérkőzések  59.37 %-át nyerte meg a hazai csapat.\n",
      "3 mérkőzésen szedtek le a csapatok 130-nál több lepattanót.\n",
      "SEASON                       2017\n",
      "DATE                   2018-03-22\n",
      "TEAM_home       Charlotte Hornets\n",
      "TEAM_away       Memphis Grizzlies\n",
      "PTS_home                      140\n",
      "PTS_away                       79\n",
      "REB_home                       53\n",
      "REB_away                       38\n",
      "AST_home                       25\n",
      "AST_away                       13\n",
      "FG3_PCT_home                 47.5\n",
      "FG3_PCT_away                 22.2\n",
      "Name: 17986, dtype: object\n",
      "TEAM_home\n",
      "Los Angeles Lakers        856\n",
      "Miami Heat                843\n",
      "San Antonio Spurs         835\n",
      "Boston Celtics            833\n",
      "Cleveland Cavaliers       816\n",
      "Detroit Pistons           798\n",
      "Houston Rockets           797\n",
      "Dallas Mavericks          795\n",
      "Chicago Bulls             792\n",
      "Golden State Warriors     792\n",
      "Oklahoma City Thunder     791\n",
      "Indiana Pacers            788\n",
      "Toronto Raptors           786\n",
      "Los Angeles Clippers      785\n",
      "Orlando Magic             772\n",
      "Atlanta Hawks             772\n",
      "Memphis Grizzlies         770\n",
      "Phoenix Suns              769\n",
      "Portland Trail Blazers    769\n",
      "Denver Nuggets            767\n",
      "Brooklyn Nets             764\n",
      "Milwaukee Bucks           761\n",
      "Philadelphia 76ers        760\n",
      "Utah Jazz                 759\n",
      "Washington Wizards        749\n",
      "New Orleans Pelicans      746\n",
      "Minnesota Timberwolves    740\n",
      "Sacramento Kings          738\n",
      "New York Knicks           732\n",
      "Charlotte Hornets         697\n",
      "dtype: int64\n"
     ]
    }
   ],
   "source": [
    "import pandas as pd\n",
    "df = pd.read_csv('/home/g14/uni/sze_python_programozas/data/nba_games.txt', sep = '|', skiprows = 1)\n",
    "\n",
    "#df.info()\n",
    "\n",
    "#1. A mérkőzések hány százalékát nyerte meg a hazai ( home ) csapat?\n",
    "home = (sum(df['PTS_home'] > df['PTS_away']) / len(df['PTS_home'])) * 100\n",
    "print(f'A mérkőzések  {home:.2f} %-át nyerte meg a hazai csapat.')\n",
    "\n",
    "#2. Hány mérőzésen szedtek le a csapatok 130-nál több lepattanót ( REB )?\n",
    "reb = len(df[(df['REB_home']+df['REB_away'])>130])\n",
    "print(reb, 'mérkőzésen szedtek le a csapatok 130-nál több lepattanót.')\n",
    "\n",
    "#3. Melyik mérkőzésen született a legnagyobb különbségű győzelem?\n",
    "diff = df.iloc[abs(df['PTS_home']-df['PTS_away']).idxmax()]\n",
    "print(diff)\n",
    "\n",
    "#4. Mi a csapatok erősorrendje a győzelmek száma alapján?\n",
    "hazaigyozelem = df[(df['PTS_home'] > df['PTS_away'])].groupby('TEAM_home').size()\n",
    "hazaivereseg = df[(df['PTS_home'] < df['PTS_away'])].groupby('TEAM_home').size()\n",
    "print((hazaigyozelem + hazaivereseg).sort_values(ascending =False))"
   ]
  },
  {
   "attachments": {},
   "cell_type": "markdown",
   "metadata": {},
   "source": [
    "# Manuális nem pontos megoldás"
   ]
  },
  {
   "cell_type": "code",
   "execution_count": null,
   "metadata": {},
   "outputs": [
    {
     "name": "stdout",
     "output_type": "stream",
     "text": [
      "\n",
      "\n",
      "Az otthoni csapat győzelmének aránya: 57.65\n",
      "\n",
      "\n",
      "A 130-nál több lepattanóval rendelkező meccsek száma: 3\n",
      "\n",
      "\n",
      "2018-03-22 Charlotte Hornets Memphis Grizzlies \n",
      "\n",
      "Golden State Warriors\n",
      "Houston Rockets\n",
      "Toronto Raptors\n",
      "Los Angeles Clippers\n",
      "Cleveland Cavaliers\n",
      "Boston Celtics\n",
      "Oklahoma City Thunder\n",
      "San Antonio Spurs\n",
      "Portland Trail Blazers\n",
      "Miami Heat\n",
      "Los Angeles Lakers\n",
      "Milwaukee Bucks\n",
      "Denver Nuggets\n",
      "Dallas Mavericks\n",
      "Atlanta Hawks\n",
      "Philadelphia 76ers\n",
      "Indiana Pacers\n",
      "New Orleans Pelicans\n",
      "Brooklyn Nets\n",
      "Chicago Bulls\n",
      "Memphis Grizzlies\n",
      "Utah Jazz\n",
      "Phoenix Suns\n",
      "Detroit Pistons\n",
      "Orlando Magic\n",
      "Minnesota Timberwolves\n",
      "Charlotte Hornets\n",
      "Sacramento Kings\n",
      "New York Knicks\n"
     ]
    }
   ],
   "source": [
    "def read_file(path):\n",
    "    data = open(path)\n",
    "    nba = []\n",
    "    next(data)\n",
    "    next(data)\n",
    "    for line in data:\n",
    "        date= int((line[0]+line[1]+line[2]+line[3]))\n",
    "        if date >= 2013 and date <= 2019:\n",
    "            nba.append(line.strip().split(\"|\"))\n",
    "    return nba\n",
    "\n",
    "def home_team_win_percentage(nba): \n",
    "    wins = 0\n",
    "    loses = 0\n",
    "    for i in nba:\n",
    "        if (int(i[4]) > int(i[5])):\n",
    "            wins += 1\n",
    "        else: \n",
    "            loses += 1\n",
    "    print(f'Az otthoni csapat győzelmének aránya: {wins/(wins+loses)*100:.2f}')\n",
    "    return wins/(wins+loses)*100\n",
    "\n",
    "def count_reb(nba):\n",
    "    rebs = 0\n",
    "    for i in nba:\n",
    "        total_rebs = int(i[6]) + int(i[7])\n",
    "        if (total_rebs > 130):\n",
    "            rebs += 1\n",
    "    print(f'A 130-nál több lepattanóval rendelkező meccsek száma: {rebs}')\n",
    "    return rebs\n",
    "\n",
    "def top_diff_win(nba):\n",
    "    max_diff = 0\n",
    "    index = None\n",
    "    for i in nba:\n",
    "        if (int(i[4]) > int(i[5])):\n",
    "            diff = int(i[4]) - int(i[5])\n",
    "            if (diff > max_diff):\n",
    "                max_diff = diff\n",
    "                index = i\n",
    "        else:\n",
    "            diff = int(i[5]) - int(i[4])\n",
    "            if (diff > max_diff):\n",
    "                max_diff = diff\n",
    "                index = i\n",
    "    for i in range(1,(len(index)-8)):\n",
    "        print(index[i], end=\" \")\n",
    "    return index\n",
    "\n",
    "def teams_power_order(nba):\n",
    "    nba = sorted(nba, key=lambda x: x[2])\n",
    "    nba_teams = []\n",
    "    counter = 0\n",
    "    current_team = nba[0][2]\n",
    "    for i in range(len(nba)):\n",
    "        if nba[i][2] == current_team:\n",
    "            counter += int(nba[i][4])\n",
    "        else:\n",
    "            nba_teams.append([current_team, counter])\n",
    "            counter = 0\n",
    "            current_team = str(nba[i][2])\n",
    "            counter += int(nba[i][4])\n",
    "    nba_teams = sorted(nba_teams, key=lambda x: x[1], reverse=True)\n",
    "    for i in nba_teams:\n",
    "        print(i[0])\n",
    "    return nba_teams\n",
    "    \n",
    "nba_data = read_file(\"/home/g14/uni/sze_python_programozas/data/nba_games.txt\")\n",
    "print('\\n')\n",
    "home_wins = home_team_win_percentage(nba_data)\n",
    "print('\\n')\n",
    "rebs_count = count_reb(nba_data)\n",
    "print('\\n')\n",
    "win_max = top_diff_win(nba_data)\n",
    "print('\\n')\n",
    "sort_team = teams_power_order(nba_data)\n",
    "\n"
   ]
  }
 ],
 "metadata": {
  "kernelspec": {
   "display_name": "Python 3",
   "language": "python",
   "name": "python3"
  },
  "language_info": {
   "codemirror_mode": {
    "name": "ipython",
    "version": 3
   },
   "file_extension": ".py",
   "mimetype": "text/x-python",
   "name": "python",
   "nbconvert_exporter": "python",
   "pygments_lexer": "ipython3",
   "version": "3.10.6"
  },
  "orig_nbformat": 4,
  "vscode": {
   "interpreter": {
    "hash": "916dbcbb3f70747c44a77c7bcd40155683ae19c65e1c03b4aa3499c5328201f1"
   }
  }
 },
 "nbformat": 4,
 "nbformat_minor": 2
}
