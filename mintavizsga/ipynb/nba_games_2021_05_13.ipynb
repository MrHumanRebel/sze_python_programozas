{
 "cells": [
  {
   "attachments": {},
   "cell_type": "markdown",
   "metadata": {},
   "source": [
    "# 1. feladat [10p]\n",
    "Készítsünk programot, amely bekér a felhasználótól két sztringet, majd kiírja a mindkét sztringben megtalálható\n",
    "bigramok számát! Bigramnak a 2 karakter hosszú részsztringet nevezzük, pl. papamaci sztring bigramfelbontása pa - ap - pa - am - ma - ac - ci . A program ne tekintse különbözőnek a kis és nagybetűket! Példa\n",
    "futási eredmény:\n",
    "1. sztring: PapaMaci\n",
    "2. sztring: MamaMaci\n",
    "közös bigramok száma: 4"
   ]
  },
  {
   "cell_type": "code",
   "execution_count": 1,
   "metadata": {},
   "outputs": [
    {
     "name": "stdout",
     "output_type": "stream",
     "text": [
      "Közös bigrammok száma: 0\n"
     ]
    }
   ],
   "source": [
    "data = input(\"Add meg az első sztringet: \")\n",
    "data_2 = input(\"Add meg a második sztringet: \")\n",
    "\n",
    "def bigram(data):\n",
    "    data = data.lower()\n",
    "    bigram = []\n",
    "    str = \"\"\n",
    "    for i  in range(len(data)):\n",
    "        if len(str) == 2:\n",
    "            bigram.append(str)\n",
    "            str = \"\"   \n",
    "            str += data[i]\n",
    "        else:\n",
    "            str += data[i]\n",
    "        if i == len(data) - 1:\n",
    "            bigram.append(str)\n",
    "    return bigram     \n",
    "\n",
    "def common_bigram(data, data_2):\n",
    "    common_bigrams = []\n",
    "    counter = 0\n",
    "    for i in data:\n",
    "        for j in data_2:\n",
    "            if i == j:\n",
    "                common_bigrams.append(i)\n",
    "                counter += 1\n",
    "    print(f'Közös bigrammok száma: {counter}')\n",
    "    return common_bigrams, counter\n",
    "\n",
    "bigrammm = common_bigram(bigram(data),bigram(data_2))"
   ]
  },
  {
   "attachments": {},
   "cell_type": "markdown",
   "metadata": {},
   "source": [
    "# 2. feladat [14p]\n",
    "Az nba_games.txt (nba_games.txt) az amerikai professzionális kosárlabda bajnokság (NBA) mérkőzéseiről\n",
    "tartalmaz adatokat, a 2013-astól a 2019-es szezonig. Készítsünk programot, amely beolvassa a szövegfájl\n",
    "tartalmát, majd válaszol az alábbi kérdésekre!\n",
    "1. A mérkőzések hány százalékát nyerte meg a hazai ( home ) csapat?\n",
    "2. Hány mérőzésen szedtek le a csapatok 130-nál több lepattanót ( REB )?\n",
    "3. Melyik mérkőzésen született a legnagyobb különbségű győzelem?\n",
    "4. Mi a csapatok erősorrendje a győzelmek száma alapján?"
   ]
  },
  {
   "attachments": {},
   "cell_type": "markdown",
   "metadata": {},
   "source": [
    "# Pandas"
   ]
  },
  {
   "cell_type": "code",
   "execution_count": 2,
   "metadata": {},
   "outputs": [
    {
     "ename": "FileNotFoundError",
     "evalue": "[Errno 2] No such file or directory: 'C:\\\\Users\\\\Dorián\\\\PycharmProjects\\\\PythonVizsgaFelkészülés1Feladatok\\\\tables\\\\nba_games.txt'",
     "output_type": "error",
     "traceback": [
      "\u001b[0;31m---------------------------------------------------------------------------\u001b[0m",
      "\u001b[0;31mFileNotFoundError\u001b[0m                         Traceback (most recent call last)",
      "Cell \u001b[0;32mIn[2], line 2\u001b[0m\n\u001b[1;32m      1\u001b[0m \u001b[39mimport\u001b[39;00m \u001b[39mpandas\u001b[39;00m \u001b[39mas\u001b[39;00m \u001b[39mpd\u001b[39;00m\n\u001b[0;32m----> 2\u001b[0m df \u001b[39m=\u001b[39m pd\u001b[39m.\u001b[39;49mread_csv(\u001b[39m'\u001b[39;49m\u001b[39mC:\u001b[39;49m\u001b[39m\\\\\u001b[39;49;00m\u001b[39mUsers\u001b[39;49m\u001b[39m\\\\\u001b[39;49;00m\u001b[39mDorián\u001b[39;49m\u001b[39m\\\\\u001b[39;49;00m\u001b[39mPycharmProjects\u001b[39;49m\u001b[39m\\\\\u001b[39;49;00m\u001b[39mPythonVizsgaFelkészülés1Feladatok\u001b[39;49m\u001b[39m\\\\\u001b[39;49;00m\u001b[39mtables\u001b[39;49m\u001b[39m\\\\\u001b[39;49;00m\u001b[39mnba_games.txt\u001b[39;49m\u001b[39m'\u001b[39;49m, sep \u001b[39m=\u001b[39;49m \u001b[39m'\u001b[39;49m\u001b[39m|\u001b[39;49m\u001b[39m'\u001b[39;49m, skiprows \u001b[39m=\u001b[39;49m \u001b[39m1\u001b[39;49m)\n\u001b[1;32m      3\u001b[0m \u001b[39m#1. A mérkőzések hány százalékát nyerte meg a hazai ( home ) csapat?\u001b[39;00m\n\u001b[1;32m      4\u001b[0m \u001b[39mprint\u001b[39m(\u001b[39m'\u001b[39m\u001b[39mA mérkőzések \u001b[39m\u001b[39m'\u001b[39m, (\u001b[39msum\u001b[39m(df[\u001b[39m'\u001b[39m\u001b[39mPTS_home\u001b[39m\u001b[39m'\u001b[39m] \u001b[39m>\u001b[39m df[\u001b[39m'\u001b[39m\u001b[39mPTS_away\u001b[39m\u001b[39m'\u001b[39m]) \u001b[39m/\u001b[39m \u001b[39mlen\u001b[39m(df[\u001b[39m'\u001b[39m\u001b[39mPTS_home\u001b[39m\u001b[39m'\u001b[39m])) \u001b[39m*\u001b[39m \u001b[39m100\u001b[39m, \u001b[39m'\u001b[39m\u001b[39m%\u001b[39m\u001b[39m-át nyerte meg a hazai csapat.\u001b[39m\u001b[39m'\u001b[39m)\n",
      "File \u001b[0;32m~/.local/lib/python3.10/site-packages/pandas/util/_decorators.py:211\u001b[0m, in \u001b[0;36mdeprecate_kwarg.<locals>._deprecate_kwarg.<locals>.wrapper\u001b[0;34m(*args, **kwargs)\u001b[0m\n\u001b[1;32m    209\u001b[0m     \u001b[39melse\u001b[39;00m:\n\u001b[1;32m    210\u001b[0m         kwargs[new_arg_name] \u001b[39m=\u001b[39m new_arg_value\n\u001b[0;32m--> 211\u001b[0m \u001b[39mreturn\u001b[39;00m func(\u001b[39m*\u001b[39;49margs, \u001b[39m*\u001b[39;49m\u001b[39m*\u001b[39;49mkwargs)\n",
      "File \u001b[0;32m~/.local/lib/python3.10/site-packages/pandas/util/_decorators.py:331\u001b[0m, in \u001b[0;36mdeprecate_nonkeyword_arguments.<locals>.decorate.<locals>.wrapper\u001b[0;34m(*args, **kwargs)\u001b[0m\n\u001b[1;32m    325\u001b[0m \u001b[39mif\u001b[39;00m \u001b[39mlen\u001b[39m(args) \u001b[39m>\u001b[39m num_allow_args:\n\u001b[1;32m    326\u001b[0m     warnings\u001b[39m.\u001b[39mwarn(\n\u001b[1;32m    327\u001b[0m         msg\u001b[39m.\u001b[39mformat(arguments\u001b[39m=\u001b[39m_format_argument_list(allow_args)),\n\u001b[1;32m    328\u001b[0m         \u001b[39mFutureWarning\u001b[39;00m,\n\u001b[1;32m    329\u001b[0m         stacklevel\u001b[39m=\u001b[39mfind_stack_level(),\n\u001b[1;32m    330\u001b[0m     )\n\u001b[0;32m--> 331\u001b[0m \u001b[39mreturn\u001b[39;00m func(\u001b[39m*\u001b[39;49margs, \u001b[39m*\u001b[39;49m\u001b[39m*\u001b[39;49mkwargs)\n",
      "File \u001b[0;32m~/.local/lib/python3.10/site-packages/pandas/io/parsers/readers.py:950\u001b[0m, in \u001b[0;36mread_csv\u001b[0;34m(filepath_or_buffer, sep, delimiter, header, names, index_col, usecols, squeeze, prefix, mangle_dupe_cols, dtype, engine, converters, true_values, false_values, skipinitialspace, skiprows, skipfooter, nrows, na_values, keep_default_na, na_filter, verbose, skip_blank_lines, parse_dates, infer_datetime_format, keep_date_col, date_parser, dayfirst, cache_dates, iterator, chunksize, compression, thousands, decimal, lineterminator, quotechar, quoting, doublequote, escapechar, comment, encoding, encoding_errors, dialect, error_bad_lines, warn_bad_lines, on_bad_lines, delim_whitespace, low_memory, memory_map, float_precision, storage_options)\u001b[0m\n\u001b[1;32m    935\u001b[0m kwds_defaults \u001b[39m=\u001b[39m _refine_defaults_read(\n\u001b[1;32m    936\u001b[0m     dialect,\n\u001b[1;32m    937\u001b[0m     delimiter,\n\u001b[0;32m   (...)\u001b[0m\n\u001b[1;32m    946\u001b[0m     defaults\u001b[39m=\u001b[39m{\u001b[39m\"\u001b[39m\u001b[39mdelimiter\u001b[39m\u001b[39m\"\u001b[39m: \u001b[39m\"\u001b[39m\u001b[39m,\u001b[39m\u001b[39m\"\u001b[39m},\n\u001b[1;32m    947\u001b[0m )\n\u001b[1;32m    948\u001b[0m kwds\u001b[39m.\u001b[39mupdate(kwds_defaults)\n\u001b[0;32m--> 950\u001b[0m \u001b[39mreturn\u001b[39;00m _read(filepath_or_buffer, kwds)\n",
      "File \u001b[0;32m~/.local/lib/python3.10/site-packages/pandas/io/parsers/readers.py:605\u001b[0m, in \u001b[0;36m_read\u001b[0;34m(filepath_or_buffer, kwds)\u001b[0m\n\u001b[1;32m    602\u001b[0m _validate_names(kwds\u001b[39m.\u001b[39mget(\u001b[39m\"\u001b[39m\u001b[39mnames\u001b[39m\u001b[39m\"\u001b[39m, \u001b[39mNone\u001b[39;00m))\n\u001b[1;32m    604\u001b[0m \u001b[39m# Create the parser.\u001b[39;00m\n\u001b[0;32m--> 605\u001b[0m parser \u001b[39m=\u001b[39m TextFileReader(filepath_or_buffer, \u001b[39m*\u001b[39;49m\u001b[39m*\u001b[39;49mkwds)\n\u001b[1;32m    607\u001b[0m \u001b[39mif\u001b[39;00m chunksize \u001b[39mor\u001b[39;00m iterator:\n\u001b[1;32m    608\u001b[0m     \u001b[39mreturn\u001b[39;00m parser\n",
      "File \u001b[0;32m~/.local/lib/python3.10/site-packages/pandas/io/parsers/readers.py:1442\u001b[0m, in \u001b[0;36mTextFileReader.__init__\u001b[0;34m(self, f, engine, **kwds)\u001b[0m\n\u001b[1;32m   1439\u001b[0m     \u001b[39mself\u001b[39m\u001b[39m.\u001b[39moptions[\u001b[39m\"\u001b[39m\u001b[39mhas_index_names\u001b[39m\u001b[39m\"\u001b[39m] \u001b[39m=\u001b[39m kwds[\u001b[39m\"\u001b[39m\u001b[39mhas_index_names\u001b[39m\u001b[39m\"\u001b[39m]\n\u001b[1;32m   1441\u001b[0m \u001b[39mself\u001b[39m\u001b[39m.\u001b[39mhandles: IOHandles \u001b[39m|\u001b[39m \u001b[39mNone\u001b[39;00m \u001b[39m=\u001b[39m \u001b[39mNone\u001b[39;00m\n\u001b[0;32m-> 1442\u001b[0m \u001b[39mself\u001b[39m\u001b[39m.\u001b[39m_engine \u001b[39m=\u001b[39m \u001b[39mself\u001b[39;49m\u001b[39m.\u001b[39;49m_make_engine(f, \u001b[39mself\u001b[39;49m\u001b[39m.\u001b[39;49mengine)\n",
      "File \u001b[0;32m~/.local/lib/python3.10/site-packages/pandas/io/parsers/readers.py:1735\u001b[0m, in \u001b[0;36mTextFileReader._make_engine\u001b[0;34m(self, f, engine)\u001b[0m\n\u001b[1;32m   1733\u001b[0m     \u001b[39mif\u001b[39;00m \u001b[39m\"\u001b[39m\u001b[39mb\u001b[39m\u001b[39m\"\u001b[39m \u001b[39mnot\u001b[39;00m \u001b[39min\u001b[39;00m mode:\n\u001b[1;32m   1734\u001b[0m         mode \u001b[39m+\u001b[39m\u001b[39m=\u001b[39m \u001b[39m\"\u001b[39m\u001b[39mb\u001b[39m\u001b[39m\"\u001b[39m\n\u001b[0;32m-> 1735\u001b[0m \u001b[39mself\u001b[39m\u001b[39m.\u001b[39mhandles \u001b[39m=\u001b[39m get_handle(\n\u001b[1;32m   1736\u001b[0m     f,\n\u001b[1;32m   1737\u001b[0m     mode,\n\u001b[1;32m   1738\u001b[0m     encoding\u001b[39m=\u001b[39;49m\u001b[39mself\u001b[39;49m\u001b[39m.\u001b[39;49moptions\u001b[39m.\u001b[39;49mget(\u001b[39m\"\u001b[39;49m\u001b[39mencoding\u001b[39;49m\u001b[39m\"\u001b[39;49m, \u001b[39mNone\u001b[39;49;00m),\n\u001b[1;32m   1739\u001b[0m     compression\u001b[39m=\u001b[39;49m\u001b[39mself\u001b[39;49m\u001b[39m.\u001b[39;49moptions\u001b[39m.\u001b[39;49mget(\u001b[39m\"\u001b[39;49m\u001b[39mcompression\u001b[39;49m\u001b[39m\"\u001b[39;49m, \u001b[39mNone\u001b[39;49;00m),\n\u001b[1;32m   1740\u001b[0m     memory_map\u001b[39m=\u001b[39;49m\u001b[39mself\u001b[39;49m\u001b[39m.\u001b[39;49moptions\u001b[39m.\u001b[39;49mget(\u001b[39m\"\u001b[39;49m\u001b[39mmemory_map\u001b[39;49m\u001b[39m\"\u001b[39;49m, \u001b[39mFalse\u001b[39;49;00m),\n\u001b[1;32m   1741\u001b[0m     is_text\u001b[39m=\u001b[39;49mis_text,\n\u001b[1;32m   1742\u001b[0m     errors\u001b[39m=\u001b[39;49m\u001b[39mself\u001b[39;49m\u001b[39m.\u001b[39;49moptions\u001b[39m.\u001b[39;49mget(\u001b[39m\"\u001b[39;49m\u001b[39mencoding_errors\u001b[39;49m\u001b[39m\"\u001b[39;49m, \u001b[39m\"\u001b[39;49m\u001b[39mstrict\u001b[39;49m\u001b[39m\"\u001b[39;49m),\n\u001b[1;32m   1743\u001b[0m     storage_options\u001b[39m=\u001b[39;49m\u001b[39mself\u001b[39;49m\u001b[39m.\u001b[39;49moptions\u001b[39m.\u001b[39;49mget(\u001b[39m\"\u001b[39;49m\u001b[39mstorage_options\u001b[39;49m\u001b[39m\"\u001b[39;49m, \u001b[39mNone\u001b[39;49;00m),\n\u001b[1;32m   1744\u001b[0m )\n\u001b[1;32m   1745\u001b[0m \u001b[39massert\u001b[39;00m \u001b[39mself\u001b[39m\u001b[39m.\u001b[39mhandles \u001b[39mis\u001b[39;00m \u001b[39mnot\u001b[39;00m \u001b[39mNone\u001b[39;00m\n\u001b[1;32m   1746\u001b[0m f \u001b[39m=\u001b[39m \u001b[39mself\u001b[39m\u001b[39m.\u001b[39mhandles\u001b[39m.\u001b[39mhandle\n",
      "File \u001b[0;32m~/.local/lib/python3.10/site-packages/pandas/io/common.py:856\u001b[0m, in \u001b[0;36mget_handle\u001b[0;34m(path_or_buf, mode, encoding, compression, memory_map, is_text, errors, storage_options)\u001b[0m\n\u001b[1;32m    851\u001b[0m \u001b[39melif\u001b[39;00m \u001b[39misinstance\u001b[39m(handle, \u001b[39mstr\u001b[39m):\n\u001b[1;32m    852\u001b[0m     \u001b[39m# Check whether the filename is to be opened in binary mode.\u001b[39;00m\n\u001b[1;32m    853\u001b[0m     \u001b[39m# Binary mode does not support 'encoding' and 'newline'.\u001b[39;00m\n\u001b[1;32m    854\u001b[0m     \u001b[39mif\u001b[39;00m ioargs\u001b[39m.\u001b[39mencoding \u001b[39mand\u001b[39;00m \u001b[39m\"\u001b[39m\u001b[39mb\u001b[39m\u001b[39m\"\u001b[39m \u001b[39mnot\u001b[39;00m \u001b[39min\u001b[39;00m ioargs\u001b[39m.\u001b[39mmode:\n\u001b[1;32m    855\u001b[0m         \u001b[39m# Encoding\u001b[39;00m\n\u001b[0;32m--> 856\u001b[0m         handle \u001b[39m=\u001b[39m \u001b[39mopen\u001b[39;49m(\n\u001b[1;32m    857\u001b[0m             handle,\n\u001b[1;32m    858\u001b[0m             ioargs\u001b[39m.\u001b[39;49mmode,\n\u001b[1;32m    859\u001b[0m             encoding\u001b[39m=\u001b[39;49mioargs\u001b[39m.\u001b[39;49mencoding,\n\u001b[1;32m    860\u001b[0m             errors\u001b[39m=\u001b[39;49merrors,\n\u001b[1;32m    861\u001b[0m             newline\u001b[39m=\u001b[39;49m\u001b[39m\"\u001b[39;49m\u001b[39m\"\u001b[39;49m,\n\u001b[1;32m    862\u001b[0m         )\n\u001b[1;32m    863\u001b[0m     \u001b[39melse\u001b[39;00m:\n\u001b[1;32m    864\u001b[0m         \u001b[39m# Binary mode\u001b[39;00m\n\u001b[1;32m    865\u001b[0m         handle \u001b[39m=\u001b[39m \u001b[39mopen\u001b[39m(handle, ioargs\u001b[39m.\u001b[39mmode)\n",
      "\u001b[0;31mFileNotFoundError\u001b[0m: [Errno 2] No such file or directory: 'C:\\\\Users\\\\Dorián\\\\PycharmProjects\\\\PythonVizsgaFelkészülés1Feladatok\\\\tables\\\\nba_games.txt'"
     ]
    }
   ],
   "source": [
    "import pandas as pd\n",
    "df = pd.read_csv('C:\\\\Users\\\\Dorián\\\\PycharmProjects\\\\PythonVizsgaFelkészülés1Feladatok\\\\tables\\\\nba_games.txt', sep = '|', skiprows = 1)\n",
    "#1. A mérkőzések hány százalékát nyerte meg a hazai ( home ) csapat?\n",
    "print('A mérkőzések ', (sum(df['PTS_home'] > df['PTS_away']) / len(df['PTS_home'])) * 100, '%-át nyerte meg a hazai csapat.')\n",
    "\n",
    "#2. Hány mérőzésen szedtek le a csapatok 130-nál több lepattanót ( REB )?\n",
    "print(len(df[(df['REB_home']+df['REB_away'])>130]), 'mérkőzésen szedtek le a csapatok 130-nál több lepattanót.')\n",
    "\n",
    "#3. Melyik mérkőzésen született a legnagyobb különbségű győzelem?\n",
    "print(df.iloc[abs(df['PTS_home']-df['PTS_away']).idxmax()])\n",
    "\n",
    "#4. Mi a csapatok erősorrendje a győzelmek száma alapján?\n",
    "hazaigyozelem = df[(df['PTS_home'] > df['PTS_away'])].groupby('TEAM_home').size()\n",
    "hazaivereseg = df[(df['PTS_home'] < df['PTS_away'])].groupby('TEAM_home').size()\n",
    "print((hazaigyozelem + hazaivereseg).sort_values(ascending =False))"
   ]
  },
  {
   "attachments": {},
   "cell_type": "markdown",
   "metadata": {},
   "source": [
    "# Manuális nem pontos megoldás"
   ]
  },
  {
   "cell_type": "code",
   "execution_count": null,
   "metadata": {},
   "outputs": [
    {
     "name": "stdout",
     "output_type": "stream",
     "text": [
      "\n",
      "\n",
      "Az otthoni csapat győzelmének aránya: 57.65\n",
      "\n",
      "\n",
      "A 130-nál több lepattanóval rendelkező meccsek száma: 3\n",
      "\n",
      "\n",
      "2018-03-22 Charlotte Hornets Memphis Grizzlies \n",
      "\n",
      "Golden State Warriors\n",
      "Houston Rockets\n",
      "Toronto Raptors\n",
      "Los Angeles Clippers\n",
      "Cleveland Cavaliers\n",
      "Boston Celtics\n",
      "Oklahoma City Thunder\n",
      "San Antonio Spurs\n",
      "Portland Trail Blazers\n",
      "Miami Heat\n",
      "Los Angeles Lakers\n",
      "Milwaukee Bucks\n",
      "Denver Nuggets\n",
      "Dallas Mavericks\n",
      "Atlanta Hawks\n",
      "Philadelphia 76ers\n",
      "Indiana Pacers\n",
      "New Orleans Pelicans\n",
      "Brooklyn Nets\n",
      "Chicago Bulls\n",
      "Memphis Grizzlies\n",
      "Utah Jazz\n",
      "Phoenix Suns\n",
      "Detroit Pistons\n",
      "Orlando Magic\n",
      "Minnesota Timberwolves\n",
      "Charlotte Hornets\n",
      "Sacramento Kings\n",
      "New York Knicks\n"
     ]
    }
   ],
   "source": [
    "def read_file(path):\n",
    "    data = open(path)\n",
    "    nba = []\n",
    "    next(data)\n",
    "    next(data)\n",
    "    for line in data:\n",
    "        date= int((line[0]+line[1]+line[2]+line[3]))\n",
    "        if date >= 2013 and date <= 2019:\n",
    "            nba.append(line.strip().split(\"|\"))\n",
    "    return nba\n",
    "\n",
    "def home_team_win_percentage(nba): \n",
    "    wins = 0\n",
    "    loses = 0\n",
    "    for i in nba:\n",
    "        if (int(i[4]) > int(i[5])):\n",
    "            wins += 1\n",
    "        else: \n",
    "            loses += 1\n",
    "    print(f'Az otthoni csapat győzelmének aránya: {wins/(wins+loses)*100:.2f}')\n",
    "    return wins/(wins+loses)*100\n",
    "\n",
    "def count_reb(nba):\n",
    "    rebs = 0\n",
    "    for i in nba:\n",
    "        total_rebs = int(i[6]) + int(i[7])\n",
    "        if (total_rebs > 130):\n",
    "            rebs += 1\n",
    "    print(f'A 130-nál több lepattanóval rendelkező meccsek száma: {rebs}')\n",
    "    return rebs\n",
    "\n",
    "def top_diff_win(nba):\n",
    "    max_diff = 0\n",
    "    index = None\n",
    "    for i in nba:\n",
    "        if (int(i[4]) > int(i[5])):\n",
    "            diff = int(i[4]) - int(i[5])\n",
    "            if (diff > max_diff):\n",
    "                max_diff = diff\n",
    "                index = i\n",
    "        else:\n",
    "            diff = int(i[5]) - int(i[4])\n",
    "            if (diff > max_diff):\n",
    "                max_diff = diff\n",
    "                index = i\n",
    "    for i in range(1,(len(index)-8)):\n",
    "        print(index[i], end=\" \")\n",
    "    return index\n",
    "\n",
    "def teams_power_order(nba):\n",
    "    nba = sorted(nba, key=lambda x: x[2])\n",
    "    nba_teams = []\n",
    "    counter = 0\n",
    "    current_team = nba[0][2]\n",
    "    for i in range(len(nba)):\n",
    "        if nba[i][2] == current_team:\n",
    "            counter += int(nba[i][4])\n",
    "        else:\n",
    "            nba_teams.append([current_team, counter])\n",
    "            counter = 0\n",
    "            current_team = str(nba[i][2])\n",
    "            counter += int(nba[i][4])\n",
    "    nba_teams = sorted(nba_teams, key=lambda x: x[1], reverse=True)\n",
    "    for i in nba_teams:\n",
    "        print(i[0])\n",
    "    return nba_teams\n",
    "    \n",
    "nba_data = read_file(\"/home/g14/uni/sze_python_programozas/data/nba_games.txt\")\n",
    "print('\\n')\n",
    "home_wins = home_team_win_percentage(nba_data)\n",
    "print('\\n')\n",
    "rebs_count = count_reb(nba_data)\n",
    "print('\\n')\n",
    "win_max = top_diff_win(nba_data)\n",
    "print('\\n')\n",
    "sort_team = teams_power_order(nba_data)\n",
    "\n"
   ]
  }
 ],
 "metadata": {
  "kernelspec": {
   "display_name": "Python 3",
   "language": "python",
   "name": "python3"
  },
  "language_info": {
   "codemirror_mode": {
    "name": "ipython",
    "version": 3
   },
   "file_extension": ".py",
   "mimetype": "text/x-python",
   "name": "python",
   "nbconvert_exporter": "python",
   "pygments_lexer": "ipython3",
   "version": "3.10.6"
  },
  "orig_nbformat": 4,
  "vscode": {
   "interpreter": {
    "hash": "916dbcbb3f70747c44a77c7bcd40155683ae19c65e1c03b4aa3499c5328201f1"
   }
  }
 },
 "nbformat": 4,
 "nbformat_minor": 2
}
