{
 "cells": [
  {
   "attachments": {},
   "cell_type": "markdown",
   "metadata": {},
   "source": [
    "# 1. feladat [8p]\n",
    "\n",
    " Alex és Bob és Charlie közös programot szerveznek. A szabad időintervallumaik az intervals szótárban vannak megadva. Készítsünk programot, amely kiszámítja, hogy hány olyan nap van, amikor mindhárman ráérnekl Az intervallumok zártak, azaz a végpontok szabad időpontnak tekintendők. A program ne csak a megadott intervals adatszerkezetre működjön, hanem tetszőleges, ugyanilyen formátumú bemenetre is! "
   ]
  },
  {
   "cell_type": "code",
   "execution_count": null,
   "metadata": {},
   "outputs": [],
   "source": [
    "import datetime as dt\n",
    "\n",
    "intervals = {\n",
    "    'Alex': [('2020-06-20','2020-06-23'), ('2020-06-30', '2020-07-05')],\n",
    "    'Bob' : [('2020-06-18','2020-06-21'), ('2020-06-24','2020-07-01'), ('2020-07-03', '2020-07-04')],\n",
    "    'Charlie': [('2020-06-21', '2020-06-28'), ('2020-07-02', '2020-07-10')],\n",
    "}\n",
    "\n",
    "def get_free_dates(name, intervals):\n",
    "    free_dates = []\n",
    "  \n",
    "    free_periods = intervals[name]\n",
    "\n",
    "    for period in free_periods:\n",
    "       start_date = dt.datetime.strptime(period[0], \"%Y-%m-%d\").date()\n",
    "       end_date = dt.datetime.strptime(period[1], \"%Y-%m-%d\").date()\n",
    "\n",
    "       free_dates_period = [start_date + dt.timedelta(days=current_day) for current_day in range((end_date - start_date).days + 1)]\n",
    "       free_dates.extend([date for date in free_dates_period])\n",
    "\n",
    "    return free_dates\n",
    "\n",
    "def main():\n",
    "    names = intervals.keys()\n",
    "\n",
    "    req_occurs = len(names)\n",
    "    \n",
    "    free_dates_nested = [get_free_dates(name, intervals) for name in names]\n",
    "    free_dates = [date for free_date_for_name in free_dates_nested for date in free_date_for_name]\n",
    "    \n",
    "    correct_dates = {date for date in free_dates if free_dates.count(date) == req_occurs}\n",
    "    print(len(correct_dates))\n",
    "    \n",
    "main()"
   ]
  },
  {
   "attachments": {},
   "cell_type": "markdown",
   "metadata": {},
   "source": [
    "# 2. feladat [12p] \n",
    "\n",
    "A china.txt Kína mezőgazdaságáról tartalmaz összesitő adatokat, az 1949 és 2008 közötti időszakból. Készitsünk programot, amely beolvassa a szövegfájl tartalmát, majd válaszol az alábbi kérdésekre! \n",
    "- Összesen hány tonna trágyát használtak a 60-as években? (Áru: Total fertilizer consumption ) \n",
    "- Melyik évben volt a legmagasabb a mezőgazdaságban dolgozók száma? (Áru: Ag employment (primary industry) ) \n",
    "- A rizstermeles (Kategória: Crop production , Áru: Rice ) melyik évben hányszorosa volt az 1949-es értéknek? \n",
    "- 2007-ben melyik 5 terménynek volt átlagosan a legnagyobb a hektáronkénti hozama? (A termelési mennyiségek a crop production , a vetési területek a crop sown area kategóriában van megadva.) \n"
   ]
  },
  {
   "cell_type": "code",
   "execution_count": null,
   "metadata": {},
   "outputs": [],
   "source": [
    "# IDE JÖN A MEGOLDÁS!"
   ]
  }
 ],
 "metadata": {
  "kernelspec": {
   "display_name": "Python 3",
   "language": "python",
   "name": "python3"
  },
  "language_info": {
   "codemirror_mode": {
    "name": "ipython",
    "version": 3
   },
   "file_extension": ".py",
   "mimetype": "text/x-python",
   "name": "python",
   "nbconvert_exporter": "python",
   "pygments_lexer": "ipython3",
   "version": "3.8.10"
  }
 },
 "nbformat": 4,
 "nbformat_minor": 2
}
