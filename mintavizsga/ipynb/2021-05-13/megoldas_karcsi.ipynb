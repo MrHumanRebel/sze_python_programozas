{
 "cells": [
  {
   "attachments": {},
   "cell_type": "markdown",
   "metadata": {},
   "source": [
    "# 1. feladat [10p]\n",
    "Készítsünk programot, amely bekér a felhasználótól két sztringet, majd kiírja a mindkét sztringben megtalálható\n",
    "bigramok számát! Bigramnak a 2 karakter hosszú részsztringet nevezzük, pl. papamaci sztring bigramfelbontása pa - ap - pa - am - ma - ac - ci . A program ne tekintse különbözőnek a kis és nagybetűket! Példa\n",
    "futási eredmény:\n",
    "1. sztring: PapaMaci\n",
    "2. sztring: MamaMaci\n",
    "közös bigramok száma: 4"
   ]
  },
  {
   "cell_type": "code",
   "execution_count": 13,
   "metadata": {},
   "outputs": [
    {
     "name": "stdout",
     "output_type": "stream",
     "text": [
      "1. sztring: PapaMaci\n",
      "2. sztring: MamaMaci\n",
      "Közös bigramok száma: 4\n"
     ]
    }
   ],
   "source": [
    "def get_user_input(i):\n",
    "    word = input(\"Kérem adjon meg egy szót: \").strip()\n",
    "    print(f\"{i + 1}. sztring: {word}\")\n",
    "\n",
    "    return word\n",
    "\n",
    "def get_bigrams(input):\n",
    "    bigrams = set()\n",
    "\n",
    "    for i in range(1, len(input)):\n",
    "        bigram = input[i - 1] + input[i]\n",
    "        bigrams.add(bigram)\n",
    "\n",
    "    return bigrams\n",
    "\n",
    "def main():\n",
    "    words = [get_user_input(i).lower() for i in range(2)]\n",
    "\n",
    "    bigrams = [get_bigrams(word) for word in words]\n",
    "    no_common_bigrams = len(bigrams[0].intersection(bigrams[1]))\n",
    "    print(f\"Közös bigramok száma: {no_common_bigrams}\")\n",
    "\n",
    "main()"
   ]
  },
  {
   "attachments": {},
   "cell_type": "markdown",
   "metadata": {},
   "source": [
    "# 2. feladat [14p]\n",
    "Az nba_games.txt (nba_games.txt) az amerikai professzionális kosárlabda bajnokság (NBA) mérkőzéseiről\n",
    "tartalmaz adatokat, a 2013-astól a 2019-es szezonig. Készítsünk programot, amely beolvassa a szövegfájl\n",
    "tartalmát, majd válaszol az alábbi kérdésekre!\n",
    "1. A mérkőzések hány százalékát nyerte meg a hazai ( home ) csapat?\n",
    "2. Hány mérőzésen szedtek le a csapatok 130-nál több lepattanót ( REB )?\n",
    "3. Melyik mérkőzésen született a legnagyobb különbségű győzelem?\n",
    "4. Mi a csapatok erősorrendje a győzelmek száma alapján?"
   ]
  },
  {
   "cell_type": "code",
   "execution_count": null,
   "metadata": {},
   "outputs": [],
   "source": [
    "import pandas as pd\n"
   ]
  }
 ],
 "metadata": {
  "kernelspec": {
   "display_name": "Python 3",
   "language": "python",
   "name": "python3"
  },
  "language_info": {
   "codemirror_mode": {
    "name": "ipython",
    "version": 3
   },
   "file_extension": ".py",
   "mimetype": "text/x-python",
   "name": "python",
   "nbconvert_exporter": "python",
   "pygments_lexer": "ipython3",
   "version": "3.8.10"
  },
  "vscode": {
   "interpreter": {
    "hash": "916dbcbb3f70747c44a77c7bcd40155683ae19c65e1c03b4aa3499c5328201f1"
   }
  }
 },
 "nbformat": 4,
 "nbformat_minor": 2
}
