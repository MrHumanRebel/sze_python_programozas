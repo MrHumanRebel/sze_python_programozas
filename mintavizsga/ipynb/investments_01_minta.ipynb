{
 "cells": [
  {
   "cell_type": "markdown",
   "metadata": {},
   "source": [
    "### 1. feladat [6p]\n",
    "\n",
    "Készíts programot, amely bekér a felhasználótól két sztringet, majd kiírja a bennük található leghosszabb közös részsztringet! Példa futási eredmény:\n",
    "```\n",
    "1. sztring: András\n",
    "2. sztring: Bandi\n",
    "A leghosszabb közös rész: nd\n",
    "```"
   ]
  },
  {
   "cell_type": "code",
   "execution_count": null,
   "metadata": {},
   "outputs": [],
   "source": [
    "def longest_common_substr(s1, s2):\n",
    "    for i in range(len(s1), 0, -1):\n",
    "        for j in range(len(s1) - i + 1):\n",
    "            if s1[j:j + i] in s2:\n",
    "                return s1[j:j + i]\n",
    "\n",
    "longest_common_substr(\"András\", \"Bandi\")"
   ]
  },
  {
   "cell_type": "markdown",
   "metadata": {},
   "source": [
    "### 2. feladat [8p]\n",
    "\n",
    "A `birthdays` lista kitalált személyek nevét és születési dátumát tartalmazza. Készíts programot, amely megkeresi, hogy kik állnak életkorban egymáshoz a legközelebb, és hány nap köztük a különbség! A program ne csak a megadott `birthdays` listára működjön, hanem tetszőleges, ugyanilyen formátumú bemenetre is! Feltehetjük, hogy minden név különböző, és legalább két név van megadva."
   ]
  },
  {
   "cell_type": "code",
   "execution_count": null,
   "metadata": {},
   "outputs": [],
   "source": [
    "from datetime import datetime\n",
    "\n",
    "birthdays = [\n",
    "    ('Kovács Andor',   '1999-10-29'),\n",
    "    ('Kiss Martina',   '2000-02-13'),\n",
    "    ('Horváth Barna',  '1999-12-05'),\n",
    "    ('Győri Eszter',   '2000-10-29'),\n",
    "    ('Nagy Tivadar',   '1999-08-16'),\n",
    "    ('Tóth Tamara',    '2000-01-30'),\n",
    "    ('Szakács Sándor', '1999-09-02')\n",
    "]\n",
    "\n",
    "def dayz(birthdays):   \n",
    "    birthdays = [(name, datetime.strptime(date, '%Y-%m-%d')) for name, date in birthdays]\n",
    "    birthdays.sort(key=lambda x: x[1])\n",
    "    for i in range(len(birthdays) - 1):\n",
    "        diff = (birthdays[i + 1][1] - birthdays[i][1]).days\n",
    "        if i == 0:\n",
    "            closest = diff\n",
    "            closest_names = birthdays[i][0], birthdays[i + 1][0]\n",
    "        if diff < closest:\n",
    "            closest = diff\n",
    "            closest_names = birthdays[i][0], birthdays[i + 1][0]\n",
    "    print(f'Életkorban legközelebb állók: {closest_names[0]}, {closest_names[1]}\\n {closest} nap köztük a különbség')\n",
    "    \n",
    "dayz(birthdays)               "
   ]
  },
  {
   "cell_type": "markdown",
   "metadata": {},
   "source": [
    "Elvárt futási eredmény:\n",
    "```\n",
    "\n",
    "Életkorban legközelebb állók: Kiss Martina, Tóth Tamara\n",
    "14 nap köztük a különbség\n",
    "```"
   ]
  },
  {
   "cell_type": "markdown",
   "metadata": {},
   "source": [
    "### 3. feladat [10p]\n",
    "\n",
    "Az [investments.txt](investments.txt) szövegfájl amerikai cégekbe történő befektetésekről tartalmaz adatokat (a TechCrunch hírportál alapján). Készíts programot, amely kiszámítja és kiírja az alábbi statisztikákat:\n",
    "\n",
    "- Hány befektetés történt összesen az egyes cégekbe?\n",
    "- Melyik cégbe fektették be a legtöbb pénzt?\n",
    "- Cégkategóriánként hány dollárt fektettek be összesen?"
   ]
  },
  {
   "attachments": {},
   "cell_type": "markdown",
   "metadata": {},
   "source": [
    "# Pandas"
   ]
  },
  {
   "cell_type": "code",
   "execution_count": null,
   "metadata": {},
   "outputs": [],
   "source": [
    "import pandas as pd\n",
    "\n",
    "df = pd.read_csv('/home/g14/uni/sze_python_programozas/data/investments.txt', sep ='|')\n",
    "#print(df.info())\n",
    "\n",
    "#1. Hány befektetés történt összesen az egyes cégekbe?\n",
    "print(df.groupby('company').size().sort_values(ascending=False))\n",
    "\n",
    "#2. Melyik cégbe fektettek be legtöbbször?\n",
    "print(df.groupby('company').size().sort_values(ascending=False).head(1))\n",
    "\n",
    "#3. Melyik cégbe fektették be a legtöbb pénzt?\n",
    "print(df.groupby('company')['raisedAmt'].sum().sort_values(ascending=False).head(1))\n",
    "\n",
    "#4. Cégkategóriánként hány dollárt fektettek be összesen?\n",
    "print(df.groupby('category')['raisedAmt'].sum().sort_values())"
   ]
  },
  {
   "attachments": {},
   "cell_type": "markdown",
   "metadata": {},
   "source": [
    "# Manuális nem pontos megoldás"
   ]
  },
  {
   "cell_type": "code",
   "execution_count": null,
   "metadata": {},
   "outputs": [],
   "source": [
    "filename = '/home/g14/uni/sze_python_programozas/data/investments.txt'\n",
    "\n",
    "def get_investments(filename):\n",
    "    with open(filename, 'r') as f:\n",
    "        # skip the first line\n",
    "        f.readline()\n",
    "        lines = f.readlines()\n",
    "        # read into a list  split by | return the list \n",
    "        lines = [line.split('|') for line in lines]    \n",
    "        # remove the newline character from the last element of each line\n",
    "        for line in lines:\n",
    "            line[-1] = line[-1].strip()\n",
    "            continue\n",
    "        investments = [] \n",
    "        for line in lines:\n",
    "            investments.append((line[0], line[1], line[2], line[3], line[4], line[5], line[6], line[7], line[8]))   \n",
    "        return investments\n",
    "    \n",
    "def get_companies(investments):\n",
    "    companies = {}\n",
    "    for investment in investments:\n",
    "        company = investment[0]\n",
    "        if company not in companies:\n",
    "            companies[company] = 1\n",
    "        else:\n",
    "            companies[company] += 1\n",
    "    for company in companies:\n",
    "        print(f'{company} => {companies[company]} db befektetés')\n",
    "    return companies\n",
    "\n",
    "def get_categories(investments):\n",
    "    categories = {}\n",
    "    for investment in investments:\n",
    "        categorie = investment[2]\n",
    "        if categorie not in categories:\n",
    "            categories[categorie] = 1\n",
    "        else:\n",
    "            categories[categorie] += 1\n",
    "    return categories\n",
    "    \n",
    "def get_inv_by_company(investments):\n",
    "    companies = get_companies(investments)\n",
    "    money = {}    \n",
    "    for i in range(len(companies)):\n",
    "        current_company = list(companies.keys())[i]\n",
    "        for j in range(len(investments)):\n",
    "            if current_company == investments[j][0]:\n",
    "                if current_company not in money:\n",
    "                    money[current_company] = int(investments[j][6])\n",
    "                else:\n",
    "                    money[current_company] += int(investments[j][6])\n",
    "    money = sorted(money.items(), key=lambda x: x[1], reverse=True)\n",
    "    print('\\n')\n",
    "    print(f'A legtöbb befektetést a {money[0][0]} cégnél tették, összesen {money[0][1]}')\n",
    "  \n",
    "def get_inv_by_categ(investments):\n",
    "    categories = get_categories(investments)\n",
    "    money = {}    \n",
    "    for i in range(len(categories)):\n",
    "        current_categ = list(categories.keys())[i]\n",
    "        for j in range(len(investments)):\n",
    "            if current_categ == investments[j][2]:\n",
    "                if current_categ not in money:\n",
    "                    money[current_categ] = int(investments[j][6])\n",
    "                else:\n",
    "                    money[current_categ] += int(investments[j][6])\n",
    "    money = sorted(money.items(), key=lambda x: x[1], reverse=True)\n",
    "    for moni in money:\n",
    "        print(f'{moni[0]} => {moni[1]}')\n",
    "\n",
    "investments = get_investments(filename) "
   ]
  }
 ],
 "metadata": {
  "kernelspec": {
   "display_name": "Python 3",
   "language": "python",
   "name": "python3"
  },
  "language_info": {
   "codemirror_mode": {
    "name": "ipython",
    "version": 3
   },
   "file_extension": ".py",
   "mimetype": "text/x-python",
   "name": "python",
   "nbconvert_exporter": "python",
   "pygments_lexer": "ipython3",
   "version": "3.10.6"
  },
  "vscode": {
   "interpreter": {
    "hash": "916dbcbb3f70747c44a77c7bcd40155683ae19c65e1c03b4aa3499c5328201f1"
   }
  }
 },
 "nbformat": 4,
 "nbformat_minor": 1
}
