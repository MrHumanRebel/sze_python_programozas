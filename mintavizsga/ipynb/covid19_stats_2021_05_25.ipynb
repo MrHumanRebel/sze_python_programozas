{
 "cells": [
  {
   "attachments": {},
   "cell_type": "markdown",
   "metadata": {},
   "source": [
    "#  1. feladat [14p]\n",
    "Az A , B , C , ..., Z betűk manókat jelölnek, a friends lista pedig megadja azokat párokat,\n",
    "akik ismerik egymást. Készítsünk programot, amely kiírja, hogy melyik manónak van a legtöbb\n",
    "olyan másodszintű ismerőse, aki nem elsőszintű ismerős! Elsőszintű ismerősöknek az\n",
    "ismerősöket, másodszintű ismerősöknek az ismerősök ismerőseit nevezzük. Holtverseny esetén\n",
    "elég egy manó nevét kiírni. A program ne csak a megadott friends listára működjön, hanem\n",
    "tetszőleges, ugyanilyen formátumú bemenetre is!"
   ]
  },
  {
   "cell_type": "code",
   "execution_count": 24,
   "metadata": {},
   "outputs": [
    {
     "name": "stdout",
     "output_type": "stream",
     "text": [
      "[('A', 14), ('T', 10), ('U', 9), ('B', 8), ('F', 6), ('E', 5), ('N', 4), ('Z', 4), ('V', 4), ('I', 2), ('G', 2), ('X', 2), ('L', 2), ('W', 2), ('S', 2), ('H', 2), ('Y', 1), ('P', 1), ('J', 1), ('D', 1), ('K', 1)]\n"
     ]
    }
   ],
   "source": [
    "friends = [ 'I-N', 'L-W', 'F-R', 'F-Z', 'B-D', 'L-Q', 'I-U', 'A-N', 'E-F', 'A-I',\n",
    " 'S-T', 'B-S', 'B-E', 'F-P', 'D-V', 'C-V', 'J-S', 'G-I', 'A-C', 'N-X',\n",
    " 'K-N', 'Q-Y', 'A-U', 'O-Z', 'S-U', 'E-L', 'B-V', 'Y-Z', 'H-O', 'D-U',\n",
    " 'A-K', 'F-W', 'N-T', 'H-T', 'R-T']\n",
    "\n",
    "data = []\n",
    "\n",
    "\"\"\" for i in range(len(friends)):\n",
    "    friends[i] = friends[i].replace('-', '')\n",
    "    friends[i] = friends[i].split(',')\n",
    "    data.append(friends[i])\n",
    "\n",
    "for i in range(len(data)):\n",
    "    print(data[i]) \"\"\"\n",
    "        \n",
    "# Beta version\n",
    "\n",
    "stats = {}\n",
    "for i in range(len(friends)):\n",
    "    friends[i] = friends[i].replace('-', '')\n",
    "\n",
    "for i in range(len(friends)):\n",
    "    friends[i] = friends[i].replace('-', '')\n",
    "    for j in range(len(friends[i])):\n",
    "        for k in range(i+1,len(friends)):\n",
    "            for x in range(len(friends[k])):\n",
    "                if friends[k][x] == friends[i][j]:\n",
    "                    if friends[k][j] not in stats:\n",
    "                        stats[friends[k][j]] = 1\n",
    "                    else:\n",
    "                        stats[friends[k][j]] += 1\n",
    "stats = sorted(stats.items(), key=lambda x: x[1], reverse=True)       \n",
    "print(stats)"
   ]
  },
  {
   "cell_type": "code",
   "execution_count": null,
   "metadata": {},
   "outputs": [],
   "source": [
    "\"\"\" stats = {}\n",
    "for i in range(len(friends)):\n",
    "    friends[i] = friends[i].replace('-', '')\n",
    "\n",
    "for i in range(len(friends)):\n",
    "    friends[i] = friends[i].replace('-', '')\n",
    "    for j in range(len(friends[i])):\n",
    "        for k in range(i+1,len(friends)):\n",
    "            for x in range(len(friends[k])):\n",
    "                if friends[k][x] == friends[i][j]:\n",
    "                    if friends[k][j] not in stats:\n",
    "                        stats[friends[k][j]] = 1\n",
    "                    else:\n",
    "                        stats[friends[k][j]] += 1\n",
    "stats = sorted(stats.items(), key=lambda x: x[1], reverse=True)       \n",
    "print(stats) \"\"\""
   ]
  },
  {
   "attachments": {},
   "cell_type": "markdown",
   "metadata": {},
   "source": [
    "# 2. feladat [10p]\n",
    "A covid19_stats.txt (covid19_stats.txt) szövegfájl a COVID-19 vírussal kapcsolatos statisztikákat\n",
    "tartalmaz a 2020.01.23 és 2021.05.11 közötti időszakból, országonkénti bontásban. Minden sor\n",
    "azt adja meg, hogy az adott napon az adott országban hány igazolt fertőzés történt ( Confirmed ), hányan gyógyultak meg ( Recovered ) illetve hányan hunytak el a vírus miatt ( Deaths ).\n",
    "Készítsünk programot, amely beolvassa a fájl tartalmát, majd válaszol az alábbi kérdésekre!\n",
    "1. Melyek azok az országok, ahol már 2020. januárjában megjelent a vírus?\n",
    "2. Az adathalmaz utolsó napján hány fertőzött volt Németországban ( Germany )?\n",
    "3. Hol volt a legmagasabb az elhunytak aránya a fertőzöttek számához viszonyítva?"
   ]
  },
  {
   "attachments": {},
   "cell_type": "markdown",
   "metadata": {},
   "source": [
    "# Pandas"
   ]
  },
  {
   "cell_type": "code",
   "execution_count": null,
   "metadata": {},
   "outputs": [],
   "source": [
    "import pandas as pd\n",
    "\n",
    "df = pd.read_csv('C:\\\\Users\\\\Dorián\\\\PycharmProjects\\\\PythonVizsgaFelkészülés1Feladatok\\\\tables\\\\covid19_stats.txt', sep=',', skiprows=1)\n",
    "\n",
    "#print(df.info())\n",
    "\n",
    "#1. Melyek azok az országok, ahol már 2020. januárjában megjelent a vírus?\n",
    "pd.to_datetime(df['Date'])\n",
    "print(df['Country'][(df['Date']>= '2020-01')&(df['Date']< '2020-02') & (df['Confirmed']>0)])\n",
    "\n",
    "#2. Az adathalmaz utolsó napján hány fertőzött volt Németországban ( Germany )?\n",
    "datemax = df['Date'].max()\n",
    "print(df[(df['Country']=='Germany')&(df['Date']==datemax)]['Confirmed'])\n",
    "\n",
    "#3. Hol volt a legmagasabb az elhunytak aránya a fertőzöttek számához viszonyítva?\n",
    "print((df.groupby('Country')['Deaths'].sum() / df.groupby('Country')['Confirmed'].sum()).idxmax())\n",
    "\n"
   ]
  },
  {
   "attachments": {},
   "cell_type": "markdown",
   "metadata": {},
   "source": [
    "# Manuális nem pontos megoldás"
   ]
  },
  {
   "cell_type": "code",
   "execution_count": 16,
   "metadata": {},
   "outputs": [
    {
     "name": "stdout",
     "output_type": "stream",
     "text": [
      "{'Afghanistan': 427, 'Albania': 428, 'Algeria': 432, 'Andorra': 331, 'Angola': 377, 'Antigua and Barbuda': 160, 'Argentina': 430, 'Armenia': 427, 'Australia': 448, 'Austria': 440, 'Azerbaijan': 426, 'Bahamas': 274, 'Bahrain': 439, 'Bangladesh': 423, 'Barbados': 297, 'Belarus': 419, 'Belgium': 432, 'Belize': 261, 'Benin': 133, 'Bhutan': 278, 'Bolivia': 417, 'Bosnia and Herzegovina': 365, 'Botswana': 113, 'Brazil': 430, 'Brunei': 125, 'Bulgaria': 422, 'Burkina Faso': 359, 'Burma': 385, 'Burundi': 236, 'Cabo Verde': 394, 'Cambodia': 264, 'Cameroon': 158, 'Canada': 450, 'Central African Republic': 167, 'Chad': 370, 'Chile': 431, 'China': 469, 'Colombia': 428, 'Comoros': 194, 'Congo (Brazzaville)': 98, 'Congo (Kinshasa)': 394, 'Costa Rica': 349, \"Cote d'Ivoire\": 404, 'Croatia': 436, 'Cuba': 422, 'Cyprus': 409, 'Czechia': 434, 'Denmark': 426, 'Diamond Princess': 32, 'Djibouti': 360, 'Dominica': 62, 'Dominican Republic': 421, 'Ecuador': 415, 'Egypt': 435, 'El Salvador': 411, 'Equatorial Guinea': 131, 'Eritrea': 171, 'Estonia': 424, 'Eswatini': 393, 'Ethiopia': 408, 'Fiji': 79, 'Finland': 432, 'France': 448, 'Gabon': 204, 'Gambia': 228, 'Georgia': 431, 'Germany': 454, 'Ghana': 302, 'Greece': 433, 'Grenada': 54, 'Guatemala': 416, 'Guinea': 338, 'Guinea-Bissau': 163, 'Guyana': 372, 'Haiti': 345, 'Holy See': 13, 'Honduras': 394, 'Hungary': 429, 'Iceland': 359, 'India': 436, 'Indonesia': 431, 'Iran': 448, 'Iraq': 440, 'Ireland': 432, 'Israel': 436, 'Italy': 448, 'Jamaica': 412, 'Japan': 465, 'Jordan': 424, 'Kazakhstan': 420, 'Kenya': 417, '\"Korea': 464, 'Kosovo': 338, 'Kuwait': 436, 'Kyrgyzstan': 383, 'Laos': 80, 'Latvia': 417, 'Lebanon': 433, 'Lesotho': 162, 'Liberia': 240, 'Libya': 355, 'Liechtenstein': 275, 'Lithuania': 427, 'Luxembourg': 355, 'MS Zaandam': 3, 'Madagascar': 275, 'Malawi': 368, 'Malaysia': 451, 'Maldives': 406, 'Mali': 403, 'Malta': 418, 'Marshall Islands': 4, 'Mauritania': 369, 'Mauritius': 186, 'Mexico': 433, 'Micronesia': 2, 'Moldova': 426, 'Monaco': 326, 'Mongolia': 310, 'Montenegro': 386, 'Morocco': 430, 'Mozambique': 392, 'Namibia': 355, 'Nepal': 395, 'Netherlands': 438, 'New Zealand': 342, 'Nicaragua': 73, 'Niger': 322, 'Nigeria': 420, 'North Macedonia': 426, 'Norway': 437, 'Oman': 338, 'Pakistan': 419, 'Panama': 425, 'Papua New Guinea': 158, 'Paraguay': 420, 'Peru': 398, 'Philippines': 436, 'Poland': 432, 'Portugal': 433, 'Qatar': 432, 'Romania': 435, 'Russia': 433, 'Rwanda': 418, 'Saint Kitts and Nevis': 59, 'Saint Lucia': 196, 'Saint Vincent and the Grenadines': 170, 'Samoa': 4, 'San Marino': 244, 'Sao Tome and Principe': 287, 'Saudi Arabia': 430, 'Senegal': 427, 'Serbia': 421, 'Seychelles': 155, 'Sierra Leone': 352, 'Singapore': 463, 'Slovakia': 430, 'Slovenia': 425, 'Solomon Islands': 15, 'Somalia': 203, 'South Africa': 428, 'South Sudan': 239, 'Spain': 343, 'Sri Lanka': 427, 'Sudan': 322, 'Suriname': 358, 'Sweden': 326, 'Switzerland': 428, 'Syria': 365, 'Taiwan*': 348, 'Tajikistan': 250, 'Tanzania': 28, 'Thailand': 439, 'Timor-Leste': 122, 'Togo': 393, 'Trinidad and Tobago': 349, 'Tunisia': 399, 'Turkey': 425, 'US': 451, 'Uganda': 388, 'Ukraine': 422, 'United Arab Emirates': 434, 'United Kingdom': 458, 'Uruguay': 425, 'Uzbekistan': 409, 'Vanuatu': 5, 'Venezuela': 410, 'Vietnam': 394, 'West Bank and Gaza': 416, 'Yemen': 321, 'Zambia': 369, 'Zimbabwe': 372}\n",
      "{'Germany': '19696'}\n"
     ]
    },
    {
     "ename": "ValueError",
     "evalue": "invalid literal for int() with base 10: ' South\"'",
     "output_type": "error",
     "traceback": [
      "\u001b[0;31m---------------------------------------------------------------------------\u001b[0m",
      "\u001b[0;31mValueError\u001b[0m                                Traceback (most recent call last)",
      "Cell \u001b[0;32mIn[16], line 53\u001b[0m\n\u001b[1;32m     51\u001b[0m virus_2020jan(data)\n\u001b[1;32m     52\u001b[0m germany_latest(data)\n\u001b[0;32m---> 53\u001b[0m death_rate(data)\n",
      "Cell \u001b[0;32mIn[16], line 44\u001b[0m, in \u001b[0;36mdeath_rate\u001b[0;34m(data)\u001b[0m\n\u001b[1;32m     42\u001b[0m \u001b[39mfor\u001b[39;00m item \u001b[39min\u001b[39;00m data:\n\u001b[1;32m     43\u001b[0m     \u001b[39mif\u001b[39;00m item[\u001b[39m1\u001b[39m] \u001b[39mnot\u001b[39;00m \u001b[39min\u001b[39;00m stats \u001b[39mand\u001b[39;00m item[\u001b[39m4\u001b[39m] \u001b[39m!=\u001b[39m \u001b[39m'\u001b[39m\u001b[39m0\u001b[39m\u001b[39m'\u001b[39m:\n\u001b[0;32m---> 44\u001b[0m         stats[item[\u001b[39m1\u001b[39m]] \u001b[39m=\u001b[39m item[\u001b[39m2\u001b[39m], item[\u001b[39m4\u001b[39m], \u001b[39mint\u001b[39;49m(item[\u001b[39m2\u001b[39;49m]) \u001b[39m/\u001b[39m \u001b[39mint\u001b[39m(item[\u001b[39m4\u001b[39m])\n\u001b[1;32m     45\u001b[0m     \u001b[39melse\u001b[39;00m:\n\u001b[1;32m     46\u001b[0m         \u001b[39mif\u001b[39;00m item[\u001b[39m4\u001b[39m] \u001b[39m!=\u001b[39m \u001b[39m'\u001b[39m\u001b[39m0\u001b[39m\u001b[39m'\u001b[39m \u001b[39mand\u001b[39;00m \u001b[39mint\u001b[39m(item[\u001b[39m2\u001b[39m]) \u001b[39m/\u001b[39m \u001b[39mint\u001b[39m(item[\u001b[39m4\u001b[39m]) \u001b[39m>\u001b[39m stats[item[\u001b[39m1\u001b[39m]][\u001b[39m2\u001b[39m]:\n",
      "\u001b[0;31mValueError\u001b[0m: invalid literal for int() with base 10: ' South\"'"
     ]
    }
   ],
   "source": [
    "import datetime as dt\n",
    "\n",
    "filename = '/home/g14/uni/sze_python_programozas/data/covid19_stats.txt'\n",
    "\n",
    "def get_data(filename):\n",
    "    with open(filename, 'r') as f:\n",
    "        # skip the first two line\n",
    "        for i in range(2):\n",
    "            f.readline()\n",
    "        lines = f.readlines()\n",
    "        # read into a list  split by tab\n",
    "        lines = [line.split(',') for line in lines]    \n",
    "        # remove the newline character from the last element of each line\n",
    "        for line in lines:\n",
    "            line[-1] = line[-1].strip()\n",
    "            continue\n",
    "        data = [] \n",
    "        for line in lines:\n",
    "            data.append(line) \n",
    "        return data\n",
    "\n",
    "\n",
    "def virus_2020jan(data):\n",
    "    countries = {}\n",
    "    for item in data:\n",
    "        if dt.datetime.strptime(item[0], '%Y-%m-%d') >= dt.datetime.strptime('2020-01-01', '%Y-%m-%d'):\n",
    "            if item[1] not in countries:\n",
    "                countries[item[1]] = 1\n",
    "            else:\n",
    "                countries[item[1]] += 1\n",
    "    print(countries)\n",
    "\n",
    "def germany_latest(data):\n",
    "    stats = {}\n",
    "    for item in data:\n",
    "        if item[1] == 'Germany':\n",
    "            stats[item[1]] = item[2]\n",
    "    print(stats)\n",
    "\n",
    "def death_rate(data):\n",
    "    stats = {}\n",
    "    for item in data:\n",
    "        if item[1] not in stats and item[4] != '0':\n",
    "            stats[item[1]] = item[2], item[4], int(item[2]) / int(item[4])\n",
    "        else:\n",
    "            if item[4] != '0' and int(item[2]) / int(item[4]) > stats[item[1]][2]:\n",
    "                stats[item[1]] = item[2], item[4], int(item[2]) / int(item[4])\n",
    "    print(stats)\n",
    "\n",
    "data = get_data(filename)\n",
    "virus_2020jan(data)\n",
    "germany_latest(data)\n",
    "death_rate(data)\n",
    "\n"
   ]
  }
 ],
 "metadata": {
  "kernelspec": {
   "display_name": "Python 3",
   "language": "python",
   "name": "python3"
  },
  "language_info": {
   "codemirror_mode": {
    "name": "ipython",
    "version": 3
   },
   "file_extension": ".py",
   "mimetype": "text/x-python",
   "name": "python",
   "nbconvert_exporter": "python",
   "pygments_lexer": "ipython3",
   "version": "3.10.6"
  },
  "orig_nbformat": 4,
  "vscode": {
   "interpreter": {
    "hash": "916dbcbb3f70747c44a77c7bcd40155683ae19c65e1c03b4aa3499c5328201f1"
   }
  }
 },
 "nbformat": 4,
 "nbformat_minor": 2
}
