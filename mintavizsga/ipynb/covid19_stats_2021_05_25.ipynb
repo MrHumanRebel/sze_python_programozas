{
 "cells": [
  {
   "attachments": {},
   "cell_type": "markdown",
   "metadata": {},
   "source": [
    "#  1. feladat [14p]\n",
    "Az A , B , C , ..., Z betűk manókat jelölnek, a friends lista pedig megadja azokat párokat,\n",
    "akik ismerik egymást. Készítsünk programot, amely kiírja, hogy melyik manónak van a legtöbb\n",
    "olyan másodszintű ismerőse, aki nem elsőszintű ismerős! Elsőszintű ismerősöknek az\n",
    "ismerősöket, másodszintű ismerősöknek az ismerősök ismerőseit nevezzük. Holtverseny esetén\n",
    "elég egy manó nevét kiírni. A program ne csak a megadott friends listára működjön, hanem\n",
    "tetszőleges, ugyanilyen formátumú bemenetre is!"
   ]
  },
  {
   "cell_type": "code",
   "execution_count": null,
   "metadata": {},
   "outputs": [],
   "source": [
    "friends = [ 'I-N', 'L-W', 'F-R', 'F-Z', 'B-D', 'L-Q', 'I-U', 'A-N', 'E-F', 'A-I',\n",
    " 'S-T', 'B-S', 'B-E', 'F-P', 'D-V', 'C-V', 'J-S', 'G-I', 'A-C', 'N-X',\n",
    " 'K-N', 'Q-Y', 'A-U', 'O-Z', 'S-U', 'E-L', 'B-V', 'Y-Z', 'H-O', 'D-U',\n",
    " 'A-K', 'F-W', 'N-T', 'H-T', 'R-T']\n",
    "\n",
    "data = []\n",
    "\n",
    "\"\"\" for i in range(len(friends)):\n",
    "    friends[i] = friends[i].replace('-', '')\n",
    "    friends[i] = friends[i].split(',')\n",
    "    data.append(friends[i])\n",
    "\n",
    "for i in range(len(data)):\n",
    "    print(data[i]) \"\"\"\n",
    "        \n",
    "# Beta version\n",
    "\n",
    "stats = {}\n",
    "for i in range(len(friends)):\n",
    "    friends[i] = friends[i].replace('-', '')\n",
    "\n",
    "for i in range(len(friends)):\n",
    "    friends[i] = friends[i].replace('-', '')\n",
    "    for j in range(len(friends[i])):\n",
    "        for k in range(i+1,len(friends)):\n",
    "            for x in range(len(friends[k])):\n",
    "                if friends[k][x] == friends[i][j]:\n",
    "                    if friends[k][j] not in stats:\n",
    "                        stats[friends[k][j]] = 1\n",
    "                    else:\n",
    "                        stats[friends[k][j]] += 1\n",
    "stats = sorted(stats.items(), key=lambda x: x[1], reverse=True)       \n",
    "print(stats)"
   ]
  },
  {
   "cell_type": "code",
   "execution_count": null,
   "metadata": {},
   "outputs": [],
   "source": [
    "\"\"\" stats = {}\n",
    "for i in range(len(friends)):\n",
    "    friends[i] = friends[i].replace('-', '')\n",
    "\n",
    "for i in range(len(friends)):\n",
    "    friends[i] = friends[i].replace('-', '')\n",
    "    for j in range(len(friends[i])):\n",
    "        for k in range(i+1,len(friends)):\n",
    "            for x in range(len(friends[k])):\n",
    "                if friends[k][x] == friends[i][j]:\n",
    "                    if friends[k][j] not in stats:\n",
    "                        stats[friends[k][j]] = 1\n",
    "                    else:\n",
    "                        stats[friends[k][j]] += 1\n",
    "stats = sorted(stats.items(), key=lambda x: x[1], reverse=True)       \n",
    "print(stats) \"\"\""
   ]
  },
  {
   "attachments": {},
   "cell_type": "markdown",
   "metadata": {},
   "source": [
    "# 2. feladat [10p]\n",
    "A covid19_stats.txt (covid19_stats.txt) szövegfájl a COVID-19 vírussal kapcsolatos statisztikákat\n",
    "tartalmaz a 2020.01.23 és 2021.05.11 közötti időszakból, országonkénti bontásban. Minden sor\n",
    "azt adja meg, hogy az adott napon az adott országban hány igazolt fertőzés történt ( Confirmed ), hányan gyógyultak meg ( Recovered ) illetve hányan hunytak el a vírus miatt ( Deaths ).\n",
    "Készítsünk programot, amely beolvassa a fájl tartalmát, majd válaszol az alábbi kérdésekre!\n",
    "1. Melyek azok az országok, ahol már 2020. januárjában megjelent a vírus?\n",
    "2. Az adathalmaz utolsó napján hány fertőzött volt Németországban ( Germany )?\n",
    "3. Hol volt a legmagasabb az elhunytak aránya a fertőzöttek számához viszonyítva?"
   ]
  },
  {
   "attachments": {},
   "cell_type": "markdown",
   "metadata": {},
   "source": [
    "# Pandas"
   ]
  },
  {
   "cell_type": "code",
   "execution_count": null,
   "metadata": {},
   "outputs": [],
   "source": [
    "import pandas as pd\n",
    "\n",
    "df = pd.read_csv('/home/g14/uni/sze_python_programozas/data/covid19_stats.txt', sep=',', skiprows=1)\n",
    "\n",
    "#print(df.info())\n",
    "\n",
    "#1. Melyek azok az országok, ahol már 2020. januárjában megjelent a vírus?\n",
    "pd.to_datetime(df['Date'])\n",
    "print(df['Country'][(df['Date']>= '2020-01')&(df['Date']< '2020-02') & (df['Confirmed']>0)])\n",
    "\n",
    "#2. Az adathalmaz utolsó napján hány fertőzött volt Németországban ( Germany )?\n",
    "datemax = df['Date'].max()\n",
    "print(df[(df['Country']=='Germany')&(df['Date']==datemax)]['Confirmed'])\n",
    "\n",
    "#3. Hol volt a legmagasabb az elhunytak aránya a fertőzöttek számához viszonyítva?\n",
    "print((df.groupby('Country')['Deaths'].sum() / df.groupby('Country')['Confirmed'].sum()).idxmax())\n",
    "\n"
   ]
  },
  {
   "attachments": {},
   "cell_type": "markdown",
   "metadata": {},
   "source": [
    "# Manuális nem pontos megoldás"
   ]
  },
  {
   "cell_type": "code",
   "execution_count": null,
   "metadata": {},
   "outputs": [],
   "source": [
    "import datetime as dt\n",
    "\n",
    "filename = '/home/g14/uni/sze_python_programozas/data/covid19_stats.txt'\n",
    "\n",
    "def get_data(filename):\n",
    "    with open(filename, 'r') as f:\n",
    "        # skip the first two line\n",
    "        for i in range(2):\n",
    "            f.readline()\n",
    "        lines = f.readlines()\n",
    "        # read into a list  split by tab\n",
    "        lines = [line.split(',') for line in lines]    \n",
    "        # remove the newline character from the last element of each line\n",
    "        for line in lines:\n",
    "            line[-1] = line[-1].strip()\n",
    "            continue\n",
    "        data = [] \n",
    "        for line in lines:\n",
    "            data.append(line) \n",
    "        return data\n",
    "\n",
    "\n",
    "def virus_2020jan(data):\n",
    "    countries = {}\n",
    "    for item in data:\n",
    "        if dt.datetime.strptime(item[0], '%Y-%m-%d') >= dt.datetime.strptime('2020-01-01', '%Y-%m-%d'):\n",
    "            if item[1] not in countries:\n",
    "                countries[item[1]] = 1\n",
    "            else:\n",
    "                countries[item[1]] += 1\n",
    "    print(countries)\n",
    "\n",
    "def germany_latest(data):\n",
    "    stats = {}\n",
    "    for item in data:\n",
    "        if item[1] == 'Germany':\n",
    "            stats[item[1]] = item[2]\n",
    "    print(stats)\n",
    "\n",
    "def death_rate(data):\n",
    "    stats = {}\n",
    "    for item in data:\n",
    "        if item[1] not in stats and item[4] != '0':\n",
    "            stats[item[1]] = item[2], item[4], int(item[2]) / int(item[4])\n",
    "        else:\n",
    "            if item[4] != '0' and int(item[2]) / int(item[4]) > stats[item[1]][2]:\n",
    "                stats[item[1]] = item[2], item[4], int(item[2]) / int(item[4])\n",
    "    print(stats)\n",
    "\n",
    "data = get_data(filename)\n",
    "virus_2020jan(data)\n",
    "germany_latest(data)\n",
    "death_rate(data)\n",
    "\n"
   ]
  }
 ],
 "metadata": {
  "kernelspec": {
   "display_name": "Python 3",
   "language": "python",
   "name": "python3"
  },
  "language_info": {
   "codemirror_mode": {
    "name": "ipython",
    "version": 3
   },
   "file_extension": ".py",
   "mimetype": "text/x-python",
   "name": "python",
   "nbconvert_exporter": "python",
   "pygments_lexer": "ipython3",
   "version": "3.10.6"
  },
  "vscode": {
   "interpreter": {
    "hash": "916dbcbb3f70747c44a77c7bcd40155683ae19c65e1c03b4aa3499c5328201f1"
   }
  }
 },
 "nbformat": 4,
 "nbformat_minor": 2
}
