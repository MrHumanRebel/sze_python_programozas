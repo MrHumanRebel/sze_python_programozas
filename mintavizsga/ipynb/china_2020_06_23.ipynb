{
 "cells": [
  {
   "attachments": {},
   "cell_type": "markdown",
   "metadata": {},
   "source": [
    "# 1. feladat [8p]\n",
    "\n",
    " Alex és Bob és Charlie közös programot szerveznek. Aszabad időintervallumaik az intervals szótárban vannak megadva. Készítsünk programot, amely kiszámítja, hogy hány olyan nap van, amikor mindhárman ráérnekl Az intervallumok zártak, azaz a végpontok szabad időpontnak tekintendők. A program ne csak a megadott intervals adatszerkezetre működjön, hanem tetszőleges, ugyanilyen formátumú bemenetre is! "
   ]
  },
  {
   "cell_type": "code",
   "execution_count": 4,
   "metadata": {},
   "outputs": [
    {
     "name": "stdout",
     "output_type": "stream",
     "text": [
      "3\n"
     ]
    }
   ],
   "source": [
    "import datetime as dt\n",
    "\n",
    "intervals = {\n",
    "'Alex': [('2020-06-20','2020-06-23'), ('2020-06-30', '2020-07-05')],\n",
    "'Bob' : [('2020-06-18','2020-06-21'), ('2020-06-24','2020-07-01'), ('2020-07-03', '2020-07-04')],\n",
    "'Charlie': [('2020-06-21', '2020-06-28'), ('2020-07-02', '2020-07-10')],\n",
    "}\n",
    "\n",
    "common_days = set()\n",
    "for intervals_list in intervals.values():\n",
    "    for interval in intervals_list:\n",
    "        startdate = dt.datetime.strptime(interval[0], '%Y-%m-%d').date()\n",
    "        enddate = dt.datetime.strptime(interval[1], '%Y-%m-%d').date()\n",
    "        common_days |= set([startdate + dt.timedelta(days=x) for x in range((enddate-startdate).days+1)])\n",
    "        \n",
    "freedays = 0\n",
    "for day in common_days:\n",
    "    counter = 0\n",
    "    for intervals_list in intervals.values():\n",
    "        for interval in intervals_list:\n",
    "            startdate = dt.datetime.strptime(interval[0], '%Y-%m-%d').date()\n",
    "            enddate = dt.datetime.strptime(interval[1], '%Y-%m-%d').date()\n",
    "            if startdate <= day <= enddate:\n",
    "                counter += 1\n",
    "    if counter == 3:\n",
    "        freedays += 1\n",
    "  \n",
    "print(freedays)"
   ]
  },
  {
   "attachments": {},
   "cell_type": "markdown",
   "metadata": {},
   "source": [
    "# Részmegoldások"
   ]
  },
  {
   "cell_type": "code",
   "execution_count": 6,
   "metadata": {},
   "outputs": [
    {
     "name": "stdout",
     "output_type": "stream",
     "text": [
      "3\n"
     ]
    }
   ],
   "source": [
    "import datetime as dt\n",
    "\n",
    "intervals = {\n",
    "'Alex': [('2020-06-20','2020-06-23'), ('2020-06-30', '2020-07-05')],\n",
    "'Bob' : [('2020-06-18','2020-06-21'), ('2020-06-24','2020-07-01'), ('2020-07-03', '2020-07-04')],\n",
    "'Charlie': [('2020-06-21', '2020-06-28'), ('2020-07-02', '2020-07-10')],\n",
    "}\n",
    "people_counter = 0\n",
    "names = list(intervals.keys())\n",
    "\n",
    "min = 5000\n",
    "for i in intervals.values():\n",
    "    people_counter += 1\n",
    "    ok_counter = 0\n",
    "    for j in i:\n",
    "        start = dt.datetime.strptime(j[0], '%Y-%m-%d')\n",
    "        end = dt.datetime.strptime(j[1], '%Y-%m-%d')\n",
    "        for k in (i):\n",
    "            new_start = dt.datetime.strptime(j[0], '%Y-%m-%d')\n",
    "            new_end = dt.datetime.strptime(j[1], '%Y-%m-%d')\n",
    "            if new_start >= start and new_end <= end:\n",
    "                ok_counter += 1\n",
    "    ok_counter = ok_counter - 1 # mert a saját intervallumát is bele számolja\n",
    "    if ok_counter < min:\n",
    "        min = ok_counter\n",
    "            \n",
    "print(min)  "
   ]
  },
  {
   "attachments": {},
   "cell_type": "markdown",
   "metadata": {},
   "source": [
    "# 2. feladat [12p] \n",
    "\n",
    "A china.txt Kína mezőgazdaságáról tartalmaz összesitő adatokat, az 1949 és 2008 közötti időszakból. Készitsünk programot, amely beolvassa a szövegfájl tartalmát, majd válaszol az alábbi kérdésekre! \n",
    "- Összesen hány tonna trágyát használtak a 60-as években? (Áru: Total fertilizer consumption ) \n",
    "- Melyik évben volt a legmagasabb a mezőgazdaságban dolgozók száma? (Áru: Ag employment (primary industry) ) \n",
    "- A rizstermeles (Kategória: Crop production , Áru: Rice ) melyik évben hányszorosa volt az 1949-es értéknek? \n",
    "- 2007-ben melyik 5 terménynek volt átlagosan a legnagyobb a hektáronkénti hozama? (A termelési mennyiségek a crop production , a vetési területek a crop sown area kategóriában van megadva.) \n"
   ]
  },
  {
   "cell_type": "code",
   "execution_count": 7,
   "metadata": {},
   "outputs": [
    {
     "name": "stdout",
     "output_type": "stream",
     "text": [
      "16057\n",
      "[('1991', '390,98'), ('1990', '389,14'), ('1992', '386,99'), ('1993', '376,8'), ('2002', '368,7'), ('1994', '366,28'), ('2003', '365,46'), ('2001', '365,13'), ('2000', '360,43'), ('1999', '357,68'), ('1995', '355,3'), ('2004', '352,7'), ('1998', '351,77'), ('1997', '348,4'), ('1996', '348,2'), ('2005', '339,7'), ('1989', '332,25'), ('2006', '325,61'), ('1988', '322,49'), ('1987', '316,63'), ('2007', '314,44'), ('1986', '312,54'), ('1983', '311,51'), ('1985', '311,3'), ('1984', '308,68'), ('1982', '308,59'), ('2008', '306,54'), ('1981', '297,77'), ('1975', '294,56'), ('1976', '294,43'), ('1977', '293,4'), ('1974', '293,18'), ('1980', '291,22'), ('1973', '288,57'), ('1979', '286,34'), ('1971', '283,97'), ('1978', '283,18'), ('1972', '282,83'), ('1970', '278,11'), ('1969', '271,17'), ('1968', '260,63'), ('1967', '251,65'), ('1966', '242,97'), ('1965', '233,96'), ('1964', '228,01'), ('1963', '219,66'), ('1962', '212,76'), ('1961', '197,47'), ('1957', '193,09'), ('1955', '185,92'), ('1956', '185,44'), ('1954', '181,51'), ('1953', '177,47'), ('1952', '173,17'), ('1960', '170,16'), ('1959', '162,71'), ('1958', '154,9')]\n",
      "{'2008': 3.9449069791345464, '2007': 3.8243190461506837, '2006': 3.7531474971733987, '2005': 3.7123650940487205, '2004': 3.6815212252030016, '2003': 3.3026210299105765, '2002': 3.58801521225203, '2001': 3.65052934525645, '2000': 3.8628430465618253, '1999': 4.080316579299003, '1998': 4.084962483297359, '1997': 4.126528934114503, '1996': 4.010751361907698, '1995': 3.8077089115016958, '1994': 3.6166718059410012, '1993': 3.6491725768321515, '1992': 3.8281837804502006, '1991': 3.7786617329633057, '1990': 3.8920957960735945, '1989': 3.7029499434679822, '1988': 3.476349059512797, '1987': 3.5823208962894437, '1986': 3.5404255319148934, '1985': 3.4652893411450303, '1984': 3.6644053859595025, '1983': 3.4713742419570357, '1982': 3.3219241443108234, '1981': 2.9592969472710453, '1980': 2.876143488539418, '1979': 2.955082742316785, '1978': 2.8148833384726077, '1977': 2.642923219241443, '1976': 2.58628841607565, '1975': 2.5811491417411863, '1974': 2.5471271456470346, '1973': 2.502518244423887, '1972': 2.330249768732655, '1971': 2.368280398807688, '1970': 2.2610751361907697, '1969': 1.9542604584232706, '1968': 1.9432624113475176, '1967': 1.9258916640970296, '1966': 1.9609415150580738, '1965': 1.803268578476719, '1964': 1.7062390790420392, '1963': 1.51639428512694, '1962': 1.2947887758248535, '1961': 1.1026827012025902, '1960': 1.2278754239901326, '1959': 1.4259430568403741, '1958': 1.6620413197656492, '1957': 1.7838421214924454, '1956': 1.6955493884263542, '1955': 1.6039675197862062, '1954': 1.45647034638709, '1953': 1.4651043272689896, '1952': 1.4066193853427895, '1951': 1.2448350292938637, '1950': 1.1326960633158598, '1949': 1.0}\n",
      "[('Sugar cane', 71.21752837326608), ('Sugar beets', 41.366373320981936), ('Watermelons', 35.761803193635785), ('Melons', 33.82633799689096), ('Vegetables & melons', 32.71779136993848), ('Vegetables', 32.57660568988401), ('Muskmelon', 28.96638655462185), ('Bananas', 25.430528375733854), ('Strawberries', 23.57682619647355), ('Pineapple', 16.607164036697245), ('Grapes', 15.276003649635037), ('Apples', 14.201243755734529), ('Peaches', 12.992679776087268), ('Pears', 12.036777746662933), ('Citrus', 10.602142783558257), ('Middle rice', 7.060543114212694), ('Rice', 6.432933365607386), ('Late rice', 5.550163956145871), ('Early rice', 5.4881234327110615), ('Corn', 5.166564895854536), ('Grain', 4.748319733429258), ('Wheat ', 4.607647232410101), ('Sorghum', 3.8369304556354917), ('Tubers', 3.4741400643405096), ('Peanuts', 3.3021546261089987), ('Fiber crops', 2.7680608365019013), ('Oil crops', 2.269971721456345), ('Tobacco', 2.0575601374570445), ('Rapeseed', 1.8739808578518256), ('Millet', 1.7854350205911484), ('Sunflowerseed', 1.650444938820912), ('Beans', 1.4602487372129547), ('Cotton', 1.286533918326021), ('Sesame seed', 1.1342236615753531), ('Soybeans', 1.080220713073005), ('Tea', 0.7222566646001239)]\n"
     ]
    }
   ],
   "source": [
    "filename = '/home/g14/uni/sze_python_programozas/data/china.txt'\n",
    "\n",
    "def get_data(filename):\n",
    "    with open(filename, 'r') as f:\n",
    "        # skip the first two line\n",
    "        for i in range(2):\n",
    "            f.readline()\n",
    "        lines = f.readlines()\n",
    "        # read into a list  split by tab\n",
    "        lines = [line.split('\\t') for line in lines]    \n",
    "        # remove the newline character from the last element of each line\n",
    "        for line in lines:\n",
    "            line[-1] = line[-1].strip()\n",
    "            continue\n",
    "        data = [] \n",
    "        for line in lines:\n",
    "            data.append(line) \n",
    "        return data\n",
    "\n",
    "def tragya_60s(data):\n",
    "    sum = 0\n",
    "    for item in data:\n",
    "        if item[2] == 'Total fertilizer consumption' and int(item[0])>=1960 and int(item[0])<=1969:\n",
    "            sum += int(item[3])\n",
    "    print(sum)\n",
    "\n",
    "def ag_workers(data):\n",
    "    stats = {}\n",
    "    for item in data:\n",
    "        if item[2] == 'Ag employment (primary industry)':\n",
    "            year = item[0]\n",
    "            workers = item[3]\n",
    "            if year not in stats:\n",
    "                stats[year] = workers\n",
    "            else:\n",
    "                if workers > stats[year]:\n",
    "                    stats[year] = workers\n",
    "    stats = sorted(stats.items(), key=lambda x: x[1], reverse=True)\n",
    "    print(stats)\n",
    "    \n",
    "def rice_1949_base(data):\n",
    "    base = 0\n",
    "    stats = {}\n",
    "    for item in data:\n",
    "        if item[1] == 'Crop production' and item[2] == 'Rice' and item[0] == '1949':\n",
    "            base = float(item[3].replace(',','.'))\n",
    "            break\n",
    "    for item in data:\n",
    "        if item[1] == 'Crop production' and item[2] == 'Rice':\n",
    "            perbase = float(item[3].replace(',','.')) / base\n",
    "            stats[item[0]] = perbase\n",
    "    print(stats)\n",
    "    \n",
    "def top5_hekt_2007(data):\n",
    "    crops = {}\n",
    "    sown = {}\n",
    "    for item in data:\n",
    "        if item[0] == '2007' and item[1] == 'Crop production':\n",
    "            if item[2] not in crops:\n",
    "                crops[item[2]] = float(item[3].replace(',','.'))\n",
    "            else:\n",
    "                crops[item[2]] += float(item[3].replace(',','.'))\n",
    "        if item[0] == '2007' and item[1] == 'Crop sown area':\n",
    "            if item[2] not in sown:\n",
    "                sown[item[2]] = float(item[3].replace(',','.'))\n",
    "            else:\n",
    "                crops[item[2]] += float(item[3].replace(',','.'))\n",
    "    mean = {}\n",
    "    for item in crops:\n",
    "        if item in sown and item in crops:\n",
    "            mean[item] = crops[item] / sown[item]\n",
    "    mean = sorted(mean.items(), key=lambda x: x[1], reverse=True)\n",
    "    print(mean) \n",
    "    \n",
    "    \n",
    "    \n",
    "data = get_data(filename)\n",
    "tragya_60s(data)\n",
    "ag_workers(data)\n",
    "rice_1949_base(data)\n",
    "top5_hekt_2007(data)"
   ]
  }
 ],
 "metadata": {
  "kernelspec": {
   "display_name": "Python 3",
   "language": "python",
   "name": "python3"
  },
  "language_info": {
   "codemirror_mode": {
    "name": "ipython",
    "version": 3
   },
   "file_extension": ".py",
   "mimetype": "text/x-python",
   "name": "python",
   "nbconvert_exporter": "python",
   "pygments_lexer": "ipython3",
   "version": "3.10.6"
  },
  "orig_nbformat": 4
 },
 "nbformat": 4,
 "nbformat_minor": 2
}
