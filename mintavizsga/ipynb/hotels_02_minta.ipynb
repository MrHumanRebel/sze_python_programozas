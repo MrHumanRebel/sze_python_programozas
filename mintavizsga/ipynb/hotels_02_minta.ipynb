{
 "cells": [
  {
   "cell_type": "markdown",
   "metadata": {},
   "source": [
    "### 1. feladat [6p]\n",
    "\n",
    "A `planets` lista a Naprendszer bolygóinak tömegét és (átlagos) sugarát tartalmazza. Készíts programot, amely kiszámítja, hogy a bolygók felszínén érvényes nehézségi gyorsulás hányszorosa a földinek! A nehézségi gyorsulás képlete\n",
    "$$g = G \\frac{M}{R^2},$$\n",
    "ahol $G = 6,67408 \\cdot 10^{-11} \\frac{Nm^2}{kg^2}$ az univerzális gravitációs állandó, $M$ a bolygó tömege, $R$ pedig a bolygó tömegközéppontjától mért távolság. A program ne csak a `planets` listára működjön, hanem bármely ugyanilyen formátumú, bemenetre is! Elvárt futási eredmény:\n",
    "```\n",
    "\n",
    "Merkúr: 0.38\n",
    "Vénusz: 0.90\n",
    "Föld: 1.00\n",
    "...\n",
    "```"
   ]
  },
  {
   "cell_type": "code",
   "execution_count": 1,
   "metadata": {},
   "outputs": [],
   "source": [
    "planets = [\n",
    "    # bolygó neve,  tömeg(10^21kg),  sugár(km)\n",
    "    ('Merkúr',      330.2,           2439.7),\n",
    "    ('Vénusz',      4868.5,          6051.8),\n",
    "    ('Föld',        5973.6,          6371.0),\n",
    "    ('Mars',        641.85,          3389.5),\n",
    "    ('Jupiter',     1898600,         69911),\n",
    "    ('Szaturnusz',  568460,          58232),\n",
    "    ('Uránusz',     86832,           25362),\n",
    "    ('Neptunusz',   102430,          24622)\n",
    "]"
   ]
  },
  {
   "cell_type": "code",
   "execution_count": 2,
   "metadata": {},
   "outputs": [
    {
     "name": "stdout",
     "output_type": "stream",
     "text": [
      "Merkúr: 0.38\n",
      "Vénusz: 0.90\n",
      "Föld: 1.00\n",
      "Mars: 0.38\n",
      "Jupiter: 2.64\n",
      "Szaturnusz: 1.14\n",
      "Uránusz: 0.92\n",
      "Neptunusz: 1.15\n"
     ]
    }
   ],
   "source": [
    "def planet_speed(planets):\n",
    "    G = 6.67408 * 10**(-11)\n",
    "    new_planets = []\n",
    "    for i in range(len(planets)):\n",
    "        if planets[i][0] == \"Föld\":\n",
    "            fold_data = G*(planets[i][1]/(planets[i][2]**2))\n",
    "    for i in range(len(planets)):\n",
    "        new_planets.append((planets[i][0],(G*(planets[i][1]/(planets[i][2]**2))/fold_data)))\n",
    "    for planets in new_planets:\n",
    "        print(f'{planets[0]}: {planets[1]:.2f}')\n",
    "        \n",
    "        \n",
    "planet_speed(planets)"
   ]
  },
  {
   "cell_type": "markdown",
   "metadata": {},
   "source": [
    "### 2. feladat [8p]\n",
    "\n",
    "Készíts programot, amely bekéri a felhasználótól $n$ értékét, szimulál $n$ darab kockadobást, majd kiírja, hogy mi volt a leghosszabb 6-os sorozat hossza! Példa futási eredmény:\n",
    "```\n",
    "\n",
    "n: 50\n",
    "31554643644341364414422455514666664664563666113524\n",
    "A leghosszabb 6-os sorozat hossza: 5\n",
    "```"
   ]
  },
  {
   "attachments": {},
   "cell_type": "markdown",
   "metadata": {},
   "source": [
    "# Pandas"
   ]
  },
  {
   "cell_type": "code",
   "execution_count": 3,
   "metadata": {},
   "outputs": [
    {
     "ename": "FileNotFoundError",
     "evalue": "[Errno 2] No such file or directory: 'C:\\\\Users\\\\Dorián\\\\PycharmProjects\\\\PythonVizsgaFelkészülés1Feladatok\\\\tables\\\\hotels.txt'",
     "output_type": "error",
     "traceback": [
      "\u001b[0;31m---------------------------------------------------------------------------\u001b[0m",
      "\u001b[0;31mFileNotFoundError\u001b[0m                         Traceback (most recent call last)",
      "Cell \u001b[0;32mIn[3], line 3\u001b[0m\n\u001b[1;32m      1\u001b[0m \u001b[39mimport\u001b[39;00m \u001b[39mpandas\u001b[39;00m \u001b[39mas\u001b[39;00m \u001b[39mpd\u001b[39;00m\n\u001b[0;32m----> 3\u001b[0m df \u001b[39m=\u001b[39m pd\u001b[39m.\u001b[39;49mread_csv(\u001b[39m'\u001b[39;49m\u001b[39mC:\u001b[39;49m\u001b[39m\\\\\u001b[39;49;00m\u001b[39mUsers\u001b[39;49m\u001b[39m\\\\\u001b[39;49;00m\u001b[39mDorián\u001b[39;49m\u001b[39m\\\\\u001b[39;49;00m\u001b[39mPycharmProjects\u001b[39;49m\u001b[39m\\\\\u001b[39;49;00m\u001b[39mPythonVizsgaFelkészülés1Feladatok\u001b[39;49m\u001b[39m\\\\\u001b[39;49;00m\u001b[39mtables\u001b[39;49m\u001b[39m\\\\\u001b[39;49;00m\u001b[39mhotels.txt\u001b[39;49m\u001b[39m'\u001b[39;49m, sep \u001b[39m=\u001b[39;49m\u001b[39m'\u001b[39;49m\u001b[39m;\u001b[39;49m\u001b[39m'\u001b[39;49m)\n\u001b[1;32m      5\u001b[0m \u001b[39m#Szállodák csoportosítása  a nevük szerint.\u001b[39;00m\n\u001b[1;32m      6\u001b[0m gb \u001b[39m=\u001b[39m df\u001b[39m.\u001b[39mgroupby(\u001b[39m'\u001b[39m\u001b[39mHotel name\u001b[39m\u001b[39m'\u001b[39m)\n",
      "File \u001b[0;32m~/.local/lib/python3.10/site-packages/pandas/util/_decorators.py:211\u001b[0m, in \u001b[0;36mdeprecate_kwarg.<locals>._deprecate_kwarg.<locals>.wrapper\u001b[0;34m(*args, **kwargs)\u001b[0m\n\u001b[1;32m    209\u001b[0m     \u001b[39melse\u001b[39;00m:\n\u001b[1;32m    210\u001b[0m         kwargs[new_arg_name] \u001b[39m=\u001b[39m new_arg_value\n\u001b[0;32m--> 211\u001b[0m \u001b[39mreturn\u001b[39;00m func(\u001b[39m*\u001b[39;49margs, \u001b[39m*\u001b[39;49m\u001b[39m*\u001b[39;49mkwargs)\n",
      "File \u001b[0;32m~/.local/lib/python3.10/site-packages/pandas/util/_decorators.py:331\u001b[0m, in \u001b[0;36mdeprecate_nonkeyword_arguments.<locals>.decorate.<locals>.wrapper\u001b[0;34m(*args, **kwargs)\u001b[0m\n\u001b[1;32m    325\u001b[0m \u001b[39mif\u001b[39;00m \u001b[39mlen\u001b[39m(args) \u001b[39m>\u001b[39m num_allow_args:\n\u001b[1;32m    326\u001b[0m     warnings\u001b[39m.\u001b[39mwarn(\n\u001b[1;32m    327\u001b[0m         msg\u001b[39m.\u001b[39mformat(arguments\u001b[39m=\u001b[39m_format_argument_list(allow_args)),\n\u001b[1;32m    328\u001b[0m         \u001b[39mFutureWarning\u001b[39;00m,\n\u001b[1;32m    329\u001b[0m         stacklevel\u001b[39m=\u001b[39mfind_stack_level(),\n\u001b[1;32m    330\u001b[0m     )\n\u001b[0;32m--> 331\u001b[0m \u001b[39mreturn\u001b[39;00m func(\u001b[39m*\u001b[39;49margs, \u001b[39m*\u001b[39;49m\u001b[39m*\u001b[39;49mkwargs)\n",
      "File \u001b[0;32m~/.local/lib/python3.10/site-packages/pandas/io/parsers/readers.py:950\u001b[0m, in \u001b[0;36mread_csv\u001b[0;34m(filepath_or_buffer, sep, delimiter, header, names, index_col, usecols, squeeze, prefix, mangle_dupe_cols, dtype, engine, converters, true_values, false_values, skipinitialspace, skiprows, skipfooter, nrows, na_values, keep_default_na, na_filter, verbose, skip_blank_lines, parse_dates, infer_datetime_format, keep_date_col, date_parser, dayfirst, cache_dates, iterator, chunksize, compression, thousands, decimal, lineterminator, quotechar, quoting, doublequote, escapechar, comment, encoding, encoding_errors, dialect, error_bad_lines, warn_bad_lines, on_bad_lines, delim_whitespace, low_memory, memory_map, float_precision, storage_options)\u001b[0m\n\u001b[1;32m    935\u001b[0m kwds_defaults \u001b[39m=\u001b[39m _refine_defaults_read(\n\u001b[1;32m    936\u001b[0m     dialect,\n\u001b[1;32m    937\u001b[0m     delimiter,\n\u001b[0;32m   (...)\u001b[0m\n\u001b[1;32m    946\u001b[0m     defaults\u001b[39m=\u001b[39m{\u001b[39m\"\u001b[39m\u001b[39mdelimiter\u001b[39m\u001b[39m\"\u001b[39m: \u001b[39m\"\u001b[39m\u001b[39m,\u001b[39m\u001b[39m\"\u001b[39m},\n\u001b[1;32m    947\u001b[0m )\n\u001b[1;32m    948\u001b[0m kwds\u001b[39m.\u001b[39mupdate(kwds_defaults)\n\u001b[0;32m--> 950\u001b[0m \u001b[39mreturn\u001b[39;00m _read(filepath_or_buffer, kwds)\n",
      "File \u001b[0;32m~/.local/lib/python3.10/site-packages/pandas/io/parsers/readers.py:605\u001b[0m, in \u001b[0;36m_read\u001b[0;34m(filepath_or_buffer, kwds)\u001b[0m\n\u001b[1;32m    602\u001b[0m _validate_names(kwds\u001b[39m.\u001b[39mget(\u001b[39m\"\u001b[39m\u001b[39mnames\u001b[39m\u001b[39m\"\u001b[39m, \u001b[39mNone\u001b[39;00m))\n\u001b[1;32m    604\u001b[0m \u001b[39m# Create the parser.\u001b[39;00m\n\u001b[0;32m--> 605\u001b[0m parser \u001b[39m=\u001b[39m TextFileReader(filepath_or_buffer, \u001b[39m*\u001b[39;49m\u001b[39m*\u001b[39;49mkwds)\n\u001b[1;32m    607\u001b[0m \u001b[39mif\u001b[39;00m chunksize \u001b[39mor\u001b[39;00m iterator:\n\u001b[1;32m    608\u001b[0m     \u001b[39mreturn\u001b[39;00m parser\n",
      "File \u001b[0;32m~/.local/lib/python3.10/site-packages/pandas/io/parsers/readers.py:1442\u001b[0m, in \u001b[0;36mTextFileReader.__init__\u001b[0;34m(self, f, engine, **kwds)\u001b[0m\n\u001b[1;32m   1439\u001b[0m     \u001b[39mself\u001b[39m\u001b[39m.\u001b[39moptions[\u001b[39m\"\u001b[39m\u001b[39mhas_index_names\u001b[39m\u001b[39m\"\u001b[39m] \u001b[39m=\u001b[39m kwds[\u001b[39m\"\u001b[39m\u001b[39mhas_index_names\u001b[39m\u001b[39m\"\u001b[39m]\n\u001b[1;32m   1441\u001b[0m \u001b[39mself\u001b[39m\u001b[39m.\u001b[39mhandles: IOHandles \u001b[39m|\u001b[39m \u001b[39mNone\u001b[39;00m \u001b[39m=\u001b[39m \u001b[39mNone\u001b[39;00m\n\u001b[0;32m-> 1442\u001b[0m \u001b[39mself\u001b[39m\u001b[39m.\u001b[39m_engine \u001b[39m=\u001b[39m \u001b[39mself\u001b[39;49m\u001b[39m.\u001b[39;49m_make_engine(f, \u001b[39mself\u001b[39;49m\u001b[39m.\u001b[39;49mengine)\n",
      "File \u001b[0;32m~/.local/lib/python3.10/site-packages/pandas/io/parsers/readers.py:1735\u001b[0m, in \u001b[0;36mTextFileReader._make_engine\u001b[0;34m(self, f, engine)\u001b[0m\n\u001b[1;32m   1733\u001b[0m     \u001b[39mif\u001b[39;00m \u001b[39m\"\u001b[39m\u001b[39mb\u001b[39m\u001b[39m\"\u001b[39m \u001b[39mnot\u001b[39;00m \u001b[39min\u001b[39;00m mode:\n\u001b[1;32m   1734\u001b[0m         mode \u001b[39m+\u001b[39m\u001b[39m=\u001b[39m \u001b[39m\"\u001b[39m\u001b[39mb\u001b[39m\u001b[39m\"\u001b[39m\n\u001b[0;32m-> 1735\u001b[0m \u001b[39mself\u001b[39m\u001b[39m.\u001b[39mhandles \u001b[39m=\u001b[39m get_handle(\n\u001b[1;32m   1736\u001b[0m     f,\n\u001b[1;32m   1737\u001b[0m     mode,\n\u001b[1;32m   1738\u001b[0m     encoding\u001b[39m=\u001b[39;49m\u001b[39mself\u001b[39;49m\u001b[39m.\u001b[39;49moptions\u001b[39m.\u001b[39;49mget(\u001b[39m\"\u001b[39;49m\u001b[39mencoding\u001b[39;49m\u001b[39m\"\u001b[39;49m, \u001b[39mNone\u001b[39;49;00m),\n\u001b[1;32m   1739\u001b[0m     compression\u001b[39m=\u001b[39;49m\u001b[39mself\u001b[39;49m\u001b[39m.\u001b[39;49moptions\u001b[39m.\u001b[39;49mget(\u001b[39m\"\u001b[39;49m\u001b[39mcompression\u001b[39;49m\u001b[39m\"\u001b[39;49m, \u001b[39mNone\u001b[39;49;00m),\n\u001b[1;32m   1740\u001b[0m     memory_map\u001b[39m=\u001b[39;49m\u001b[39mself\u001b[39;49m\u001b[39m.\u001b[39;49moptions\u001b[39m.\u001b[39;49mget(\u001b[39m\"\u001b[39;49m\u001b[39mmemory_map\u001b[39;49m\u001b[39m\"\u001b[39;49m, \u001b[39mFalse\u001b[39;49;00m),\n\u001b[1;32m   1741\u001b[0m     is_text\u001b[39m=\u001b[39;49mis_text,\n\u001b[1;32m   1742\u001b[0m     errors\u001b[39m=\u001b[39;49m\u001b[39mself\u001b[39;49m\u001b[39m.\u001b[39;49moptions\u001b[39m.\u001b[39;49mget(\u001b[39m\"\u001b[39;49m\u001b[39mencoding_errors\u001b[39;49m\u001b[39m\"\u001b[39;49m, \u001b[39m\"\u001b[39;49m\u001b[39mstrict\u001b[39;49m\u001b[39m\"\u001b[39;49m),\n\u001b[1;32m   1743\u001b[0m     storage_options\u001b[39m=\u001b[39;49m\u001b[39mself\u001b[39;49m\u001b[39m.\u001b[39;49moptions\u001b[39m.\u001b[39;49mget(\u001b[39m\"\u001b[39;49m\u001b[39mstorage_options\u001b[39;49m\u001b[39m\"\u001b[39;49m, \u001b[39mNone\u001b[39;49;00m),\n\u001b[1;32m   1744\u001b[0m )\n\u001b[1;32m   1745\u001b[0m \u001b[39massert\u001b[39;00m \u001b[39mself\u001b[39m\u001b[39m.\u001b[39mhandles \u001b[39mis\u001b[39;00m \u001b[39mnot\u001b[39;00m \u001b[39mNone\u001b[39;00m\n\u001b[1;32m   1746\u001b[0m f \u001b[39m=\u001b[39m \u001b[39mself\u001b[39m\u001b[39m.\u001b[39mhandles\u001b[39m.\u001b[39mhandle\n",
      "File \u001b[0;32m~/.local/lib/python3.10/site-packages/pandas/io/common.py:856\u001b[0m, in \u001b[0;36mget_handle\u001b[0;34m(path_or_buf, mode, encoding, compression, memory_map, is_text, errors, storage_options)\u001b[0m\n\u001b[1;32m    851\u001b[0m \u001b[39melif\u001b[39;00m \u001b[39misinstance\u001b[39m(handle, \u001b[39mstr\u001b[39m):\n\u001b[1;32m    852\u001b[0m     \u001b[39m# Check whether the filename is to be opened in binary mode.\u001b[39;00m\n\u001b[1;32m    853\u001b[0m     \u001b[39m# Binary mode does not support 'encoding' and 'newline'.\u001b[39;00m\n\u001b[1;32m    854\u001b[0m     \u001b[39mif\u001b[39;00m ioargs\u001b[39m.\u001b[39mencoding \u001b[39mand\u001b[39;00m \u001b[39m\"\u001b[39m\u001b[39mb\u001b[39m\u001b[39m\"\u001b[39m \u001b[39mnot\u001b[39;00m \u001b[39min\u001b[39;00m ioargs\u001b[39m.\u001b[39mmode:\n\u001b[1;32m    855\u001b[0m         \u001b[39m# Encoding\u001b[39;00m\n\u001b[0;32m--> 856\u001b[0m         handle \u001b[39m=\u001b[39m \u001b[39mopen\u001b[39;49m(\n\u001b[1;32m    857\u001b[0m             handle,\n\u001b[1;32m    858\u001b[0m             ioargs\u001b[39m.\u001b[39;49mmode,\n\u001b[1;32m    859\u001b[0m             encoding\u001b[39m=\u001b[39;49mioargs\u001b[39m.\u001b[39;49mencoding,\n\u001b[1;32m    860\u001b[0m             errors\u001b[39m=\u001b[39;49merrors,\n\u001b[1;32m    861\u001b[0m             newline\u001b[39m=\u001b[39;49m\u001b[39m\"\u001b[39;49m\u001b[39m\"\u001b[39;49m,\n\u001b[1;32m    862\u001b[0m         )\n\u001b[1;32m    863\u001b[0m     \u001b[39melse\u001b[39;00m:\n\u001b[1;32m    864\u001b[0m         \u001b[39m# Binary mode\u001b[39;00m\n\u001b[1;32m    865\u001b[0m         handle \u001b[39m=\u001b[39m \u001b[39mopen\u001b[39m(handle, ioargs\u001b[39m.\u001b[39mmode)\n",
      "\u001b[0;31mFileNotFoundError\u001b[0m: [Errno 2] No such file or directory: 'C:\\\\Users\\\\Dorián\\\\PycharmProjects\\\\PythonVizsgaFelkészülés1Feladatok\\\\tables\\\\hotels.txt'"
     ]
    }
   ],
   "source": [
    "import pandas as pd\n",
    "\n",
    "df = pd.read_csv('C:\\\\Users\\\\Dorián\\\\PycharmProjects\\\\PythonVizsgaFelkészülés1Feladatok\\\\tables\\\\hotels.txt', sep =';')\n",
    "\n",
    "#Szállodák csoportosítása  a nevük szerint.\n",
    "gb = df.groupby('Hotel name')\n",
    "\n",
    "#1. Hány db értékelés van összesen az egyes szállodákra vonatkozóan?\n",
    "print(gb['Score'].count())\n",
    "\n",
    "#2. A szobák száma (Nr. rooms) alapján melyik az öt legnagyobb szálloda?\n",
    "print(gb['Nr. rooms'].first().sort_values(ascending=False).head(5))\n",
    "\n",
    "#3. Hány ponttal magasabb a medencével (Pool) rendelkezeő szállodák átlagos értéklése\n",
    "    #(Score) a többi szálloda átlagos értékelésénél?\n",
    "df2 = df.groupby(['Hotel name', 'Pool'])['Score'].mean().reset_index()#Hotelek és medencék, értékelések átlaga\n",
    "ertek = df2.groupby(\"Pool\")[\"Score\"].mean()#Medencével rendelkező és nem rendelkező hotelek összesített átlaga\n",
    "print(ertek['YES'] - ertek['NO'])#Pont különbség\n",
    "\n",
    "#4. Hány ponttal magasabb a teniszpályával(Tennis court) rendelkező szállodák átlagos értékelése\n",
    "    #(Score) a többi szálloda átlagos értékelésénél?\n",
    "df2 = df.groupby(['Hotel name', 'Tennis court'])['Score'].mean().reset_index()#Hotelek és tenisz pályák, értékelések átlaga\n",
    "ertek = df2.groupby(\"Tennis court\")[\"Score\"].mean()#Tenisz pályával rendelkező és nem rendelkező hotelek összesített átlaga\n",
    "print(ertek['YES'] - ertek['NO'])#Pont különbség"
   ]
  },
  {
   "attachments": {},
   "cell_type": "markdown",
   "metadata": {},
   "source": [
    "# Manuális nem pontos megoldás"
   ]
  },
  {
   "cell_type": "code",
   "execution_count": null,
   "metadata": {},
   "outputs": [
    {
     "name": "stdout",
     "output_type": "stream",
     "text": [
      "n:  15\n",
      "126656355241132\n",
      "A leghosszabb 6-os sorozat hossza: 2\n"
     ]
    }
   ],
   "source": [
    "def simulate_dice_rolls(n):\n",
    "    import random\n",
    "    rolls = []\n",
    "    for i in range(n):\n",
    "        rolls.append(random.randint(1,6))\n",
    "    return rolls\n",
    "\n",
    "def longest_6_in_row(rolls): \n",
    "    max = 0\n",
    "    count = 0\n",
    "    for i in range(len(rolls)):\n",
    "        count = 0 \n",
    "        if rolls[i] == 6:\n",
    "                count += 1\n",
    "        for j in range(1, len(rolls)-i):\n",
    "            if rolls[i+j] == 6:\n",
    "                count += 1\n",
    "            else:\n",
    "                break\n",
    "        if count>max:\n",
    "            max = count\n",
    "    return max\n",
    "\n",
    "n = int(input('n: '))\n",
    "rolls = simulate_dice_rolls(n)\n",
    "print('n: ', n)\n",
    "for roll in rolls:\n",
    "    print(roll, end='')\n",
    "max_series = longest_6_in_row(rolls)\n",
    "print(f'\\nA leghosszabb 6-os sorozat hossza: {max_series}')"
   ]
  },
  {
   "cell_type": "markdown",
   "metadata": {},
   "source": [
    "### 3. feladat [10p]\n",
    "\n",
    "A [hotels.txt](hotels.txt) szövegfájl Las Vegas-i szállodák értékeléséről tartalmaz adatokat. Minden sor egy szállóvendég által kiosztott értékeléshez tartozik. Készíts programot, amely kiszámítja és kiírja az alábbi statisztikákat:\n",
    "\n",
    "- Hány db értékelés van összesen az egyes szállodákra vonatkozóan?\n",
    "- A szobák száma (`Nr. rooms`) alapján melyik az öt legnagyobb szálloda?\n",
    "- Hány ponttal magasabb a medencével (`Pool`) rendelkező szállodák átlagos értékelése (`Score`) a többi szálloda átlagos értékelésénél?"
   ]
  },
  {
   "cell_type": "code",
   "execution_count": null,
   "metadata": {},
   "outputs": [
    {
     "name": "stdout",
     "output_type": "stream",
     "text": [
      "{'Circus Circus Hotel & Casino Las Vegas': 24, 'Excalibur Hotel & Casino': 24, 'Monte Carlo Resort&Casino': 24, 'Treasure Island- TI Hotel & Casino': 24, 'Tropicana Las Vegas - A Double Tree by Hilton Hotel': 24, 'Caesars Palace': 24, 'The Cosmopolitan Las Vegas': 24, 'The Palazzo Resort Hotel Casino': 24, 'Wynn Las Vegas': 24, 'Trump International Hotel Las Vegas': 24, 'The Cromwell': 24, 'Encore at wynn Las Vegas': 24, 'Hilton Grand Vacations on the Boulevard': 24, \"Marriott's Grand Chateau\": 24, 'Tuscany Las Vegas Suites & Casino': 24, 'Hilton Grand Vacations at the Flamingo': 24, 'Wyndham Grand Desert': 24, 'The Venetian Las Vegas Hotel': 24, 'Bellagio Las Vegas': 24, 'Paris Las Vegas': 24, 'The Westin las Vegas Hotel Casino & Spa': 24}\n",
      "[('The Venetian Las Vegas Hotel', 4027), ('Excalibur Hotel & Casino', 3981), ('Bellagio Las Vegas', 3933), ('Circus Circus Hotel & Casino Las Vegas', 3773), ('Caesars Palace', 3348)]\n",
      "\n",
      "\n",
      "0.9604166666666667\n"
     ]
    }
   ],
   "source": [
    "\n",
    "filename = '/home/g14/uni/sze_python_programozas/data/hotels.txt'\n",
    "\n",
    "def get_data(filename):\n",
    "    with open(filename, 'r') as f:\n",
    "        # skip the first line\n",
    "        f.readline()\n",
    "        lines = f.readlines()\n",
    "        # read into a list  split by | return the list \n",
    "        lines = [line.split(';') for line in lines]    \n",
    "        data = [] \n",
    "        # remove the newline character from the last element of each line\n",
    "        for line in lines:\n",
    "            line[-1] = line[-1].strip()\n",
    "            continue\n",
    "        for line in lines:\n",
    "            data.append(line) \n",
    "        return data\n",
    "\n",
    "\n",
    "def get_reviews(datas):\n",
    "    reviews = {}\n",
    "    for data in datas:\n",
    "        if data[0] not in reviews:\n",
    "            reviews[data[0]] = 1\n",
    "        else:\n",
    "            reviews[data[0]] += 1\n",
    "    print(reviews)\n",
    "    return reviews\n",
    "    \n",
    "def top5_rooms(datas):\n",
    "    hotels = {}\n",
    "    for data in datas:\n",
    "        if data[0] not in hotels:\n",
    "            hotels[data[0]] = int(data[1])\n",
    "        else:\n",
    "            continue\n",
    "    hotels = sorted(hotels.items(), key=lambda x: x[1], reverse=True)\n",
    "    print(hotels[0:5])\n",
    "    \n",
    "def get_pool_score(datas, rewiews):  \n",
    "    has_pool = {}\n",
    "    no_pool = {}\n",
    "    for data in datas:\n",
    "        # Has pool\n",
    "        if data[2] == 'YES':\n",
    "            if data[0] not in has_pool:\n",
    "                has_pool[data[0]] = int(data[-1])\n",
    "            else: \n",
    "                has_pool[data[0]] += int(data[-1])\n",
    "        # No pool\n",
    "        else:\n",
    "            if data[0] not in no_pool:\n",
    "                no_pool[data[0]] = int(data[-1])\n",
    "            else: \n",
    "                no_pool[data[0]] += int(data[-1])\n",
    "         \n",
    "    has_pool_counter = 0\n",
    "    no_pool_counter = 0\n",
    "    has_pool_data = 0\n",
    "    no_pool_data = 0\n",
    "    for data in has_pool:\n",
    "        value = has_pool[data]\n",
    "        value = value / rewiews[data]\n",
    "        has_pool[data] = value\n",
    "        has_pool_counter += 1\n",
    "        has_pool_data += value\n",
    "    for data in no_pool:\n",
    "        value = no_pool[data]\n",
    "        value = value / rewiews[data]\n",
    "        no_pool[data] = value\n",
    "        no_pool_counter += 1\n",
    "        no_pool_data += value\n",
    "    \n",
    "    has_pool_data = has_pool_data / has_pool_counter\n",
    "    no_pool_data = no_pool_data / no_pool_counter\n",
    "    \n",
    "    diff = has_pool_data - no_pool_data\n",
    "    \n",
    "    print('\\n')\n",
    "    print(diff)\n",
    "    \n",
    "    \n",
    "data = get_data(filename)\n",
    "reviews = get_reviews(data)\n",
    "top5_rooms(data)\n",
    "get_pool_score(data, reviews)"
   ]
  }
 ],
 "metadata": {
  "kernelspec": {
   "display_name": "Python 3",
   "language": "python",
   "name": "python3"
  },
  "language_info": {
   "codemirror_mode": {
    "name": "ipython",
    "version": 3
   },
   "file_extension": ".py",
   "mimetype": "text/x-python",
   "name": "python",
   "nbconvert_exporter": "python",
   "pygments_lexer": "ipython3",
   "version": "3.10.6"
  },
  "vscode": {
   "interpreter": {
    "hash": "916dbcbb3f70747c44a77c7bcd40155683ae19c65e1c03b4aa3499c5328201f1"
   }
  }
 },
 "nbformat": 4,
 "nbformat_minor": 1
}
