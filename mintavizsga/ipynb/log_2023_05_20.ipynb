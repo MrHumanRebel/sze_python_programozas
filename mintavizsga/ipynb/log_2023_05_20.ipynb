{
 "cells": [
  {
   "attachments": {},
   "cell_type": "markdown",
   "metadata": {},
   "source": [
    "1. feladat\n",
    "\n",
    "Készítsen programot az alábbi feladat megoldására!\n",
    "\n",
    "Hány olyan egész szám van a [12,34567] intervallumban, amelyben a számjegyek sorrendjét megfordítva éppen magát a számot kapjuk (pl. ilyen számok: 33, 121, 4554; nem ilyen számok: 12, 122, 34567)?"
   ]
  },
  {
   "cell_type": "code",
   "execution_count": 1,
   "metadata": {},
   "outputs": [
    {
     "name": "stdout",
     "output_type": "stream",
     "text": [
      "434\n"
     ]
    }
   ],
   "source": [
    "lista1 = []\n",
    "lista2 = []\n",
    "\n",
    "for i in range(12,34567):\n",
    "    szamok=str(i)\n",
    "    lista1.append(szamok)\n",
    "    szamok2 =szamok[::-1]\n",
    "    lista2.append(szamok2)\n",
    "\n",
    "counter=0\n",
    "for i in range(len(lista1)):\n",
    "    if lista1[i] == lista2[i]:\n",
    "        counter+=1\n",
    "print(counter)"
   ]
  },
  {
   "attachments": {},
   "cell_type": "markdown",
   "metadata": {},
   "source": [
    "# Részmegoldás"
   ]
  },
  {
   "cell_type": "code",
   "execution_count": 27,
   "metadata": {},
   "outputs": [
    {
     "data": {
      "text/plain": [
       "434"
      ]
     },
     "execution_count": 27,
     "metadata": {},
     "output_type": "execute_result"
    }
   ],
   "source": [
    "def nums():\n",
    "    counter = 0\n",
    "    for i in range(12,34567,1):  \n",
    "        num_as_str = str(i)\n",
    "\n",
    "        akt_int = 0\n",
    "        reverse_int= 0\n",
    "        reverse = \"\"\n",
    "\n",
    "        for j in range(len(num_as_str)-1,-1,-1):\n",
    "            \n",
    "            reverse = reverse + num_as_str[j]\n",
    "            \n",
    "        akt_int = int(num_as_str)\n",
    "        reverse_int= int(reverse)\n",
    "        #print(\"Akt szám: \", num_as_str)\n",
    "        #print(\"Reverse szám: \", reverse_int)\n",
    "        \n",
    "        if akt_int == reverse_int:\n",
    "            counter = counter + 1\n",
    "\n",
    "    return counter\n",
    "        \n",
    "nums()"
   ]
  },
  {
   "attachments": {},
   "cell_type": "markdown",
   "metadata": {},
   "source": [
    "\n",
    "\n",
    "2. feladat\n",
    "\n",
    "Készítsen függvényt az alábbi feladat megoldására!\n",
    "\n",
    "A függvény bemenő paramétere egy lista, ami neveket tartalmaz. A lista helyes, ha nem üres, minden név különböző és mindegyik tartalmaz legalább egy angol (kis vagy nagy) betűt. A függvény ellenőrizze a lista helyességét és ezt adja is vissza eredményként! A függvény másik eredménye egy lista legyen, ami helytelen bemenő lista esetén legyen az üres lista, egyébként meg egy olyan lista, amely a neveknek egy véletlenszerű párosítását tartalmazza! A párosításban minden név pontosan egyszer szerepeljen, vagy az első vagy a második helyen (ahol a hely is legyen véletlenszerű)! Páratlan számú név esetén az egyik pár egyik helye maradjon üresen (pl. a példában ez a 2. pár első helye)!\n",
    "\n",
    "Teszteljük a függvény működését, azaz hívjuk meg a függvényt (pl. az alábbi adatokkal), és írjuk ki a kapott eredmény(eke)t! A kiírt adatok elválasztására tabulátort használjunk és a pároknak legyen sorszáma!\n",
    "\n",
    "Elvárt futási eredmény:\n",
    "\n",
    " 1.\tSára \tKároly\n",
    " 2.\t\tIrma\n",
    " 3.\tNóra\tJános\n",
    "\n",
    "A nevek lista:\n",
    "\n",
    "nevek = ['János', 'Károly', 'Irma', 'Sára', 'Nóra']"
   ]
  },
  {
   "cell_type": "code",
   "execution_count": 2,
   "metadata": {},
   "outputs": [
    {
     "name": "stdout",
     "output_type": "stream",
     "text": [
      "A nevek lista:\n",
      "1. párosítás: János \n",
      "2. párosítás: Sára Irma\n",
      "3. párosítás: Károly Nóra\n"
     ]
    }
   ],
   "source": [
    "nevek = ['János', 'Károly', 'Irma', 'Sára', 'Nóra']\n",
    "\n",
    "import random\n",
    "\n",
    "\n",
    "def ellenorzes_es_parositas(nevek):\n",
    "    if len(nevek) == 0 or len(nevek) != len(set(nevek)):\n",
    "        return False, []\n",
    "\n",
    "    angol_betuk = set('abcdefghijklmnopqrstuvwxyzABCDEFGHIJKLMNOPQRSTUVWXYZ')\n",
    "    for nev in nevek:\n",
    "        if not any(ch in angol_betuk for ch in nev):\n",
    "            return False, []\n",
    "\n",
    "    random.shuffle(nevek)\n",
    "    parok = []\n",
    "    if len(nevek) % 2 == 1:\n",
    "        parok.append((nevek[0], ''))\n",
    "        nevek = nevek[1:]\n",
    "\n",
    "    for i in range(0, len(nevek), 2):\n",
    "        parok.append((nevek[i], nevek[i + 1]))\n",
    "\n",
    "    return True, parok\n",
    "\n",
    "\n",
    "# Tesztelés\n",
    "eredmeny, parok = ellenorzes_es_parositas(nevek)\n",
    "\n",
    "if eredmeny:\n",
    "    print(\"A nevek lista:\")\n",
    "    for i, par in enumerate(parok, start=1):\n",
    "        print(f\"{i}. párosítás: {par[0]} {par[1]}\")\n",
    "else:\n",
    "    print(\"Helytelen bemenő lista.\")\n"
   ]
  },
  {
   "attachments": {},
   "cell_type": "markdown",
   "metadata": {},
   "source": [
    "# Részmegoldás"
   ]
  },
  {
   "cell_type": "code",
   "execution_count": 39,
   "metadata": {},
   "outputs": [
    {
     "name": "stdout",
     "output_type": "stream",
     "text": [
      "1 . parositas:    Nóra\n",
      "2 . parositas:  Irma János\n",
      "3 . parositas:  Sára Károly\n"
     ]
    }
   ],
   "source": [
    "import random\n",
    "\n",
    "nevek = ['János', 'Károly', 'Irma', 'Sára', 'Nóra']\n",
    "\n",
    "def helyes(nevek):\n",
    "    helytelen = False   \n",
    "    uj = []\n",
    "    \n",
    "    if len(nevek) % 2 != 0: #páratlan\n",
    "        uj.append(\" \")\n",
    "    \n",
    "    abc = {'A', 'B', 'C', 'D', 'E', 'F', 'G', 'H',\n",
    "           'I', 'J', 'K', 'L', 'M', 'N', 'O', 'P', 'Q',\n",
    "           'R', 'S', 'T', 'U', 'V', 'W', 'X', 'Y', 'Z'}\n",
    "    \n",
    "    for i in range(len(nevek)):\n",
    "        akt = nevek[i]\n",
    "        for j in range(i+1,len(nevek)):\n",
    "            if akt == nevek[j]:\n",
    "                print(\"Nem minden név különböző!\")\n",
    "                helytelen = True\n",
    "    \n",
    "    for i in range(len(nevek)):\n",
    "        akt = nevek[i]\n",
    "        akt = nevek[i].upper()\n",
    "        for j in range(len(nevek[i])-1):\n",
    "            for x in range(len(abc)):\n",
    "                if akt[0] not in abc:\n",
    "                    print(\"Nem megfelelő név!\")\n",
    "                    helytelen = True\n",
    "    szamlalo = 0\n",
    "    while szamlalo != len(nevek):\n",
    "        randomszam = random.randint(0, len(nevek)-1)\n",
    "        selected = nevek[randomszam]\n",
    "        if selected not in uj:\n",
    "            uj.append(nevek[randomszam])\n",
    "            szamlalo = szamlalo + 1\n",
    "\n",
    "    if helytelen == True:\n",
    "        return nevek\n",
    "    else:\n",
    "        return uj\n",
    "\n",
    "uj_nevek = helyes(nevek)\n",
    "\n",
    "line = 1\n",
    "for i in range(0,len(uj_nevek),2):\n",
    "    print(line,\". parositas: \",uj_nevek[i], uj_nevek[i+1])\n",
    "    line = line + 1\n"
   ]
  },
  {
   "attachments": {},
   "cell_type": "markdown",
   "metadata": {},
   "source": [
    "3. feladat\n",
    "\n",
    "Készítsen programot az alábbi feladatok megoldására!\n",
    "\n",
    "A log.txt fájl egy szerverhez intézett kérésekről tartalmaz adatokat.\n",
    "\n",
    "A fájlban lévő adatok alapján határozza meg az alábbi statisztikákat!\n",
    "\n",
    "a) Hány db különböző IP című számítógép használta a szervert?\n",
    "b) Melyik (IP című) számítógépről jött a legtöbb kérés és mennyi?\n",
    "c) Melyik az az 5 számítógép, amelyiken a leghosszabb ideig 'dolgoztak'? A 'dolgozás' idejét az adott számítógéphez tartozó, időben legelső és legutolsó kérés közt eltelt idő adja! Olyan eredménylistát készítsen, amelyben szerepel az adott számítógépek IP címe, az első és az utolsó kérés ideje, valamint a köztük eltelt idő (óó:pp:mm alakban)! A lista az eltelt idő szerint legyen csökkenően rendezve!\n"
   ]
  },
  {
   "cell_type": "code",
   "execution_count": 40,
   "metadata": {},
   "outputs": [
    {
     "name": "stdout",
     "output_type": "stream",
     "text": [
      "14 db különböző ip című számítógépet használ a szerver.\n",
      "46.107.248.82 ip című számítógépről jött a legtöbb hívás, szám szerint: 265.\n",
      "ip\n",
      "31.46.86.220     0 days 05:50:06\n",
      "94.27.207.61     0 days 05:20:58\n",
      "94.248.244.141   0 days 05:07:21\n",
      "81.22.178.58     0 days 05:04:45\n",
      "46.107.248.82    0 days 04:59:21\n",
      "Name: time, dtype: timedelta64[ns]\n"
     ]
    }
   ],
   "source": [
    "import pandas as pd\n",
    "import datetime as dt\n",
    "\n",
    "df = pd.read_csv('/home/g14/uni/sze_python_programozas/data/log.txt',sep=';')\n",
    "\n",
    "#a) Hány db különböző IP című számítógép használta a szervert?\n",
    "szgep = df.groupby('ip')['ip'].size().count()\n",
    "print(f'{szgep} db különböző ip című számítógépet használ a szerver.')\n",
    "\n",
    "#b) Melyik (IP című) számítógépről jött a legtöbb kérés és mennyi?\n",
    "szam = df.groupby('ip')['ip'].size().max()\n",
    "ipsor = df.groupby('ip')['ip'].size().idxmax()\n",
    "print(f\"{ipsor} ip című számítógépről jött a legtöbb hívás, szám szerint: {szam}.\")\n",
    "\n",
    "#c) Melyik az az 5 számítógép, amelyiken a leghosszabb ideig 'dolgoztak'?\n",
    "df['time'] = pd.to_datetime(df['time'], format='%H:%M:%S')\n",
    "timemaximum = df.groupby('ip')['time'].max()\n",
    "timeminimum = df.groupby('ip')['time'].min()\n",
    "kulonbseg = timemaximum-timeminimum\n",
    "print(kulonbseg.sort_values(ascending = False).head(5))"
   ]
  },
  {
   "attachments": {},
   "cell_type": "markdown",
   "metadata": {},
   "source": [
    "# Manuális nem pontos részmegoldás"
   ]
  },
  {
   "cell_type": "code",
   "execution_count": 42,
   "metadata": {},
   "outputs": [
    {
     "name": "stdout",
     "output_type": "stream",
     "text": [
      "Hány db különböző IP című számítógép használta a szervert?\n",
      "14\n",
      "\n",
      "\n",
      "Melyik (IP című) számítógépről jött a legtöbb kérés és mennyi?\n",
      "46.107.248.82  :  265  db kérés\n",
      "\n",
      "\n"
     ]
    }
   ],
   "source": [
    "import datetime\n",
    "\n",
    "\n",
    "filename = '/home/g14/uni/sze_python_programozas/data/log.txt'\n",
    "\n",
    "def get_data(filename):\n",
    "    with open(filename, 'r') as f:\n",
    "        # skip the firstline\n",
    "        f.readline()\n",
    "        lines = f.readlines()\n",
    "        # read into a list  split by | return the list \n",
    "        lines = [line.split(';') for line in lines]    \n",
    "        # remove the newline character from the last element of each line\n",
    "        for line in lines:\n",
    "            line[-1] = line[-1].strip()\n",
    "            continue\n",
    "        data = [] \n",
    "        for line in lines:\n",
    "            data.append(line) \n",
    "        return data\n",
    "\n",
    "\n",
    "\n",
    "def diff_ip(data):\n",
    "    \n",
    "    different_ips = []\n",
    "    counter = 0\n",
    "    \n",
    "    for i in range(len(data)):\n",
    "        if data[i][0] not in different_ips:\n",
    "            different_ips.append(data[i][0])\n",
    "            counter = counter + 1      \n",
    "    print(\"Hány db különböző IP című számítógép használta a szervert?\")\n",
    "    print(counter)\n",
    "    return counter\n",
    "\n",
    "\n",
    "\n",
    "def get_top_query(data):\n",
    "    different_ips = []\n",
    "    max = 0\n",
    "    ip = \"\"\n",
    "\n",
    "    for i in range(len(data)):\n",
    "        if data[i][0] not in different_ips:\n",
    "            different_ips.append(data[i][0])\n",
    "    \n",
    "    for i in range(len(different_ips)):\n",
    "        counter = 0\n",
    "        for j in range(len(data)):\n",
    "            if different_ips[i] in data[j][0]:\n",
    "                counter = counter + 1\n",
    "        if counter > max:\n",
    "            max = counter\n",
    "            ip = different_ips[i]\n",
    "    print(\"Melyik (IP című) számítógépről jött a legtöbb kérés és mennyi?\")\n",
    "    print(ip, ' : ', max, ' db kérés')\n",
    "    return ip, max\n",
    "\n",
    "\n",
    "\n",
    "def top5(data):\n",
    "    different_ips = []\n",
    "    start = []\n",
    "    stop = []    \n",
    "    \n",
    "    for i in range(len(data)):\n",
    "        if data[i][0] not in different_ips:\n",
    "            different_ips.append(data[i][0])\n",
    "      \n",
    "    for i in range(len(different_ips)):\n",
    "        elso = False\n",
    "        for j in range(len(data)):\n",
    "            if elso == False and different_ips[i] == data[j][0]:\n",
    "                elso = True\n",
    "                start.append(data[j][1])\n",
    "                #print(data[j][1])\n",
    "        elso = False\n",
    "        for j in range(len(data)-1,0,-1):\n",
    "            if elso == False and different_ips[i] == data[j][0]:\n",
    "                elso = True\n",
    "                stop.append(data[j][1])\n",
    "                #print(data[j][1])\n",
    "    \n",
    "            \n",
    "                \n",
    "                \n",
    "data = get_data(filename)\n",
    "diff_ip(data)\n",
    "print('\\n')\n",
    "get_top_query(data)\n",
    "print('\\n')\n",
    "top5(data)"
   ]
  }
 ],
 "metadata": {
  "kernelspec": {
   "display_name": "Python 3",
   "language": "python",
   "name": "python3"
  },
  "language_info": {
   "codemirror_mode": {
    "name": "ipython",
    "version": 3
   },
   "file_extension": ".py",
   "mimetype": "text/x-python",
   "name": "python",
   "nbconvert_exporter": "python",
   "pygments_lexer": "ipython3",
   "version": "3.10.6"
  },
  "orig_nbformat": 4
 },
 "nbformat": 4,
 "nbformat_minor": 2
}
