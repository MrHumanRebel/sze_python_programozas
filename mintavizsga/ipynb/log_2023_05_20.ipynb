{
 "cells": [
  {
   "attachments": {},
   "cell_type": "markdown",
   "metadata": {},
   "source": [
    "1. feladat\n",
    "\n",
    "Készítsen programot az alábbi feladat megoldására!\n",
    "\n",
    "Hány olyan egész szám van a [12,34567] intervallumban, amelyben a számjegyek sorrendjét megfordítva éppen magát a számot kapjuk (pl. ilyen számok: 33, 121, 4554; nem ilyen számok: 12, 122, 34567)?"
   ]
  },
  {
   "cell_type": "code",
   "execution_count": null,
   "metadata": {
    "vscode": {
     "languageId": "plaintext"
    }
   },
   "outputs": [],
   "source": []
  },
  {
   "attachments": {},
   "cell_type": "markdown",
   "metadata": {},
   "source": [
    "\n",
    "\n",
    "2. feladat\n",
    "\n",
    "Készítsen függvényt az alábbi feladat megoldására!\n",
    "\n",
    "A függvény bemenő paramétere egy lista, ami neveket tartalmaz. A lista helyes, ha nem üres, minden név különböző és mindegyik tartalmaz legalább egy angol (kis vagy nagy) betűt. A függvény ellenőrizze a lista helyességét és ezt adja is vissza eredményként! A függvény másik eredménye egy lista legyen, ami helytelen bemenő lista esetén legyen az üres lista, egyébként meg egy olyan lista, amely a neveknek egy véletlenszerű párosítását tartalmazza! A párosításban minden név pontosan egyszer szerepeljen, vagy az első vagy a második helyen (ahol a hely is legyen véletlenszerű)! Páratlan számú név esetén az egyik pár egyik helye maradjon üresen (pl. a példában ez a 2. pár első helye)!\n",
    "\n",
    "Teszteljük a függvény működését, azaz hívjuk meg a függvényt (pl. az alábbi adatokkal), és írjuk ki a kapott eredmény(eke)t! A kiírt adatok elválasztására tabulátort használjunk és a pároknak legyen sorszáma!\n",
    "\n",
    "Elvárt futási eredmény:\n",
    "\n",
    " 1.\tSára \tKároly\n",
    " 2.\t\tIrma\n",
    " 3.\tNóra\tJános\n",
    "\n",
    "A nevek lista:\n",
    "\n",
    "nevek = ['János', 'Károly', 'Irma', 'Sára', 'Nóra']"
   ]
  },
  {
   "cell_type": "code",
   "execution_count": null,
   "metadata": {
    "vscode": {
     "languageId": "plaintext"
    }
   },
   "outputs": [],
   "source": []
  },
  {
   "attachments": {},
   "cell_type": "markdown",
   "metadata": {},
   "source": [
    "3. feladat\n",
    "\n",
    "Készítsen programot az alábbi feladatok megoldására!\n",
    "\n",
    "A log.txt fájl egy szerverhez intézett kérésekről tartalmaz adatokat.\n",
    "\n",
    "A fájlban lévő adatok alapján határozza meg az alábbi statisztikákat!\n",
    "\n",
    "a) Hány db különböző IP című számítógép használta a szervert?\n",
    "b) Melyik (IP című) számítógépről jött a legtöbb kérés és mennyi?\n",
    "c) Melyik az az 5 számítógép, amelyiken a leghosszabb ideig 'dolgoztak'? A 'dolgozás' idejét az adott számítógéphez tartozó, időben legelső és legutolsó kérés közt eltelt idő adja! Olyan eredménylistát készítsen, amelyben szerepel az adott számítógépek IP címe, az első és az utolsó kérés ideje, valamint a köztük eltelt idő (óó:pp:mm alakban)! A lista az eltelt idő szerint legyen csökkenően rendezve!\n"
   ]
  },
  {
   "cell_type": "code",
   "execution_count": null,
   "metadata": {
    "vscode": {
     "languageId": "plaintext"
    }
   },
   "outputs": [],
   "source": []
  }
 ],
 "metadata": {
  "language_info": {
   "name": "python"
  },
  "orig_nbformat": 4
 },
 "nbformat": 4,
 "nbformat_minor": 2
}
