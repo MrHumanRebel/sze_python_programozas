{
 "cells": [
  {
   "attachments": {},
   "cell_type": "markdown",
   "metadata": {},
   "source": [
    "# 1. feladat [8p]\n",
    "\n",
    " Készítsünk programot, amely bekér a felhasználótól egy n természetes számot, felbontja az összes lehetséges módon 3 különbözö természetes szám összegére, és kiírja ezeket a felbontásokat! A tagok sorrendje ne számítson, azaz pl. 1 + 2 + 3 és 1 + 3 + 2 ne számítson különbözőnek! Példa futási eredmény: \n",
    " \n",
    "n: 7 \n",
    "\n",
    "- 0 + 1 + 6\n",
    "- 0 + 2 + 5\n",
    "- 0 + 3 + 4\n",
    "- 1 + 2 + 4 "
   ]
  },
  {
   "cell_type": "code",
   "execution_count": null,
   "metadata": {},
   "outputs": [],
   "source": [
    "n = int(input(\"n: \"))\n",
    "\n",
    "for i in range(0,n,1):\n",
    "    for j in range(0,n,1):\n",
    "        for k in range(0,n,1):\n",
    "            if i+j+k == n and i != j and i != k and j!=k and i<j<k:\n",
    "                print(i,j,k) "
   ]
  },
  {
   "attachments": {},
   "cell_type": "markdown",
   "metadata": {},
   "source": [
    "# 2. feladat [12p] \n",
    "\n",
    "A zoo.txt több száz gerinces állatfaj várható élettartamáról tartalmaz becsléseket, észak-amerikai állatkertek törzskönyvi adatai alapján. Készítsünk programot, amely beolvassa a szövegfájl tartalmát. majd válaszol az alábbi kérdésekre!\n",
    "- Melyik a 10 legmagasabb várható élettartamú (mle) állatfaj? \n",
    "- Átlagosan mennyi a várható élettartam az egyes rendszertani osztályokban ( taxonomy_class)? \n",
    "- Melyik fajnál a legnagyobb a különbség a hímek és a nőstények várható élettartama között (male_mle, female_mle )? \n",
    "- A sample_size oszlop azt adja meg, hogy az adott fajból hány egyedről van mérési adat. Összesen hány hüllőről ( Reptilia ) van mérési adat az adathalmazban? \n"
   ]
  },
  {
   "attachments": {},
   "cell_type": "markdown",
   "metadata": {},
   "source": [
    "# Pandas"
   ]
  },
  {
   "cell_type": "code",
   "execution_count": null,
   "metadata": {},
   "outputs": [],
   "source": [
    "import pandas as pd\n",
    "\n",
    "df = pd.read_csv('C:\\\\Users\\\\Dorián\\\\PycharmProjects\\\\PythonVizsgaFelkészülés1Feladatok\\\\tables\\\\zoo.txt', sep ='|', skiprows= 1)\n",
    "#print(df.info())\n",
    "\n",
    "#1. Melyik a 10 legmagasabb várható élettartamú (mle) állatfaj?\n",
    "top10 = df.nlargest(10,'mle')\n",
    "print(top10[['common_name','mle']])\n",
    "\n",
    "#2. Átlagosan mennyi a várható élettartam az egyes rendszertani osztályokban ( taxonomy_class)?\n",
    "print(df.groupby('taxonomy_class')['mle'].mean().sort_values(ascending=False))\n",
    "\n",
    "#3. Melyik fajnál a legnagyobb a különbség a hímek és a nőstények várható élettartama között (male_mle, female_mle )?\n",
    "df['diff_mle'] = abs(df['male_mle']-df['female_mle'])\n",
    "maxindx = df['diff_mle'].idxmax()\n",
    "max = df['diff_mle'].max()\n",
    "print(df['common_name'][maxindx], 'fajnál a legnagyobb a különbség a hímek és a nőstények várható élettartama között, méghozzá', max, 'évvel.')\n",
    "\n",
    "#4. A sample_size oszlop azt adja meg, hogy az adott fajból hány egyedről van mérési adat.\n",
    "# Összesen hány hüllőről ( Reptilia ) van mérési adat az adathalmazban?\n",
    "reptilia_data = df[df['taxonomy_class'] == 'Reptilia']\n",
    "reptilia_sample_size = reptilia_data['sample_size'].sum()\n",
    "print(reptilia_sample_size)\n",
    "\n"
   ]
  },
  {
   "cell_type": "markdown",
   "metadata": {},
   "source": [
    "# Manuális nem pontos megoldás"
   ]
  },
  {
   "cell_type": "code",
   "execution_count": null,
   "metadata": {},
   "outputs": [],
   "source": [
    "filename = '/home/g14/uni/sze_python_programozas/data/zoo.txt'\n",
    "\n",
    "def get_data(filename):\n",
    "    with open(filename, 'r') as f:\n",
    "        # skip the first two line\n",
    "        for i in range(2):\n",
    "            f.readline()\n",
    "        lines = f.readlines()\n",
    "        # read into a list  split by tab\n",
    "        lines = [line.split('|') for line in lines]    \n",
    "        # remove the newline character from the last element of each line\n",
    "        for line in lines:\n",
    "            line[-1] = line[-1].strip()\n",
    "            continue\n",
    "        data = [] \n",
    "        for line in lines:\n",
    "            data.append(line) \n",
    "        return data\n",
    "\n",
    "def highest_life_exp(data):\n",
    "    animals = {}\n",
    "    data = sorted(data, key=lambda x: x[4], reverse=True)\n",
    "    for i in range(10):\n",
    "        print(data[i][0])\n",
    "    \n",
    "def avg_life_exp(data):\n",
    "    animals = {}\n",
    "    for item in data:\n",
    "        if item[4] != '':\n",
    "            if item[2] not in animals:\n",
    "                animals[item[2]] = [float(item[4]), 1]\n",
    "            else:\n",
    "                animals[item[2]][0] += float(item[4])\n",
    "                animals[item[2]][1] += 1\n",
    "    avg_animals = {}    \n",
    "    for item in animals:\n",
    "        avg_animals[item] = animals[item][0] / animals[item][1]\n",
    "    print(avg_animals)\n",
    "   \n",
    "def male_female_mle_diff(data):  \n",
    "    # 9  male mle\n",
    "    # 13 female mle\n",
    "    animals = {}\n",
    "    for item in data:\n",
    "        if item[9] != '' and item[13] != '':\n",
    "            if item[0] not in animals:\n",
    "                animals[item[0]] = abs(float(item[9]) - float(item[13]))\n",
    "    animals = sorted(animals, key=lambda x: x[1], reverse=True)\n",
    "    print(animals[0])\n",
    "    \n",
    "def sample(data):\n",
    "    animals = {}\n",
    "    for item in data:\n",
    "        if item[2] == 'Reptilia':\n",
    "            if item[2] not in animals:\n",
    "                animals[item[2]] = float(item[3])\n",
    "            else:\n",
    "                animals[item[2]] += float(item[3])\n",
    "    print(animals) \n",
    "    \n",
    "data = get_data(filename)\n",
    "highest_life_exp(data)\n",
    "avg_life_exp(data)\n",
    "male_female_mle_diff(data)\n",
    "sample(data)\n"
   ]
  }
 ],
 "metadata": {
  "kernelspec": {
   "display_name": "Python 3",
   "language": "python",
   "name": "python3"
  },
  "language_info": {
   "codemirror_mode": {
    "name": "ipython",
    "version": 3
   },
   "file_extension": ".py",
   "mimetype": "text/x-python",
   "name": "python",
   "nbconvert_exporter": "python",
   "pygments_lexer": "ipython3",
   "version": "3.10.6"
  }
 },
 "nbformat": 4,
 "nbformat_minor": 2
}
