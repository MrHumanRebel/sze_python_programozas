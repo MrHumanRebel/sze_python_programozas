{
 "cells": [
  {
   "attachments": {},
   "cell_type": "markdown",
   "metadata": {},
   "source": [
    "# 1. feladat [8p]\n",
    "A data objektum egy nullákból és egyesekból álló négyzetet tartalmaz, listák listájaként reprezentálva. Készítsünk programot, amely megadja leghosszabb csupa nullából álló átlós vonal hosszát a négyzetben! A program ne csak megadott data objektumra, hanem tetszőleges, ugyanilyen formátumú bemenetre is!"
   ]
  },
  {
   "cell_type": "code",
   "execution_count": 1,
   "metadata": {},
   "outputs": [
    {
     "name": "stdout",
     "output_type": "stream",
     "text": [
      "Legrövidebb csupa nullából álló átlós vonal hossza: 3\n"
     ]
    }
   ],
   "source": [
    "data = [[1,0,1,0],\n",
    "        [1,0,0,1],\n",
    "        [0,1,1,0],\n",
    "        [0,0,0,0]]\n",
    "\n",
    "rows = len(data)\n",
    "cols = len(data[0])\n",
    "\n",
    "max = 0\n",
    "\n",
    "for i in range(rows):\n",
    "    sum = 0\n",
    "    for j in range(cols):\n",
    "        if data[i][j] == 0:\n",
    "            for k in range(1, min(rows-i, cols-j)):\n",
    "                if sum == 0: \n",
    "                    sum += 1\n",
    "                if data[i+k][j+k] == 0:\n",
    "                    sum += 1\n",
    "    if sum > max:\n",
    "        max = sum\n",
    "    sum = 0\n",
    "    \n",
    "    for j in range(cols-1, -1, -1):\n",
    "        if data[i][j] == 0:\n",
    "            for k in range(1, min(rows-i, j+1)):\n",
    "                if sum == 0: \n",
    "                    sum += 1\n",
    "                if data[i+k][j-k] == 0:\n",
    "                    sum += 1\n",
    "    if sum > max:\n",
    "        max = sum\n",
    "\n",
    "print(f\"Legrövidebb csupa nullából álló átlós vonal hossza: {max}\")"
   ]
  },
  {
   "attachments": {},
   "cell_type": "markdown",
   "metadata": {},
   "source": [
    "# 2. feladat [12 p]\n",
    "\n",
    "Disclaimer: Nem rendelkezünk az eredeti adatokkal, ezért generált minta adatokat használunk fel!\n",
    "\n",
    "Az usa_cars.txt szövegfájl eladásra meghirdetett autókról és autóalkatrészekről tartalmaz adatokat. Készítsünk programot, amely beolvassa a szövegfájl tartalmát, majd válaszol az alábbi kérdésekre:\n",
    "\n",
    "- Melyik a 3 legrégebbi évjáratú termék?\n",
    "- Melyik a ledrágább Audi, BMW, Chevrolet, Ford, Nissan, Maserati és Toyota?\n",
    "- Melyik államban árulják a legtöbb piros Fordot?\n",
    "- Hányadik leggyakoribb szín az adathalazban a piros?\n"
   ]
  },
  {
   "attachments": {},
   "cell_type": "markdown",
   "metadata": {},
   "source": [
    "# Pandas"
   ]
  },
  {
   "cell_type": "code",
   "execution_count": 5,
   "metadata": {},
   "outputs": [
    {
     "name": "stdout",
     "output_type": "stream",
     "text": [
      "         Marka  Evjarat     Ar      Allam    Szin          Hiba\n",
      "219  Chevrolet     1990   2472  Minnesota   Green         Tires\n",
      "82     Hyundai     1990  37703      Texas  Silver      Interior\n",
      "35      Nissan     1990   2851   New York   Green  Transmission\n",
      "         Marka  Evjarat     Ar           Allam    Szin          Hiba\n",
      "331       Audi     2003  48198          Hawaii  Yellow  Transmission\n",
      "616        BMW     1991  47707  North Carolina   Green        Brakes\n",
      "54   Chevrolet     2008  49753        Colorado   Black         Tires\n",
      "499       Ford     2021  49947      New Jersey  Yellow  Transmission\n",
      "984   Maserati     2002  49599         Indiana  Silver         Tires\n",
      "652     Nissan     2000  48045         Montana    Blue         Tires\n",
      "563     Toyota     1991  49232           Maine    Blue      Exterior\n",
      "Connecticut\n",
      "9\n",
      "Silver\n"
     ]
    }
   ],
   "source": [
    "import pandas as pd\n",
    "\n",
    "df = pd.read_csv('/home/g14/uni/sze_python_programozas/data/usa_cars.txt', sep =',')\n",
    "#print(df.info())\n",
    "#Melyik a 3 legrégebbi évjáratú termék?\n",
    "print(df.sort_values('Evjarat').head(3))\n",
    "\n",
    "#Melyik a ledrágább Audi, BMW, Chevrolet, Ford, Nissan, Maserati és Toyota?\n",
    "filtered_df = df[df['Marka'].isin(['Audi','BMW','Chevrolet','Ford','Nissan','Maserati','Toyota'])]\n",
    "print(filtered_df.loc[filtered_df.groupby('Marka')['Ar'].idxmax()])\n",
    "\n",
    "#Melyik államban árulják a legtöbb piros Fordot?\n",
    "red_fords= df[(df['Marka']=='Ford') & (df['Szin']=='Red')]\n",
    "state_counts = red_fords['Allam'].value_counts().idxmax()\n",
    "print(state_counts)\n",
    "\n",
    "#Hányadik leggyakoribb szín az adathalazban a piros?\n",
    "color_counts = df['Szin'].value_counts() #Összes szín, melyikből hány darab van.\n",
    "red_count = color_counts.get('Red', 0) #Ezekből a pirosak.\n",
    "red_rank = (color_counts >= red_count).sum() #A pirosak a 9. helyen állnak.\n",
    "print(red_rank)\n",
    "\n",
    "#Melyik a leggyakoribb szín az adathalmnazban?\n",
    "print(df['Szin'].value_counts().idxmax())"
   ]
  },
  {
   "cell_type": "markdown",
   "metadata": {},
   "source": [
    "# Manuális nem pontos megoldás"
   ]
  },
  {
   "cell_type": "code",
   "execution_count": 10,
   "metadata": {},
   "outputs": [
    {
     "name": "stdout",
     "output_type": "stream",
     "text": [
      "A top 3 legrégebben gyártott termék: [['Chevrolet', '1990', '23301', 'California', 'Silver', 'Tires'], ['Nissan', '1990', '2851', 'New York', 'Green', 'Transmission'], ['Hyundai', '1990', '46936', 'New Mexico', 'White', 'Exhaust']]\n",
      "\n",
      "\n",
      "A legdrágább Audi: ['Audi', '1998', '10831', 'Virginia', 'Yellow', 'Tires']\n",
      "A legdrágább BMW: ['BMW', '2013', '10674', 'New Mexico', 'Orange', 'Engine']\n",
      "A legdrágább Chevrolet: ['Chevrolet', '1990', '10418', 'Missouri', 'Gray', 'Suspension']\n",
      "A legdrágább Ford: ['Ford', '1990', '11193', 'Massachusetts', 'Red', 'Engine']\n",
      "A legdrágább Nissan: ['Nissan', '2017', '13427', 'Michigan', 'Black', 'Brakes']\n",
      "A legdrágább Maserati: ['Maserati', '1991', '10161', 'Iowa', 'Yellow', 'Suspension']\n",
      "A legdrágább Toyota: ['Toyota', '2020', '10432', 'Ohio', 'Red', 'Transmission']\n",
      "\n",
      "\n",
      "\n",
      "\n",
      "A piros szín a 9. leggyakoribb szín a listában.\n"
     ]
    }
   ],
   "source": [
    "filename = '/home/g14/uni/sze_python_programozas/data/usa_cars.txt'\n",
    "\n",
    "\n",
    "def get_data(filename):\n",
    "    with open(filename, 'r') as f:\n",
    "        # skip the first line\n",
    "        f.readline()\n",
    "        lines = f.readlines()\n",
    "        # read into a list  split by | return the list \n",
    "        lines = [line.split(',') for line in lines]    \n",
    "        # remove the newline character from the last element of each line\n",
    "        for line in lines:\n",
    "            line[-1] = line[-1].strip()\n",
    "            continue\n",
    "        data = [] \n",
    "        for line in lines:\n",
    "            data.append(line) \n",
    "        return data\n",
    "        \n",
    "def oldest_item(data):\n",
    "    data = sorted(data, key= lambda x: x[1])\n",
    "    print(f\"A top 3 legrégebben gyártott termék: {data[0:3]}\")\n",
    "    \n",
    "def highest_price(data, brand):\n",
    "    curr_brand = []\n",
    "    for item in data:\n",
    "        if item[0] == brand:\n",
    "            curr_brand.append(item)\n",
    "    curr_brand = sorted(curr_brand, key= lambda x: x[2], reverse=True)\n",
    "    print(f\"A legdrágább {brand}: {curr_brand[0]}\")\n",
    "        \n",
    "    \n",
    "def red_ford(data):\n",
    "    ford_red_states = {}\n",
    "    for item in data:\n",
    "        if item[0] == 'Ford' and item[4] == 'Red':\n",
    "            if item[3] not in ford_red_states:\n",
    "                ford_red_states[item[3]] = 1\n",
    "            else:\n",
    "                ford_red_states[item[3]] += 1\n",
    "    \n",
    "def red_appearence(data):\n",
    "    colours = {}\n",
    "    sum = 0\n",
    "    for item in data:\n",
    "        if item[4] not in colours:\n",
    "            colours[item[4]] = 1\n",
    "            sum += 1\n",
    "        else:\n",
    "            colours[item[4]] += 1\n",
    "            sum += 1\n",
    "    for item in colours:\n",
    "        colours[item] = colours[item]/sum\n",
    "    colours = sorted(colours.items(), key= lambda x: x[1], reverse=True)\n",
    "    idx = 0\n",
    "    for item in colours:\n",
    "        idx += 1\n",
    "        if item[0] == 'Red':\n",
    "            print(f\"A piros szín a {idx}. leggyakoribb szín a listában.\")     \n",
    "    \n",
    "\n",
    "data = get_data(filename)\n",
    "oldest_item(data)\n",
    "print('\\n')\n",
    "highest_price(data, 'Audi')\n",
    "highest_price(data, 'BMW')\n",
    "highest_price(data, 'Chevrolet')\n",
    "highest_price(data, 'Ford')\n",
    "highest_price(data, 'Nissan')\n",
    "highest_price(data, 'Maserati')\n",
    "highest_price(data, 'Toyota')\n",
    "print('\\n')\n",
    "red_ford(data)\n",
    "print('\\n')\n",
    "red_appearence(data)\n",
    "\n"
   ]
  },
  {
   "attachments": {},
   "cell_type": "markdown",
   "metadata": {},
   "source": [
    "# Random adat generálás"
   ]
  },
  {
   "cell_type": "code",
   "execution_count": null,
   "metadata": {},
   "outputs": [],
   "source": [
    "import random\n",
    "import string\n",
    "\n",
    "# Autók márkái\n",
    "brands = [\"Audi\", \"BMW\", \"Chevrolet\", \"Ford\", \"Nissan\", \"Maserati\", \"Toyota\", \"Honda\", \"Hyundai\", \"Kia\", \"Lexus\", \"Mazda\", \"Mercedes\", \"Porsche\", \"Subaru\", \"Volkswagen\", \"Volvo\"]\n",
    "\n",
    "# Alkatrészek típusai\n",
    "parts = [\"Engine\", \"Transmission\", \"Brakes\", \"Suspension\", \"Tires\", \"Exhaust\", \"Interior\", \"Exterior\"]\n",
    "\n",
    "# Árak tartománya\n",
    "min_price = 1000\n",
    "max_price = 50000\n",
    "\n",
    "# Államok listája\n",
    "states = [\"Alabama\", \"Alaska\", \"Arizona\", \"Arkansas\", \"California\", \"Colorado\", \"Connecticut\", \"Delaware\", \"Florida\", \"Georgia\", \"Hawaii\", \"Idaho\", \"Illinois\", \"Indiana\", \"Iowa\", \"Kansas\", \"Kentucky\", \"Louisiana\", \"Maine\", \"Maryland\", \"Massachusetts\", \"Michigan\", \"Minnesota\", \"Mississippi\", \"Missouri\", \"Montana\", \"Nebraska\", \"Nevada\", \"New Hampshire\", \"New Jersey\", \"New Mexico\", \"New York\", \"North Carolina\", \"North Dakota\", \"Ohio\", \"Oklahoma\", \"Oregon\", \"Pennsylvania\", \"Rhode Island\", \"South Carolina\", \"South Dakota\", \"Tennessee\", \"Texas\", \"Utah\", \"Vermont\", \"Virginia\", \"Washington\", \"West Virginia\", \"Wisconsin\", \"Wyoming\"]\n",
    "\n",
    "# Színek listája\n",
    "colors = [\"White\", \"Black\", \"Gray\", \"Silver\", \"Red\", \"Blue\", \"Green\", \"Yellow\", \"Orange\"]\n",
    "\n",
    "# Fájl megnyitása írásra\n",
    "with open(\"/home/g14/uni/sze_python_programozas/data/usa_cars.txt\", \"w\") as f:\n",
    "    # Generáljunk 1000 autót és alkatrészt\n",
    "    for i in range(1000):\n",
    "        # Véletlenszerűen válasszunk egy márkát és típust\n",
    "        brand = random.choice(brands)\n",
    "        part = random.choice(parts)\n",
    "        \n",
    "        # Véletlenszerűen generáljuk az évjáratot, árat, államot és színt\n",
    "        year = random.randint(1990, 2023)\n",
    "        price = random.randint(min_price, max_price)\n",
    "        state = random.choice(states)\n",
    "        color = random.choice(colors)\n",
    "        \n",
    "        # Írjuk ki az adatot a fájlba\n",
    "        f.write(f\"{brand},{year},{price},{state},{color},{part}\\n\")\n"
   ]
  }
 ],
 "metadata": {
  "kernelspec": {
   "display_name": "Python 3",
   "language": "python",
   "name": "python3"
  },
  "language_info": {
   "codemirror_mode": {
    "name": "ipython",
    "version": 3
   },
   "file_extension": ".py",
   "mimetype": "text/x-python",
   "name": "python",
   "nbconvert_exporter": "python",
   "pygments_lexer": "ipython3",
   "version": "3.10.6"
  },
  "orig_nbformat": 4
 },
 "nbformat": 4,
 "nbformat_minor": 2
}
