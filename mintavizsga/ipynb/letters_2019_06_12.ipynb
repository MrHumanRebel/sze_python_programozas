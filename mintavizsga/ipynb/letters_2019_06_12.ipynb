{
 "cells": [
  {
   "attachments": {},
   "cell_type": "markdown",
   "metadata": {},
   "source": [
    "# 1. feladat [8p] \n",
    "Készíts programot, amely kér a felhasználótól egy évszámot, majd megadja, hogy az adott évben hány pénteki nap esett 13-ára! "
   ]
  },
  {
   "cell_type": "code",
   "execution_count": 1,
   "metadata": {},
   "outputs": [
    {
     "name": "stdout",
     "output_type": "stream",
     "text": [
      "A(z) 5. évi péntek 13-ak száma: 1\n"
     ]
    }
   ],
   "source": [
    "import datetime as dt\n",
    "\n",
    "year = int(input(\"Add meg az évet: \"))\n",
    "counter = 0\n",
    "\n",
    "for month in range(1, 13):\n",
    "    day = dt.date(year, month, 13)\n",
    "    #  0: hétfő, 1: kedd, 2: szerda, 3: csütörtök, 4: péntek, 5: szombat, 6: vasárnap\n",
    "    if day.weekday() == 4:\n",
    "        counter += 1\n",
    "        \n",
    "print(f\"A(z) {year}. évi péntek 13-ak száma: {counter}\")\n"
   ]
  },
  {
   "attachments": {},
   "cell_type": "markdown",
   "metadata": {},
   "source": [
    "# 2. feladat [10p] \n",
    "A letters objektum egy kisbetűkből álló négyzetet tartalmaz. A sorok sztringként vannak reprezentálva, és egy listába vannak egymás után fűzve. Készíts programot, amely kiírja, hogy mely oszlopban található a legtöbb magánhangzó! A program ne csak a letters objektumra, hanem tetszőleges, ugyanilyen formátumú, bemenetre is működjön! "
   ]
  },
  {
   "cell_type": "code",
   "execution_count": 2,
   "metadata": {},
   "outputs": [
    {
     "name": "stdout",
     "output_type": "stream",
     "text": [
      "A legtöbb magánhangzó a(z) 4. oszlopban található, 9 db magánhangzóval.\n"
     ]
    }
   ],
   "source": [
    "letters = [ \"tüzesensütleany\", \"árinapsugáraazé\", \"gtetejérőlajuhá\", \"szbojtárrafölös\", \"legesdologsütni\", \"eolynagyonajuhá\", \"sznakúgyisnagym\", \"elegevagyonszer\", \"elemtüzeégfiata\", \"lszivébenugyleg\", \"eltetianyájtafa\", \"luvégenfaluvége\", \"nnyájamigszerte\", \"legelészőaddigs\", \"ubájánafűbenhev\" ]\n",
    " \n",
    "# Először is meg kell találnunk, hogy hány oszlop van az adott négyzetben\n",
    "num_columns = len(letters[0])\n",
    "\n",
    "# Létrehozunk egy üres listát, amelyben minden oszlophoz hozzárendeljük a magánhangzók számát\n",
    "vowels_per_column = [0] * num_columns\n",
    "\n",
    "# Végigmegyünk minden oszlopon és soron, majd megszámoljuk a magánhangzókat az adott oszlopban\n",
    "for col in range(num_columns):\n",
    "    for row in range(len(letters)):\n",
    "        if letters[row][col] in \"aeiouáéíóöőúüű\":\n",
    "            vowels_per_column[col] += 1\n",
    "\n",
    "# Megkeressük a legtöbb magánhangzót tartalmazó oszlop sorszámát\n",
    "max_vowels_index = vowels_per_column.index(max(vowels_per_column))\n",
    "\n",
    "print(f\"A legtöbb magánhangzó a(z) {max_vowels_index+1}. oszlopban található, {max(vowels_per_column)} db magánhangzóval.\")"
   ]
  }
 ],
 "metadata": {
  "kernelspec": {
   "display_name": "Python 3",
   "language": "python",
   "name": "python3"
  },
  "language_info": {
   "codemirror_mode": {
    "name": "ipython",
    "version": 3
   },
   "file_extension": ".py",
   "mimetype": "text/x-python",
   "name": "python",
   "nbconvert_exporter": "python",
   "pygments_lexer": "ipython3",
   "version": "3.10.6"
  },
  "orig_nbformat": 4
 },
 "nbformat": 4,
 "nbformat_minor": 2
}
