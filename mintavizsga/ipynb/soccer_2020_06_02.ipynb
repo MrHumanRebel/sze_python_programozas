{
 "cells": [
  {
   "attachments": {},
   "cell_type": "markdown",
   "metadata": {},
   "source": [
    "# 1. feladat [8p]\n",
    "\n",
    "Az a. b.c egész számok pitagoraszi számhármast alkotnak. ha a^2 + b^2 = c^2. A numbers lista pozitív egész számokat tartalmaz. Készítsünk programot. amely megadja. hogy található-e pitagoraszi számhármas a numbers listában, és ha igen, akkor melyik pitagoraszi számhármasban a legnagyobb a c szám számjegyeinek az összege! A program ne csak a megadott numbers listára működjön. hanem tetszőleges. ugyanilyen formátumú bemenetre is! "
   ]
  },
  {
   "cell_type": "code",
   "execution_count": 1,
   "metadata": {},
   "outputs": [
    {
     "name": "stdout",
     "output_type": "stream",
     "text": [
      "Pitagoraszi szamharmas: 3, 4, 5\n",
      "Pitagoraszi szamharmas: 5, 12, 13\n",
      "Pitagoraszi szamharmas: 7, 24, 25\n",
      "Pitagoraszi szamharmas: 8, 15, 17\n",
      "A legnagyobb c szam szamjegyeinek osszege: 8\n"
     ]
    }
   ],
   "source": [
    "numbers = [ 2, 3, 4, 5, 6, 7, 8, 11, 12, 13, 14, 15, 16, 17, 19, 23, 24, 25, 29, 31 ]\n",
    "\n",
    "def pite_three(numbers):\n",
    "    max = 0\n",
    "    for i in range(len(numbers)):\n",
    "        sum = 0\n",
    "        current_a=numbers[i]**2\n",
    "        for j in range(i+1, len(numbers)):\n",
    "            current_b=numbers[j]**2\n",
    "            for k in range(j+1, len(numbers)):\n",
    "                current_c=numbers[k]**2\n",
    "                if current_a+current_b==current_c:\n",
    "                    print(f'Pitagoraszi szamharmas: {numbers[i]}, {numbers[j]}, {numbers[k]}')\n",
    "                    id = str(numbers[k])\n",
    "                    for x in range(len(id)):\n",
    "                        sum += int(id[x])\n",
    "                    if sum > max:\n",
    "                        max = int(sum)\n",
    "    print(f'A legnagyobb c szam szamjegyeinek osszege: {max}')\n",
    "            \n",
    "\n",
    "\n",
    "pite_three(numbers)"
   ]
  },
  {
   "attachments": {},
   "cell_type": "markdown",
   "metadata": {},
   "source": [
    "# 2. feladat [12p] \n",
    "A soccer.txt szövegfájl európai első osztályú labdarúgó mérkőzésekről tartalmaz adatokat. a 2015-16-os szezonból. Az utolsó 9 oszlop fogadóirodák odds-ait tartalmazza hazai csapat győzelmére ( B365H • BwH • IWH ), a döntetlenre ( B365D. BWD . IWD ) ill. a vendégcsapat győzelmére ( B365A . BWA . IwA ). Készitsünk programot, amely beolvassa a szövegfájl tartalmát, majd válaszol az alábbi kérdésekre! \n",
    "- Melyik bajnokságban ( country ) mennyi volt a mérkőzésenkénti gólátlag?\n",
    "- Melyik fogadóiroda adta átlagosan a legmagasabb odds-okat a hazai csapat győzelméért? \n",
    "- Melyik bajnokságban született a legtöbb döntetlen?\n",
    "- A B365 fogadóiroda szerfloat melyik eredmény volt a legváratlanabb (azaz a legmagasabb odds értékű)? \n"
   ]
  },
  {
   "attachments": {},
   "cell_type": "markdown",
   "metadata": {},
   "source": [
    "# Pandas"
   ]
  },
  {
   "cell_type": "code",
   "execution_count": 2,
   "metadata": {},
   "outputs": [
    {
     "ename": "FileNotFoundError",
     "evalue": "[Errno 2] No such file or directory: 'C:\\\\Users\\\\Dorián\\\\PycharmProjects\\\\PythonVizsgaFelkészülés1Feladatok\\\\tables\\\\soccer.txt'",
     "output_type": "error",
     "traceback": [
      "\u001b[0;31m---------------------------------------------------------------------------\u001b[0m",
      "\u001b[0;31mFileNotFoundError\u001b[0m                         Traceback (most recent call last)",
      "Cell \u001b[0;32mIn[2], line 3\u001b[0m\n\u001b[1;32m      1\u001b[0m \u001b[39mimport\u001b[39;00m \u001b[39mpandas\u001b[39;00m \u001b[39mas\u001b[39;00m \u001b[39mpd\u001b[39;00m\n\u001b[0;32m----> 3\u001b[0m df \u001b[39m=\u001b[39m pd\u001b[39m.\u001b[39;49mread_csv(\u001b[39m'\u001b[39;49m\u001b[39mC:\u001b[39;49m\u001b[39m\\\\\u001b[39;49;00m\u001b[39mUsers\u001b[39;49m\u001b[39m\\\\\u001b[39;49;00m\u001b[39mDorián\u001b[39;49m\u001b[39m\\\\\u001b[39;49;00m\u001b[39mPycharmProjects\u001b[39;49m\u001b[39m\\\\\u001b[39;49;00m\u001b[39mPythonVizsgaFelkészülés1Feladatok\u001b[39;49m\u001b[39m\\\\\u001b[39;49;00m\u001b[39mtables\u001b[39;49m\u001b[39m\\\\\u001b[39;49;00m\u001b[39msoccer.txt\u001b[39;49m\u001b[39m'\u001b[39;49m, sep\u001b[39m=\u001b[39;49m\u001b[39m'\u001b[39;49m\u001b[39m,\u001b[39;49m\u001b[39m'\u001b[39;49m, skiprows\u001b[39m=\u001b[39;49m\u001b[39m1\u001b[39;49m)\n\u001b[1;32m      4\u001b[0m \u001b[39m#print(df.info())\u001b[39;00m\n\u001b[1;32m      5\u001b[0m \u001b[39m#print(df)\u001b[39;00m\n\u001b[1;32m      6\u001b[0m \n\u001b[1;32m      7\u001b[0m \u001b[39m#1. Melyik bajnokságban ( country ) mennyi volt a mérkőzésenkénti gólátlag?\u001b[39;00m\n\u001b[1;32m      8\u001b[0m df[\u001b[39m'\u001b[39m\u001b[39mgoals\u001b[39m\u001b[39m'\u001b[39m]\u001b[39m=\u001b[39mdf[\u001b[39m'\u001b[39m\u001b[39mhome_team_goal\u001b[39m\u001b[39m'\u001b[39m]\u001b[39m+\u001b[39mdf[\u001b[39m'\u001b[39m\u001b[39maway_team_goal\u001b[39m\u001b[39m'\u001b[39m]\n",
      "File \u001b[0;32m~/.local/lib/python3.10/site-packages/pandas/util/_decorators.py:211\u001b[0m, in \u001b[0;36mdeprecate_kwarg.<locals>._deprecate_kwarg.<locals>.wrapper\u001b[0;34m(*args, **kwargs)\u001b[0m\n\u001b[1;32m    209\u001b[0m     \u001b[39melse\u001b[39;00m:\n\u001b[1;32m    210\u001b[0m         kwargs[new_arg_name] \u001b[39m=\u001b[39m new_arg_value\n\u001b[0;32m--> 211\u001b[0m \u001b[39mreturn\u001b[39;00m func(\u001b[39m*\u001b[39;49margs, \u001b[39m*\u001b[39;49m\u001b[39m*\u001b[39;49mkwargs)\n",
      "File \u001b[0;32m~/.local/lib/python3.10/site-packages/pandas/util/_decorators.py:331\u001b[0m, in \u001b[0;36mdeprecate_nonkeyword_arguments.<locals>.decorate.<locals>.wrapper\u001b[0;34m(*args, **kwargs)\u001b[0m\n\u001b[1;32m    325\u001b[0m \u001b[39mif\u001b[39;00m \u001b[39mlen\u001b[39m(args) \u001b[39m>\u001b[39m num_allow_args:\n\u001b[1;32m    326\u001b[0m     warnings\u001b[39m.\u001b[39mwarn(\n\u001b[1;32m    327\u001b[0m         msg\u001b[39m.\u001b[39mformat(arguments\u001b[39m=\u001b[39m_format_argument_list(allow_args)),\n\u001b[1;32m    328\u001b[0m         \u001b[39mFutureWarning\u001b[39;00m,\n\u001b[1;32m    329\u001b[0m         stacklevel\u001b[39m=\u001b[39mfind_stack_level(),\n\u001b[1;32m    330\u001b[0m     )\n\u001b[0;32m--> 331\u001b[0m \u001b[39mreturn\u001b[39;00m func(\u001b[39m*\u001b[39;49margs, \u001b[39m*\u001b[39;49m\u001b[39m*\u001b[39;49mkwargs)\n",
      "File \u001b[0;32m~/.local/lib/python3.10/site-packages/pandas/io/parsers/readers.py:950\u001b[0m, in \u001b[0;36mread_csv\u001b[0;34m(filepath_or_buffer, sep, delimiter, header, names, index_col, usecols, squeeze, prefix, mangle_dupe_cols, dtype, engine, converters, true_values, false_values, skipinitialspace, skiprows, skipfooter, nrows, na_values, keep_default_na, na_filter, verbose, skip_blank_lines, parse_dates, infer_datetime_format, keep_date_col, date_parser, dayfirst, cache_dates, iterator, chunksize, compression, thousands, decimal, lineterminator, quotechar, quoting, doublequote, escapechar, comment, encoding, encoding_errors, dialect, error_bad_lines, warn_bad_lines, on_bad_lines, delim_whitespace, low_memory, memory_map, float_precision, storage_options)\u001b[0m\n\u001b[1;32m    935\u001b[0m kwds_defaults \u001b[39m=\u001b[39m _refine_defaults_read(\n\u001b[1;32m    936\u001b[0m     dialect,\n\u001b[1;32m    937\u001b[0m     delimiter,\n\u001b[0;32m   (...)\u001b[0m\n\u001b[1;32m    946\u001b[0m     defaults\u001b[39m=\u001b[39m{\u001b[39m\"\u001b[39m\u001b[39mdelimiter\u001b[39m\u001b[39m\"\u001b[39m: \u001b[39m\"\u001b[39m\u001b[39m,\u001b[39m\u001b[39m\"\u001b[39m},\n\u001b[1;32m    947\u001b[0m )\n\u001b[1;32m    948\u001b[0m kwds\u001b[39m.\u001b[39mupdate(kwds_defaults)\n\u001b[0;32m--> 950\u001b[0m \u001b[39mreturn\u001b[39;00m _read(filepath_or_buffer, kwds)\n",
      "File \u001b[0;32m~/.local/lib/python3.10/site-packages/pandas/io/parsers/readers.py:605\u001b[0m, in \u001b[0;36m_read\u001b[0;34m(filepath_or_buffer, kwds)\u001b[0m\n\u001b[1;32m    602\u001b[0m _validate_names(kwds\u001b[39m.\u001b[39mget(\u001b[39m\"\u001b[39m\u001b[39mnames\u001b[39m\u001b[39m\"\u001b[39m, \u001b[39mNone\u001b[39;00m))\n\u001b[1;32m    604\u001b[0m \u001b[39m# Create the parser.\u001b[39;00m\n\u001b[0;32m--> 605\u001b[0m parser \u001b[39m=\u001b[39m TextFileReader(filepath_or_buffer, \u001b[39m*\u001b[39;49m\u001b[39m*\u001b[39;49mkwds)\n\u001b[1;32m    607\u001b[0m \u001b[39mif\u001b[39;00m chunksize \u001b[39mor\u001b[39;00m iterator:\n\u001b[1;32m    608\u001b[0m     \u001b[39mreturn\u001b[39;00m parser\n",
      "File \u001b[0;32m~/.local/lib/python3.10/site-packages/pandas/io/parsers/readers.py:1442\u001b[0m, in \u001b[0;36mTextFileReader.__init__\u001b[0;34m(self, f, engine, **kwds)\u001b[0m\n\u001b[1;32m   1439\u001b[0m     \u001b[39mself\u001b[39m\u001b[39m.\u001b[39moptions[\u001b[39m\"\u001b[39m\u001b[39mhas_index_names\u001b[39m\u001b[39m\"\u001b[39m] \u001b[39m=\u001b[39m kwds[\u001b[39m\"\u001b[39m\u001b[39mhas_index_names\u001b[39m\u001b[39m\"\u001b[39m]\n\u001b[1;32m   1441\u001b[0m \u001b[39mself\u001b[39m\u001b[39m.\u001b[39mhandles: IOHandles \u001b[39m|\u001b[39m \u001b[39mNone\u001b[39;00m \u001b[39m=\u001b[39m \u001b[39mNone\u001b[39;00m\n\u001b[0;32m-> 1442\u001b[0m \u001b[39mself\u001b[39m\u001b[39m.\u001b[39m_engine \u001b[39m=\u001b[39m \u001b[39mself\u001b[39;49m\u001b[39m.\u001b[39;49m_make_engine(f, \u001b[39mself\u001b[39;49m\u001b[39m.\u001b[39;49mengine)\n",
      "File \u001b[0;32m~/.local/lib/python3.10/site-packages/pandas/io/parsers/readers.py:1735\u001b[0m, in \u001b[0;36mTextFileReader._make_engine\u001b[0;34m(self, f, engine)\u001b[0m\n\u001b[1;32m   1733\u001b[0m     \u001b[39mif\u001b[39;00m \u001b[39m\"\u001b[39m\u001b[39mb\u001b[39m\u001b[39m\"\u001b[39m \u001b[39mnot\u001b[39;00m \u001b[39min\u001b[39;00m mode:\n\u001b[1;32m   1734\u001b[0m         mode \u001b[39m+\u001b[39m\u001b[39m=\u001b[39m \u001b[39m\"\u001b[39m\u001b[39mb\u001b[39m\u001b[39m\"\u001b[39m\n\u001b[0;32m-> 1735\u001b[0m \u001b[39mself\u001b[39m\u001b[39m.\u001b[39mhandles \u001b[39m=\u001b[39m get_handle(\n\u001b[1;32m   1736\u001b[0m     f,\n\u001b[1;32m   1737\u001b[0m     mode,\n\u001b[1;32m   1738\u001b[0m     encoding\u001b[39m=\u001b[39;49m\u001b[39mself\u001b[39;49m\u001b[39m.\u001b[39;49moptions\u001b[39m.\u001b[39;49mget(\u001b[39m\"\u001b[39;49m\u001b[39mencoding\u001b[39;49m\u001b[39m\"\u001b[39;49m, \u001b[39mNone\u001b[39;49;00m),\n\u001b[1;32m   1739\u001b[0m     compression\u001b[39m=\u001b[39;49m\u001b[39mself\u001b[39;49m\u001b[39m.\u001b[39;49moptions\u001b[39m.\u001b[39;49mget(\u001b[39m\"\u001b[39;49m\u001b[39mcompression\u001b[39;49m\u001b[39m\"\u001b[39;49m, \u001b[39mNone\u001b[39;49;00m),\n\u001b[1;32m   1740\u001b[0m     memory_map\u001b[39m=\u001b[39;49m\u001b[39mself\u001b[39;49m\u001b[39m.\u001b[39;49moptions\u001b[39m.\u001b[39;49mget(\u001b[39m\"\u001b[39;49m\u001b[39mmemory_map\u001b[39;49m\u001b[39m\"\u001b[39;49m, \u001b[39mFalse\u001b[39;49;00m),\n\u001b[1;32m   1741\u001b[0m     is_text\u001b[39m=\u001b[39;49mis_text,\n\u001b[1;32m   1742\u001b[0m     errors\u001b[39m=\u001b[39;49m\u001b[39mself\u001b[39;49m\u001b[39m.\u001b[39;49moptions\u001b[39m.\u001b[39;49mget(\u001b[39m\"\u001b[39;49m\u001b[39mencoding_errors\u001b[39;49m\u001b[39m\"\u001b[39;49m, \u001b[39m\"\u001b[39;49m\u001b[39mstrict\u001b[39;49m\u001b[39m\"\u001b[39;49m),\n\u001b[1;32m   1743\u001b[0m     storage_options\u001b[39m=\u001b[39;49m\u001b[39mself\u001b[39;49m\u001b[39m.\u001b[39;49moptions\u001b[39m.\u001b[39;49mget(\u001b[39m\"\u001b[39;49m\u001b[39mstorage_options\u001b[39;49m\u001b[39m\"\u001b[39;49m, \u001b[39mNone\u001b[39;49;00m),\n\u001b[1;32m   1744\u001b[0m )\n\u001b[1;32m   1745\u001b[0m \u001b[39massert\u001b[39;00m \u001b[39mself\u001b[39m\u001b[39m.\u001b[39mhandles \u001b[39mis\u001b[39;00m \u001b[39mnot\u001b[39;00m \u001b[39mNone\u001b[39;00m\n\u001b[1;32m   1746\u001b[0m f \u001b[39m=\u001b[39m \u001b[39mself\u001b[39m\u001b[39m.\u001b[39mhandles\u001b[39m.\u001b[39mhandle\n",
      "File \u001b[0;32m~/.local/lib/python3.10/site-packages/pandas/io/common.py:856\u001b[0m, in \u001b[0;36mget_handle\u001b[0;34m(path_or_buf, mode, encoding, compression, memory_map, is_text, errors, storage_options)\u001b[0m\n\u001b[1;32m    851\u001b[0m \u001b[39melif\u001b[39;00m \u001b[39misinstance\u001b[39m(handle, \u001b[39mstr\u001b[39m):\n\u001b[1;32m    852\u001b[0m     \u001b[39m# Check whether the filename is to be opened in binary mode.\u001b[39;00m\n\u001b[1;32m    853\u001b[0m     \u001b[39m# Binary mode does not support 'encoding' and 'newline'.\u001b[39;00m\n\u001b[1;32m    854\u001b[0m     \u001b[39mif\u001b[39;00m ioargs\u001b[39m.\u001b[39mencoding \u001b[39mand\u001b[39;00m \u001b[39m\"\u001b[39m\u001b[39mb\u001b[39m\u001b[39m\"\u001b[39m \u001b[39mnot\u001b[39;00m \u001b[39min\u001b[39;00m ioargs\u001b[39m.\u001b[39mmode:\n\u001b[1;32m    855\u001b[0m         \u001b[39m# Encoding\u001b[39;00m\n\u001b[0;32m--> 856\u001b[0m         handle \u001b[39m=\u001b[39m \u001b[39mopen\u001b[39;49m(\n\u001b[1;32m    857\u001b[0m             handle,\n\u001b[1;32m    858\u001b[0m             ioargs\u001b[39m.\u001b[39;49mmode,\n\u001b[1;32m    859\u001b[0m             encoding\u001b[39m=\u001b[39;49mioargs\u001b[39m.\u001b[39;49mencoding,\n\u001b[1;32m    860\u001b[0m             errors\u001b[39m=\u001b[39;49merrors,\n\u001b[1;32m    861\u001b[0m             newline\u001b[39m=\u001b[39;49m\u001b[39m\"\u001b[39;49m\u001b[39m\"\u001b[39;49m,\n\u001b[1;32m    862\u001b[0m         )\n\u001b[1;32m    863\u001b[0m     \u001b[39melse\u001b[39;00m:\n\u001b[1;32m    864\u001b[0m         \u001b[39m# Binary mode\u001b[39;00m\n\u001b[1;32m    865\u001b[0m         handle \u001b[39m=\u001b[39m \u001b[39mopen\u001b[39m(handle, ioargs\u001b[39m.\u001b[39mmode)\n",
      "\u001b[0;31mFileNotFoundError\u001b[0m: [Errno 2] No such file or directory: 'C:\\\\Users\\\\Dorián\\\\PycharmProjects\\\\PythonVizsgaFelkészülés1Feladatok\\\\tables\\\\soccer.txt'"
     ]
    }
   ],
   "source": [
    "import pandas as pd\n",
    "\n",
    "df = pd.read_csv('C:\\\\Users\\\\Dorián\\\\PycharmProjects\\\\PythonVizsgaFelkészülés1Feladatok\\\\tables\\\\soccer.txt', sep=',', skiprows=1)\n",
    "#print(df.info())\n",
    "#print(df)\n",
    "\n",
    "#1. Melyik bajnokságban ( country ) mennyi volt a mérkőzésenkénti gólátlag?\n",
    "df['goals']=df['home_team_goal']+df['away_team_goal']\n",
    "print(df.groupby('country')['goals'].mean())\n",
    "\n",
    "#2. Melyik fogadóiroda adta átlagosan a legmagasabb odds-okat a hazai csapat győzelméért?\n",
    "max_home_odds = df[['B365H', 'BWH', 'IWH']].mean().max()\n",
    "max_home_odds_bookie = df[['B365H', 'BWH', 'IWH']].mean().idxmax()\n",
    "print(f\"{max_home_odds_bookie}: {max_home_odds}\")\n",
    "\n",
    "#3. Melyik bajnokságban született a legtöbb döntetlen?\n",
    "df['goalsequal']=df['home_team_goal']==df['away_team_goal']\n",
    "print(df.groupby(df['country'])['goalsequal'].sum().idxmax())\n",
    "\n",
    "#4. A B365 fogadóiroda melyik eredmény volt a legváratlanabb (azaz a legmagasabb odds értékű)?\n",
    "max_odds = df[['B365H','B365D','B365A']].max().max()\n",
    "max_odds_bookie = df[['B365H','B365D','B365A']].max().idxmax()\n",
    "print(f'A {max_odds_bookie} fogadóiroda {max_odds} eredménye volt a legváratlanabb.')\n"
   ]
  },
  {
   "attachments": {},
   "cell_type": "markdown",
   "metadata": {},
   "source": [
    "# Manuális nem pontos megoldás"
   ]
  },
  {
   "cell_type": "code",
   "execution_count": null,
   "metadata": {},
   "outputs": [],
   "source": [
    "filename = '/home/g14/uni/sze_python_programozas/data/soccer.txt'\n",
    "\n",
    "def get_data(filename):\n",
    "    with open(filename, 'r') as f:\n",
    "        # skip the first two line\n",
    "        for i in range(2):\n",
    "            f.readline()\n",
    "        lines = f.readlines()\n",
    "        # read into a list  split by , \n",
    "        lines = [line.split(',') for line in lines]    \n",
    "        # remove the newline character from the last element of each line\n",
    "        for line in lines:\n",
    "            line[-1] = line[-1].strip()\n",
    "            continue\n",
    "        data = [] \n",
    "        for line in lines:\n",
    "            data.append(line) \n",
    "        return data\n",
    "\n",
    "def country_golatlag(data):\n",
    "    goals = {}\n",
    "    for item in data:\n",
    "        if item[0] not in goals:\n",
    "            goals[item[0]] = (int(item[4]) + int(item[5]))\n",
    "        else:\n",
    "            goals[item[0]] += (int(item[4]) + int(item[5]))\n",
    "    matches = {}\n",
    "    for item in data:\n",
    "        if item[0] not in matches:\n",
    "            matches[item[0]] = 1\n",
    "        else:\n",
    "            matches[item[0]] += 1\n",
    "    for i in matches:\n",
    "        print(f'Golatlag {i}-ban: {goals[i]/matches[i]}')\n",
    "        \n",
    "        \n",
    "def avg_high_odds(data):\n",
    "    stats = {} # 6 ,9 ,12\n",
    "    for item in data:\n",
    "        if item[6] != '':\n",
    "            if 'B365H' not in stats:\n",
    "                stats['B365H'] = {'ODDS': float(item[6]), 'MATCHES': 1}\n",
    "            else:\n",
    "                stats['B365H']['ODDS'] +=  float(item[6])\n",
    "                stats['B365H']['MATCHES'] += 1\n",
    "        if item[9] != '':\n",
    "            if 'BWH' not in stats:\n",
    "                stats['BWH'] = {'ODDS': float(item[9]), 'MATCHES': 1}\n",
    "            else:\n",
    "                stats['BWH']['ODDS'] +=  float(item[9])\n",
    "                stats['BWH']['MATCHES'] += 1\n",
    "        if item[12] != '':\n",
    "            if 'IWH' not in stats:\n",
    "                stats['IWH'] = {'ODDS': float(item[12]), 'MATCHES': 1}\n",
    "            else:\n",
    "                stats['IWH']['ODDS'] +=  float(item[12])\n",
    "                stats['IWH']['MATCHES'] += 1\n",
    "    avg = {}\n",
    "    avg['B365H'] = stats['B365H']['ODDS']/stats['B365H']['MATCHES']\n",
    "    avg['BWH'] = stats['BWH']['ODDS']/stats['BWH']['MATCHES']\n",
    "    avg['IWH'] = stats['IWH']['ODDS']/stats['IWH']['MATCHES']\n",
    "    avg = sorted(avg.items(), key=lambda x: x[1], reverse=True)    \n",
    "    print(f' B365H : {avg[0][1]}')\n",
    "\n",
    "\n",
    "def dontetlen(data):\n",
    "    stats = {}\n",
    "    for item in data:\n",
    "        if item[4] == item[5]:\n",
    "            if item[0] not in stats:\n",
    "                stats[item[0]] = 1\n",
    "            else:\n",
    "                stats[item[0]] += 1\n",
    "    stats = sorted(stats.items(), key=lambda x: x[1], reverse=True)\n",
    "    print(f'Döntetlenek száma: {stats}')\n",
    "    \n",
    "def b365(data):\n",
    "    max = 0.0\n",
    "    counter = 0\n",
    "    idx = 0\n",
    "    for item in data:\n",
    "        if item[6] != '':\n",
    "            if  float(item[6]) > max:\n",
    "                max = float(item[6])\n",
    "                idx = counter\n",
    "        if item[7] != '':\n",
    "            if  float(item[7]) > max:\n",
    "                max = float(item[7])\n",
    "                idx = counter\n",
    "        if item[8] != '':\n",
    "            if  float(item[8]) > max:\n",
    "                max = float(item[8])\n",
    "                idx = counter\n",
    "        counter += 1\n",
    "\n",
    "    print(f'A legnagyobb odds a B365 szerint: {max}, a meccs adatai: {data[idx][0:6]}')\n",
    "\n",
    "data = get_data(filename)\n",
    "country_golatlag(data)\n",
    "avg_high_odds(data)\n",
    "dontetlen(data)\n",
    "b365(data)"
   ]
  }
 ],
 "metadata": {
  "kernelspec": {
   "display_name": "Python 3",
   "language": "python",
   "name": "python3"
  },
  "language_info": {
   "codemirror_mode": {
    "name": "ipython",
    "version": 3
   },
   "file_extension": ".py",
   "mimetype": "text/x-python",
   "name": "python",
   "nbconvert_exporter": "python",
   "pygments_lexer": "ipython3",
   "version": "3.10.6"
  },
  "orig_nbformat": 4
 },
 "nbformat": 4,
 "nbformat_minor": 2
}
