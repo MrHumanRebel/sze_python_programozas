{
 "cells": [
  {
   "cell_type": "markdown",
   "metadata": {},
   "source": [
    "## Python programozás (GKNB_MSTM032) Vizsgaminta 1."
   ]
  },
  {
   "cell_type": "markdown",
   "metadata": {},
   "source": [
    "### 1. feladat [6p]\n",
    "\n",
    "Készíts programot, amely bekér a felhasználótól két sztringet, majd kiírja a bennük található leghosszabb közös részsztringet! Példa futási eredmény:\n",
    "```\n",
    "1. sztring: András\n",
    "2. sztring: Bandi\n",
    "A leghosszabb közös rész: nd\n",
    "```"
   ]
  },
  {
   "cell_type": "code",
   "execution_count": 29,
   "metadata": {},
   "outputs": [],
   "source": [
    "def longest_common_substr(s1, s2):\n",
    "    for i in range(len(s1), 0, -1):\n",
    "        for j in range(len(s1) - i + 1):\n",
    "            if s1[j:j + i] in s2:\n",
    "                return s1[j:j + i]"
   ]
  },
  {
   "cell_type": "code",
   "execution_count": 30,
   "metadata": {},
   "outputs": [
    {
     "data": {
      "text/plain": [
       "'nd'"
      ]
     },
     "execution_count": 30,
     "metadata": {},
     "output_type": "execute_result"
    }
   ],
   "source": [
    "longest_common_substr(\"András\", \"Bandi\")"
   ]
  },
  {
   "cell_type": "markdown",
   "metadata": {},
   "source": [
    "### 2. feladat [8p]\n",
    "\n",
    "A `birthdays` lista kitalált személyek nevét és születési dátumát tartalmazza. Készíts programot, amely megkeresi, hogy kik állnak életkorban egymáshoz a legközelebb, és hány nap köztük a különbség! A program ne csak a megadott `birthdays` listára működjön, hanem tetszőleges, ugyanilyen formátumú bemenetre is! Feltehetjük, hogy minden név különböző, és legalább két név van megadva."
   ]
  },
  {
   "cell_type": "code",
   "execution_count": 36,
   "metadata": {},
   "outputs": [],
   "source": [
    "birthdays = [\n",
    "    ('Kovács Andor',   '1999-10-29'),\n",
    "    ('Kiss Martina',   '2000-02-13'),\n",
    "    ('Horváth Barna',  '1999-12-05'),\n",
    "    ('Győri Eszter',   '2000-10-29'),\n",
    "    ('Nagy Tivadar',   '1999-08-16'),\n",
    "    ('Tóth Tamara',    '2000-01-30'),\n",
    "    ('Szakács Sándor', '1999-09-02')\n",
    "]"
   ]
  },
  {
   "cell_type": "code",
   "execution_count": 149,
   "metadata": {},
   "outputs": [
    {
     "name": "stdout",
     "output_type": "stream",
     "text": [
      "Életkorban legközelebb állók: Tóth Tamara, Kiss Martina\n",
      " 14 nap köztük a különbség\n"
     ]
    }
   ],
   "source": [
    "from datetime import datetime\n",
    "\n",
    "def get_name_of_closest_days_to_each_other(birthdays):   \n",
    "\n",
    "    birthdays = [(name, datetime.strptime(date, '%Y-%m-%d')) for name, date in birthdays]\n",
    "    birthdays.sort(key=lambda x: x[1])\n",
    "\n",
    "    for i in range(len(birthdays) - 1):\n",
    "        diff = (birthdays[i + 1][1] - birthdays[i][1]).days\n",
    "        if i == 0:\n",
    "            closest = diff\n",
    "            closest_names = birthdays[i][0], birthdays[i + 1][0]\n",
    "        if diff < closest:\n",
    "            closest = diff\n",
    "            closest_names = birthdays[i][0], birthdays[i + 1][0]\n",
    "    print(f'Életkorban legközelebb állók: {closest_names[0]}, {closest_names[1]}\\n {closest} nap köztük a különbség')\n",
    "    \n",
    "get_name_of_closest_days_to_each_other(birthdays) \n",
    "                "
   ]
  },
  {
   "cell_type": "markdown",
   "metadata": {},
   "source": [
    "Elvárt futási eredmény:\n",
    "```\n",
    "\n",
    "Életkorban legközelebb állók: Kiss Martina, Tóth Tamara\n",
    "14 nap köztük a különbség\n",
    "```"
   ]
  },
  {
   "cell_type": "markdown",
   "metadata": {},
   "source": [
    "### 3. feladat [10p]\n",
    "\n",
    "Az [investments.txt](investments.txt) szövegfájl amerikai cégekbe történő befektetésekről tartalmaz adatokat (a TechCrunch hírportál alapján). Készíts programot, amely kiszámítja és kiírja az alábbi statisztikákat:\n",
    "\n",
    "- Hány befektetés történt összesen az egyes cégekbe?\n",
    "- Melyik cégbe fektették be a legtöbb pénzt?\n",
    "- Cégkategóriánként hány dollárt fektettek be összesen?"
   ]
  },
  {
   "cell_type": "code",
   "execution_count": null,
   "metadata": {},
   "outputs": [],
   "source": [
    "\n",
    "\n",
    "    \n",
    "    "
   ]
  }
 ],
 "metadata": {
  "kernelspec": {
   "display_name": "Python 3",
   "language": "python",
   "name": "python3"
  },
  "language_info": {
   "codemirror_mode": {
    "name": "ipython",
    "version": 3
   },
   "file_extension": ".py",
   "mimetype": "text/x-python",
   "name": "python",
   "nbconvert_exporter": "python",
   "pygments_lexer": "ipython3",
   "version": "3.10.6"
  },
  "vscode": {
   "interpreter": {
    "hash": "916dbcbb3f70747c44a77c7bcd40155683ae19c65e1c03b4aa3499c5328201f1"
   }
  }
 },
 "nbformat": 4,
 "nbformat_minor": 1
}
