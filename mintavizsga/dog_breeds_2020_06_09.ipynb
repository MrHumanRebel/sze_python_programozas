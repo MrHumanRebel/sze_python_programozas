{
 "cells": [
  {
   "attachments": {},
   "cell_type": "markdown",
   "metadata": {},
   "source": [
    "# 1. feladat [8p]\n",
    "Tomi egy ’r’ méter sugarú, kör alakú tűzrakó helyet szeretne szegélykővel körbekeríteni. Az áruházban 85 cm és 100 cm hosszúságú szegélykövek kaphatók. A körbekerítésnél Tomi vagy csak 85 cm-es vagy csak 100 cm-es szegélyköveket használ, és szabályos sokszög alakban helyezi el őket. Az a cél, hogy a szegély kerülete a lehető legkisebb legyen, de a szegély alkotta sokszögből ne lógjon ki az ’r’ sugarú kör. Készítsünk programot, amely bekéri ’r’ értékét, majd kiszámítja, hogy melyik hosszúságú szegélykőből hányat kell venni, hogy optimális körbekerítést kapjunk! Segítség: Az ’a’ oldalhosszúságú szabályos sokszög beírt körének a sugara\n",
    "(a/2)/tg(π/n)\n"
   ]
  },
  {
   "cell_type": "code",
   "execution_count": 25,
   "metadata": {},
   "outputs": [
    {
     "name": "stdout",
     "output_type": "stream",
     "text": [
      "12 szögletű szegélykő belső sugara: 0.97 cm\n",
      "11 szögletű szegélykő belső sugara: 0.96 cm\n",
      "10 szögletű szegélykő belső sugara: 0.95 cm\n",
      "9 szögletű szegélykő belső sugara: 0.94 cm\n",
      "8 szögletű szegélykő belső sugara: 0.92 cm\n",
      "7 szögletű szegélykő belső sugara: 0.90 cm\n",
      "6 szögletű szegélykő belső sugara: 0.87 cm\n",
      "5 szögletű szegélykő belső sugara: 0.81 cm\n",
      "4 szögletű szegélykő belső sugara: 0.71 cm\n",
      "3 szögletű szegélykő belső sugara: 0.50 cm\n",
      "\n",
      "\n",
      "{12: {'100': 0, '85': 1}, 11: {'100': 0, '85': 1}, 10: {'100': 0, '85': 1}, 9: {'100': 0, '85': 1}, 8: {'100': 0, '85': 1}, 7: {'100': 0, '85': 1}, 6: {'100': 0, '85': 1}, 5: {'100': 0, '85': 1}, 4: {'100': 0, '85': 1}, 3: {'100': 0, '85': 1}}\n"
     ]
    }
   ],
   "source": [
    "import math\n",
    "\n",
    "eredeti_r = float(input('Adja meg a szegélykő sugárát cm-ben: '))\n",
    "optim = {}\n",
    "\n",
    "for n in range(12,2,-1): # 3 szögletűtől 12 szögletűig\n",
    "    szegely100 = 0\n",
    "    szegely85 = 0\n",
    "    \n",
    "    a = 2 * eredeti_r * math.sin(math.pi/n)\n",
    "    szokszog_r = (a/2)/(math.tan(math.pi/n))\n",
    "    print(f'{n} szögletű szegélykő belső sugara: {szokszog_r:.2f} cm')\n",
    "        \n",
    "    while szokszog_r >= 100:\n",
    "        szegely100 += 1\n",
    "        szokszog_r -= 100\n",
    "    while szokszog_r >= 85:\n",
    "        szegely85 += 1\n",
    "        szokszog_r -= 85\n",
    "    if szokszog_r < 85:\n",
    "        szegely85 += 1\n",
    "    optim[n] = {'100': szegely100, '85': szegely85}\n",
    "    \n",
    "print('\\n')\n",
    "print(optim)"
   ]
  },
  {
   "attachments": {},
   "cell_type": "markdown",
   "metadata": {},
   "source": [
    "# 2. feladat [12p]\n",
    "\n",
    "Disclaimer: Nem rendelkezünk az eredeti adatokkal, ezért generált minta adatokat használunk fel!\n",
    "\n",
    "A dog_breeds.txt szövegfájl kutyafajták jellemzőit tartalmazza az American Kennel Club leírása alapján. Az adatok felnőtt példányokra vonatkoznak. Készítsünk programot, amely beolvassa a szövegfájl tartalmát, majd válaszol az alábbi kérdésekre!\n",
    "- Melyik az 5 legnehezebb fajta a weight_low_lbs oszlop alapján?\n",
    "-\tMelyek azok a fajták, ahol a maximális és a minimális testmagasság között legalább 25 cm a különbség? (1 hüvelyk = 2,54 cm)\n",
    "-\tAz átlagosnál alacsonyabb fajták között melyik a legnagyobb súlyú? (a height_low_inches és a weight_low_lbs oszlop alapján)\n",
    "-\tMilyen kezdőbetűjű fajtából hány darab van az adathalmazban?\n"
   ]
  },
  {
   "cell_type": "code",
   "execution_count": 1,
   "metadata": {},
   "outputs": [
    {
     "name": "stdout",
     "output_type": "stream",
     "text": [
      "[['Australian Terrier ', '9 ', '11 ', '9 ', '14 ', '15'], ['Cane Corso ', '23 ', '28 ', '88 ', '120 ', '12'], ['Great Pyrenees ', '25 ', '32 ', '85 ', '160 ', '10'], ['Anatolian Shepherd Dog ', '27 ', '29 ', '80 ', '150 ', '11'], ['Bloodhound ', '24 ', '26 ', '80 ', '110 ', '10']]\n",
      "{'American Eskimo Dog ': ('9 ', '19 '), 'Goldendoodle ': ('13 ', '24 '), 'Poodle (Standard) ': (' 20 ', ' 32 '), 'Portugál Vizsla ': (' 20 ', ' 30 '), 'Pyrenean Mountain Dog ': (' 40 ', ' 54 '), 'Rottweiler ': (' 50 ', ' 60 '), 'Saint Bernard ': (' 64 ', ' 91 '), 'Saluki ': (' 20 ', ' 30 '), 'Samoyed ': (' 20 ', ' 30 '), 'Shikoku ': (' 20 ', ' 52 '), 'South Russian Ovcharka ': (' 45 ', ' 65 '), 'Spanish Mastiff ': (' 52 ', ' 77 '), 'Spanish Water Dog ': (' 18 ', ' 50 '), 'Spinone Italiano ': (' 32 ', ' 70 '), 'Stabyhoun ': (' 20 ', ' 53 '), 'Staffordshire Bull Terrier ': (' 12 ', ' 36 '), 'Sussex Spaniel ': (' 20 ', ' 38 '), 'Swedish Lapphund ': (' 16 ', ' 42 '), 'Swedish Vallhund ': (' 11 ', ' 31 '), 'Tibetan Mastiff ': (' 45 ', ' 61 '), 'Tibeti spaniel ': (' 4 ', ' 20 '), 'Tibeti terrier ': (' 8 ', ' 33 '), 'Toy Fox Terrier ': (' 1.5 ', ' 21 '), 'Treeing Walker Coonhound ': (' 20 ', ' 51 '), 'Vizsla ': (' 18 ', ' 56 '), 'Weimari Vizsla ': (' 25 ', ' 57 '), 'Welsh Springer Spaniel ': (' 16 ', ' 43 '), 'West Highland White Terrier ': (' 6 ', ' 23 '), 'Whippet ': (' 11 ', ' 45 '), 'White Shepherd ': (' 27 ', ' 56 '), 'Wire Fox Terrier ': (' 7.5 ', ' 39 '), 'Wirehaired Pointing Griffon ': (' 20 ', ' 54 '), 'Wirehaired Vizsla ': (' 20 ', ' 54 '), 'Xoloitzcuintli ': (' 4 ', ' 25 '), 'Yorkshire Terrier ': (' 2 ', ' 17 ')}\n",
      "['Clumber Spaniel ', '16 ', '20 ', '55 ', '85 ', '10']\n",
      "{'a': 13, 'b': 27, 'c': 17, 'd': 8, 'e': 6, 'f': 5, 'g': 13, 'h': 1, 'i': 5, 'j': 2, 'k': 5, 'l': 7, 'm': 9, 'n': 12, 'o': 1, 'p': 12, 'r': 3, 's': 21, 't': 5, 'v': 1, 'w': 8, 'x': 1, 'y': 1}\n"
     ]
    }
   ],
   "source": [
    "filename = '/home/g14/uni/sze_python_programozas/data/dog_breeds.txt'\n",
    "\n",
    "def get_data(filename):\n",
    "    with open(filename, 'r') as f:\n",
    "        # skip the first two line\n",
    "        for i in range(2):\n",
    "            f.readline()\n",
    "        lines = f.readlines()\n",
    "        # read into a list  split by , \n",
    "        lines = [line.split('|') for line in lines]    \n",
    "        # remove the newline character from the last element of each line\n",
    "        for line in lines:\n",
    "            line[-1] = line[-1].strip()\n",
    "            continue\n",
    "        data = [] \n",
    "        for line in lines:\n",
    "            data.append(line) \n",
    "        return data\n",
    "\n",
    "def weighty(data):\n",
    "    data = sorted(data, key = lambda x: x[3], reverse=True)\n",
    "    print(data[0:5])\n",
    "\n",
    "def min25cm(data):\n",
    "    dogs = {}\n",
    "    for item in data:\n",
    "        if (float(item[2])-float(item[1]))*2.54 >= 25:\n",
    "            dogs[item[0]] = item[1], item[2]\n",
    "    print(dogs)\n",
    "\n",
    "\n",
    "def avg_height(data):\n",
    "    sum = 0\n",
    "    counter = 0\n",
    "    for item in data:\n",
    "        sum += float(item[1])\n",
    "        counter += 1\n",
    "    avg = sum/counter\n",
    "    return avg\n",
    "\n",
    "\n",
    "def high_weight(data):\n",
    "    dog = []\n",
    "    avg = avg_height(data)\n",
    "    max = 0\n",
    "    for item in data:\n",
    "        if float(item[1]) < avg:\n",
    "            if float(item[3]) > max:\n",
    "                max = float(item[3])\n",
    "                dog = item\n",
    "    print(dog)\n",
    "    \n",
    "def start_letter(data):\n",
    "    letter_counts = {}\n",
    "    letter_list = ['a', 'b', 'c', 'd', 'e', 'f', 'g', 'h', 'i', 'j', 'k', 'l', 'm', 'n', 'o', 'p', 'q', 'r', 's', 't', 'u', 'v', 'w', 'x', 'y', 'z']\n",
    "    for letter in letter_list:\n",
    "        for item in data:\n",
    "            current_letter = item[0][0].lower()\n",
    "            if current_letter == letter:\n",
    "                if current_letter not in letter_counts:\n",
    "                    letter_counts[current_letter] = 1\n",
    "                else:\n",
    "                    letter_counts[current_letter] += 1           \n",
    "    print(letter_counts)   \n",
    "\n",
    "\n",
    "data = get_data(filename)\n",
    "weighty(data)\n",
    "min25cm(data)\n",
    "high_weight(data)\n",
    "start_letter(data)"
   ]
  }
 ],
 "metadata": {
  "kernelspec": {
   "display_name": "Python 3",
   "language": "python",
   "name": "python3"
  },
  "language_info": {
   "codemirror_mode": {
    "name": "ipython",
    "version": 3
   },
   "file_extension": ".py",
   "mimetype": "text/x-python",
   "name": "python",
   "nbconvert_exporter": "python",
   "pygments_lexer": "ipython3",
   "version": "3.10.6"
  },
  "orig_nbformat": 4
 },
 "nbformat": 4,
 "nbformat_minor": 2
}
