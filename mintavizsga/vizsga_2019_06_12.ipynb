{
 "cells": [
  {
   "attachments": {},
   "cell_type": "markdown",
   "metadata": {},
   "source": [
    "# 1. feladat [8p] \n",
    "Készíts programot, amely kér a felhasználótól egy évszámot, majd megadja, hogy az adott évben hány pénteki nap esett 13-ára! "
   ]
  },
  {
   "cell_type": "code",
   "execution_count": 2,
   "metadata": {},
   "outputs": [
    {
     "name": "stdout",
     "output_type": "stream",
     "text": [
      "[0, 3, 4, 0, 2, 5, 0, 3, 6, 1, 4, 6]\n"
     ]
    }
   ],
   "source": [
    "import datetime\n",
    "\n",
    "input = int(input(\"Add meg az évet: \"))\n"
   ]
  },
  {
   "attachments": {},
   "cell_type": "markdown",
   "metadata": {},
   "source": [
    "# 2. feladat [10p] \n",
    "A letters objektum egy kisbetűkből álló négyzetet tartalmaz. A sorok sztringként vannak reprezentálva, és egy listába vannak egymás után fűzve. Készíts programot, amely kiírja, hogy mely oszlopban található a legtöbb magánhangzó! A program ne csak a letters objektumra, hanem tetszőleges, ugyanilyen formátumú, bemenetre is működjön! "
   ]
  },
  {
   "cell_type": "code",
   "execution_count": null,
   "metadata": {},
   "outputs": [],
   "source": [
    " letters = [ \"tüzesensütleany\", \"árinapsugáraazé\", \"gtetejérőlajuhá\", \"szbojtárrafölös\", \"legesdologsütni\", \"eolynagyonajuhá\", \"sznakúgyisnagym\", \"elegevagyonszer\", \"elemtüzeégfiata\", \"lszivébenugyleg\", \"eltetianyájtafa\", \"luvégenfaluvége\", \"nnyájamigszerte\", \"legelészőaddigs\", \"ubájánafűbenhev\" ]"
   ]
  }
 ],
 "metadata": {
  "kernelspec": {
   "display_name": "Python 3",
   "language": "python",
   "name": "python3"
  },
  "language_info": {
   "codemirror_mode": {
    "name": "ipython",
    "version": 3
   },
   "file_extension": ".py",
   "mimetype": "text/x-python",
   "name": "python",
   "nbconvert_exporter": "python",
   "pygments_lexer": "ipython3",
   "version": "3.10.6"
  },
  "orig_nbformat": 4
 },
 "nbformat": 4,
 "nbformat_minor": 2
}
