{
 "cells": [
  {
   "attachments": {},
   "cell_type": "markdown",
   "metadata": {},
   "source": [
    "#  1. feladat [14p]\n",
    "Az A , B , C , ..., Z betűk manókat jelölnek, a friends lista pedig megadja azokat párokat,\n",
    "akik ismerik egymást. Készítsünk programot, amely kiírja, hogy melyik manónak van a legtöbb\n",
    "olyan másodszintű ismerőse, aki nem elsőszintű ismerős! Elsőszintű ismerősöknek az\n",
    "ismerősöket, másodszintű ismerősöknek az ismerősök ismerőseit nevezzük. Holtverseny esetén\n",
    "elég egy manó nevét kiírni. A program ne csak a megadott friends listára működjön, hanem\n",
    "tetszőleges, ugyanilyen formátumú bemenetre is!"
   ]
  },
  {
   "cell_type": "code",
   "execution_count": null,
   "metadata": {},
   "outputs": [],
   "source": [
    "friends = [ 'I-N', 'L-W', 'F-R', 'F-Z', 'B-D', 'L-Q', 'I-U', 'A-N', 'E-F', 'A-I',\n",
    " 'S-T', 'B-S', 'B-E', 'F-P', 'D-V', 'C-V', 'J-S', 'G-I', 'A-C', 'N-X',\n",
    " 'K-N', 'Q-Y', 'A-U', 'O-Z', 'S-U', 'E-L', 'B-V', 'Y-Z', 'H-O', 'D-U',\n",
    " 'A-K', 'F-W', 'N-T', 'H-T', 'R-T']\n",
    "\n",
    "\n",
    "\n",
    "\n"
   ]
  },
  {
   "attachments": {},
   "cell_type": "markdown",
   "metadata": {},
   "source": [
    "# 2. feladat [10p]\n",
    "A covid19_stats.txt (covid19_stats.txt) szövegfájl a COVID-19 vírussal kapcsolatos statisztikákat\n",
    "tartalmaz a 2020.01.23 és 2021.05.11 közötti időszakból, országonkénti bontásban. Minden sor\n",
    "azt adja meg, hogy az adott napon az adott országban hány igazolt fertőzés történt ( Confirmed ), hányan gyógyultak meg ( Recovered ) illetve hányan hunytak el a vírus miatt ( Deaths ).\n",
    "Készítsünk programot, amely beolvassa a fájl tartalmát, majd válaszol az alábbi kérdésekre!\n",
    "1. Melyek azok az országok, ahol már 2020. januárjában megjelent a vírus?\n",
    "2. Az adathalmaz utolsó napján hány fertőzött volt Németországban ( Germany )?\n",
    "3. Hol volt a legmagasabb az elhunytak aránya a fertőzöttek számához viszonyítva?"
   ]
  },
  {
   "cell_type": "code",
   "execution_count": null,
   "metadata": {},
   "outputs": [],
   "source": [
    "filename = '/home/g14/uni/sze_python_programozas/data/china.txt'\n",
    "\n",
    "def get_data(filename):\n",
    "    with open(filename, 'r') as f:\n",
    "        # skip the first two line\n",
    "        for i in range(2):\n",
    "            f.readline()\n",
    "        lines = f.readlines()\n",
    "        # read into a list  split by tab\n",
    "        lines = [line.split(',') for line in lines]    \n",
    "        # remove the newline character from the last element of each line\n",
    "        for line in lines:\n",
    "            line[-1] = line[-1].strip()\n",
    "            continue\n",
    "        data = [] \n",
    "        for line in lines:\n",
    "            data.append(line) \n",
    "        return data\n",
    "\n",
    "\n",
    "\n",
    "\n",
    "\n",
    "get_data(filename)\n",
    "\n",
    "\n",
    "\n",
    "\n"
   ]
  }
 ],
 "metadata": {
  "kernelspec": {
   "display_name": "Python 3",
   "language": "python",
   "name": "python3"
  },
  "language_info": {
   "codemirror_mode": {
    "name": "ipython",
    "version": 3
   },
   "file_extension": ".py",
   "mimetype": "text/x-python",
   "name": "python",
   "nbconvert_exporter": "python",
   "pygments_lexer": "ipython3",
   "version": "3.10.6"
  },
  "orig_nbformat": 4,
  "vscode": {
   "interpreter": {
    "hash": "916dbcbb3f70747c44a77c7bcd40155683ae19c65e1c03b4aa3499c5328201f1"
   }
  }
 },
 "nbformat": 4,
 "nbformat_minor": 2
}
