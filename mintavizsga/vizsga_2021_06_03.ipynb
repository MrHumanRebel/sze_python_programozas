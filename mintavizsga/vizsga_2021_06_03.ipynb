{
 "cells": [
  {
   "attachments": {},
   "cell_type": "markdown",
   "metadata": {},
   "source": [
    "# 1. feladat [14p]\n",
    "Az A , B , C , ..., Z betűk manókat jelölnek, a sztringként megadott friends táblázat pedig\n",
    "definiálja azokat párokat, akik ismerik egymást. (Ha az X sor Y oszlopában 1-es áll, akkor X és\n",
    "Y ismeri egymást. A reláció szimmetrikus, azaz ha X ismeri Y -t, akkor Y is ismeri X -et.)\n",
    "Készítsünk programot, amely kiírja, hogy melyik két manónak van a legtöbb közös ismerőse! A\n",
    "program ne csak a megadott friends táblázatra működjön, hanem tetszőleges, ugyanilyen\n",
    "formátumú bemenetre is!\n"
   ]
  },
  {
   "cell_type": "code",
   "execution_count": null,
   "metadata": {},
   "outputs": [],
   "source": [
    "friends = (\n",
    " ' ABCDEFGHIJKLMNOPQRSTUVWXYZ\\n' +\n",
    " 'A1 1111 1 \\n' +\n",
    " 'B 1 1 1 11 1 \\n' +\n",
    " 'C 11 1 \\n' +\n",
    " 'D 111 1 1\\n' +\n",
    " 'E 1 1 1 1 \\n' +\n",
    " 'F 1 1 1 1 \\n' +\n",
    " 'G1 1 1 1 \\n' +\n",
    " 'H11 11 1 1 1 \\n' +\n",
    " 'I1 111 1 1 \\n' +\n",
    " 'J1 1 1 1 \\n' +\n",
    " 'K 1 1 1 11 \\n' +\n",
    " 'L 1 1 11 1 \\n' +\n",
    " 'M 1 1 11 1 1 1\\n' +\n",
    " 'N 1111 1 \\n' +\n",
    " 'O1 11 11 1 1 1 \\n' +\n",
    " 'P 1 1 11 1 11 1 1\\n' +\n",
    " 'Q 1 1 11 11 11 \\n' +\n",
    " 'R 1 1 11 1\\n' +\n",
    " 'S 1 1 1 1 111 \\n' +\n",
    " 'T 1 11 1 1 \\n' +\n",
    " 'U 1 1 11 1 1 1 1 1 \\n' +\n",
    " 'V 1 1 1\\n' +\n",
    " 'W 1 1 1 1 1 \\n' +\n",
    " 'X 1 1 1 1 1 \\n' +\n",
    " 'Y 11 1 111 1 \\n' +\n",
    " 'Z 1 1 1 1 1 1'\n",
    ")\n",
    "\n",
    "\n",
    "\n",
    "\n"
   ]
  },
  {
   "attachments": {},
   "cell_type": "markdown",
   "metadata": {},
   "source": [
    "# 2. feladat [10p]\n",
    "A dry_bean.txt (dry_bean.txt) szövegfájl 13 611 db lefényképezett babszemről tartalmaz adatokat.\n",
    "Minden sor egy babszemnek felel meg. Az első 16 oszlop méret- és alakjellemzőket tartalmaz (pl.\n",
    "kerület, terület, konvex burok területe, excentricitás), az utolsó oszlop pedig a növény fajtáját adja\n",
    "meg (SEKER, BARBUNYA, BOMBAY, CALI, DERMASON, HOROZ vagy SIRA). Készítsünk\n",
    "programot, amely beolvassa a fájl tartalmát, majd válaszol az alábbi kérdésekre!\n",
    "\n",
    "1. Mi az egyes fajtákhoz tartozó babszemek százalékos aránya?\n",
    "2. Melyik fajta szemeinek a legnagyobb az átlagos excentricitása?\n",
    "3. Hány konvex alakú babszem található az adathalmazban?\n"
   ]
  },
  {
   "cell_type": "code",
   "execution_count": null,
   "metadata": {},
   "outputs": [],
   "source": []
  }
 ],
 "metadata": {
  "kernelspec": {
   "display_name": "Python 3",
   "language": "python",
   "name": "python3"
  },
  "language_info": {
   "name": "python",
   "version": "3.10.6"
  },
  "orig_nbformat": 4
 },
 "nbformat": 4,
 "nbformat_minor": 2
}
