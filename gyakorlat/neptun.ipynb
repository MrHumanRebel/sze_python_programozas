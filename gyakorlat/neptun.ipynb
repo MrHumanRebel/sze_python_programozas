{
 "cells": [
  {
   "attachments": {},
   "cell_type": "markdown",
   "metadata": {},
   "source": [
    "# Adatstruktúra"
   ]
  },
  {
   "cell_type": "code",
   "execution_count": 26,
   "metadata": {},
   "outputs": [
    {
     "data": {
      "text/plain": [
       "{'ABC123': {'Név': 'Nagy Béla', 'jegy': 1},\n",
       " 'ACB123': ('Kis Anna', (('fizika', 5), ('matematika', 2))),\n",
       " 'CAB123': ('Nagy Anasztázia', (('fizika', 4), ('matematika', 2)))}"
      ]
     },
     "execution_count": 26,
     "metadata": {},
     "output_type": "execute_result"
    }
   ],
   "source": [
    "hallgato_konyvtar = {\n",
    "     'ABC123': {'név' : 'Nagy Béla', 'jegy': 1},\n",
    "     'ACB123': ('Kis Anna', (('fizika',5),('matematika',2))),\n",
    "     'CAB123': ('Nagy Anasztázia', (('fizika',4),('matematika',2)))\n",
    "     }\n",
    "\n",
    "hallgato_konyvtar"
   ]
  },
  {
   "cell_type": "code",
   "execution_count": 27,
   "metadata": {},
   "outputs": [
    {
     "name": "stdout",
     "output_type": "stream",
     "text": [
      "{'Név': 'Nagy Béla', 'jegy': 1}\n"
     ]
    }
   ],
   "source": [
    "print(hallgato_konyvtar['ABC123'])\n",
    "\n"
   ]
  }
 ],
 "metadata": {
  "kernelspec": {
   "display_name": "Python 3",
   "language": "python",
   "name": "python3"
  },
  "language_info": {
   "codemirror_mode": {
    "name": "ipython",
    "version": 3
   },
   "file_extension": ".py",
   "mimetype": "text/x-python",
   "name": "python",
   "nbconvert_exporter": "python",
   "pygments_lexer": "ipython3",
   "version": "3.10.6"
  },
  "orig_nbformat": 4,
  "vscode": {
   "interpreter": {
    "hash": "916dbcbb3f70747c44a77c7bcd40155683ae19c65e1c03b4aa3499c5328201f1"
   }
  }
 },
 "nbformat": 4,
 "nbformat_minor": 2
}
