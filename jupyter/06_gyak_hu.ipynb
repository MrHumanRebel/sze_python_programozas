{
 "cells": [
  {
   "cell_type": "markdown",
   "metadata": {},
   "source": [
    "### Előadás anyag\n",
    "Nézzük meg a 6. heti előadás anyagát tartalmazó Jupyter notebook (06_ea_hu.ipynb) tartalmát! Futtassuk az egyes cellákat, módosítsunk, kisérletezzünk szabadon!"
   ]
  },
  {
   "cell_type": "markdown",
   "metadata": {},
   "source": [
    "### Feladatok\n",
    "Készítsünk függvényt az alábbi feladat megoldására, majd teszteljük a függvény működését (azaz hívjuk meg valamilyen tesztadattal és írjuk ki a kapott eredményt)!\n",
    "- Keverjük meg egy szó karaktereit véletlenszerűen úgy, hogy az első és utolsó betű maradjon a helyén! (Pl. 'valami' -> 'vmlaai', 'van' -> 'van')"
   ]
  },
  {
   "cell_type": "code",
   "execution_count": 37,
   "metadata": {},
   "outputs": [
    {
     "name": "stdout",
     "output_type": "stream",
     "text": [
      "vlamai\n",
      "van\n"
     ]
    }
   ],
   "source": [
    "import random \n",
    "\n",
    "def rand_char(input):\n",
    "    char_base = []\n",
    "    input = input.strip()\n",
    "    for i in range(1,len(input)-1):\n",
    "        char_base.append(input[i])\n",
    "    gen = ''\n",
    "    akt = ''\n",
    "    \n",
    "    gen += input[0]\n",
    "    for i in range(len(char_base)):\n",
    "        akt = random.choice(char_base)\n",
    "        gen += akt\n",
    "        char_base.remove(akt)\n",
    "    gen += input[-1]\n",
    "    return gen\n",
    "        \n",
    "    \n",
    "r1 = rand_char(\"valami\")\n",
    "r2 = rand_char(\"van\")\n",
    "print(r1)\n",
    "print(r2)"
   ]
  },
  {
   "cell_type": "markdown",
   "metadata": {},
   "source": [
    "### Házi feladat\n",
    "Készítsünk függvényt az alábbi feladat megoldására!\n",
    "- Egy sztringben egy olyan mondat van, amiben a szavakat egy-egy szóköz választja el. Készítsünk egy olyan új mondatot, amelyben minden szót átalakítunk a fentebbi függvény segítségével! Nézzük meg, hogy el tudjuk-e olvasni az átalakított szöveget közel hasonló sebességgel, mint az eredetit! (Pl. 'Na el tudod olvasni ezt a szöveget is gyorsan' -> 'Na el toudd onsvali ezt a sgveezöt is gaorysn')"
   ]
  },
  {
   "cell_type": "code",
   "execution_count": 38,
   "metadata": {},
   "outputs": [
    {
     "name": "stdout",
     "output_type": "stream",
     "text": [
      "Na el tdoud ovlansi ezt aa segvözet is gsoryan \n"
     ]
    }
   ],
   "source": [
    "def line_rand(input):\n",
    "    input = input.strip()\n",
    "    input = input.split()\n",
    "    gen = ''\n",
    "    for i in range(len(input)):\n",
    "        gen += rand_char(input[i])\n",
    "        gen += ' '    \n",
    "    return gen\n",
    "\n",
    "\n",
    "r3 = line_rand('Na el tudod olvasni ezt a szöveget is gyorsan')\n",
    "print(r3)"
   ]
  }
 ],
 "metadata": {
  "kernelspec": {
   "display_name": "Python 3",
   "language": "python",
   "name": "python3"
  },
  "language_info": {
   "codemirror_mode": {
    "name": "ipython",
    "version": 3
   },
   "file_extension": ".py",
   "mimetype": "text/x-python",
   "name": "python",
   "nbconvert_exporter": "python",
   "pygments_lexer": "ipython3",
   "version": "3.10.6"
  },
  "vscode": {
   "interpreter": {
    "hash": "916dbcbb3f70747c44a77c7bcd40155683ae19c65e1c03b4aa3499c5328201f1"
   }
  }
 },
 "nbformat": 4,
 "nbformat_minor": 2
}
