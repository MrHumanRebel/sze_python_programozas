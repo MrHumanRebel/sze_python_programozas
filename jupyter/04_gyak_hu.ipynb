{
 "cells": [
  {
   "cell_type": "markdown",
   "metadata": {},
   "source": [
    "### Előadás anyag\n",
    "Nézzük meg a 4. heti előadás anyagát tartalmazó Jupyter notebook (04_ea_hu.ipynb) tartalmát! Futtassuk az egyes cellákat, módosítsunk, kisérletezzünk szabadon!"
   ]
  },
  {
   "attachments": {},
   "cell_type": "markdown",
   "metadata": {},
   "source": [
    "### Feladatok\n",
    "Készítsünk programokat az alábbi feladatokra!\n",
    "- Állítsuk elő comprehension-nel a [100, 90, 80, 70, 60, 50, 40, 30, 20, 10] listát!"
   ]
  },
  {
   "cell_type": "code",
   "execution_count": 31,
   "metadata": {},
   "outputs": [
    {
     "name": "stdout",
     "output_type": "stream",
     "text": [
      "[100, 90, 80, 70, 60, 50, 40, 30, 20, 10]\n"
     ]
    }
   ],
   "source": [
    "lista = [i for i in range(100, 9, -10) if i % 10 == 0]\n",
    "\n",
    "print(lista)\n"
   ]
  },
  {
   "attachments": {},
   "cell_type": "markdown",
   "metadata": {},
   "source": [
    "- Olvassuk be a 'matrix.txt' adatait, majd határozzuk meg minden egyes sorra az 1-esek darabszámát, valamint minden egyes oszlopra a 0-ák darabszámát!"
   ]
  },
  {
   "cell_type": "code",
   "execution_count": 32,
   "metadata": {},
   "outputs": [
    {
     "name": "stdout",
     "output_type": "stream",
     "text": [
      "Ebben a sorban: 0 ennyi egyes van: 6\n",
      "Ebben az oszlopban: 0 ennyi nulla van: 5\n",
      "Ebben a sorban: 1 ennyi egyes van: 5\n",
      "Ebben az oszlopban: 1 ennyi nulla van: 6\n",
      "Ebben a sorban: 2 ennyi egyes van: 3\n",
      "Ebben az oszlopban: 2 ennyi nulla van: 3\n",
      "Ebben a sorban: 3 ennyi egyes van: 4\n",
      "Ebben az oszlopban: 3 ennyi nulla van: 8\n",
      "Ebben a sorban: 4 ennyi egyes van: 6\n",
      "Ebben az oszlopban: 4 ennyi nulla van: 5\n",
      "Ebben a sorban: 5 ennyi egyes van: 5\n",
      "Ebben az oszlopban: 5 ennyi nulla van: 5\n",
      "Ebben a sorban: 6 ennyi egyes van: 8\n",
      "Ebben az oszlopban: 6 ennyi nulla van: 3\n",
      "Ebben a sorban: 7 ennyi egyes van: 3\n",
      "Ebben az oszlopban: 7 ennyi nulla van: 3\n",
      "Ebben a sorban: 8 ennyi egyes van: 6\n",
      "Ebben az oszlopban: 8 ennyi nulla van: 7\n",
      "Ebben a sorban: 9 ennyi egyes van: 5\n",
      "Ebben az oszlopban: 9 ennyi nulla van: 4\n"
     ]
    }
   ],
   "source": [
    "def file_open():\n",
    "    file = open('/home/g14/uni/sze_python_programozas/data/matrix.txt')\n",
    "    data = []\n",
    "    for line in file:\n",
    "        data.append(line.split())\n",
    "    return data\n",
    "\n",
    "\n",
    "def mtx_counter(data):\n",
    "    line_one = 0\n",
    "    coloum_zero = 0\n",
    "    for i in range(len(data)):    \n",
    "        for j in range(len(data[i])):\n",
    "                if int(data[j][i]) == 0:\n",
    "                    coloum_zero += 1\n",
    "                if int(data[i][j]) == 1:\n",
    "                    line_one += 1 \n",
    "        print(f'Ebben a sorban: {i} ennyi egyes van: {line_one}')    \n",
    "        print(f'Ebben az oszlopban: {i} ennyi nulla van: {coloum_zero}') \n",
    "        line_one = 0\n",
    "        coloum_zero = 0\n",
    "          \n",
    "data = file_open()\n",
    "mtx_counter(data)\n"
   ]
  },
  {
   "attachments": {},
   "cell_type": "markdown",
   "metadata": {},
   "source": [
    "- Határozzuk meg az 'igazi.txt' fájlban található leghosszabb és legrövidebb szót!\n"
   ]
  },
  {
   "cell_type": "code",
   "execution_count": 33,
   "metadata": {},
   "outputs": [
    {
     "data": {
      "text/plain": [
       "('a', 'gépidőelszámolást')"
      ]
     },
     "execution_count": 33,
     "metadata": {},
     "output_type": "execute_result"
    }
   ],
   "source": [
    "def file_open():\n",
    "    file = open('/home/g14/uni/sze_python_programozas/data/igazi.txt')\n",
    "    data = []\n",
    "    for line in file:\n",
    "        data.append(line.split())\n",
    "    return data\n",
    "\n",
    "def shortest_longest(data):\n",
    "    shortest = data[0][0]\n",
    "    longest = data[0][0]\n",
    "    for i in range(len(data)):\n",
    "        for j in range(len(data[i])):\n",
    "            if len(data[i][j]) < len(shortest):\n",
    "                shortest = data[i][j]\n",
    "            if len(data[i][j]) > len(longest):\n",
    "                longest = data[i][j]\n",
    "    return shortest, longest\n",
    "\n",
    "data = file_open()\n",
    "shortest_longest(data)\n",
    "\n",
    "        "
   ]
  },
  {
   "attachments": {},
   "cell_type": "markdown",
   "metadata": {},
   "source": [
    "- Határozzuk meg a 'hamlet.txt' fájl szavaira azt, hogy a szavak hányadrésze tartalmaz angol nagybetűt!"
   ]
  },
  {
   "cell_type": "code",
   "execution_count": 34,
   "metadata": {},
   "outputs": [
    {
     "name": "stdout",
     "output_type": "stream",
     "text": [
      "Ennyi nagybetűk van: 635\n",
      "Ennyi betűk van: 31677\n",
      "Ennyi a nagybetűk %-a: 2.00\n"
     ]
    }
   ],
   "source": [
    "def file_open():\n",
    "    file = open('/home/g14/uni/sze_python_programozas/data/hamlet.txt')\n",
    "    data = []\n",
    "    for line in file:\n",
    "        data.append(line.split())\n",
    "    return data\n",
    "\n",
    "def contains_eng_uppercase(data):\n",
    "    base_set = set('ABCDEFGHIJKLMNOPQRSTUVWXYZ')\n",
    "    counter = 0\n",
    "    all_words = 0\n",
    "    for i in range(len(data)):\n",
    "        for j in range(len(data[i])):\n",
    "            all_words += 1\n",
    "            if data[i][j] in base_set:\n",
    "                counter += 1\n",
    "    print(f'Ennyi nagybetűk van: {counter}')\n",
    "    print(f'Ennyi betűk van: {all_words}')\n",
    "    print(f'Ennyi a nagybetűk %-a: {100*counter/all_words:.2f}')\n",
    "    return counter/all_words*100\n",
    "\n",
    "data = file_open()\n",
    "uppercase = contains_eng_uppercase(data)"
   ]
  },
  {
   "cell_type": "markdown",
   "metadata": {},
   "source": [
    "### Házi feladatok\n",
    "- Készítsen egy szövegfájlt (szövegszerkesztővel), amelyben egy műkorcsolyaverseny adatai szerepeljenek! A versenyzőket legalább 3 pontozó értékelje úgy, hogy minden versenyző minden pontozótól pontosan egy db pontot kapjon (ami 0-tól 6-ig egy valós szám)! Minden sor egy versenyző adatait (név, pontok) tartalmazza!\n",
    "- Töltse be az adatokat a fájlból, majd készítsen egy másik szövegfájlt (programmal), amelyben a verseny eredménylistája legyen! Egy sorban egy versenyző összes adata (név, pontok, átlagpont) szerepeljen!\n",
    "- Oldjuk meg a feladatot úgy is, hogy az átlagpontba az adott versenyző legnagyobb és legkisebb pontjának egy-egy előfordulását ne számítsuk bele (a bírók részrehajlását elkerülendő)!"
   ]
  },
  {
   "cell_type": "code",
   "execution_count": 38,
   "metadata": {},
   "outputs": [],
   "source": [
    "def file_open():\n",
    "    file = open('/home/g14/uni/sze_python_programozas/data/kori.txt', 'r')\n",
    "    data = []\n",
    "    for line in file:\n",
    "        data.append(line.split())\n",
    "    return data\n",
    "    \n",
    "def calc_average(list):\n",
    "    list_size = len(list)\n",
    "    sum_nums = sum(list)\n",
    "    average = sum_nums/list_size\n",
    "    return average\n",
    "\n",
    "def calc_average_exc_min_max(list):\n",
    "    list.remove(min(list))\n",
    "    list.remove(max(list))        \n",
    "    average = calc_average(list)\n",
    "    return average\n",
    "\n",
    "\n",
    "def new_file(data):\n",
    "    file = open('/home/g14/uni/sze_python_programozas/data/new_kori.txt', 'w')\n",
    "    for i in range(len(data)):\n",
    "        list = []\n",
    "        for j in range(1,(len(data[i]))):\n",
    "            list.append(float(data[i][j]))\n",
    "            #print(avg)\n",
    "            if j == 1:\n",
    "                file.write(data[i][j-1]) \n",
    "                file.write(' ')\n",
    "            file.write(data[i][j]) \n",
    "            file.write(' ')\n",
    "        avg = calc_average(list)\n",
    "        file.write(\"{:.2f}\".format(avg))\n",
    "        file.write('\\n')\n",
    "    file.close()\n",
    "   \n",
    "data = file_open()  \n",
    "new_file(data)        \n",
    "        "
   ]
  },
  {
   "cell_type": "code",
   "execution_count": 39,
   "metadata": {},
   "outputs": [],
   "source": [
    "def new_file_2(data):\n",
    "    file = open('/home/g14/uni/sze_python_programozas/data/new_kori.txt', 'w')\n",
    "    for i in range(len(data)):\n",
    "        list = []\n",
    "        for j in range(1,(len(data[i]))):\n",
    "            list.append(float(data[i][j]))\n",
    "            #print(avg)\n",
    "            if j == 1:\n",
    "                file.write(data[i][j-1]) \n",
    "                file.write(' ')\n",
    "            file.write(data[i][j]) \n",
    "            file.write(' ')\n",
    "        avg = calc_average_exc_min_max(list)\n",
    "        file.write(\"{:.2f}\".format(avg))\n",
    "        file.write('\\n')\n",
    "    file.close()\n",
    "    \n",
    "new_file_2(data)  "
   ]
  }
 ],
 "metadata": {
  "kernelspec": {
   "display_name": "Python 3",
   "language": "python",
   "name": "python3"
  },
  "language_info": {
   "codemirror_mode": {
    "name": "ipython",
    "version": 3
   },
   "file_extension": ".py",
   "mimetype": "text/x-python",
   "name": "python",
   "nbconvert_exporter": "python",
   "pygments_lexer": "ipython3",
   "version": "3.10.6"
  },
  "vscode": {
   "interpreter": {
    "hash": "916dbcbb3f70747c44a77c7bcd40155683ae19c65e1c03b4aa3499c5328201f1"
   }
  }
 },
 "nbformat": 4,
 "nbformat_minor": 2
}
