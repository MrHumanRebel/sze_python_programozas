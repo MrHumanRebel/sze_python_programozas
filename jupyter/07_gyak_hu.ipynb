{
 "cells": [
  {
   "cell_type": "markdown",
   "metadata": {},
   "source": [
    "### 1. feladat\n",
    "Készítsünk programot, amely életkor szerint növekvő sorrendben írja ki az alábbi listában szereplő neveket!"
   ]
  },
  {
   "cell_type": "code",
   "execution_count": 1,
   "metadata": {},
   "outputs": [],
   "source": [
    "import datetime\n",
    "\n",
    "people = [\n",
    "    # név,           születési dátum\n",
    "    ('Gipsz Jakab',  datetime.date(1957, 11, 21)),\n",
    "    ('Wincs Eszter', datetime.date(1980, 5, 7)),\n",
    "    ('Békés Farkas', datetime.date(2014, 7, 30)),\n",
    "    ('Har Mónika',   datetime.date(1995, 2, 27)),\n",
    "    ('Trab Antal',   datetime.date(1961, 4, 1)),\n",
    "    ('Git Áron',     datetime.date(1995, 2, 28)),\n",
    "    ('Bank Aranka',  datetime.date(1980, 9, 1))\n",
    "]"
   ]
  },
  {
   "cell_type": "code",
   "execution_count": 2,
   "metadata": {},
   "outputs": [
    {
     "data": {
      "text/plain": [
       "[('Békés Farkas', datetime.date(2014, 7, 30)),\n",
       " ('Git Áron', datetime.date(1995, 2, 28)),\n",
       " ('Har Mónika', datetime.date(1995, 2, 27)),\n",
       " ('Bank Aranka', datetime.date(1980, 9, 1)),\n",
       " ('Wincs Eszter', datetime.date(1980, 5, 7)),\n",
       " ('Trab Antal', datetime.date(1961, 4, 1)),\n",
       " ('Gipsz Jakab', datetime.date(1957, 11, 21))]"
      ]
     },
     "execution_count": 2,
     "metadata": {},
     "output_type": "execute_result"
    }
   ],
   "source": [
    "sorted(people, key=lambda p: p[1], reverse=True)"
   ]
  },
  {
   "cell_type": "markdown",
   "metadata": {},
   "source": [
    "### 2. feladat\n",
    "\n",
    "Hány db péntek 13-adika volt a 20. században (1901. január 1-től 2000. december 31-ig)?"
   ]
  },
  {
   "cell_type": "code",
   "execution_count": 3,
   "metadata": {},
   "outputs": [
    {
     "name": "stdout",
     "output_type": "stream",
     "text": [
      "171\n"
     ]
    }
   ],
   "source": [
    "import datetime\n",
    "\n",
    "osszeg = 0\n",
    "for y in range(1901, 2001): # végigmegyünk az éveken\n",
    "    for m in range(1, 13):  # ...azon belül a hónapokon\n",
    "        if datetime.date(y, m, 13).weekday() == 4:\n",
    "            osszeg += 1\n",
    "print(osszeg)"
   ]
  },
  {
   "cell_type": "markdown",
   "metadata": {},
   "source": [
    "### 3. feladat\n",
    "\n",
    "Készítsünk programot, amely bekér egy síkbeli vektort, majd kiírja, hogy a vektor hány fokos szöget zár be az x tengely pozitív felével!"
   ]
  },
  {
   "cell_type": "code",
   "execution_count": 4,
   "metadata": {},
   "outputs": [
    {
     "data": {
      "text/plain": [
       "54.46232220802562"
      ]
     },
     "execution_count": 4,
     "metadata": {},
     "output_type": "execute_result"
    }
   ],
   "source": [
    "import math\n",
    "x = float(input('x: '))\n",
    "y = float(input('y: '))\n",
    "math.degrees(math.atan2(y, x))"
   ]
  },
  {
   "cell_type": "markdown",
   "metadata": {},
   "source": [
    "### 4. feladat\n",
    "Készítsünk programot, amely szimulál egy n hosszú pénzfeldobás sorozatot, majd kiírja a fejek és írások darabszámát!"
   ]
  },
  {
   "cell_type": "code",
   "execution_count": 5,
   "metadata": {},
   "outputs": [
    {
     "name": "stdout",
     "output_type": "stream",
     "text": [
      "53\n",
      "47\n"
     ]
    }
   ],
   "source": [
    "# 1. megoldás\n",
    "import random\n",
    "n = 100\n",
    "nheads = 0\n",
    "ntails = 0\n",
    "for i in range(n):\n",
    "    x = random.choice('HT')\n",
    "    if x == 'H': \n",
    "        nheads += 1\n",
    "    else:\n",
    "        ntails += 1\n",
    "print(ntails)\n",
    "print(nheads)"
   ]
  },
  {
   "cell_type": "code",
   "execution_count": 6,
   "metadata": {},
   "outputs": [
    {
     "name": "stdout",
     "output_type": "stream",
     "text": [
      "52\n",
      "48\n"
     ]
    }
   ],
   "source": [
    "# 2. megoldás\n",
    "import random\n",
    "n = 100\n",
    "x = [random.choice('HT') for i in range(n)]\n",
    "print(x.count('H'))\n",
    "print(x.count('T'))"
   ]
  },
  {
   "cell_type": "markdown",
   "metadata": {},
   "source": [
    "### 5. feladat\n",
    "\n",
    "Készítsünk programot, amely szimulál egy n hosszú pénzfeldobás sorozatot, majd kiírja a leghosszabb fej ill. írás sorozat hosszát!"
   ]
  },
  {
   "cell_type": "code",
   "execution_count": 7,
   "metadata": {},
   "outputs": [
    {
     "name": "stdout",
     "output_type": "stream",
     "text": [
      "H T H T T H T T T T T T T H H T T T H T\n",
      "2\n",
      "7\n"
     ]
    }
   ],
   "source": [
    "import random\n",
    "\n",
    "def longest_sequence(x, sign):\n",
    "    maxlen = 0\n",
    "    actlen = 0\n",
    "    for xi in x:\n",
    "        if xi == sign:\n",
    "            actlen += 1\n",
    "            if actlen > maxlen:\n",
    "                maxlen = actlen\n",
    "        else:\n",
    "            actlen = 0\n",
    "    return maxlen\n",
    "\n",
    "n = 20\n",
    "x = [random.choice('HT') for i in range(n)]\n",
    "\n",
    "print(' '.join(x))\n",
    "print(longest_sequence(x, 'H'))\n",
    "print(longest_sequence(x, 'T'))"
   ]
  },
  {
   "cell_type": "code",
   "execution_count": 8,
   "metadata": {},
   "outputs": [
    {
     "name": "stdout",
     "output_type": "stream",
     "text": [
      "['T', 'T', 'T', 'T', 'T', 'T', 'H', 'H', 'H', 'T']\n",
      "6\n"
     ]
    }
   ],
   "source": [
    "# ...a leghosszabb sorozat hossza (nem külön-külön számolva)\n",
    "\n",
    "import random\n",
    "n = 10\n",
    "sorsolas = [random.choice('HT') for i in range(n)]\n",
    "\n",
    "sorozat = 1\n",
    "sorozat_max = 1\n",
    "for x in range(1, n):\n",
    "    if sorsolas[x] == sorsolas[x - 1]:\n",
    "        sorozat += 1\n",
    "    else:\n",
    "        sorozat = 1\n",
    "    \n",
    "    if sorozat > sorozat_max:\n",
    "        sorozat_max = sorozat\n",
    "        \n",
    "print(sorsolas)\n",
    "print(sorozat_max)"
   ]
  }
 ],
 "metadata": {
  "kernelspec": {
   "display_name": "Python 3",
   "language": "python",
   "name": "python3"
  },
  "language_info": {
   "codemirror_mode": {
    "name": "ipython",
    "version": 3
   },
   "file_extension": ".py",
   "mimetype": "text/x-python",
   "name": "python",
   "nbconvert_exporter": "python",
   "pygments_lexer": "ipython3",
   "version": "3.10.6"
  },
  "vscode": {
   "interpreter": {
    "hash": "916dbcbb3f70747c44a77c7bcd40155683ae19c65e1c03b4aa3499c5328201f1"
   }
  }
 },
 "nbformat": 4,
 "nbformat_minor": 2
}
