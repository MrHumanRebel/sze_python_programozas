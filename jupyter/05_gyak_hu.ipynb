{
 "cells": [
  {
   "cell_type": "markdown",
   "metadata": {},
   "source": [
    "### Előadás anyag\n",
    "Nézzük meg az 5. heti előadás anyagát tartalmazó Jupyter notebook (05_ea_hu.ipynb) tartalmát! Futtassuk az egyes cellákat, módosítsunk, kisérletezzünk szabadon!"
   ]
  },
  {
   "attachments": {},
   "cell_type": "markdown",
   "metadata": {},
   "source": [
    "### Feladatok\n",
    "Készítsünk függvényeket az alábbi feladatok megoldására, majd teszteljük a függvények működését (azaz hívjuk meg őket valamilyen tesztadattal és írjuk ki a kapott eredményeket)!\n",
    "- Egy sztring karakterei különbözőek-e vagy sem? (Pl. 'Alma' -> igen, 'alma' -> nem)\n"
   ]
  },
  {
   "cell_type": "code",
   "execution_count": 5,
   "metadata": {},
   "outputs": [
    {
     "name": "stdout",
     "output_type": "stream",
     "text": [
      "False True\n"
     ]
    }
   ],
   "source": [
    "def all_chars_different(s):\n",
    "    for i in range(len(s)):\n",
    "        for j in range(i+1, len(s)):\n",
    "            if s[i] == s[j]:\n",
    "                return False\n",
    "    return True\n",
    "\n",
    "\n",
    "x = all_chars_different(\"AbAde\")      \n",
    "y = all_chars_different(\"abcde\")\n",
    "print(x, y)"
   ]
  },
  {
   "attachments": {},
   "cell_type": "markdown",
   "metadata": {},
   "source": [
    "- Határozzuk meg egy sztringként megadott pozitív, bináris egész szám decimális értékét! (Pl. '110' -> 6)\n"
   ]
  },
  {
   "cell_type": "code",
   "execution_count": 16,
   "metadata": {},
   "outputs": [
    {
     "data": {
      "text/plain": [
       "6"
      ]
     },
     "execution_count": 16,
     "metadata": {},
     "output_type": "execute_result"
    }
   ],
   "source": [
    "def bin_to_dec(bin):\n",
    "    bin = str(bin)\n",
    "    dec = 0\n",
    "    for i in range(len(bin)):\n",
    "        dec += int(bin[i]) * 2**(len(bin)-i-1)\n",
    "    return int(dec)\n",
    "\n",
    "bin_to_dec(110)"
   ]
  },
  {
   "attachments": {},
   "cell_type": "markdown",
   "metadata": {},
   "source": [
    "- Egy számsorozat számtani sorozatot alkot-e vagy sem? (Pl. [1, 2, 3] -> igen, [1, 2, 2] -> nem)\n"
   ]
  },
  {
   "cell_type": "code",
   "execution_count": 20,
   "metadata": {},
   "outputs": [
    {
     "name": "stdout",
     "output_type": "stream",
     "text": [
      "False\n",
      "True\n"
     ]
    }
   ],
   "source": [
    "def is_number_series(data):\n",
    "    for i in range(len(data)-1):\n",
    "        if data[i] == data[i+1]:\n",
    "            return False\n",
    "    return True\n",
    "\n",
    "data = [1, 1, 1, 1, 1, 1, 1, 1, 1, 1]\n",
    "print(is_number_series(data))\n",
    "data = [1, 2, 3, 4, 5, 6, 7, 8, 9, 10]\n",
    "print(is_number_series(data))"
   ]
  },
  {
   "attachments": {},
   "cell_type": "markdown",
   "metadata": {},
   "source": [
    "- Határozzuk meg egy pozitív egész szám, mint euróban kifizetendő pénzösszeg kifizetéséhez szükséges  legkevesebb címletet! (Pl. 213: 2 db 100-as, 1 db 10-es, 3 db 1-es)"
   ]
  },
  {
   "cell_type": "code",
   "execution_count": 57,
   "metadata": {},
   "outputs": [
    {
     "name": "stdout",
     "output_type": "stream",
     "text": [
      "[200, 200, 5]\n"
     ]
    }
   ],
   "source": [
    "eur_cash = [1, 2, 5, 10, 20, 50, 100, 200, 500]\n",
    "\n",
    "def min_eur_cash(eur_cash, amount):\n",
    "    eur_cash.sort(reverse=True)\n",
    "    size = len(eur_cash)\n",
    "    payout = []\n",
    "    while amount > 0:\n",
    "        for i in range(len(eur_cash)):\n",
    "            while eur_cash[i] <= amount:\n",
    "                payout.append(eur_cash[i])\n",
    "                amount -= eur_cash[i]\n",
    "                if amount == 0:\n",
    "                    return payout\n",
    "\n",
    "money = min_eur_cash(eur_cash, 405)\n",
    "print(money)\n"
   ]
  },
  {
   "attachments": {},
   "cell_type": "markdown",
   "metadata": {},
   "source": [
    "### Házi feladatok\n",
    "Készítsünk függvényeket az alábbi feladatok megoldására!\n",
    "- Egy sztringben helyes angol név van-e vagy sem? Egy név helyes, ha:\n",
    "  - pontosan egy darab szóköz van benne, de az nincs az elején és a végén,\n",
    "  - az egy db szóközön kívül csak angol kis- és nagybetűk vannak benne,\n",
    "  - a vezetéknév és a keresztnév első betűje nagybetű, a többi kisbetű. (Pl: \"Little John\" -> helyes, \"nemecsek ernő\" -> nem helyes)\n"
   ]
  },
  {
   "cell_type": "code",
   "execution_count": 82,
   "metadata": {},
   "outputs": [
    {
     "data": {
      "text/plain": [
       "True"
      ]
     },
     "execution_count": 82,
     "metadata": {},
     "output_type": "execute_result"
    }
   ],
   "source": [
    "def is_correct_name(name):\n",
    "    counter = 0\n",
    "    for i in range(len(name)):\n",
    "        #print(name[i])\n",
    "        if name[i].isalpha() == False and name[i] != \" \":\n",
    "            return False\n",
    "        if name[i] == \" \":\n",
    "            counter += 1\n",
    "        if counter > 1:\n",
    "            return False\n",
    "    name = name.split()\n",
    "    if len(name) != 2:\n",
    "        return False\n",
    "    if name[0][0].isupper() and name[1][0].isupper():\n",
    "        return True\n",
    "    else:\n",
    "        return False\n",
    "    \n",
    "is_correct_name(\"Macska Janos\")"
   ]
  },
  {
   "attachments": {},
   "cell_type": "markdown",
   "metadata": {},
   "source": [
    "- Adottak síkbeli pontok a derékszögű koordinátáikkal! Határozzuk meg azt a pontot, amelyik a legközelebb van a pontok súlypontjához! Az eredmény a megfelelő pont(ok)ból álló lista legyen! (Pl. [(1, 0), (-1, 0), (0. 3)] -> [(1, 0), (-1, 0)])\n"
   ]
  },
  {
   "cell_type": "code",
   "execution_count": 86,
   "metadata": {},
   "outputs": [
    {
     "data": {
      "text/plain": [
       "[(1, 0), (-1, 0)]"
      ]
     },
     "execution_count": 86,
     "metadata": {},
     "output_type": "execute_result"
    }
   ],
   "source": [
    "def calc_planar_weight_point(points):   \n",
    "    \"\"\"Adottak síkbeli pontok a derékszögű koordinátáikkal! \n",
    "    Határozzuk meg azt a pontot, amelyik a legközelebb van a pontok súlypontjához! \n",
    "    Az eredmény a megfelelő pont(ok)ból álló lista legyen!\"\"\"\n",
    "    x = 0\n",
    "    y = 0\n",
    "    for i in range(len(points)):\n",
    "        x += points[i][0]\n",
    "        y += points[i][1]\n",
    "    x = x / len(points)\n",
    "    y = y / len(points)\n",
    "    weight_point = (x, y)\n",
    "    #print(weight_point)\n",
    "    distance = []\n",
    "    for i in range(len(points)):\n",
    "        distance.append(((points[i][0] - weight_point[0])**2 + (points[i][1] - weight_point[1])**2)**0.5)\n",
    "    #print(distance)\n",
    "    min_distance = min(distance)\n",
    "    #print(min_distance)\n",
    "    result = []\n",
    "    for i in range(len(distance)):\n",
    "        if distance[i] == min_distance:\n",
    "            result.append(points[i])\n",
    "    return result\n",
    "\n",
    "points = [(1, 0), (-1, 0), (0, 3)]\n",
    "calc_planar_weight_point(points)\n"
   ]
  },
  {
   "attachments": {},
   "cell_type": "markdown",
   "metadata": {},
   "source": [
    "- Bővítse az előző (4.) heti korcsolyaversenyes feladat megoldását úgy, hogy az eredménylista legyen átlagpont szerint csökkenően rendezett!"
   ]
  },
  {
   "cell_type": "code",
   "execution_count": 122,
   "metadata": {},
   "outputs": [],
   "source": [
    "def file_open():\n",
    "    file = open('/home/g14/uni/sze_python_programozas/data/kori.txt', 'r')\n",
    "    data = []\n",
    "    for line in file:\n",
    "        data.append(line.split())\n",
    "    return data\n",
    "    \n",
    "\n",
    "def calc_average(a,b,c):\n",
    "    avg = (a+b+c)/3\n",
    "    return float(\"{:.2f}\".format(avg))\n",
    "\n",
    "def new_file(data):\n",
    "    file = open('/home/g14/uni/sze_python_programozas/data/new_kori.txt', 'w')\n",
    "    a = 0.0\n",
    "    b = 0.0\n",
    "    c = 0.0\n",
    "\n",
    "    for i in range(len(data)):\n",
    "        all_points = []\n",
    "        for j in range(len(data[i])):\n",
    "            #print(data[j][k])\n",
    "            if j == 1:\n",
    "                a = float(data[i][j])\n",
    "                all_points.append(a)\n",
    "            if j == 2:\n",
    "                b = float(data[i][j])\n",
    "                all_points.append(b)\n",
    "            if j == 3:\n",
    "                c = float(data[i][j])\n",
    "                all_points.append(c)\n",
    "            avg = calc_average(a,b,c)\n",
    "            \n",
    "            all_points = sorted(all_points)\n",
    "            all_points.append(avg)\n",
    "        #nev\n",
    "        file.write(data[i][0]) \n",
    "        file.write(' ')\n",
    "        #adatok\n",
    "        for j in range(len(all_points)):\n",
    "            file.write(str(all_points[j]))\n",
    "            file.write(' ')\n",
    "        file.write('\\n')\n",
    "    file.close()\n",
    "   \n",
    "data = file_open()  \n",
    "new_file(data)"
   ]
  }
 ],
 "metadata": {
  "kernelspec": {
   "display_name": "Python 3",
   "language": "python",
   "name": "python3"
  },
  "language_info": {
   "codemirror_mode": {
    "name": "ipython",
    "version": 3
   },
   "file_extension": ".py",
   "mimetype": "text/x-python",
   "name": "python",
   "nbconvert_exporter": "python",
   "pygments_lexer": "ipython3",
   "version": "3.10.6"
  },
  "vscode": {
   "interpreter": {
    "hash": "916dbcbb3f70747c44a77c7bcd40155683ae19c65e1c03b4aa3499c5328201f1"
   }
  }
 },
 "nbformat": 4,
 "nbformat_minor": 2
}
