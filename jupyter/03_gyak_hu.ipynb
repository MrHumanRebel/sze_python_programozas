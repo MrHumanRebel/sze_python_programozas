{
 "cells": [
  {
   "cell_type": "markdown",
   "metadata": {},
   "source": [
    "### Előadás anyag\n",
    "Nézzük meg a 3. heti előadás anyagát tartalmazó Jupyter notebook (03_ea_hu.ipynb) tartalmát! Futtassuk az egyes cellákat, módosítsunk, kisérletezzünk szabadon!"
   ]
  },
  {
   "cell_type": "markdown",
   "metadata": {},
   "source": [
    "### Feladatok\n",
    "Készítsünk programokat az alábbi feladatokra!"
   ]
  },
  {
   "attachments": {},
   "cell_type": "markdown",
   "metadata": {},
   "source": [
    "# Példák"
   ]
  },
  {
   "cell_type": "code",
   "execution_count": 20,
   "metadata": {},
   "outputs": [
    {
     "name": "stdout",
     "output_type": "stream",
     "text": [
      "0\n"
     ]
    },
    {
     "data": {
      "text/plain": [
       "('80', [2, 3])"
      ]
     },
     "execution_count": 20,
     "metadata": {},
     "output_type": "execute_result"
    }
   ],
   "source": [
    "s = ''\n",
    "for i in range(len(s)):\n",
    "    print(s[i])\n",
    "    \n",
    "\n",
    "print(len(range(0,0)))\n",
    "\n",
    "t =('80',[2,3])\n",
    "t"
   ]
  },
  {
   "cell_type": "markdown",
   "metadata": {},
   "source": [
    "### Szekvencia\n",
    "Adott egy téglatest három oldalának a hossza. Határozzuk meg a test térfogatát és felszínét!"
   ]
  },
  {
   "cell_type": "code",
   "execution_count": 23,
   "metadata": {},
   "outputs": [
    {
     "name": "stdout",
     "output_type": "stream",
     "text": [
      "52 24\n"
     ]
    }
   ],
   "source": [
    "def teglatest_felszin(a, b, c):\n",
    "    return 2 * (a * b + a * c + b * c)\n",
    "\n",
    "def teglatest_terfogat(a, b, c):\n",
    "    return a * b * c\n",
    "\n",
    "\n",
    "\n",
    "A = teglatest_felszin(2, 3, 4)\n",
    "V = teglatest_terfogat(2, 3, 4)\n",
    "\n",
    "print(A)\n",
    "print(V)"
   ]
  },
  {
   "cell_type": "markdown",
   "metadata": {},
   "source": [
    "### Szelekció\n",
    "Adott két szám, mint input adat. Kérjük be őket és írjuk ki a kisebbiket!"
   ]
  },
  {
   "cell_type": "code",
   "execution_count": 24,
   "metadata": {},
   "outputs": [
    {
     "name": "stdout",
     "output_type": "stream",
     "text": [
      "2\n"
     ]
    }
   ],
   "source": [
    "def min(a, b):\n",
    "    if a < b:\n",
    "        return a\n",
    "    else:\n",
    "        return b\n",
    "    \n",
    "    \n",
    "M = min(2, 3)\n",
    "print(M)"
   ]
  },
  {
   "cell_type": "markdown",
   "metadata": {},
   "source": [
    "### Iteráció\n",
    "- Írjuk ki 1-től 10-ig az egész számokat (mindkét ciklusfajtával)!\n",
    "- Csak a páros számokat írjuk ki (az előbbi intervallumból)!\n",
    "- Általánosítsuk az előző feladatot egy [a, b] zárt intervallumba eső, c-vel maradék nélkül osztható egész számok kiírására, ahol a, b, c egész számok!\n",
    "- A számokat egy sorba írjuk ki (egy-egy szóközzel elválasztva)!\n",
    "- Döntsük el két, pozitív egész számról azt, hogy relatív prímek-e vagy sem!"
   ]
  },
  {
   "cell_type": "code",
   "execution_count": 27,
   "metadata": {},
   "outputs": [
    {
     "name": "stdout",
     "output_type": "stream",
     "text": [
      "1\n",
      "2\n",
      "3\n",
      "4\n",
      "5\n",
      "6\n",
      "7\n",
      "8\n",
      "9\n",
      "\n",
      "\n",
      "2\n",
      "4\n",
      "6\n",
      "8\n",
      "\n",
      "\n",
      "3\n",
      "6\n",
      "9\n",
      "\n",
      "\n",
      "Igen prímszám!\n",
      "\n",
      "\n",
      "Nem prímszám!\n",
      "\n",
      "\n"
     ]
    }
   ],
   "source": [
    "\n",
    "def szamok():\n",
    "    for i in range(1,10):\n",
    "        print(i)\n",
    "    \n",
    "def paros_szamok():\n",
    "    for i in range(1,10):\n",
    "        if i % 2 == 0:\n",
    "            print(i)\n",
    "\n",
    "\n",
    "def maradekos_osztas(a,b,c):\n",
    "    for i in range (a,b):\n",
    "        if i % c == 0:\n",
    "            print(i)\n",
    "            \n",
    "def primszam(a):\n",
    "    for i in range(2,a):\n",
    "        if a % i == 0:\n",
    "            print('Nem prímszám!')\n",
    "            return False\n",
    "    print('Igen prímszám!')\n",
    "    return True\n",
    "\n",
    "szamok()\n",
    "print('\\n')\n",
    "paros_szamok()\n",
    "print('\\n')\n",
    "maradekos_osztas(1,10,3)\n",
    "print('\\n')\n",
    "primszam(7)\n",
    "print('\\n')\n",
    "primszam(8)\n",
    "print('\\n')"
   ]
  },
  {
   "attachments": {},
   "cell_type": "markdown",
   "metadata": {},
   "source": [
    "### Házi feladatok\n",
    "- Egy szobát szeretnénk kifesteni. Ismerjuk a szoba (mint téglatest) három oldalának hosszát (méterben), az ablakok és az ajtók összes felületét (négyzetméterben), valamint azt, hogy 1 liter festék hány négyzetméter lefestésére elegendő. Meghatározandó, hogy hány liter festék szükséges a szoba falainak és mennyezetének egyszeri lefestéséhez (a padlót, az ablakokat és az ajtókat nem kell lefesteni)!"
   ]
  },
  {
   "cell_type": "code",
   "execution_count": 1,
   "metadata": {},
   "outputs": [
    {
     "name": "stdout",
     "output_type": "stream",
     "text": [
      "Ennyi liter festék kell a szoba festéséhez:  78.72222222222223\n"
     ]
    }
   ],
   "source": [
    "# szoba méretei\n",
    "a = 10\n",
    "b = 14\n",
    "c = 12\n",
    "\n",
    "# ablak és ajtó felületei\n",
    "A = 7.5\n",
    "\n",
    "# egy liter festék / négyzetméter\n",
    "F = 9\n",
    "\n",
    "def szoba_festés(a, b, c, A, F):\n",
    "    térfogat = a * b * c\n",
    "    felszin = 2 * (a * b + a * c + b * c)\n",
    "    return (felszin - A - (a * b)) / F\n",
    "\n",
    "szoba = szoba_festés(a, b, c, A, F)\n",
    "print('Ennyi liter festék kell a szoba festéséhez: ', szoba)"
   ]
  },
  {
   "attachments": {},
   "cell_type": "markdown",
   "metadata": {},
   "source": [
    "- Kérjünk be három számot és írjuk ki a legkisebbet!\n"
   ]
  },
  {
   "cell_type": "code",
   "execution_count": 35,
   "metadata": {},
   "outputs": [
    {
     "data": {
      "text/plain": [
       "1"
      ]
     },
     "execution_count": 35,
     "metadata": {},
     "output_type": "execute_result"
    }
   ],
   "source": [
    "def min(a,b,c):\n",
    "    if a < b and a < c:\n",
    "        return a\n",
    "    elif b < a and b < c:\n",
    "        return b\n",
    "    else:\n",
    "        return c\n",
    "\n",
    "a = int(input('Kérem az első számot: '))\n",
    "b = int(input('Kérem az második számot: '))\n",
    "c = int(input('Kérem az harmadik számot: '))\n",
    "\n",
    "min(a,b,c)\n"
   ]
  },
  {
   "attachments": {},
   "cell_type": "markdown",
   "metadata": {},
   "source": [
    "- Határozzuk meg két adott, síkbeli egyenes metszéspontját!\n"
   ]
  },
  {
   "cell_type": "code",
   "execution_count": 124,
   "metadata": {},
   "outputs": [
    {
     "name": "stdout",
     "output_type": "stream",
     "text": [
      "Az egyenesek nem metszik egymást!\n"
     ]
    }
   ],
   "source": [
    "# egyik egyenes\n",
    "x1 = 2\n",
    "y1 = 3\n",
    "\n",
    "# másik egyenes\n",
    "x2 = 2\n",
    "y2 = 3\n",
    "\n",
    "\n",
    "def egyenes_metszes(x1, y1, x2, y2):\n",
    "    if x1 == x2 and y1 == y2:\n",
    "        print('Az egyenesek egybevágóak!')\n",
    "    if x1 == x2:\n",
    "        print('Az egyenesek nem metszik egymást!')\n",
    "    else:\n",
    "        print('Az egyenesek metszik egymást!')\n",
    "        return (y1 - y2) / (x1 - x2)\n",
    "    \n",
    "egyenes_metszes(x1, y1, x2, y2)"
   ]
  },
  {
   "attachments": {},
   "cell_type": "markdown",
   "metadata": {},
   "source": [
    "- Képzeljünk el egy olyan céltáblát, aminek a középpontja az origó és a találati körök sugara egyesével nő, azaz a legkisebb kör 1, a legnagyobb 10 sugarú. Meghatározandó egy adott lövés (mint síkbeli pont) találata! Ha a lövés a legkisebb (1 sugarú) körben van, akkor 10-t ér, ha abban nincs, de a 2 sugarú körben benne van, akkor 9-t, és így tovább. Ha a 10-es sugarú körben sincs benne, akkor 0-t ér. Egy köríven lévő pontot a körbe esőnek vegyünk (pl. az (1, 0) pont 10-est ér). A megoldást ne egy 11 ágú szelekcióval végezzük!\n"
   ]
  },
  {
   "cell_type": "code",
   "execution_count": 4,
   "metadata": {},
   "outputs": [
    {
     "data": {
      "text/plain": [
       "19"
      ]
     },
     "execution_count": 4,
     "metadata": {},
     "output_type": "execute_result"
    }
   ],
   "source": [
    "def sugar(x,y):\n",
    "    return (x**2 + y**2)**0.5\n",
    "\n",
    "def celtable(dobasok):\n",
    "    maxpoint = 10 + 1\n",
    "    pont = 0\n",
    "    for dobas in dobasok:\n",
    "        if (dobas[0] == 0) and (dobas[1] == 0):\n",
    "            pont += maxpoint -1\n",
    "        else:\n",
    "            for i in range(1,10):\n",
    "                #print(sugar(dobas[0],dobas[1]))\n",
    "                if i == int(sugar(dobas[0],dobas[1])):\n",
    "                    pont += maxpoint - i\n",
    "        \n",
    "    return pont\n",
    "\n",
    "dobasok = [(1,2),(3,4),(5,6),(7,8),(9,10)]\n",
    "celtable(dobasok)\n",
    " "
   ]
  },
  {
   "attachments": {},
   "cell_type": "markdown",
   "metadata": {},
   "source": [
    "- Határozzuk meg két pozitív egész szám legnagyobb közös osztóját, ill. legkisebb közös többszörösét!"
   ]
  },
  {
   "cell_type": "code",
   "execution_count": 88,
   "metadata": {},
   "outputs": [
    {
     "name": "stdout",
     "output_type": "stream",
     "text": [
      "Legkisebb közös többszörös: 360\n",
      "\n",
      "\n",
      "Legnagyobb közös osztó: 1\n"
     ]
    }
   ],
   "source": [
    "def legnagyobb_kozos_oszto(a, b):\n",
    "    if a > b:\n",
    "        for i in range(1, b + 1):\n",
    "            if a % i == 0 and b % i == 0:\n",
    "                print(f'Legnagyobb közös osztó: {i}')\n",
    "                return i\n",
    "    else:\n",
    "        for i in range(1, a + 1):\n",
    "            if a % i == 0 and b % i == 0:\n",
    "                print(f'Legnagyobb közös osztó: {i}')\n",
    "                return i\n",
    "            \n",
    "                      \n",
    "def legkisebb_kozos_tobbszoros(a, b):\n",
    "    lkkt = 0\n",
    "    for i in range(1, a * b + 1):\n",
    "        if i % a == 0 and i % b == 0:\n",
    "            lkkt = i\n",
    "            break\n",
    "    print(f'Legkisebb közös többszörös: {lkkt}')\n",
    "    return lkkt\n",
    "\n",
    "\n",
    "lkkt = legkisebb_kozos_tobbszoros(120, 180)\n",
    "print('\\n')\n",
    "lnko = legnagyobb_kozos_oszto(120, 180)"
   ]
  }
 ],
 "metadata": {
  "kernelspec": {
   "display_name": "Python 3 (ipykernel)",
   "language": "python",
   "name": "python3"
  },
  "language_info": {
   "codemirror_mode": {
    "name": "ipython",
    "version": 3
   },
   "file_extension": ".py",
   "mimetype": "text/x-python",
   "name": "python",
   "nbconvert_exporter": "python",
   "pygments_lexer": "ipython3",
   "version": "3.10.6"
  }
 },
 "nbformat": 4,
 "nbformat_minor": 2
}
